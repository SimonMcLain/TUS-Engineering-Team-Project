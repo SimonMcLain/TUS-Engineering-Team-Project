{
 "cells": [
  {
   "cell_type": "code",
   "execution_count": 1,
   "id": "95886947",
   "metadata": {},
   "outputs": [],
   "source": [
    "import pandas as pd \n",
    "import numpy as np \n",
    "\n",
    "from sklearn.model_selection import TimeSeriesSplit, cross_val_score\n",
    "from sklearn.neural_network import MLPRegressor\n",
    "from sklearn import preprocessing\n",
    "from sklearn.preprocessing import MinMaxScaler\n",
    "import matplotlib.pyplot as plt\n",
    "\n",
    "from sklearn.model_selection import GridSearchCV\n",
    "\n",
    "import warnings\n",
    "warnings.filterwarnings('ignore')"
   ]
  },
  {
   "cell_type": "code",
   "execution_count": 2,
   "id": "4a023e70",
   "metadata": {},
   "outputs": [],
   "source": [
    "data = pd.read_excel(\"preparedData.xlsx\")"
   ]
  },
  {
   "cell_type": "code",
   "execution_count": 3,
   "id": "c37b6f32",
   "metadata": {},
   "outputs": [
    {
     "data": {
      "text/html": [
       "<div>\n",
       "<style scoped>\n",
       "    .dataframe tbody tr th:only-of-type {\n",
       "        vertical-align: middle;\n",
       "    }\n",
       "\n",
       "    .dataframe tbody tr th {\n",
       "        vertical-align: top;\n",
       "    }\n",
       "\n",
       "    .dataframe thead th {\n",
       "        text-align: right;\n",
       "    }\n",
       "</style>\n",
       "<table border=\"1\" class=\"dataframe\">\n",
       "  <thead>\n",
       "    <tr style=\"text-align: right;\">\n",
       "      <th></th>\n",
       "      <th>date</th>\n",
       "      <th>new_cases</th>\n",
       "      <th>new_cases_smoothed</th>\n",
       "      <th>reproduction_rate</th>\n",
       "      <th>new_tests</th>\n",
       "      <th>positive_rate</th>\n",
       "      <th>tests_per_case</th>\n",
       "      <th>total_vaccinations</th>\n",
       "      <th>people_vaccinated</th>\n",
       "      <th>people_fully_vaccinated</th>\n",
       "      <th>...</th>\n",
       "      <th>book covid test: (Ireland)_y</th>\n",
       "      <th>covid test dublin: (Ireland)</th>\n",
       "      <th>covid test centre: (Ireland)</th>\n",
       "      <th>hse covid vaccine: (Ireland)</th>\n",
       "      <th>hse vaccine portal: (Ireland)</th>\n",
       "      <th>hse portal vaccine: (Ireland)</th>\n",
       "      <th>pcr test hse: (Ireland)</th>\n",
       "      <th>hse covid test: (Ireland)</th>\n",
       "      <th>hse vaccine registration: (Ireland)</th>\n",
       "      <th>how long will it take to vaccinate ireland: (Ireland)</th>\n",
       "    </tr>\n",
       "  </thead>\n",
       "  <tbody>\n",
       "    <tr>\n",
       "      <th>0</th>\n",
       "      <td>2020-03-15</td>\n",
       "      <td>0</td>\n",
       "      <td>15.714</td>\n",
       "      <td>2.51</td>\n",
       "      <td>0</td>\n",
       "      <td>0.0</td>\n",
       "      <td>0.0</td>\n",
       "      <td>0</td>\n",
       "      <td>0</td>\n",
       "      <td>0</td>\n",
       "      <td>...</td>\n",
       "      <td>0.0</td>\n",
       "      <td>1.0</td>\n",
       "      <td>2.0</td>\n",
       "      <td>0.0</td>\n",
       "      <td>0.0</td>\n",
       "      <td>0.0</td>\n",
       "      <td>0.0</td>\n",
       "      <td>2.0</td>\n",
       "      <td>0.0</td>\n",
       "      <td>0.0</td>\n",
       "    </tr>\n",
       "    <tr>\n",
       "      <th>1</th>\n",
       "      <td>2020-03-16</td>\n",
       "      <td>40</td>\n",
       "      <td>21.143</td>\n",
       "      <td>2.59</td>\n",
       "      <td>0</td>\n",
       "      <td>0.0</td>\n",
       "      <td>0.0</td>\n",
       "      <td>0</td>\n",
       "      <td>0</td>\n",
       "      <td>0</td>\n",
       "      <td>...</td>\n",
       "      <td>0.0</td>\n",
       "      <td>1.0</td>\n",
       "      <td>1.0</td>\n",
       "      <td>0.0</td>\n",
       "      <td>0.0</td>\n",
       "      <td>0.0</td>\n",
       "      <td>0.0</td>\n",
       "      <td>1.0</td>\n",
       "      <td>0.0</td>\n",
       "      <td>0.0</td>\n",
       "    </tr>\n",
       "    <tr>\n",
       "      <th>2</th>\n",
       "      <td>2020-03-17</td>\n",
       "      <td>54</td>\n",
       "      <td>27.000</td>\n",
       "      <td>2.70</td>\n",
       "      <td>0</td>\n",
       "      <td>0.0</td>\n",
       "      <td>0.0</td>\n",
       "      <td>0</td>\n",
       "      <td>0</td>\n",
       "      <td>0</td>\n",
       "      <td>...</td>\n",
       "      <td>0.0</td>\n",
       "      <td>1.0</td>\n",
       "      <td>1.0</td>\n",
       "      <td>0.0</td>\n",
       "      <td>0.0</td>\n",
       "      <td>0.0</td>\n",
       "      <td>0.0</td>\n",
       "      <td>1.0</td>\n",
       "      <td>0.0</td>\n",
       "      <td>0.0</td>\n",
       "    </tr>\n",
       "    <tr>\n",
       "      <th>3</th>\n",
       "      <td>2020-03-18</td>\n",
       "      <td>69</td>\n",
       "      <td>35.571</td>\n",
       "      <td>2.78</td>\n",
       "      <td>0</td>\n",
       "      <td>0.0</td>\n",
       "      <td>0.0</td>\n",
       "      <td>0</td>\n",
       "      <td>0</td>\n",
       "      <td>0</td>\n",
       "      <td>...</td>\n",
       "      <td>0.0</td>\n",
       "      <td>1.0</td>\n",
       "      <td>1.0</td>\n",
       "      <td>0.0</td>\n",
       "      <td>0.0</td>\n",
       "      <td>0.0</td>\n",
       "      <td>0.0</td>\n",
       "      <td>1.0</td>\n",
       "      <td>0.0</td>\n",
       "      <td>0.0</td>\n",
       "    </tr>\n",
       "    <tr>\n",
       "      <th>4</th>\n",
       "      <td>2020-03-19</td>\n",
       "      <td>265</td>\n",
       "      <td>73.429</td>\n",
       "      <td>2.84</td>\n",
       "      <td>946</td>\n",
       "      <td>0.0</td>\n",
       "      <td>0.0</td>\n",
       "      <td>0</td>\n",
       "      <td>0</td>\n",
       "      <td>0</td>\n",
       "      <td>...</td>\n",
       "      <td>0.0</td>\n",
       "      <td>1.0</td>\n",
       "      <td>1.0</td>\n",
       "      <td>0.0</td>\n",
       "      <td>0.0</td>\n",
       "      <td>0.0</td>\n",
       "      <td>0.0</td>\n",
       "      <td>1.0</td>\n",
       "      <td>0.0</td>\n",
       "      <td>0.0</td>\n",
       "    </tr>\n",
       "  </tbody>\n",
       "</table>\n",
       "<p>5 rows × 51 columns</p>\n",
       "</div>"
      ],
      "text/plain": [
       "        date  new_cases  new_cases_smoothed  reproduction_rate  new_tests  \\\n",
       "0 2020-03-15          0              15.714               2.51          0   \n",
       "1 2020-03-16         40              21.143               2.59          0   \n",
       "2 2020-03-17         54              27.000               2.70          0   \n",
       "3 2020-03-18         69              35.571               2.78          0   \n",
       "4 2020-03-19        265              73.429               2.84        946   \n",
       "\n",
       "   positive_rate  tests_per_case  total_vaccinations  people_vaccinated  \\\n",
       "0            0.0             0.0                   0                  0   \n",
       "1            0.0             0.0                   0                  0   \n",
       "2            0.0             0.0                   0                  0   \n",
       "3            0.0             0.0                   0                  0   \n",
       "4            0.0             0.0                   0                  0   \n",
       "\n",
       "   people_fully_vaccinated  ...  book covid test: (Ireland)_y  \\\n",
       "0                        0  ...                           0.0   \n",
       "1                        0  ...                           0.0   \n",
       "2                        0  ...                           0.0   \n",
       "3                        0  ...                           0.0   \n",
       "4                        0  ...                           0.0   \n",
       "\n",
       "   covid test dublin: (Ireland)  covid test centre: (Ireland)  \\\n",
       "0                           1.0                           2.0   \n",
       "1                           1.0                           1.0   \n",
       "2                           1.0                           1.0   \n",
       "3                           1.0                           1.0   \n",
       "4                           1.0                           1.0   \n",
       "\n",
       "   hse covid vaccine: (Ireland)  hse vaccine portal: (Ireland)  \\\n",
       "0                           0.0                            0.0   \n",
       "1                           0.0                            0.0   \n",
       "2                           0.0                            0.0   \n",
       "3                           0.0                            0.0   \n",
       "4                           0.0                            0.0   \n",
       "\n",
       "   hse portal vaccine: (Ireland)  pcr test hse: (Ireland)  \\\n",
       "0                            0.0                      0.0   \n",
       "1                            0.0                      0.0   \n",
       "2                            0.0                      0.0   \n",
       "3                            0.0                      0.0   \n",
       "4                            0.0                      0.0   \n",
       "\n",
       "   hse covid test: (Ireland)  hse vaccine registration: (Ireland)  \\\n",
       "0                        2.0                                  0.0   \n",
       "1                        1.0                                  0.0   \n",
       "2                        1.0                                  0.0   \n",
       "3                        1.0                                  0.0   \n",
       "4                        1.0                                  0.0   \n",
       "\n",
       "   how long will it take to vaccinate ireland: (Ireland)  \n",
       "0                                                0.0      \n",
       "1                                                0.0      \n",
       "2                                                0.0      \n",
       "3                                                0.0      \n",
       "4                                                0.0      \n",
       "\n",
       "[5 rows x 51 columns]"
      ]
     },
     "execution_count": 3,
     "metadata": {},
     "output_type": "execute_result"
    }
   ],
   "source": [
    "data.head()"
   ]
  },
  {
   "cell_type": "code",
   "execution_count": 4,
   "id": "0be6151c",
   "metadata": {},
   "outputs": [],
   "source": [
    "data['date'] = pd.to_datetime(data['date'])\n",
    "data.sort_values(by='date', ascending=True, inplace=True)\n",
    "data = data.set_index('date')"
   ]
  },
  {
   "cell_type": "code",
   "execution_count": 5,
   "id": "03998cbd",
   "metadata": {},
   "outputs": [],
   "source": [
    "data_new_cases = data[['new_cases_smoothed']]"
   ]
  },
  {
   "cell_type": "code",
   "execution_count": 8,
   "id": "6d635613",
   "metadata": {},
   "outputs": [
    {
     "name": "stdout",
     "output_type": "stream",
     "text": [
      "Enter the days in advance to predict: 5\n"
     ]
    }
   ],
   "source": [
    "period = int(input(\"Enter the days in advance to predict: \"))"
   ]
  },
  {
   "cell_type": "code",
   "execution_count": 9,
   "id": "3f671079",
   "metadata": {},
   "outputs": [],
   "source": [
    "data_new_cases.loc[:,'minus'] = data_new_cases.loc[:,'new_cases_smoothed'].shift(periods=period)"
   ]
  },
  {
   "cell_type": "code",
   "execution_count": 11,
   "id": "cec75e54",
   "metadata": {},
   "outputs": [],
   "source": [
    "data_new_cases.loc[:,'minus_diff'] = data_new_cases.loc[:,'minus'].diff()"
   ]
  },
  {
   "cell_type": "code",
   "execution_count": 12,
   "id": "f4d2e5a6",
   "metadata": {},
   "outputs": [],
   "source": [
    "data_new_cases = data_new_cases.dropna()"
   ]
  },
  {
   "cell_type": "code",
   "execution_count": 13,
   "id": "8decddc2",
   "metadata": {},
   "outputs": [
    {
     "data": {
      "text/html": [
       "<div>\n",
       "<style scoped>\n",
       "    .dataframe tbody tr th:only-of-type {\n",
       "        vertical-align: middle;\n",
       "    }\n",
       "\n",
       "    .dataframe tbody tr th {\n",
       "        vertical-align: top;\n",
       "    }\n",
       "\n",
       "    .dataframe thead th {\n",
       "        text-align: right;\n",
       "    }\n",
       "</style>\n",
       "<table border=\"1\" class=\"dataframe\">\n",
       "  <thead>\n",
       "    <tr style=\"text-align: right;\">\n",
       "      <th></th>\n",
       "      <th>new_cases_smoothed</th>\n",
       "      <th>minus</th>\n",
       "      <th>minus_diff</th>\n",
       "    </tr>\n",
       "    <tr>\n",
       "      <th>date</th>\n",
       "      <th></th>\n",
       "      <th></th>\n",
       "      <th></th>\n",
       "    </tr>\n",
       "  </thead>\n",
       "  <tbody>\n",
       "    <tr>\n",
       "      <th>2020-03-21</th>\n",
       "      <td>93.714</td>\n",
       "      <td>21.143</td>\n",
       "      <td>5.429</td>\n",
       "    </tr>\n",
       "    <tr>\n",
       "      <th>2020-03-22</th>\n",
       "      <td>111.000</td>\n",
       "      <td>27.000</td>\n",
       "      <td>5.857</td>\n",
       "    </tr>\n",
       "    <tr>\n",
       "      <th>2020-03-23</th>\n",
       "      <td>136.571</td>\n",
       "      <td>35.571</td>\n",
       "      <td>8.571</td>\n",
       "    </tr>\n",
       "    <tr>\n",
       "      <th>2020-03-24</th>\n",
       "      <td>158.000</td>\n",
       "      <td>73.429</td>\n",
       "      <td>37.858</td>\n",
       "    </tr>\n",
       "    <tr>\n",
       "      <th>2020-03-25</th>\n",
       "      <td>181.714</td>\n",
       "      <td>84.714</td>\n",
       "      <td>11.285</td>\n",
       "    </tr>\n",
       "  </tbody>\n",
       "</table>\n",
       "</div>"
      ],
      "text/plain": [
       "            new_cases_smoothed   minus  minus_diff\n",
       "date                                              \n",
       "2020-03-21              93.714  21.143       5.429\n",
       "2020-03-22             111.000  27.000       5.857\n",
       "2020-03-23             136.571  35.571       8.571\n",
       "2020-03-24             158.000  73.429      37.858\n",
       "2020-03-25             181.714  84.714      11.285"
      ]
     },
     "execution_count": 13,
     "metadata": {},
     "output_type": "execute_result"
    }
   ],
   "source": [
    "data_new_cases.head()"
   ]
  },
  {
   "cell_type": "code",
   "execution_count": 14,
   "id": "ef1fce08",
   "metadata": {},
   "outputs": [
    {
     "data": {
      "text/plain": [
       "(696, 3)"
      ]
     },
     "execution_count": 14,
     "metadata": {},
     "output_type": "execute_result"
    }
   ],
   "source": [
    "data_new_cases.shape"
   ]
  },
  {
   "cell_type": "code",
   "execution_count": 15,
   "id": "9ed44274",
   "metadata": {},
   "outputs": [],
   "source": [
    "n = len(data_new_cases)"
   ]
  },
  {
   "cell_type": "code",
   "execution_count": 16,
   "id": "7c8cf97e",
   "metadata": {},
   "outputs": [],
   "source": [
    "variables = data_new_cases.columns.drop('new_cases_smoothed')"
   ]
  },
  {
   "cell_type": "code",
   "execution_count": 17,
   "id": "ecbb556e",
   "metadata": {},
   "outputs": [],
   "source": [
    "X_train = data_new_cases.iloc[0:int(n*0.7)].drop(['new_cases_smoothed'], axis=1)\n",
    "y_train = data_new_cases.iloc[0:int(n*0.7)].drop(columns=variables, axis=1)"
   ]
  },
  {
   "cell_type": "code",
   "execution_count": 18,
   "id": "3f7b840c",
   "metadata": {},
   "outputs": [],
   "source": [
    "X_test = data_new_cases.iloc[int(n*0.9):].drop(['new_cases_smoothed'], axis=1)\n",
    "y_test = data_new_cases.iloc[int(n*0.9):].drop(columns=variables, axis=1)"
   ]
  },
  {
   "cell_type": "code",
   "execution_count": 19,
   "id": "dfe5a1c2",
   "metadata": {},
   "outputs": [],
   "source": [
    "X_val = data_new_cases.iloc[int(n*0.7):int(n*0.9)].drop(['new_cases_smoothed'], axis=1)\n",
    "y_val = data_new_cases.iloc[int(n*0.7):int(n*0.9)].drop(columns=variables, axis=1)"
   ]
  },
  {
   "cell_type": "code",
   "execution_count": 20,
   "id": "b682e5f9",
   "metadata": {},
   "outputs": [],
   "source": [
    "model = MLPRegressor()"
   ]
  },
  {
   "cell_type": "code",
   "execution_count": 21,
   "id": "11588baf",
   "metadata": {},
   "outputs": [],
   "source": [
    "param_search = {\n",
    "    \"hidden_layer_sizes\": [(1,),(50,),(100,),(150,),(200,)],\n",
    "    \"activation\": [\"identity\", \"logistic\", \"tanh\", \"relu\"],\n",
    "    \"solver\": [\"lbfgs\", \"sgd\", \"adam\"],\n",
    "    \"alpha\": [0.00005,0.0005, 0.005],\n",
    "    \"learning_rate\": ['constant', 'invscaling', 'adaptive']\n",
    "}"
   ]
  },
  {
   "cell_type": "code",
   "execution_count": 22,
   "id": "b56bd488",
   "metadata": {},
   "outputs": [],
   "source": [
    "tsvc = TimeSeriesSplit(n_splits=2)\n",
    "gsearch = GridSearchCV(estimator=model, cv=tsvc, param_grid=param_search, scoring='r2')\n",
    "gsearch.fit(X_train, y_train)\n",
    "best_score = gsearch.best_score_\n",
    "best_model = gsearch.best_estimator_"
   ]
  },
  {
   "cell_type": "code",
   "execution_count": 23,
   "id": "a2925844",
   "metadata": {},
   "outputs": [
    {
     "name": "stdout",
     "output_type": "stream",
     "text": [
      "MLPRegressor(activation='identity', alpha=5e-05, hidden_layer_sizes=(1,),\n",
      "             solver='lbfgs')\n"
     ]
    }
   ],
   "source": [
    "print(best_model)"
   ]
  },
  {
   "cell_type": "code",
   "execution_count": 24,
   "id": "edea2642",
   "metadata": {},
   "outputs": [
    {
     "name": "stdout",
     "output_type": "stream",
     "text": [
      "0.7670612387172857\n"
     ]
    }
   ],
   "source": [
    "print(best_score)"
   ]
  },
  {
   "cell_type": "code",
   "execution_count": 25,
   "id": "2d19a369",
   "metadata": {},
   "outputs": [
    {
     "name": "stdout",
     "output_type": "stream",
     "text": [
      "0.5164691326706712\n"
     ]
    }
   ],
   "source": [
    "from sklearn.metrics import r2_score\n",
    "\n",
    "y_pred = best_model.predict(X_test)\n",
    "\n",
    "print(r2_score(y_test, y_pred))"
   ]
  },
  {
   "cell_type": "code",
   "execution_count": 26,
   "id": "7f98d932",
   "metadata": {},
   "outputs": [],
   "source": [
    "y_val_pred = best_model.predict(X_val)"
   ]
  },
  {
   "cell_type": "code",
   "execution_count": 27,
   "id": "e73ae53d",
   "metadata": {},
   "outputs": [
    {
     "name": "stdout",
     "output_type": "stream",
     "text": [
      "0.7987093448150469\n"
     ]
    }
   ],
   "source": [
    "print(r2_score(y_val, y_val_pred))"
   ]
  },
  {
   "cell_type": "code",
   "execution_count": null,
   "id": "3c358bfe",
   "metadata": {},
   "outputs": [],
   "source": []
  },
  {
   "cell_type": "code",
   "execution_count": null,
   "id": "eff7bd33",
   "metadata": {},
   "outputs": [],
   "source": []
  },
  {
   "cell_type": "code",
   "execution_count": null,
   "id": "133fb4c2",
   "metadata": {},
   "outputs": [],
   "source": []
  },
  {
   "cell_type": "code",
   "execution_count": null,
   "id": "267fdfcf",
   "metadata": {},
   "outputs": [],
   "source": []
  }
 ],
 "metadata": {
  "kernelspec": {
   "display_name": "Python 3",
   "language": "python",
   "name": "python3"
  },
  "language_info": {
   "codemirror_mode": {
    "name": "ipython",
    "version": 3
   },
   "file_extension": ".py",
   "mimetype": "text/x-python",
   "name": "python",
   "nbconvert_exporter": "python",
   "pygments_lexer": "ipython3",
   "version": "3.8.6"
  }
 },
 "nbformat": 4,
 "nbformat_minor": 5
}
