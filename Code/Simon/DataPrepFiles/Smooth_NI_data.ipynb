{
 "cells": [
  {
   "cell_type": "code",
   "execution_count": 1,
   "id": "95886947",
   "metadata": {},
   "outputs": [],
   "source": [
    "import pandas as pd \n",
    "import numpy as np "
   ]
  },
  {
   "cell_type": "code",
   "execution_count": 2,
   "id": "4a023e70",
   "metadata": {},
   "outputs": [],
   "source": [
    "data = pd.read_csv('NI_downloaded_15032022.csv', sep=\",\")"
   ]
  },
  {
   "cell_type": "code",
   "execution_count": 6,
   "id": "c37b6f32",
   "metadata": {},
   "outputs": [
    {
     "data": {
      "text/html": [
       "<div>\n",
       "<style scoped>\n",
       "    .dataframe tbody tr th:only-of-type {\n",
       "        vertical-align: middle;\n",
       "    }\n",
       "\n",
       "    .dataframe tbody tr th {\n",
       "        vertical-align: top;\n",
       "    }\n",
       "\n",
       "    .dataframe thead th {\n",
       "        text-align: right;\n",
       "    }\n",
       "</style>\n",
       "<table border=\"1\" class=\"dataframe\">\n",
       "  <thead>\n",
       "    <tr style=\"text-align: right;\">\n",
       "      <th></th>\n",
       "      <th>newCasesByPublishDate</th>\n",
       "    </tr>\n",
       "    <tr>\n",
       "      <th>date</th>\n",
       "      <th></th>\n",
       "    </tr>\n",
       "  </thead>\n",
       "  <tbody>\n",
       "    <tr>\n",
       "      <th>2020-03-06</th>\n",
       "      <td>2</td>\n",
       "    </tr>\n",
       "    <tr>\n",
       "      <th>2020-03-07</th>\n",
       "      <td>2</td>\n",
       "    </tr>\n",
       "    <tr>\n",
       "      <th>2020-03-08</th>\n",
       "      <td>5</td>\n",
       "    </tr>\n",
       "    <tr>\n",
       "      <th>2020-03-09</th>\n",
       "      <td>3</td>\n",
       "    </tr>\n",
       "    <tr>\n",
       "      <th>2020-03-10</th>\n",
       "      <td>0</td>\n",
       "    </tr>\n",
       "  </tbody>\n",
       "</table>\n",
       "</div>"
      ],
      "text/plain": [
       "            newCasesByPublishDate\n",
       "date                             \n",
       "2020-03-06                      2\n",
       "2020-03-07                      2\n",
       "2020-03-08                      5\n",
       "2020-03-09                      3\n",
       "2020-03-10                      0"
      ]
     },
     "execution_count": 6,
     "metadata": {},
     "output_type": "execute_result"
    }
   ],
   "source": [
    "data.head()"
   ]
  },
  {
   "cell_type": "code",
   "execution_count": 4,
   "id": "2d96e261",
   "metadata": {},
   "outputs": [],
   "source": [
    "data.drop(columns=['areaName', 'areaCode'], inplace=True)"
   ]
  },
  {
   "cell_type": "code",
   "execution_count": 5,
   "id": "0be6151c",
   "metadata": {},
   "outputs": [],
   "source": [
    "data['date'] = pd.to_datetime(data['date'])\n",
    "data.sort_values(by='date', ascending=True, inplace=True)\n",
    "data = data.set_index('date')"
   ]
  },
  {
   "cell_type": "code",
   "execution_count": 7,
   "id": "9ed44274",
   "metadata": {},
   "outputs": [],
   "source": [
    "n = len(data)"
   ]
  },
  {
   "cell_type": "code",
   "execution_count": 8,
   "id": "4dfa99ff",
   "metadata": {},
   "outputs": [],
   "source": [
    "data['new_cases_smoothed_NI'] = data['newCasesByPublishDate'].ewm(span=n).mean()"
   ]
  },
  {
   "cell_type": "code",
   "execution_count": 9,
   "id": "f4d2e5a6",
   "metadata": {},
   "outputs": [],
   "source": [
    "data = data.fillna(0)"
   ]
  },
  {
   "cell_type": "code",
   "execution_count": 10,
   "id": "3e2a13b8",
   "metadata": {},
   "outputs": [],
   "source": [
    "ni_smoothed = data['new_cases_smoothed_NI']"
   ]
  },
  {
   "cell_type": "code",
   "execution_count": 11,
   "id": "447a0399",
   "metadata": {},
   "outputs": [],
   "source": [
    "ni_smoothed.to_excel(\"ni_smoothed.xlsx\")"
   ]
  },
  {
   "cell_type": "code",
   "execution_count": null,
   "id": "69590a7b",
   "metadata": {},
   "outputs": [],
   "source": []
  },
  {
   "cell_type": "code",
   "execution_count": null,
   "id": "267fdfcf",
   "metadata": {},
   "outputs": [],
   "source": []
  }
 ],
 "metadata": {
  "kernelspec": {
   "display_name": "Python 3",
   "language": "python",
   "name": "python3"
  },
  "language_info": {
   "codemirror_mode": {
    "name": "ipython",
    "version": 3
   },
   "file_extension": ".py",
   "mimetype": "text/x-python",
   "name": "python",
   "nbconvert_exporter": "python",
   "pygments_lexer": "ipython3",
   "version": "3.8.6"
  }
 },
 "nbformat": 4,
 "nbformat_minor": 5
}
