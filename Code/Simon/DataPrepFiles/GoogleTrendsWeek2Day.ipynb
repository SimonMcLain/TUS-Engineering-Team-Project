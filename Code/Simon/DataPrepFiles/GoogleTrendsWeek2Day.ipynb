{
 "cells": [
  {
   "cell_type": "code",
   "execution_count": 2,
   "id": "3ee9036f",
   "metadata": {},
   "outputs": [],
   "source": [
    "import pandas as pd\n",
    "import numpy as np\n"
   ]
  },
  {
   "cell_type": "code",
   "execution_count": 3,
   "id": "fd8589e5",
   "metadata": {},
   "outputs": [],
   "source": [
    "ni_df = pd.read_csv(\"NICOVID19GT.csv\")"
   ]
  },
  {
   "cell_type": "code",
   "execution_count": 15,
   "id": "91592ef8",
   "metadata": {},
   "outputs": [
    {
     "data": {
      "text/html": [
       "<div>\n",
       "<style scoped>\n",
       "    .dataframe tbody tr th:only-of-type {\n",
       "        vertical-align: middle;\n",
       "    }\n",
       "\n",
       "    .dataframe tbody tr th {\n",
       "        vertical-align: top;\n",
       "    }\n",
       "\n",
       "    .dataframe thead th {\n",
       "        text-align: right;\n",
       "    }\n",
       "</style>\n",
       "<table border=\"1\" class=\"dataframe\">\n",
       "  <thead>\n",
       "    <tr style=\"text-align: right;\">\n",
       "      <th></th>\n",
       "      <th>COVID: (Northern Ireland)</th>\n",
       "    </tr>\n",
       "    <tr>\n",
       "      <th>Week</th>\n",
       "      <th></th>\n",
       "    </tr>\n",
       "  </thead>\n",
       "  <tbody>\n",
       "    <tr>\n",
       "      <th>2020-01-05</th>\n",
       "      <td>0</td>\n",
       "    </tr>\n",
       "    <tr>\n",
       "      <th>2020-01-12</th>\n",
       "      <td>0</td>\n",
       "    </tr>\n",
       "    <tr>\n",
       "      <th>2020-01-19</th>\n",
       "      <td>0</td>\n",
       "    </tr>\n",
       "    <tr>\n",
       "      <th>2020-01-26</th>\n",
       "      <td>0</td>\n",
       "    </tr>\n",
       "    <tr>\n",
       "      <th>2020-02-02</th>\n",
       "      <td>0</td>\n",
       "    </tr>\n",
       "  </tbody>\n",
       "</table>\n",
       "</div>"
      ],
      "text/plain": [
       "            COVID: (Northern Ireland)\n",
       "Week                                 \n",
       "2020-01-05                          0\n",
       "2020-01-12                          0\n",
       "2020-01-19                          0\n",
       "2020-01-26                          0\n",
       "2020-02-02                          0"
      ]
     },
     "execution_count": 15,
     "metadata": {},
     "output_type": "execute_result"
    }
   ],
   "source": [
    "ni_df.head()"
   ]
  },
  {
   "cell_type": "code",
   "execution_count": 6,
   "id": "93a319d5",
   "metadata": {},
   "outputs": [],
   "source": [
    "ni_df[\"Week\"] = pd.to_datetime(ni_df[\"Week\"], format=\"%d/%m/%Y\")"
   ]
  },
  {
   "cell_type": "code",
   "execution_count": 9,
   "id": "03dc8d22",
   "metadata": {},
   "outputs": [],
   "source": [
    "roi_df = pd.read_csv(\"ROICOVID19GT.csv\")"
   ]
  },
  {
   "cell_type": "code",
   "execution_count": 10,
   "id": "a90c27e9",
   "metadata": {},
   "outputs": [],
   "source": [
    "roi_df[\"Week\"] = pd.to_datetime(roi_df[\"Week\"], format=\"%d/%m/%Y\")"
   ]
  },
  {
   "cell_type": "code",
   "execution_count": 11,
   "id": "5d69f3e1",
   "metadata": {},
   "outputs": [],
   "source": [
    "ni_df.set_index('Week', inplace=True)"
   ]
  },
  {
   "cell_type": "code",
   "execution_count": 12,
   "id": "030cd9d2",
   "metadata": {},
   "outputs": [],
   "source": [
    "roi_df.set_index('Week', inplace=True)"
   ]
  },
  {
   "cell_type": "code",
   "execution_count": 13,
   "id": "76c4fc9f",
   "metadata": {},
   "outputs": [],
   "source": [
    "ni_daily = ni_df.resample('D').bfill()"
   ]
  },
  {
   "cell_type": "code",
   "execution_count": 14,
   "id": "1ecadd4e",
   "metadata": {},
   "outputs": [],
   "source": [
    "roi_daily = roi_df.resample('D').bfill()"
   ]
  },
  {
   "cell_type": "code",
   "execution_count": 19,
   "id": "64846105",
   "metadata": {},
   "outputs": [],
   "source": [
    "GoogleTrends = pd.merge(roi_daily, ni_daily, right_index=True, left_index=True)"
   ]
  },
  {
   "cell_type": "code",
   "execution_count": 20,
   "id": "26b0b86a",
   "metadata": {},
   "outputs": [
    {
     "data": {
      "text/html": [
       "<div>\n",
       "<style scoped>\n",
       "    .dataframe tbody tr th:only-of-type {\n",
       "        vertical-align: middle;\n",
       "    }\n",
       "\n",
       "    .dataframe tbody tr th {\n",
       "        vertical-align: top;\n",
       "    }\n",
       "\n",
       "    .dataframe thead th {\n",
       "        text-align: right;\n",
       "    }\n",
       "</style>\n",
       "<table border=\"1\" class=\"dataframe\">\n",
       "  <thead>\n",
       "    <tr style=\"text-align: right;\">\n",
       "      <th></th>\n",
       "      <th>COVID: (Ireland)</th>\n",
       "      <th>COVID: (Northern Ireland)</th>\n",
       "    </tr>\n",
       "    <tr>\n",
       "      <th>Week</th>\n",
       "      <th></th>\n",
       "      <th></th>\n",
       "    </tr>\n",
       "  </thead>\n",
       "  <tbody>\n",
       "    <tr>\n",
       "      <th>2020-01-05</th>\n",
       "      <td>0</td>\n",
       "      <td>0</td>\n",
       "    </tr>\n",
       "    <tr>\n",
       "      <th>2020-01-06</th>\n",
       "      <td>0</td>\n",
       "      <td>0</td>\n",
       "    </tr>\n",
       "    <tr>\n",
       "      <th>2020-01-07</th>\n",
       "      <td>0</td>\n",
       "      <td>0</td>\n",
       "    </tr>\n",
       "    <tr>\n",
       "      <th>2020-01-08</th>\n",
       "      <td>0</td>\n",
       "      <td>0</td>\n",
       "    </tr>\n",
       "    <tr>\n",
       "      <th>2020-01-09</th>\n",
       "      <td>0</td>\n",
       "      <td>0</td>\n",
       "    </tr>\n",
       "    <tr>\n",
       "      <th>...</th>\n",
       "      <td>...</td>\n",
       "      <td>...</td>\n",
       "    </tr>\n",
       "    <tr>\n",
       "      <th>2022-03-02</th>\n",
       "      <td>17</td>\n",
       "      <td>25</td>\n",
       "    </tr>\n",
       "    <tr>\n",
       "      <th>2022-03-03</th>\n",
       "      <td>17</td>\n",
       "      <td>25</td>\n",
       "    </tr>\n",
       "    <tr>\n",
       "      <th>2022-03-04</th>\n",
       "      <td>17</td>\n",
       "      <td>25</td>\n",
       "    </tr>\n",
       "    <tr>\n",
       "      <th>2022-03-05</th>\n",
       "      <td>17</td>\n",
       "      <td>25</td>\n",
       "    </tr>\n",
       "    <tr>\n",
       "      <th>2022-03-06</th>\n",
       "      <td>17</td>\n",
       "      <td>25</td>\n",
       "    </tr>\n",
       "  </tbody>\n",
       "</table>\n",
       "<p>792 rows × 2 columns</p>\n",
       "</div>"
      ],
      "text/plain": [
       "            COVID: (Ireland)  COVID: (Northern Ireland)\n",
       "Week                                                   \n",
       "2020-01-05                 0                          0\n",
       "2020-01-06                 0                          0\n",
       "2020-01-07                 0                          0\n",
       "2020-01-08                 0                          0\n",
       "2020-01-09                 0                          0\n",
       "...                      ...                        ...\n",
       "2022-03-02                17                         25\n",
       "2022-03-03                17                         25\n",
       "2022-03-04                17                         25\n",
       "2022-03-05                17                         25\n",
       "2022-03-06                17                         25\n",
       "\n",
       "[792 rows x 2 columns]"
      ]
     },
     "execution_count": 20,
     "metadata": {},
     "output_type": "execute_result"
    }
   ],
   "source": [
    "GoogleTrends"
   ]
  },
  {
   "cell_type": "code",
   "execution_count": 21,
   "id": "5c9fb94e",
   "metadata": {},
   "outputs": [],
   "source": [
    "GoogleTrends.to_excel(\"ROI_NI_GoogleTrends.xlsx\")"
   ]
  },
  {
   "cell_type": "code",
   "execution_count": null,
   "id": "30cd969d",
   "metadata": {},
   "outputs": [],
   "source": []
  }
 ],
 "metadata": {
  "kernelspec": {
   "display_name": "Python 3",
   "language": "python",
   "name": "python3"
  },
  "language_info": {
   "codemirror_mode": {
    "name": "ipython",
    "version": 3
   },
   "file_extension": ".py",
   "mimetype": "text/x-python",
   "name": "python",
   "nbconvert_exporter": "python",
   "pygments_lexer": "ipython3",
   "version": "3.8.6"
  }
 },
 "nbformat": 4,
 "nbformat_minor": 5
}
