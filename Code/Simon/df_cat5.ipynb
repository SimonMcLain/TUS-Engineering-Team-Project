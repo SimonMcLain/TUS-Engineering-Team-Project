{
 "cells": [
  {
   "cell_type": "code",
   "execution_count": 1,
   "id": "adequate-shepherd",
   "metadata": {},
   "outputs": [],
   "source": [
    "import pandas as pd \n",
    "import numpy as np \n",
    "import matplotlib.pyplot as plt\n",
    "\n",
    "from sklearn.model_selection import TimeSeriesSplit, cross_val_score\n",
    "from sklearn.neural_network import MLPRegressor\n",
    "\n",
    "from datetime import datetime as dt\n",
    "from matplotlib import pyplot as plt, dates as mdates\n",
    "\n",
    "from sklearn.model_selection import GridSearchCV\n",
    "from sklearn.metrics import r2_score\n",
    "\n",
    "new_size = plt.rcParams[\"figure.figsize\"] = (8,8)\n",
    "\n",
    "import warnings\n",
    "warnings.filterwarnings('ignore')"
   ]
  },
  {
   "cell_type": "code",
   "execution_count": 2,
   "id": "defensive-ancient",
   "metadata": {},
   "outputs": [],
   "source": [
    "df = pd.read_csv(\"DataSet.csv\")\n"
   ]
  },
  {
   "cell_type": "code",
   "execution_count": 3,
   "id": "democratic-magazine",
   "metadata": {},
   "outputs": [
    {
     "data": {
      "text/html": [
       "<div>\n",
       "<style scoped>\n",
       "    .dataframe tbody tr th:only-of-type {\n",
       "        vertical-align: middle;\n",
       "    }\n",
       "\n",
       "    .dataframe tbody tr th {\n",
       "        vertical-align: top;\n",
       "    }\n",
       "\n",
       "    .dataframe thead th {\n",
       "        text-align: right;\n",
       "    }\n",
       "</style>\n",
       "<table border=\"1\" class=\"dataframe\">\n",
       "  <thead>\n",
       "    <tr style=\"text-align: right;\">\n",
       "      <th></th>\n",
       "      <th>count</th>\n",
       "      <th>mean</th>\n",
       "      <th>std</th>\n",
       "      <th>min</th>\n",
       "      <th>25%</th>\n",
       "      <th>50%</th>\n",
       "      <th>75%</th>\n",
       "      <th>max</th>\n",
       "    </tr>\n",
       "  </thead>\n",
       "  <tbody>\n",
       "    <tr>\n",
       "      <th>new_cases_smoothed_ROI</th>\n",
       "      <td>711.0</td>\n",
       "      <td>1823.177414</td>\n",
       "      <td>3396.716734</td>\n",
       "      <td>2.429</td>\n",
       "      <td>276.285500</td>\n",
       "      <td>543.286000</td>\n",
       "      <td>1755.785500</td>\n",
       "      <td>23752.000000</td>\n",
       "    </tr>\n",
       "    <tr>\n",
       "      <th>stringency_index_ROI</th>\n",
       "      <td>739.0</td>\n",
       "      <td>60.104384</td>\n",
       "      <td>21.170897</td>\n",
       "      <td>11.110</td>\n",
       "      <td>44.440000</td>\n",
       "      <td>55.090000</td>\n",
       "      <td>81.480000</td>\n",
       "      <td>90.740000</td>\n",
       "    </tr>\n",
       "    <tr>\n",
       "      <th>new_cases_smoothed_NI</th>\n",
       "      <td>739.0</td>\n",
       "      <td>372.288104</td>\n",
       "      <td>348.920281</td>\n",
       "      <td>2.000</td>\n",
       "      <td>60.903035</td>\n",
       "      <td>309.655122</td>\n",
       "      <td>500.560061</td>\n",
       "      <td>1391.109156</td>\n",
       "    </tr>\n",
       "    <tr>\n",
       "      <th>COVID: (Ireland)</th>\n",
       "      <td>739.0</td>\n",
       "      <td>29.391069</td>\n",
       "      <td>13.712296</td>\n",
       "      <td>14.000</td>\n",
       "      <td>20.000000</td>\n",
       "      <td>26.000000</td>\n",
       "      <td>34.000000</td>\n",
       "      <td>100.000000</td>\n",
       "    </tr>\n",
       "    <tr>\n",
       "      <th>COVID: (Northern Ireland)</th>\n",
       "      <td>739.0</td>\n",
       "      <td>36.274696</td>\n",
       "      <td>14.342275</td>\n",
       "      <td>14.000</td>\n",
       "      <td>27.000000</td>\n",
       "      <td>34.000000</td>\n",
       "      <td>43.000000</td>\n",
       "      <td>100.000000</td>\n",
       "    </tr>\n",
       "  </tbody>\n",
       "</table>\n",
       "</div>"
      ],
      "text/plain": [
       "                           count         mean          std     min  \\\n",
       "new_cases_smoothed_ROI     711.0  1823.177414  3396.716734   2.429   \n",
       "stringency_index_ROI       739.0    60.104384    21.170897  11.110   \n",
       "new_cases_smoothed_NI      739.0   372.288104   348.920281   2.000   \n",
       "COVID: (Ireland)           739.0    29.391069    13.712296  14.000   \n",
       "COVID: (Northern Ireland)  739.0    36.274696    14.342275  14.000   \n",
       "\n",
       "                                  25%         50%          75%           max  \n",
       "new_cases_smoothed_ROI     276.285500  543.286000  1755.785500  23752.000000  \n",
       "stringency_index_ROI        44.440000   55.090000    81.480000     90.740000  \n",
       "new_cases_smoothed_NI       60.903035  309.655122   500.560061   1391.109156  \n",
       "COVID: (Ireland)            20.000000   26.000000    34.000000    100.000000  \n",
       "COVID: (Northern Ireland)   27.000000   34.000000    43.000000    100.000000  "
      ]
     },
     "execution_count": 3,
     "metadata": {},
     "output_type": "execute_result"
    }
   ],
   "source": [
    "# check for missing values\n",
    "df.describe().transpose()"
   ]
  },
  {
   "cell_type": "code",
   "execution_count": 4,
   "id": "7a2808e0",
   "metadata": {},
   "outputs": [],
   "source": [
    "# Use forward fill to replace the missing values\n",
    "df['new_cases_smoothed_ROI'].fillna(method='ffill', inplace=True)"
   ]
  },
  {
   "cell_type": "code",
   "execution_count": 5,
   "id": "d44d97b8",
   "metadata": {},
   "outputs": [
    {
     "data": {
      "text/html": [
       "<div>\n",
       "<style scoped>\n",
       "    .dataframe tbody tr th:only-of-type {\n",
       "        vertical-align: middle;\n",
       "    }\n",
       "\n",
       "    .dataframe tbody tr th {\n",
       "        vertical-align: top;\n",
       "    }\n",
       "\n",
       "    .dataframe thead th {\n",
       "        text-align: right;\n",
       "    }\n",
       "</style>\n",
       "<table border=\"1\" class=\"dataframe\">\n",
       "  <thead>\n",
       "    <tr style=\"text-align: right;\">\n",
       "      <th></th>\n",
       "      <th>count</th>\n",
       "      <th>mean</th>\n",
       "      <th>std</th>\n",
       "      <th>min</th>\n",
       "      <th>25%</th>\n",
       "      <th>50%</th>\n",
       "      <th>75%</th>\n",
       "      <th>max</th>\n",
       "    </tr>\n",
       "  </thead>\n",
       "  <tbody>\n",
       "    <tr>\n",
       "      <th>new_cases_smoothed_ROI</th>\n",
       "      <td>739.0</td>\n",
       "      <td>1832.751210</td>\n",
       "      <td>3348.781724</td>\n",
       "      <td>2.429</td>\n",
       "      <td>286.500000</td>\n",
       "      <td>551.143000</td>\n",
       "      <td>1755.785500</td>\n",
       "      <td>23752.000000</td>\n",
       "    </tr>\n",
       "    <tr>\n",
       "      <th>stringency_index_ROI</th>\n",
       "      <td>739.0</td>\n",
       "      <td>60.104384</td>\n",
       "      <td>21.170897</td>\n",
       "      <td>11.110</td>\n",
       "      <td>44.440000</td>\n",
       "      <td>55.090000</td>\n",
       "      <td>81.480000</td>\n",
       "      <td>90.740000</td>\n",
       "    </tr>\n",
       "    <tr>\n",
       "      <th>new_cases_smoothed_NI</th>\n",
       "      <td>739.0</td>\n",
       "      <td>372.288104</td>\n",
       "      <td>348.920281</td>\n",
       "      <td>2.000</td>\n",
       "      <td>60.903035</td>\n",
       "      <td>309.655122</td>\n",
       "      <td>500.560061</td>\n",
       "      <td>1391.109156</td>\n",
       "    </tr>\n",
       "    <tr>\n",
       "      <th>COVID: (Ireland)</th>\n",
       "      <td>739.0</td>\n",
       "      <td>29.391069</td>\n",
       "      <td>13.712296</td>\n",
       "      <td>14.000</td>\n",
       "      <td>20.000000</td>\n",
       "      <td>26.000000</td>\n",
       "      <td>34.000000</td>\n",
       "      <td>100.000000</td>\n",
       "    </tr>\n",
       "    <tr>\n",
       "      <th>COVID: (Northern Ireland)</th>\n",
       "      <td>739.0</td>\n",
       "      <td>36.274696</td>\n",
       "      <td>14.342275</td>\n",
       "      <td>14.000</td>\n",
       "      <td>27.000000</td>\n",
       "      <td>34.000000</td>\n",
       "      <td>43.000000</td>\n",
       "      <td>100.000000</td>\n",
       "    </tr>\n",
       "  </tbody>\n",
       "</table>\n",
       "</div>"
      ],
      "text/plain": [
       "                           count         mean          std     min  \\\n",
       "new_cases_smoothed_ROI     739.0  1832.751210  3348.781724   2.429   \n",
       "stringency_index_ROI       739.0    60.104384    21.170897  11.110   \n",
       "new_cases_smoothed_NI      739.0   372.288104   348.920281   2.000   \n",
       "COVID: (Ireland)           739.0    29.391069    13.712296  14.000   \n",
       "COVID: (Northern Ireland)  739.0    36.274696    14.342275  14.000   \n",
       "\n",
       "                                  25%         50%          75%           max  \n",
       "new_cases_smoothed_ROI     286.500000  551.143000  1755.785500  23752.000000  \n",
       "stringency_index_ROI        44.440000   55.090000    81.480000     90.740000  \n",
       "new_cases_smoothed_NI       60.903035  309.655122   500.560061   1391.109156  \n",
       "COVID: (Ireland)            20.000000   26.000000    34.000000    100.000000  \n",
       "COVID: (Northern Ireland)   27.000000   34.000000    43.000000    100.000000  "
      ]
     },
     "execution_count": 5,
     "metadata": {},
     "output_type": "execute_result"
    }
   ],
   "source": [
    "# re-check this missing values have been filled\n",
    "df.describe().transpose()"
   ]
  },
  {
   "cell_type": "code",
   "execution_count": 6,
   "id": "floral-latest",
   "metadata": {},
   "outputs": [],
   "source": [
    "# ensure the dates are correctly formated\n",
    "df[\"date\"] = pd.to_datetime(df[\"date\"], format='%d/%m/%Y')"
   ]
  },
  {
   "cell_type": "code",
   "execution_count": 7,
   "id": "3bf70d02",
   "metadata": {},
   "outputs": [],
   "source": [
    "# set the index as date \n",
    "df.set_index(\"date\", inplace=True)"
   ]
  },
  {
   "cell_type": "code",
   "execution_count": 8,
   "id": "f065566e",
   "metadata": {},
   "outputs": [],
   "source": [
    "# add the ROI new cases smoothed with the NI new cases smoothed\n",
    "df['ROI_NI'] = df['new_cases_smoothed_ROI']+df['new_cases_smoothed_NI']"
   ]
  },
  {
   "cell_type": "code",
   "execution_count": 9,
   "id": "27d08142",
   "metadata": {},
   "outputs": [
    {
     "data": {
      "text/html": [
       "<div>\n",
       "<style scoped>\n",
       "    .dataframe tbody tr th:only-of-type {\n",
       "        vertical-align: middle;\n",
       "    }\n",
       "\n",
       "    .dataframe tbody tr th {\n",
       "        vertical-align: top;\n",
       "    }\n",
       "\n",
       "    .dataframe thead th {\n",
       "        text-align: right;\n",
       "    }\n",
       "</style>\n",
       "<table border=\"1\" class=\"dataframe\">\n",
       "  <thead>\n",
       "    <tr style=\"text-align: right;\">\n",
       "      <th></th>\n",
       "      <th>new_cases_smoothed_ROI</th>\n",
       "      <th>stringency_index_ROI</th>\n",
       "      <th>new_cases_smoothed_NI</th>\n",
       "      <th>COVID: (Ireland)</th>\n",
       "      <th>COVID: (Northern Ireland)</th>\n",
       "      <th>ROI_NI</th>\n",
       "    </tr>\n",
       "    <tr>\n",
       "      <th>date</th>\n",
       "      <th></th>\n",
       "      <th></th>\n",
       "      <th></th>\n",
       "      <th></th>\n",
       "      <th></th>\n",
       "      <th></th>\n",
       "    </tr>\n",
       "  </thead>\n",
       "  <tbody>\n",
       "    <tr>\n",
       "      <th>2022-03-10</th>\n",
       "      <td>3085.143</td>\n",
       "      <td>14.81</td>\n",
       "      <td>1384.048922</td>\n",
       "      <td>17</td>\n",
       "      <td>25</td>\n",
       "      <td>4469.191922</td>\n",
       "    </tr>\n",
       "    <tr>\n",
       "      <th>2022-03-11</th>\n",
       "      <td>3818.000</td>\n",
       "      <td>14.81</td>\n",
       "      <td>1386.819135</td>\n",
       "      <td>17</td>\n",
       "      <td>25</td>\n",
       "      <td>5204.819135</td>\n",
       "    </tr>\n",
       "    <tr>\n",
       "      <th>2022-03-12</th>\n",
       "      <td>3818.000</td>\n",
       "      <td>14.81</td>\n",
       "      <td>1382.484650</td>\n",
       "      <td>17</td>\n",
       "      <td>25</td>\n",
       "      <td>5200.484650</td>\n",
       "    </tr>\n",
       "    <tr>\n",
       "      <th>2022-03-13</th>\n",
       "      <td>3818.000</td>\n",
       "      <td>14.81</td>\n",
       "      <td>1378.165554</td>\n",
       "      <td>17</td>\n",
       "      <td>25</td>\n",
       "      <td>5196.165554</td>\n",
       "    </tr>\n",
       "    <tr>\n",
       "      <th>2022-03-14</th>\n",
       "      <td>4448.857</td>\n",
       "      <td>14.81</td>\n",
       "      <td>1391.109156</td>\n",
       "      <td>17</td>\n",
       "      <td>25</td>\n",
       "      <td>5839.966156</td>\n",
       "    </tr>\n",
       "  </tbody>\n",
       "</table>\n",
       "</div>"
      ],
      "text/plain": [
       "            new_cases_smoothed_ROI  stringency_index_ROI  \\\n",
       "date                                                       \n",
       "2022-03-10                3085.143                 14.81   \n",
       "2022-03-11                3818.000                 14.81   \n",
       "2022-03-12                3818.000                 14.81   \n",
       "2022-03-13                3818.000                 14.81   \n",
       "2022-03-14                4448.857                 14.81   \n",
       "\n",
       "            new_cases_smoothed_NI  COVID: (Ireland)  \\\n",
       "date                                                  \n",
       "2022-03-10            1384.048922                17   \n",
       "2022-03-11            1386.819135                17   \n",
       "2022-03-12            1382.484650                17   \n",
       "2022-03-13            1378.165554                17   \n",
       "2022-03-14            1391.109156                17   \n",
       "\n",
       "            COVID: (Northern Ireland)       ROI_NI  \n",
       "date                                                \n",
       "2022-03-10                         25  4469.191922  \n",
       "2022-03-11                         25  5204.819135  \n",
       "2022-03-12                         25  5200.484650  \n",
       "2022-03-13                         25  5196.165554  \n",
       "2022-03-14                         25  5839.966156  "
      ]
     },
     "execution_count": 9,
     "metadata": {},
     "output_type": "execute_result"
    }
   ],
   "source": [
    "# check the date format is correct\n",
    "df.tail()"
   ]
  },
  {
   "cell_type": "markdown",
   "id": "88748c06",
   "metadata": {},
   "source": [
    "### Split the data into different dataframe to represent each of our categories\n",
    "- df_cat1 is ROI New Cases Smoothed Only\n",
    "- df_cat2 is ROI New Cases Smoothed + COVID: Ireland\n",
    "- df_cat3 is ROI New Cases Smoothed + COVID: Ireland + Stringency Index\n",
    "- df_cat4 is NI New Cases Smoothed Only\n",
    "- df_cat5 is NI New Cases Smoothed + COVID: Norther Ireland\n",
    "- df_cat6 is ROI + NI New Cases Smoothed\n",
    "- df_cat7 is ROI + NI New Cases Smoothed + COVID: Ireland + COVID: Northern Ireland"
   ]
  },
  {
   "cell_type": "code",
   "execution_count": 10,
   "id": "ef680efb",
   "metadata": {},
   "outputs": [],
   "source": [
    "# Create new dataframes each with features for one of the categories we are going to train the model with\n",
    "df_cat1 = df.copy(deep=True).loc[:,['new_cases_smoothed_ROI']]\n",
    "df_cat2 = df.copy(deep=True).loc[:,['new_cases_smoothed_ROI','COVID: (Ireland)']]\n",
    "df_cat3 = df.copy(deep=True).loc[:,['new_cases_smoothed_ROI','stringency_index_ROI','COVID: (Ireland)',]]\n",
    "df_cat4 = df.copy(deep=True).loc[:,['new_cases_smoothed_NI']]\n",
    "df_cat5 = df.copy(deep=True).loc[:,['new_cases_smoothed_NI','COVID: (Northern Ireland)']]\n",
    "df_cat6 = df.copy(deep=True).loc[:,['ROI_NI']]\n",
    "df_cat7 = df.copy(deep=True).loc[:,['ROI_NI','COVID: (Ireland)','COVID: (Northern Ireland)']]"
   ]
  },
  {
   "cell_type": "markdown",
   "id": "86300b2c",
   "metadata": {},
   "source": [
    "#### Change 'df_model' to which ever category you wish to run\n",
    "- You will need to comment out any feature TimeShifts that are not being used in your choosen category\n",
    "- Be careful when modifify which y_train, y_test and y_val values that are dropped, there is a big risk of copy/ paste errors\n",
    "- Remember to change the first shift to what ever time shift your are running for each of the features being ran .e.g. to shift 7 - 14 days on new cases smooth: df_model.loc[:,'yesterday'] = df_model.loc[:,'new_cases_smoothed_ROI'].shift(7)\n",
    "- don't forget to TimeShift all of the features!"
   ]
  },
  {
   "cell_type": "code",
   "execution_count": 11,
   "id": "76dc199b",
   "metadata": {},
   "outputs": [],
   "source": [
    "# change the model to whatever category you choose to run\n",
    "df_model = df_cat5.copy(deep=True)"
   ]
  },
  {
   "cell_type": "code",
   "execution_count": 12,
   "id": "egyptian-assignment",
   "metadata": {},
   "outputs": [],
   "source": [
    "# This is the TimeShift for New Cases Smoothed in the Republic of Ireland\n",
    "# Comment/ Uncomment as needed\n",
    "# df_model.loc[:,'yesterday'] = df_model.loc[:,'new_cases_smoothed_ROI'].shift(7)\n",
    "# df_model.loc[:,'yesterday_diff'] = df_model.loc[:,'yesterday'].diff()\n",
    "# df_model.loc[:,'yesterday2'] = df_model.loc[:,'yesterday'].shift()\n",
    "# df_model.loc[:,'yesterday_diff2'] = df_model.loc[:,'yesterday2'].diff()\n",
    "# df_model.loc[:,'yesterday3'] = df_model.loc[:,'yesterday2'].shift()\n",
    "# df_model.loc[:,'yesterday_diff3'] = df_model.loc[:,'yesterday3'].diff()\n",
    "# df_model.loc[:,'yesterday4'] = df_model.loc[:,'yesterday3'].shift()\n",
    "# df_model.loc[:,'yesterday_diff4'] = df_model.loc[:,'yesterday4'].diff()\n",
    "# df_model.loc[:,'yesterday5'] = df_model.loc[:,'yesterday4'].shift()\n",
    "# df_model.loc[:,'yesterday_diff5'] = df_model.loc[:,'yesterday5'].diff()\n",
    "# df_model.loc[:,'yesterday6'] = df_model.loc[:,'yesterday5'].shift()\n",
    "# df_model.loc[:,'yesterday_diff6'] = df_model.loc[:,'yesterday6'].diff()\n",
    "# df_model.loc[:,'yesterday7'] = df_model.loc[:,'yesterday6'].shift()\n",
    "# df_model.loc[:,'yesterday_diff7'] = df_model.loc[:,'yesterday7'].diff()"
   ]
  },
  {
   "cell_type": "code",
   "execution_count": 13,
   "id": "b3e8bfd1",
   "metadata": {},
   "outputs": [],
   "source": [
    "# This is the TimeShift for New Cases Smoothed in the Northern Ireland\n",
    "# Comment/ Uncomment as needed\n",
    "df_model.loc[:,'yesterdayNI'] = df_model.loc[:,'new_cases_smoothed_NI'].shift(7)\n",
    "df_model.loc[:,'yesterdayNI_diff'] = df_model.loc[:,'yesterdayNI'].diff()\n",
    "df_model.loc[:,'yesterdayNI2'] = df_model.loc[:,'yesterdayNI'].shift()\n",
    "df_model.loc[:,'yesterdayNI_diff2'] = df_model.loc[:,'yesterdayNI2'].diff()\n",
    "df_model.loc[:,'yesterdayNI3'] = df_model.loc[:,'yesterdayNI2'].shift()\n",
    "df_model.loc[:,'yesterdayNI_diff3'] = df_model.loc[:,'yesterdayNI3'].diff()\n",
    "df_model.loc[:,'yesterdayNI4'] = df_model.loc[:,'yesterdayNI3'].shift()\n",
    "df_model.loc[:,'yesterdayNI_diff4'] = df_model.loc[:,'yesterdayNI4'].diff()\n",
    "df_model.loc[:,'yesterdayNI5'] = df_model.loc[:,'yesterdayNI4'].shift()\n",
    "df_model.loc[:,'yesterdayNI_diff5'] = df_model.loc[:,'yesterdayNI5'].diff()\n",
    "df_model.loc[:,'yesterdayNI6'] = df_model.loc[:,'yesterdayNI5'].shift()\n",
    "df_model.loc[:,'yesterdayNI_diff6'] = df_model.loc[:,'yesterdayNI6'].diff()\n",
    "df_model.loc[:,'yesterdayNI7'] = df_model.loc[:,'yesterdayNI6'].shift()\n",
    "df_model.loc[:,'yesterdayNI_diff7'] = df_model.loc[:,'yesterdayNI7'].diff()"
   ]
  },
  {
   "cell_type": "code",
   "execution_count": 14,
   "id": "a9dabdf1",
   "metadata": {},
   "outputs": [],
   "source": [
    "# This is the TimeShift for stringency index. \n",
    "# Comment/ Uncomment as needed\n",
    "# df_model.loc[:,'si'] = df_model.loc[:,'stringency_index_ROI'].shift(7)\n",
    "# df_model.loc[:,'si_diff'] = df_model.loc[:,'si'].diff()\n",
    "# df_model.loc[:,'si2'] = df_model.loc[:,'si'].shift()\n",
    "# df_model.loc[:,'si_diff2'] = df_model.loc[:,'si2'].diff()\n",
    "# df_model.loc[:,'si3'] = df_model.loc[:,'si2'].shift()\n",
    "# df_model.loc[:,'si_diff3'] = df_model.loc[:,'si3'].diff()\n",
    "# df_model.loc[:,'si4'] = df_model.loc[:,'si3'].shift()\n",
    "# df_model.loc[:,'si_diff4'] = df_model.loc[:,'si4'].diff()\n",
    "# df_model.loc[:,'si5'] = df_model.loc[:,'si4'].shift()\n",
    "# df_model.loc[:,'si_diff5'] = df_model.loc[:,'si5'].diff()\n",
    "# df_model.loc[:,'si6'] = df_model.loc[:,'si5'].shift()\n",
    "# df_model.loc[:,'si_diff6'] = df_model.loc[:,'si6'].diff()\n",
    "# df_model.loc[:,'si7'] = df_model.loc[:,'si6'].shift()\n",
    "# df_model.loc[:,'si_diff7'] = df_model.loc[:,'si7'].diff()"
   ]
  },
  {
   "cell_type": "code",
   "execution_count": 15,
   "id": "d6656fd4",
   "metadata": {},
   "outputs": [],
   "source": [
    "# This is the TimeShift for Google Trends COVID-19 searches in Ireland\n",
    "# Comment/ Uncomment as needed\n",
    "# df_model.loc[:,'covid_ROI'] = df_model.loc[:,'COVID: (Ireland)'].shift(7)\n",
    "# df_model.loc[:,'covid_ROI_diff'] = df_model.loc[:,'covid_ROI'].diff()\n",
    "# df_model.loc[:,'covid_ROI2'] = df_model.loc[:,'covid_ROI'].shift()\n",
    "# df_model.loc[:,'covid_ROI_diff2'] = df_model.loc[:,'covid_ROI2'].diff()\n",
    "# df_model.loc[:,'covid_ROI3'] = df_model.loc[:,'covid_ROI2'].shift()\n",
    "# df_model.loc[:,'covid_ROI_diff3'] = df_model.loc[:,'covid_ROI3'].diff()\n",
    "# df_model.loc[:,'covid_ROI4'] = df_model.loc[:,'covid_ROI3'].shift()\n",
    "# df_model.loc[:,'covid_ROI_diff4'] = df_model.loc[:,'covid_ROI4'].diff()\n",
    "# df_model.loc[:,'covid_ROI5'] = df_model.loc[:,'covid_ROI4'].shift()\n",
    "# df_model.loc[:,'covid_ROI_diff5'] = df_model.loc[:,'covid_ROI5'].diff()\n",
    "# df_model.loc[:,'covid_ROI6'] = df_model.loc[:,'covid_ROI5'].shift()\n",
    "# df_model.loc[:,'covid_ROI_diff6'] = df_model.loc[:,'covid_ROI6'].diff()\n",
    "# df_model.loc[:,'covid_ROI7'] = df_model.loc[:,'covid_ROI6'].shift()\n",
    "# df_model.loc[:,'covid_ROI_diff7'] = df_model.loc[:,'covid_ROI7'].diff()"
   ]
  },
  {
   "cell_type": "code",
   "execution_count": 16,
   "id": "960533b5",
   "metadata": {},
   "outputs": [],
   "source": [
    "# This is the TimeShift for Google Trends COVID-19 searches in Northern Ireland\n",
    "# Comment/ Uncomment as needed\n",
    "df_model.loc[:,'covid_NI'] = df_model.loc[:,'COVID: (Northern Ireland)'].shift(7)\n",
    "df_model.loc[:,'covid_NI_diff'] = df_model.loc[:,'covid_NI'].diff()\n",
    "df_model.loc[:,'covid_NI2'] = df_model.loc[:,'covid_NI'].shift()\n",
    "df_model.loc[:,'covid_NI_diff2'] = df_model.loc[:,'covid_NI2'].diff()\n",
    "df_model.loc[:,'covid_NI3'] = df_model.loc[:,'covid_NI2'].shift()\n",
    "df_model.loc[:,'covid_NI_diff3'] = df_model.loc[:,'covid_NI3'].diff()\n",
    "df_model.loc[:,'covid_NI4'] = df_model.loc[:,'covid_NI3'].shift()\n",
    "df_model.loc[:,'covid_NI_diff4'] = df_model.loc[:,'covid_NI4'].diff()\n",
    "df_model.loc[:,'covid_NI5'] = df_model.loc[:,'covid_NI4'].shift()\n",
    "df_model.loc[:,'covid_NI_diff5'] = df_model.loc[:,'covid_NI5'].diff()\n",
    "df_model.loc[:,'covid_NI6'] = df_model.loc[:,'covid_NI5'].shift()\n",
    "df_model.loc[:,'covid_NI_diff6'] = df_model.loc[:,'covid_NI6'].diff()\n",
    "df_model.loc[:,'covid_NI7'] = df_model.loc[:,'covid_NI6'].shift()\n",
    "df_model.loc[:,'covid_NI_diff7'] = df_model.loc[:,'covid_NI7'].diff()"
   ]
  },
  {
   "cell_type": "code",
   "execution_count": 17,
   "id": "0fa40977",
   "metadata": {},
   "outputs": [],
   "source": [
    "# This is the TimeShift for the Sum of Smoothed Northern Ireland and Replubic of Ireland daily cases\n",
    "# Comment/ Uncomment as needed\n",
    "# df_model.loc[:,'ROI_NI'] = df_model.loc[:,'ROI_NI'].shift()\n",
    "# df_model.loc[:,'ROI_NI_diff'] = df_model.loc[:,'ROI_NI'].diff()\n",
    "# df_model.loc[:,'ROI_NI2'] = df_model.loc[:,'ROI_NI'].shift()\n",
    "# df_model.loc[:,'ROI_NI_diff2'] = df_model.loc[:,'ROI_NI2'].diff()\n",
    "# df_model.loc[:,'ROI_NI3'] = df_model.loc[:,'ROI_NI2'].shift()\n",
    "# df_model.loc[:,'ROI_NI_diff3'] = df_model.loc[:,'ROI_NI3'].diff()\n",
    "# df_model.loc[:,'ROI_NI4'] = df_model.loc[:,'ROI_NI3'].shift()\n",
    "# df_model.loc[:,'ROI_NI_diff4'] = df_model.loc[:,'ROI_NI4'].diff()\n",
    "# df_model.loc[:,'ROI_NI5'] = df_model.loc[:,'ROI_NI4'].shift()\n",
    "# df_model.loc[:,'ROI_NI_diff5'] = df_model.loc[:,'ROI_NI5'].diff()\n",
    "# df_model.loc[:,'ROI_NI6'] = df_model.loc[:,'ROI_NI5'].shift()\n",
    "# df_model.loc[:,'ROI_NI_diff6'] = df_model.loc[:,'ROI_NI6'].diff()\n",
    "# df_model.loc[:,'ROI_NI7'] = df_model.loc[:,'ROI_NI6'].shift()\n",
    "# df_model.loc[:,'ROI_NI_diff7'] = df_model.loc[:,'ROI_NI7'].diff()"
   ]
  },
  {
   "cell_type": "code",
   "execution_count": 18,
   "id": "32d8c2b0",
   "metadata": {},
   "outputs": [
    {
     "data": {
      "text/plain": [
       "Index(['new_cases_smoothed_NI', 'COVID: (Northern Ireland)', 'yesterdayNI',\n",
       "       'yesterdayNI_diff', 'yesterdayNI2', 'yesterdayNI_diff2', 'yesterdayNI3',\n",
       "       'yesterdayNI_diff3', 'yesterdayNI4', 'yesterdayNI_diff4',\n",
       "       'yesterdayNI5', 'yesterdayNI_diff5', 'yesterdayNI6',\n",
       "       'yesterdayNI_diff6', 'yesterdayNI7', 'yesterdayNI_diff7', 'covid_NI',\n",
       "       'covid_NI_diff', 'covid_NI2', 'covid_NI_diff2', 'covid_NI3',\n",
       "       'covid_NI_diff3', 'covid_NI4', 'covid_NI_diff4', 'covid_NI5',\n",
       "       'covid_NI_diff5', 'covid_NI6', 'covid_NI_diff6', 'covid_NI7',\n",
       "       'covid_NI_diff7'],\n",
       "      dtype='object')"
      ]
     },
     "execution_count": 18,
     "metadata": {},
     "output_type": "execute_result"
    }
   ],
   "source": [
    "# Check the model dataframe has all the features that you need. \n",
    "df_model.columns"
   ]
  },
  {
   "cell_type": "code",
   "execution_count": 19,
   "id": "b87ab1e4",
   "metadata": {},
   "outputs": [],
   "source": [
    "# Backfill and Forward Fill missing values that resulted from the TimeShift\n",
    "df_model = df_model.fillna(method='bfill').fillna(method='ffill')"
   ]
  },
  {
   "cell_type": "code",
   "execution_count": 20,
   "id": "19c72d56",
   "metadata": {},
   "outputs": [
    {
     "data": {
      "text/html": [
       "<div>\n",
       "<style scoped>\n",
       "    .dataframe tbody tr th:only-of-type {\n",
       "        vertical-align: middle;\n",
       "    }\n",
       "\n",
       "    .dataframe tbody tr th {\n",
       "        vertical-align: top;\n",
       "    }\n",
       "\n",
       "    .dataframe thead th {\n",
       "        text-align: right;\n",
       "    }\n",
       "</style>\n",
       "<table border=\"1\" class=\"dataframe\">\n",
       "  <thead>\n",
       "    <tr style=\"text-align: right;\">\n",
       "      <th></th>\n",
       "      <th>count</th>\n",
       "      <th>mean</th>\n",
       "      <th>std</th>\n",
       "      <th>min</th>\n",
       "      <th>25%</th>\n",
       "      <th>50%</th>\n",
       "      <th>75%</th>\n",
       "      <th>max</th>\n",
       "    </tr>\n",
       "  </thead>\n",
       "  <tbody>\n",
       "    <tr>\n",
       "      <th>new_cases_smoothed_NI</th>\n",
       "      <td>739.0</td>\n",
       "      <td>372.288104</td>\n",
       "      <td>348.920281</td>\n",
       "      <td>2.000000</td>\n",
       "      <td>60.903035</td>\n",
       "      <td>309.655122</td>\n",
       "      <td>500.560061</td>\n",
       "      <td>1391.109156</td>\n",
       "    </tr>\n",
       "    <tr>\n",
       "      <th>COVID: (Northern Ireland)</th>\n",
       "      <td>739.0</td>\n",
       "      <td>36.274696</td>\n",
       "      <td>14.342275</td>\n",
       "      <td>14.000000</td>\n",
       "      <td>27.000000</td>\n",
       "      <td>34.000000</td>\n",
       "      <td>43.000000</td>\n",
       "      <td>100.000000</td>\n",
       "    </tr>\n",
       "    <tr>\n",
       "      <th>yesterdayNI</th>\n",
       "      <td>739.0</td>\n",
       "      <td>359.209631</td>\n",
       "      <td>336.437976</td>\n",
       "      <td>2.000000</td>\n",
       "      <td>58.891635</td>\n",
       "      <td>305.233054</td>\n",
       "      <td>473.755502</td>\n",
       "      <td>1372.076680</td>\n",
       "    </tr>\n",
       "    <tr>\n",
       "      <th>yesterdayNI_diff</th>\n",
       "      <td>739.0</td>\n",
       "      <td>1.853960</td>\n",
       "      <td>5.211556</td>\n",
       "      <td>-4.284895</td>\n",
       "      <td>-0.391749</td>\n",
       "      <td>0.881228</td>\n",
       "      <td>2.850187</td>\n",
       "      <td>95.344473</td>\n",
       "    </tr>\n",
       "    <tr>\n",
       "      <th>yesterdayNI2</th>\n",
       "      <td>739.0</td>\n",
       "      <td>357.355671</td>\n",
       "      <td>334.618977</td>\n",
       "      <td>2.000000</td>\n",
       "      <td>58.515461</td>\n",
       "      <td>304.398815</td>\n",
       "      <td>470.051558</td>\n",
       "      <td>1366.815772</td>\n",
       "    </tr>\n",
       "    <tr>\n",
       "      <th>yesterdayNI_diff2</th>\n",
       "      <td>739.0</td>\n",
       "      <td>1.835266</td>\n",
       "      <td>5.193337</td>\n",
       "      <td>-4.284895</td>\n",
       "      <td>-0.391749</td>\n",
       "      <td>0.877353</td>\n",
       "      <td>2.839764</td>\n",
       "      <td>95.344473</td>\n",
       "    </tr>\n",
       "    <tr>\n",
       "      <th>yesterdayNI3</th>\n",
       "      <td>739.0</td>\n",
       "      <td>355.520405</td>\n",
       "      <td>332.836485</td>\n",
       "      <td>2.000000</td>\n",
       "      <td>58.140332</td>\n",
       "      <td>303.545557</td>\n",
       "      <td>468.119862</td>\n",
       "      <td>1366.815772</td>\n",
       "    </tr>\n",
       "    <tr>\n",
       "      <th>yesterdayNI_diff3</th>\n",
       "      <td>739.0</td>\n",
       "      <td>1.841043</td>\n",
       "      <td>5.188909</td>\n",
       "      <td>-4.284895</td>\n",
       "      <td>-0.390181</td>\n",
       "      <td>0.877353</td>\n",
       "      <td>2.839764</td>\n",
       "      <td>95.344473</td>\n",
       "    </tr>\n",
       "    <tr>\n",
       "      <th>yesterdayNI4</th>\n",
       "      <td>739.0</td>\n",
       "      <td>353.679362</td>\n",
       "      <td>331.016613</td>\n",
       "      <td>2.000000</td>\n",
       "      <td>57.969510</td>\n",
       "      <td>302.688864</td>\n",
       "      <td>465.785604</td>\n",
       "      <td>1366.815772</td>\n",
       "    </tr>\n",
       "    <tr>\n",
       "      <th>yesterdayNI_diff4</th>\n",
       "      <td>739.0</td>\n",
       "      <td>1.846841</td>\n",
       "      <td>5.184447</td>\n",
       "      <td>-4.245728</td>\n",
       "      <td>-0.388972</td>\n",
       "      <td>0.877353</td>\n",
       "      <td>2.839764</td>\n",
       "      <td>95.344473</td>\n",
       "    </tr>\n",
       "    <tr>\n",
       "      <th>yesterdayNI5</th>\n",
       "      <td>739.0</td>\n",
       "      <td>351.832521</td>\n",
       "      <td>329.158505</td>\n",
       "      <td>2.000000</td>\n",
       "      <td>57.740336</td>\n",
       "      <td>302.123430</td>\n",
       "      <td>462.527804</td>\n",
       "      <td>1364.081157</td>\n",
       "    </tr>\n",
       "    <tr>\n",
       "      <th>yesterdayNI_diff5</th>\n",
       "      <td>739.0</td>\n",
       "      <td>1.843141</td>\n",
       "      <td>5.184788</td>\n",
       "      <td>-4.245728</td>\n",
       "      <td>-0.388972</td>\n",
       "      <td>0.874151</td>\n",
       "      <td>2.839764</td>\n",
       "      <td>95.344473</td>\n",
       "    </tr>\n",
       "    <tr>\n",
       "      <th>yesterdayNI6</th>\n",
       "      <td>739.0</td>\n",
       "      <td>349.989380</td>\n",
       "      <td>327.290909</td>\n",
       "      <td>2.000000</td>\n",
       "      <td>57.433422</td>\n",
       "      <td>301.817168</td>\n",
       "      <td>459.630539</td>\n",
       "      <td>1360.795350</td>\n",
       "    </tr>\n",
       "    <tr>\n",
       "      <th>yesterdayNI_diff6</th>\n",
       "      <td>739.0</td>\n",
       "      <td>1.838695</td>\n",
       "      <td>5.184958</td>\n",
       "      <td>-4.245728</td>\n",
       "      <td>-0.388972</td>\n",
       "      <td>0.873566</td>\n",
       "      <td>2.823246</td>\n",
       "      <td>95.344473</td>\n",
       "    </tr>\n",
       "    <tr>\n",
       "      <th>yesterdayNI7</th>\n",
       "      <td>739.0</td>\n",
       "      <td>348.150685</td>\n",
       "      <td>325.416018</td>\n",
       "      <td>2.000000</td>\n",
       "      <td>57.107064</td>\n",
       "      <td>301.264905</td>\n",
       "      <td>456.875639</td>\n",
       "      <td>1357.500895</td>\n",
       "    </tr>\n",
       "    <tr>\n",
       "      <th>yesterdayNI_diff7</th>\n",
       "      <td>739.0</td>\n",
       "      <td>1.834237</td>\n",
       "      <td>5.185121</td>\n",
       "      <td>-4.245728</td>\n",
       "      <td>-0.388972</td>\n",
       "      <td>0.858632</td>\n",
       "      <td>2.798626</td>\n",
       "      <td>95.344473</td>\n",
       "    </tr>\n",
       "    <tr>\n",
       "      <th>covid_NI</th>\n",
       "      <td>739.0</td>\n",
       "      <td>36.170501</td>\n",
       "      <td>14.463416</td>\n",
       "      <td>14.000000</td>\n",
       "      <td>27.000000</td>\n",
       "      <td>34.000000</td>\n",
       "      <td>43.000000</td>\n",
       "      <td>100.000000</td>\n",
       "    </tr>\n",
       "    <tr>\n",
       "      <th>covid_NI_diff</th>\n",
       "      <td>739.0</td>\n",
       "      <td>0.014885</td>\n",
       "      <td>3.117578</td>\n",
       "      <td>-26.000000</td>\n",
       "      <td>0.000000</td>\n",
       "      <td>0.000000</td>\n",
       "      <td>0.000000</td>\n",
       "      <td>41.000000</td>\n",
       "    </tr>\n",
       "    <tr>\n",
       "      <th>covid_NI2</th>\n",
       "      <td>739.0</td>\n",
       "      <td>36.155616</td>\n",
       "      <td>14.480578</td>\n",
       "      <td>14.000000</td>\n",
       "      <td>27.000000</td>\n",
       "      <td>34.000000</td>\n",
       "      <td>43.000000</td>\n",
       "      <td>100.000000</td>\n",
       "    </tr>\n",
       "    <tr>\n",
       "      <th>covid_NI_diff2</th>\n",
       "      <td>739.0</td>\n",
       "      <td>0.014885</td>\n",
       "      <td>3.117578</td>\n",
       "      <td>-26.000000</td>\n",
       "      <td>0.000000</td>\n",
       "      <td>0.000000</td>\n",
       "      <td>0.000000</td>\n",
       "      <td>41.000000</td>\n",
       "    </tr>\n",
       "    <tr>\n",
       "      <th>covid_NI3</th>\n",
       "      <td>739.0</td>\n",
       "      <td>36.140731</td>\n",
       "      <td>14.497704</td>\n",
       "      <td>14.000000</td>\n",
       "      <td>27.000000</td>\n",
       "      <td>34.000000</td>\n",
       "      <td>43.000000</td>\n",
       "      <td>100.000000</td>\n",
       "    </tr>\n",
       "    <tr>\n",
       "      <th>covid_NI_diff3</th>\n",
       "      <td>739.0</td>\n",
       "      <td>0.014885</td>\n",
       "      <td>3.117578</td>\n",
       "      <td>-26.000000</td>\n",
       "      <td>0.000000</td>\n",
       "      <td>0.000000</td>\n",
       "      <td>0.000000</td>\n",
       "      <td>41.000000</td>\n",
       "    </tr>\n",
       "    <tr>\n",
       "      <th>covid_NI4</th>\n",
       "      <td>739.0</td>\n",
       "      <td>36.125846</td>\n",
       "      <td>14.514795</td>\n",
       "      <td>14.000000</td>\n",
       "      <td>27.000000</td>\n",
       "      <td>34.000000</td>\n",
       "      <td>43.000000</td>\n",
       "      <td>100.000000</td>\n",
       "    </tr>\n",
       "    <tr>\n",
       "      <th>covid_NI_diff4</th>\n",
       "      <td>739.0</td>\n",
       "      <td>0.014885</td>\n",
       "      <td>3.117578</td>\n",
       "      <td>-26.000000</td>\n",
       "      <td>0.000000</td>\n",
       "      <td>0.000000</td>\n",
       "      <td>0.000000</td>\n",
       "      <td>41.000000</td>\n",
       "    </tr>\n",
       "    <tr>\n",
       "      <th>covid_NI5</th>\n",
       "      <td>739.0</td>\n",
       "      <td>36.110961</td>\n",
       "      <td>14.531850</td>\n",
       "      <td>14.000000</td>\n",
       "      <td>27.000000</td>\n",
       "      <td>34.000000</td>\n",
       "      <td>43.000000</td>\n",
       "      <td>100.000000</td>\n",
       "    </tr>\n",
       "    <tr>\n",
       "      <th>covid_NI_diff5</th>\n",
       "      <td>739.0</td>\n",
       "      <td>0.014885</td>\n",
       "      <td>3.117578</td>\n",
       "      <td>-26.000000</td>\n",
       "      <td>0.000000</td>\n",
       "      <td>0.000000</td>\n",
       "      <td>0.000000</td>\n",
       "      <td>41.000000</td>\n",
       "    </tr>\n",
       "    <tr>\n",
       "      <th>covid_NI6</th>\n",
       "      <td>739.0</td>\n",
       "      <td>36.096076</td>\n",
       "      <td>14.548870</td>\n",
       "      <td>14.000000</td>\n",
       "      <td>27.000000</td>\n",
       "      <td>34.000000</td>\n",
       "      <td>43.000000</td>\n",
       "      <td>100.000000</td>\n",
       "    </tr>\n",
       "    <tr>\n",
       "      <th>covid_NI_diff6</th>\n",
       "      <td>739.0</td>\n",
       "      <td>0.014885</td>\n",
       "      <td>3.117578</td>\n",
       "      <td>-26.000000</td>\n",
       "      <td>0.000000</td>\n",
       "      <td>0.000000</td>\n",
       "      <td>0.000000</td>\n",
       "      <td>41.000000</td>\n",
       "    </tr>\n",
       "    <tr>\n",
       "      <th>covid_NI7</th>\n",
       "      <td>739.0</td>\n",
       "      <td>36.081191</td>\n",
       "      <td>14.565855</td>\n",
       "      <td>14.000000</td>\n",
       "      <td>27.000000</td>\n",
       "      <td>34.000000</td>\n",
       "      <td>43.000000</td>\n",
       "      <td>100.000000</td>\n",
       "    </tr>\n",
       "    <tr>\n",
       "      <th>covid_NI_diff7</th>\n",
       "      <td>739.0</td>\n",
       "      <td>0.014885</td>\n",
       "      <td>3.117578</td>\n",
       "      <td>-26.000000</td>\n",
       "      <td>0.000000</td>\n",
       "      <td>0.000000</td>\n",
       "      <td>0.000000</td>\n",
       "      <td>41.000000</td>\n",
       "    </tr>\n",
       "  </tbody>\n",
       "</table>\n",
       "</div>"
      ],
      "text/plain": [
       "                           count        mean         std        min  \\\n",
       "new_cases_smoothed_NI      739.0  372.288104  348.920281   2.000000   \n",
       "COVID: (Northern Ireland)  739.0   36.274696   14.342275  14.000000   \n",
       "yesterdayNI                739.0  359.209631  336.437976   2.000000   \n",
       "yesterdayNI_diff           739.0    1.853960    5.211556  -4.284895   \n",
       "yesterdayNI2               739.0  357.355671  334.618977   2.000000   \n",
       "yesterdayNI_diff2          739.0    1.835266    5.193337  -4.284895   \n",
       "yesterdayNI3               739.0  355.520405  332.836485   2.000000   \n",
       "yesterdayNI_diff3          739.0    1.841043    5.188909  -4.284895   \n",
       "yesterdayNI4               739.0  353.679362  331.016613   2.000000   \n",
       "yesterdayNI_diff4          739.0    1.846841    5.184447  -4.245728   \n",
       "yesterdayNI5               739.0  351.832521  329.158505   2.000000   \n",
       "yesterdayNI_diff5          739.0    1.843141    5.184788  -4.245728   \n",
       "yesterdayNI6               739.0  349.989380  327.290909   2.000000   \n",
       "yesterdayNI_diff6          739.0    1.838695    5.184958  -4.245728   \n",
       "yesterdayNI7               739.0  348.150685  325.416018   2.000000   \n",
       "yesterdayNI_diff7          739.0    1.834237    5.185121  -4.245728   \n",
       "covid_NI                   739.0   36.170501   14.463416  14.000000   \n",
       "covid_NI_diff              739.0    0.014885    3.117578 -26.000000   \n",
       "covid_NI2                  739.0   36.155616   14.480578  14.000000   \n",
       "covid_NI_diff2             739.0    0.014885    3.117578 -26.000000   \n",
       "covid_NI3                  739.0   36.140731   14.497704  14.000000   \n",
       "covid_NI_diff3             739.0    0.014885    3.117578 -26.000000   \n",
       "covid_NI4                  739.0   36.125846   14.514795  14.000000   \n",
       "covid_NI_diff4             739.0    0.014885    3.117578 -26.000000   \n",
       "covid_NI5                  739.0   36.110961   14.531850  14.000000   \n",
       "covid_NI_diff5             739.0    0.014885    3.117578 -26.000000   \n",
       "covid_NI6                  739.0   36.096076   14.548870  14.000000   \n",
       "covid_NI_diff6             739.0    0.014885    3.117578 -26.000000   \n",
       "covid_NI7                  739.0   36.081191   14.565855  14.000000   \n",
       "covid_NI_diff7             739.0    0.014885    3.117578 -26.000000   \n",
       "\n",
       "                                 25%         50%         75%          max  \n",
       "new_cases_smoothed_NI      60.903035  309.655122  500.560061  1391.109156  \n",
       "COVID: (Northern Ireland)  27.000000   34.000000   43.000000   100.000000  \n",
       "yesterdayNI                58.891635  305.233054  473.755502  1372.076680  \n",
       "yesterdayNI_diff           -0.391749    0.881228    2.850187    95.344473  \n",
       "yesterdayNI2               58.515461  304.398815  470.051558  1366.815772  \n",
       "yesterdayNI_diff2          -0.391749    0.877353    2.839764    95.344473  \n",
       "yesterdayNI3               58.140332  303.545557  468.119862  1366.815772  \n",
       "yesterdayNI_diff3          -0.390181    0.877353    2.839764    95.344473  \n",
       "yesterdayNI4               57.969510  302.688864  465.785604  1366.815772  \n",
       "yesterdayNI_diff4          -0.388972    0.877353    2.839764    95.344473  \n",
       "yesterdayNI5               57.740336  302.123430  462.527804  1364.081157  \n",
       "yesterdayNI_diff5          -0.388972    0.874151    2.839764    95.344473  \n",
       "yesterdayNI6               57.433422  301.817168  459.630539  1360.795350  \n",
       "yesterdayNI_diff6          -0.388972    0.873566    2.823246    95.344473  \n",
       "yesterdayNI7               57.107064  301.264905  456.875639  1357.500895  \n",
       "yesterdayNI_diff7          -0.388972    0.858632    2.798626    95.344473  \n",
       "covid_NI                   27.000000   34.000000   43.000000   100.000000  \n",
       "covid_NI_diff               0.000000    0.000000    0.000000    41.000000  \n",
       "covid_NI2                  27.000000   34.000000   43.000000   100.000000  \n",
       "covid_NI_diff2              0.000000    0.000000    0.000000    41.000000  \n",
       "covid_NI3                  27.000000   34.000000   43.000000   100.000000  \n",
       "covid_NI_diff3              0.000000    0.000000    0.000000    41.000000  \n",
       "covid_NI4                  27.000000   34.000000   43.000000   100.000000  \n",
       "covid_NI_diff4              0.000000    0.000000    0.000000    41.000000  \n",
       "covid_NI5                  27.000000   34.000000   43.000000   100.000000  \n",
       "covid_NI_diff5              0.000000    0.000000    0.000000    41.000000  \n",
       "covid_NI6                  27.000000   34.000000   43.000000   100.000000  \n",
       "covid_NI_diff6              0.000000    0.000000    0.000000    41.000000  \n",
       "covid_NI7                  27.000000   34.000000   43.000000   100.000000  \n",
       "covid_NI_diff7              0.000000    0.000000    0.000000    41.000000  "
      ]
     },
     "execution_count": 20,
     "metadata": {},
     "output_type": "execute_result"
    }
   ],
   "source": [
    "# Check that all missing values have been filled\n",
    "df_model.describe().transpose()"
   ]
  },
  {
   "cell_type": "code",
   "execution_count": 21,
   "id": "0ecde815",
   "metadata": {},
   "outputs": [],
   "source": [
    "# get the number of rows and assign to n: for the train best split\n",
    "n = len(df_model)"
   ]
  },
  {
   "cell_type": "code",
   "execution_count": 22,
   "id": "33bf44ec",
   "metadata": {
    "scrolled": false
   },
   "outputs": [
    {
     "data": {
      "text/plain": [
       "Index(['new_cases_smoothed_NI', 'COVID: (Northern Ireland)', 'yesterdayNI',\n",
       "       'yesterdayNI_diff', 'yesterdayNI2', 'yesterdayNI_diff2', 'yesterdayNI3',\n",
       "       'yesterdayNI_diff3', 'yesterdayNI4', 'yesterdayNI_diff4',\n",
       "       'yesterdayNI5', 'yesterdayNI_diff5', 'yesterdayNI6',\n",
       "       'yesterdayNI_diff6', 'yesterdayNI7', 'yesterdayNI_diff7', 'covid_NI',\n",
       "       'covid_NI_diff', 'covid_NI2', 'covid_NI_diff2', 'covid_NI3',\n",
       "       'covid_NI_diff3', 'covid_NI4', 'covid_NI_diff4', 'covid_NI5',\n",
       "       'covid_NI_diff5', 'covid_NI6', 'covid_NI_diff6', 'covid_NI7',\n",
       "       'covid_NI_diff7'],\n",
       "      dtype='object')"
      ]
     },
     "execution_count": 22,
     "metadata": {},
     "output_type": "execute_result"
    }
   ],
   "source": [
    "# Re-check the model dataframe has all the features that you need. You can copy the features to drop from here\n",
    "df_model.columns"
   ]
  },
  {
   "cell_type": "code",
   "execution_count": 23,
   "id": "996e45e7",
   "metadata": {},
   "outputs": [],
   "source": [
    "\n",
    "X_train = df_model.iloc[0:int(n*0.7)].drop(['new_cases_smoothed_NI', 'COVID: (Northern Ireland)'], axis=1)\n",
    "\n",
    "# Extreme copy/ paste warning. Make sure all unneeded columns are dropped\n",
    "y_train = df_model.iloc[0:int(n*0.7)].drop(columns=['COVID: (Northern Ireland)','yesterdayNI',\n",
    "       'yesterdayNI_diff', 'yesterdayNI2', 'yesterdayNI_diff2', 'yesterdayNI3',\n",
    "       'yesterdayNI_diff3', 'yesterdayNI4', 'yesterdayNI_diff4',\n",
    "       'yesterdayNI5', 'yesterdayNI_diff5', 'yesterdayNI6',\n",
    "       'yesterdayNI_diff6', 'yesterdayNI7', 'yesterdayNI_diff7', 'covid_NI',\n",
    "       'covid_NI_diff', 'covid_NI2', 'covid_NI_diff2', 'covid_NI3',\n",
    "       'covid_NI_diff3', 'covid_NI4', 'covid_NI_diff4', 'covid_NI5',\n",
    "       'covid_NI_diff5', 'covid_NI6', 'covid_NI_diff6', 'covid_NI7',\n",
    "       'covid_NI_diff7'], axis=1)"
   ]
  },
  {
   "cell_type": "code",
   "execution_count": 24,
   "id": "3fee2be0",
   "metadata": {},
   "outputs": [],
   "source": [
    "X_test = df_model.iloc[int(n*0.7):int(n*0.9)].drop(['new_cases_smoothed_NI', 'COVID: (Northern Ireland)'],axis=1)\n",
    "\n",
    "# Extreme copy/ paste warning. Make sure all unneeded columns are dropped\n",
    "y_test = df_model.iloc[int(n*0.7):int(n*0.9)].drop(columns=['COVID: (Northern Ireland)','yesterdayNI',\n",
    "       'yesterdayNI_diff', 'yesterdayNI2', 'yesterdayNI_diff2', 'yesterdayNI3',\n",
    "       'yesterdayNI_diff3', 'yesterdayNI4', 'yesterdayNI_diff4',\n",
    "       'yesterdayNI5', 'yesterdayNI_diff5', 'yesterdayNI6',\n",
    "       'yesterdayNI_diff6', 'yesterdayNI7', 'yesterdayNI_diff7', 'covid_NI',\n",
    "       'covid_NI_diff', 'covid_NI2', 'covid_NI_diff2', 'covid_NI3',\n",
    "       'covid_NI_diff3', 'covid_NI4', 'covid_NI_diff4', 'covid_NI5',\n",
    "       'covid_NI_diff5', 'covid_NI6', 'covid_NI_diff6', 'covid_NI7',\n",
    "       'covid_NI_diff7'], axis=1)"
   ]
  },
  {
   "cell_type": "code",
   "execution_count": 25,
   "id": "d1206398",
   "metadata": {},
   "outputs": [],
   "source": [
    "X_val = df_model.iloc[int(n*0.9):].drop(['new_cases_smoothed_NI', 'COVID: (Northern Ireland)'], axis=1)\n",
    "\n",
    "# Extreme copy/ paste warning. Make sure all unneeded columns are dropped\n",
    "y_val = df_model.iloc[int(n*0.9):].drop(columns=['COVID: (Northern Ireland)','yesterdayNI',\n",
    "       'yesterdayNI_diff', 'yesterdayNI2', 'yesterdayNI_diff2', 'yesterdayNI3',\n",
    "       'yesterdayNI_diff3', 'yesterdayNI4', 'yesterdayNI_diff4',\n",
    "       'yesterdayNI5', 'yesterdayNI_diff5', 'yesterdayNI6',\n",
    "       'yesterdayNI_diff6', 'yesterdayNI7', 'yesterdayNI_diff7', 'covid_NI',\n",
    "       'covid_NI_diff', 'covid_NI2', 'covid_NI_diff2', 'covid_NI3',\n",
    "       'covid_NI_diff3', 'covid_NI4', 'covid_NI_diff4', 'covid_NI5',\n",
    "       'covid_NI_diff5', 'covid_NI6', 'covid_NI_diff6', 'covid_NI7',\n",
    "       'covid_NI_diff7'], axis=1)"
   ]
  },
  {
   "cell_type": "markdown",
   "id": "11002c01",
   "metadata": {},
   "source": [
    "### Verify all the training, test and validation columns are as expected"
   ]
  },
  {
   "cell_type": "code",
   "execution_count": 26,
   "id": "689c876d",
   "metadata": {},
   "outputs": [
    {
     "data": {
      "text/plain": [
       "Index(['yesterdayNI', 'yesterdayNI_diff', 'yesterdayNI2', 'yesterdayNI_diff2',\n",
       "       'yesterdayNI3', 'yesterdayNI_diff3', 'yesterdayNI4',\n",
       "       'yesterdayNI_diff4', 'yesterdayNI5', 'yesterdayNI_diff5',\n",
       "       'yesterdayNI6', 'yesterdayNI_diff6', 'yesterdayNI7',\n",
       "       'yesterdayNI_diff7', 'covid_NI', 'covid_NI_diff', 'covid_NI2',\n",
       "       'covid_NI_diff2', 'covid_NI3', 'covid_NI_diff3', 'covid_NI4',\n",
       "       'covid_NI_diff4', 'covid_NI5', 'covid_NI_diff5', 'covid_NI6',\n",
       "       'covid_NI_diff6', 'covid_NI7', 'covid_NI_diff7'],\n",
       "      dtype='object')"
      ]
     },
     "execution_count": 26,
     "metadata": {},
     "output_type": "execute_result"
    }
   ],
   "source": [
    "X_train.columns"
   ]
  },
  {
   "cell_type": "code",
   "execution_count": 27,
   "id": "1f2d3bf3",
   "metadata": {},
   "outputs": [
    {
     "data": {
      "text/plain": [
       "Index(['new_cases_smoothed_NI'], dtype='object')"
      ]
     },
     "execution_count": 27,
     "metadata": {},
     "output_type": "execute_result"
    }
   ],
   "source": [
    "y_train.columns"
   ]
  },
  {
   "cell_type": "code",
   "execution_count": 28,
   "id": "286a5232",
   "metadata": {},
   "outputs": [
    {
     "data": {
      "text/plain": [
       "Index(['yesterdayNI', 'yesterdayNI_diff', 'yesterdayNI2', 'yesterdayNI_diff2',\n",
       "       'yesterdayNI3', 'yesterdayNI_diff3', 'yesterdayNI4',\n",
       "       'yesterdayNI_diff4', 'yesterdayNI5', 'yesterdayNI_diff5',\n",
       "       'yesterdayNI6', 'yesterdayNI_diff6', 'yesterdayNI7',\n",
       "       'yesterdayNI_diff7', 'covid_NI', 'covid_NI_diff', 'covid_NI2',\n",
       "       'covid_NI_diff2', 'covid_NI3', 'covid_NI_diff3', 'covid_NI4',\n",
       "       'covid_NI_diff4', 'covid_NI5', 'covid_NI_diff5', 'covid_NI6',\n",
       "       'covid_NI_diff6', 'covid_NI7', 'covid_NI_diff7'],\n",
       "      dtype='object')"
      ]
     },
     "execution_count": 28,
     "metadata": {},
     "output_type": "execute_result"
    }
   ],
   "source": [
    "X_test.columns"
   ]
  },
  {
   "cell_type": "code",
   "execution_count": 29,
   "id": "ea316bd3",
   "metadata": {},
   "outputs": [
    {
     "data": {
      "text/plain": [
       "Index(['new_cases_smoothed_NI'], dtype='object')"
      ]
     },
     "execution_count": 29,
     "metadata": {},
     "output_type": "execute_result"
    }
   ],
   "source": [
    "y_test.columns"
   ]
  },
  {
   "cell_type": "code",
   "execution_count": 30,
   "id": "1968c433",
   "metadata": {},
   "outputs": [
    {
     "data": {
      "text/plain": [
       "Index(['yesterdayNI', 'yesterdayNI_diff', 'yesterdayNI2', 'yesterdayNI_diff2',\n",
       "       'yesterdayNI3', 'yesterdayNI_diff3', 'yesterdayNI4',\n",
       "       'yesterdayNI_diff4', 'yesterdayNI5', 'yesterdayNI_diff5',\n",
       "       'yesterdayNI6', 'yesterdayNI_diff6', 'yesterdayNI7',\n",
       "       'yesterdayNI_diff7', 'covid_NI', 'covid_NI_diff', 'covid_NI2',\n",
       "       'covid_NI_diff2', 'covid_NI3', 'covid_NI_diff3', 'covid_NI4',\n",
       "       'covid_NI_diff4', 'covid_NI5', 'covid_NI_diff5', 'covid_NI6',\n",
       "       'covid_NI_diff6', 'covid_NI7', 'covid_NI_diff7'],\n",
       "      dtype='object')"
      ]
     },
     "execution_count": 30,
     "metadata": {},
     "output_type": "execute_result"
    }
   ],
   "source": [
    "X_val.columns"
   ]
  },
  {
   "cell_type": "code",
   "execution_count": 31,
   "id": "a0082597",
   "metadata": {},
   "outputs": [
    {
     "data": {
      "text/plain": [
       "Index(['new_cases_smoothed_NI'], dtype='object')"
      ]
     },
     "execution_count": 31,
     "metadata": {},
     "output_type": "execute_result"
    }
   ],
   "source": [
    "y_val.columns"
   ]
  },
  {
   "cell_type": "markdown",
   "id": "71518ee5",
   "metadata": {},
   "source": [
    "### Load the model and Gridsearch parameters"
   ]
  },
  {
   "cell_type": "code",
   "execution_count": 32,
   "id": "loose-florist",
   "metadata": {},
   "outputs": [],
   "source": [
    "model = MLPRegressor()\n",
    "\n",
    "param_search = {\n",
    "    #\"hidden_layer_sizes\": [(350,)],\n",
    "    \"hidden_layer_sizes\": [(1,),(50,),(100,),(150,),(200,),(250,),(300,),(350,)],\n",
    "    \"activation\": [\"identity\", \"logistic\", \"tanh\", \"relu\"],\n",
    "    \"solver\": [\"lbfgs\", \"sgd\", \"adam\"],\n",
    "    \"alpha\": [0.00005,0.0005, 0.005],\n",
    "    \"learning_rate\": ['constant', 'invscaling', 'adaptive']\n",
    "}"
   ]
  },
  {
   "cell_type": "markdown",
   "id": "3802d3bb",
   "metadata": {},
   "source": [
    "### Run the model"
   ]
  },
  {
   "cell_type": "code",
   "execution_count": 33,
   "id": "future-tampa",
   "metadata": {},
   "outputs": [],
   "source": [
    "tsvc = TimeSeriesSplit(n_splits=5)\n",
    "gsearch = GridSearchCV(estimator=model, cv=tsvc, param_grid=param_search, scoring='r2')\n",
    "gsearch.fit(X_train, y_train)\n",
    "best_score = gsearch.best_score_\n",
    "best_model = gsearch.best_estimator_"
   ]
  },
  {
   "cell_type": "markdown",
   "id": "a808b598",
   "metadata": {},
   "source": [
    "### Print the best model"
   ]
  },
  {
   "cell_type": "code",
   "execution_count": 34,
   "id": "automatic-mixer",
   "metadata": {},
   "outputs": [
    {
     "name": "stdout",
     "output_type": "stream",
     "text": [
      "MLPRegressor(activation='identity', alpha=0.005, hidden_layer_sizes=(1,),\n",
      "             solver='lbfgs')\n"
     ]
    }
   ],
   "source": [
    "print(best_model)"
   ]
  },
  {
   "cell_type": "code",
   "execution_count": 35,
   "id": "adopted-component",
   "metadata": {},
   "outputs": [
    {
     "name": "stdout",
     "output_type": "stream",
     "text": [
      "Accuracy: 0.9946026668427748\n"
     ]
    }
   ],
   "source": [
    "test_pred = best_model.predict(X_test)\n",
    "print(\"Accuracy:\", r2_score(y_test, test_pred))"
   ]
  },
  {
   "cell_type": "code",
   "execution_count": 36,
   "id": "0da4beb9",
   "metadata": {},
   "outputs": [],
   "source": [
    "y_test['predictions'] = test_pred.tolist()"
   ]
  },
  {
   "cell_type": "code",
   "execution_count": 37,
   "id": "0400cbfb",
   "metadata": {},
   "outputs": [],
   "source": [
    "y_test.reset_index(inplace=True)"
   ]
  },
  {
   "cell_type": "code",
   "execution_count": 38,
   "id": "550a36ad",
   "metadata": {},
   "outputs": [
    {
     "data": {
      "text/html": [
       "<div>\n",
       "<style scoped>\n",
       "    .dataframe tbody tr th:only-of-type {\n",
       "        vertical-align: middle;\n",
       "    }\n",
       "\n",
       "    .dataframe tbody tr th {\n",
       "        vertical-align: top;\n",
       "    }\n",
       "\n",
       "    .dataframe thead th {\n",
       "        text-align: right;\n",
       "    }\n",
       "</style>\n",
       "<table border=\"1\" class=\"dataframe\">\n",
       "  <thead>\n",
       "    <tr style=\"text-align: right;\">\n",
       "      <th></th>\n",
       "      <th>date</th>\n",
       "      <th>new_cases_smoothed_NI</th>\n",
       "      <th>predictions</th>\n",
       "    </tr>\n",
       "  </thead>\n",
       "  <tbody>\n",
       "    <tr>\n",
       "      <th>0</th>\n",
       "      <td>2021-08-05</td>\n",
       "      <td>365.621988</td>\n",
       "      <td>370.203516</td>\n",
       "    </tr>\n",
       "    <tr>\n",
       "      <th>1</th>\n",
       "      <td>2021-08-06</td>\n",
       "      <td>369.446057</td>\n",
       "      <td>372.036587</td>\n",
       "    </tr>\n",
       "    <tr>\n",
       "      <th>2</th>\n",
       "      <td>2021-08-07</td>\n",
       "      <td>372.949113</td>\n",
       "      <td>374.202892</td>\n",
       "    </tr>\n",
       "    <tr>\n",
       "      <th>3</th>\n",
       "      <td>2021-08-08</td>\n",
       "      <td>375.650513</td>\n",
       "      <td>372.985828</td>\n",
       "    </tr>\n",
       "    <tr>\n",
       "      <th>4</th>\n",
       "      <td>2021-08-09</td>\n",
       "      <td>377.990059</td>\n",
       "      <td>370.726689</td>\n",
       "    </tr>\n",
       "    <tr>\n",
       "      <th>...</th>\n",
       "      <td>...</td>\n",
       "      <td>...</td>\n",
       "      <td>...</td>\n",
       "    </tr>\n",
       "    <tr>\n",
       "      <th>143</th>\n",
       "      <td>2021-12-26</td>\n",
       "      <td>783.031954</td>\n",
       "      <td>773.949128</td>\n",
       "    </tr>\n",
       "    <tr>\n",
       "      <th>144</th>\n",
       "      <td>2021-12-27</td>\n",
       "      <td>780.494513</td>\n",
       "      <td>785.038673</td>\n",
       "    </tr>\n",
       "    <tr>\n",
       "      <th>145</th>\n",
       "      <td>2021-12-28</td>\n",
       "      <td>777.966663</td>\n",
       "      <td>789.374124</td>\n",
       "    </tr>\n",
       "    <tr>\n",
       "      <th>146</th>\n",
       "      <td>2021-12-29</td>\n",
       "      <td>849.809477</td>\n",
       "      <td>805.147524</td>\n",
       "    </tr>\n",
       "    <tr>\n",
       "      <th>147</th>\n",
       "      <td>2021-12-30</td>\n",
       "      <td>862.269204</td>\n",
       "      <td>820.545971</td>\n",
       "    </tr>\n",
       "  </tbody>\n",
       "</table>\n",
       "<p>148 rows × 3 columns</p>\n",
       "</div>"
      ],
      "text/plain": [
       "          date  new_cases_smoothed_NI  predictions\n",
       "0   2021-08-05             365.621988   370.203516\n",
       "1   2021-08-06             369.446057   372.036587\n",
       "2   2021-08-07             372.949113   374.202892\n",
       "3   2021-08-08             375.650513   372.985828\n",
       "4   2021-08-09             377.990059   370.726689\n",
       "..         ...                    ...          ...\n",
       "143 2021-12-26             783.031954   773.949128\n",
       "144 2021-12-27             780.494513   785.038673\n",
       "145 2021-12-28             777.966663   789.374124\n",
       "146 2021-12-29             849.809477   805.147524\n",
       "147 2021-12-30             862.269204   820.545971\n",
       "\n",
       "[148 rows x 3 columns]"
      ]
     },
     "execution_count": 38,
     "metadata": {},
     "output_type": "execute_result"
    }
   ],
   "source": [
    "y_test"
   ]
  },
  {
   "cell_type": "code",
   "execution_count": 39,
   "id": "a8c59aad",
   "metadata": {},
   "outputs": [
    {
     "data": {
      "image/png": "[encoded data removed]",
      "text/plain": [
       "<Figure size 576x576 with 1 Axes>"
      ]
     },
     "metadata": {
      "needs_background": "light"
     },
     "output_type": "display_data"
    }
   ],
   "source": [
    "x = y_test['date']\n",
    "ax = plt.gca()\n",
    "\n",
    "formatter = mdates.DateFormatter(\"%d-%m-%Y\")\n",
    "ax.xaxis.set_major_formatter(formatter)\n",
    "locator = mdates.WeekdayLocator()\n",
    "ax.xaxis.set_major_locator(locator)\n",
    "y1 = y_test['new_cases_smoothed_NI']\n",
    "plt.plot(x, y1,'-', color='blue', marker='*')\n",
    "y2 = y_test['predictions']\n",
    "plt.plot(x, y2,'-', color='orange', marker='+')\n",
    "plt.title(\"Actual vs. Predictions on Test Set\", fontsize=16)\n",
    "plt.legend(['Actuals','Predictions'])\n",
    "plt.xticks(rotation=30)\n",
    "plt.ylabel(\"Number of Daily Cases\", fontsize=12)\n",
    "plt.xlabel(\"Date\", fontsize=12)\n",
    "plt.show()"
   ]
  },
  {
   "cell_type": "code",
   "execution_count": 40,
   "id": "f5295eac",
   "metadata": {},
   "outputs": [],
   "source": [
    "val_pred = best_model.predict(X_val)"
   ]
  },
  {
   "cell_type": "code",
   "execution_count": 41,
   "id": "a2428681",
   "metadata": {},
   "outputs": [
    {
     "name": "stdout",
     "output_type": "stream",
     "text": [
      "Accuracy: 0.8623249975719899\n"
     ]
    }
   ],
   "source": [
    "print(\"Accuracy:\", r2_score(y_val, val_pred))"
   ]
  },
  {
   "cell_type": "code",
   "execution_count": 42,
   "id": "237a07b8",
   "metadata": {},
   "outputs": [],
   "source": [
    "y_val['predictions'] = val_pred.tolist()"
   ]
  },
  {
   "cell_type": "code",
   "execution_count": 43,
   "id": "8785a7d2",
   "metadata": {},
   "outputs": [],
   "source": [
    "y_val.reset_index(inplace=True)"
   ]
  },
  {
   "cell_type": "code",
   "execution_count": 44,
   "id": "c8f57c5f",
   "metadata": {},
   "outputs": [
    {
     "data": {
      "image/png": "[encoded data removed]",
      "text/plain": [
       "<Figure size 576x576 with 1 Axes>"
      ]
     },
     "metadata": {
      "needs_background": "light"
     },
     "output_type": "display_data"
    }
   ],
   "source": [
    "x = y_val['date']\n",
    "ax = plt.gca()\n",
    "\n",
    "formatter = mdates.DateFormatter(\"%d-%m-%Y\")\n",
    "ax.xaxis.set_major_formatter(formatter)\n",
    "locator = mdates.WeekdayLocator()\n",
    "ax.xaxis.set_major_locator(locator)\n",
    "y1 = y_val['new_cases_smoothed_NI']\n",
    "plt.plot(x, y1,'-', color='blue', marker='*')\n",
    "y2 = y_val['predictions']\n",
    "plt.plot(x, y2,'-', color='orange', marker='+')\n",
    "plt.title(\"Actual vs. Predictions on val Set\", fontsize=16)\n",
    "plt.legend(['Actuals','Predictions'])\n",
    "plt.xticks(rotation=30)\n",
    "plt.ylabel(\"Number of Daily Cases\", fontsize=12)\n",
    "plt.xlabel(\"Date\", fontsize=12)\n",
    "plt.savefig(\"cat5 Simon.jpeg\")\n",
    "plt.show()"
   ]
  },
  {
   "cell_type": "code",
   "execution_count": null,
   "id": "d464e992",
   "metadata": {},
   "outputs": [],
   "source": []
  },
  {
   "cell_type": "code",
   "execution_count": null,
   "id": "e8c45298",
   "metadata": {},
   "outputs": [],
   "source": []
  }
 ],
 "metadata": {
  "kernelspec": {
   "display_name": "Python 3",
   "language": "python",
   "name": "python3"
  },
  "language_info": {
   "codemirror_mode": {
    "name": "ipython",
    "version": 3
   },
   "file_extension": ".py",
   "mimetype": "text/x-python",
   "name": "python",
   "nbconvert_exporter": "python",
   "pygments_lexer": "ipython3",
   "version": "3.8.6"
  }
 },
 "nbformat": 4,
 "nbformat_minor": 5
}
