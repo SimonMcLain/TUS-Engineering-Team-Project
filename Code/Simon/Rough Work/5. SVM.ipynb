{
 "cells": [
  {
   "cell_type": "markdown",
   "metadata": {},
   "source": [
    "#### Student Number A00279668"
   ]
  },
  {
   "cell_type": "markdown",
   "metadata": {},
   "source": [
    "### Minor Assignment 1: SVM\n",
    "\n",
    "Using a chosen dataset compare and contract with each of the following methods.\n",
    "- SVC\n",
    "\n",
    "A Support Vector Machine creates a 'decision boundary' that will attempt to separate features (classes) within the data and maximise the side of the margin. This is find the bounday that best separates the classes. \n",
    "\n",
    "Linear SVC performed better with a score of 0.5563. A poor performance. "
   ]
  },
  {
   "cell_type": "markdown",
   "metadata": {},
   "source": [
    "### Load the libraries"
   ]
  },
  {
   "cell_type": "code",
   "execution_count": 1,
   "metadata": {},
   "outputs": [],
   "source": [
    "import numpy as np\n",
    "import pandas as pd\n",
    "import matplotlib.pyplot as plt\n",
    "from sklearn.model_selection import train_test_split, cross_val_score, GridSearchCV\n",
    "from sklearn.preprocessing import MinMaxScaler\n",
    "from sklearn.svm import SVC, LinearSVC\n",
    "from sklearn.metrics import accuracy_score, confusion_matrix, classification_report, precision_score, recall_score, roc_auc_score\n",
    "import warnings\n",
    "warnings.filterwarnings(\"ignore\")"
   ]
  },
  {
   "cell_type": "markdown",
   "metadata": {},
   "source": [
    "### Import and split the dataset"
   ]
  },
  {
   "cell_type": "code",
   "execution_count": 2,
   "metadata": {},
   "outputs": [],
   "source": [
    "# import the dataset\n",
    "red = pd.read_csv('winequality-red.csv', delimiter=';')\n",
    "\n",
    "# split the features from the target\n",
    "x = red.drop('quality', axis=1)\n",
    "y = red['quality'].copy()\n",
    "\n",
    "# split the data and set the random state\n",
    "x_train, x_test, y_train, y_test = train_test_split(x, y, test_size = 0.3,\n",
    "                              random_state=300)"
   ]
  },
  {
   "cell_type": "code",
   "execution_count": 3,
   "metadata": {},
   "outputs": [],
   "source": [
    "scaling = MinMaxScaler(feature_range=(-1,1)).fit(x_train)"
   ]
  },
  {
   "cell_type": "code",
   "execution_count": 4,
   "metadata": {},
   "outputs": [],
   "source": [
    "# print(\"x train before: \", x_train)"
   ]
  },
  {
   "cell_type": "code",
   "execution_count": 5,
   "metadata": {},
   "outputs": [],
   "source": [
    "# apply the scaling\n",
    "x_train = scaling.transform(x_train)\n",
    "x_test = scaling.transform(x_test)                           "
   ]
  },
  {
   "cell_type": "code",
   "execution_count": 6,
   "metadata": {},
   "outputs": [],
   "source": [
    "# print(\"x train after\", x_train)"
   ]
  },
  {
   "cell_type": "markdown",
   "metadata": {},
   "source": [
    "### Using Support Vector Classifier "
   ]
  },
  {
   "cell_type": "code",
   "execution_count": 7,
   "metadata": {},
   "outputs": [],
   "source": [
    "svc = SVC(class_weight = \"balanced\", kernel='linear', C=10.0)"
   ]
  },
  {
   "cell_type": "code",
   "execution_count": 8,
   "metadata": {},
   "outputs": [],
   "source": [
    "cv = cross_val_score(svc, x_train, y_train, cv=5)\n",
    "cv_mean = cv.mean()\n",
    "cv_std = cv.std()"
   ]
  },
  {
   "cell_type": "code",
   "execution_count": 9,
   "metadata": {},
   "outputs": [
    {
     "name": "stdout",
     "output_type": "stream",
     "text": [
      "Cross Validation Values are:  [0.47767857 0.42410714 0.47321429 0.4375     0.47085202]\n",
      "Average CV value is: 0.4567\n",
      "The Standard Deviation is: 0.0217\n"
     ]
    }
   ],
   "source": [
    "print(\"Cross Validation Values are: \", cv)\n",
    "print(f\"Average CV value is: {cv_mean:.4f}\")\n",
    "print(f\"The Standard Deviation is: {cv_std:.4f}\")"
   ]
  },
  {
   "cell_type": "code",
   "execution_count": 10,
   "metadata": {},
   "outputs": [],
   "source": [
    "svc_model = svc.fit(x_train, y_train)"
   ]
  },
  {
   "cell_type": "code",
   "execution_count": 11,
   "metadata": {},
   "outputs": [],
   "source": [
    "score = svc.score(x_test, y_test)"
   ]
  },
  {
   "cell_type": "code",
   "execution_count": 12,
   "metadata": {},
   "outputs": [],
   "source": [
    "y_pred = svc_model.predict(x_test)"
   ]
  },
  {
   "cell_type": "code",
   "execution_count": 13,
   "metadata": {},
   "outputs": [],
   "source": [
    "acc = accuracy_score(y_test, y_pred)\n",
    "rep = classification_report(y_test, y_pred)\n",
    "pre = precision_score(y_test, y_pred, average='weighted')\n",
    "rec = recall_score(y_test, y_pred, average='macro')\n"
   ]
  },
  {
   "cell_type": "code",
   "execution_count": 14,
   "metadata": {},
   "outputs": [
    {
     "name": "stdout",
     "output_type": "stream",
     "text": [
      "The accuracy score on the test set is: 0.4271\n",
      "\n",
      "Here is the classification report: \n",
      "               precision    recall  f1-score   support\n",
      "\n",
      "           3       0.18      0.40      0.25         5\n",
      "           4       0.03      0.15      0.05        13\n",
      "           5       0.66      0.61      0.63       202\n",
      "           6       0.57      0.30      0.39       181\n",
      "           7       0.37      0.29      0.33        75\n",
      "           8       0.02      0.25      0.03         4\n",
      "\n",
      "    accuracy                           0.43       480\n",
      "   macro avg       0.30      0.33      0.28       480\n",
      "weighted avg       0.55      0.43      0.47       480\n",
      "\n",
      "The precision score is:  0.5515\n",
      "The recall score is: 0.3349\n"
     ]
    }
   ],
   "source": [
    "print(f\"The accuracy score on the test set is: {acc:.4f}\")\n",
    "print(\"\\nHere is the classification report: \\n\",rep)\n",
    "print(f\"The precision score is: {pre: .4f}\")\n",
    "print(f\"The recall score is: {rec:.4f}\")"
   ]
  },
  {
   "cell_type": "code",
   "execution_count": 15,
   "metadata": {},
   "outputs": [],
   "source": [
    "cm = pd.DataFrame(confusion_matrix(y_test, y_pred))"
   ]
  },
  {
   "cell_type": "code",
   "execution_count": 16,
   "metadata": {},
   "outputs": [
    {
     "name": "stdout",
     "output_type": "stream",
     "text": [
      "----------------------------------------\n",
      "CONFUSION MATRIX\n",
      "----------------------------------------\n"
     ]
    },
    {
     "data": {
      "text/html": [
       "<div>\n",
       "<style scoped>\n",
       "    .dataframe tbody tr th:only-of-type {\n",
       "        vertical-align: middle;\n",
       "    }\n",
       "\n",
       "    .dataframe tbody tr th {\n",
       "        vertical-align: top;\n",
       "    }\n",
       "\n",
       "    .dataframe thead th {\n",
       "        text-align: right;\n",
       "    }\n",
       "</style>\n",
       "<table border=\"1\" class=\"dataframe\">\n",
       "  <thead>\n",
       "    <tr style=\"text-align: right;\">\n",
       "      <th></th>\n",
       "      <th>3</th>\n",
       "      <th>4</th>\n",
       "      <th>5</th>\n",
       "      <th>6</th>\n",
       "      <th>7</th>\n",
       "      <th>8</th>\n",
       "    </tr>\n",
       "    <tr>\n",
       "      <th>Actuals</th>\n",
       "      <th></th>\n",
       "      <th></th>\n",
       "      <th></th>\n",
       "      <th></th>\n",
       "      <th></th>\n",
       "      <th></th>\n",
       "    </tr>\n",
       "  </thead>\n",
       "  <tbody>\n",
       "    <tr>\n",
       "      <th>3</th>\n",
       "      <td>2</td>\n",
       "      <td>2</td>\n",
       "      <td>0</td>\n",
       "      <td>1</td>\n",
       "      <td>0</td>\n",
       "      <td>0</td>\n",
       "    </tr>\n",
       "    <tr>\n",
       "      <th>4</th>\n",
       "      <td>2</td>\n",
       "      <td>2</td>\n",
       "      <td>8</td>\n",
       "      <td>1</td>\n",
       "      <td>0</td>\n",
       "      <td>0</td>\n",
       "    </tr>\n",
       "    <tr>\n",
       "      <th>5</th>\n",
       "      <td>5</td>\n",
       "      <td>35</td>\n",
       "      <td>124</td>\n",
       "      <td>24</td>\n",
       "      <td>7</td>\n",
       "      <td>7</td>\n",
       "    </tr>\n",
       "    <tr>\n",
       "      <th>6</th>\n",
       "      <td>2</td>\n",
       "      <td>27</td>\n",
       "      <td>54</td>\n",
       "      <td>54</td>\n",
       "      <td>27</td>\n",
       "      <td>17</td>\n",
       "    </tr>\n",
       "    <tr>\n",
       "      <th>7</th>\n",
       "      <td>0</td>\n",
       "      <td>6</td>\n",
       "      <td>3</td>\n",
       "      <td>15</td>\n",
       "      <td>22</td>\n",
       "      <td>29</td>\n",
       "    </tr>\n",
       "    <tr>\n",
       "      <th>8</th>\n",
       "      <td>0</td>\n",
       "      <td>0</td>\n",
       "      <td>0</td>\n",
       "      <td>0</td>\n",
       "      <td>3</td>\n",
       "      <td>1</td>\n",
       "    </tr>\n",
       "  </tbody>\n",
       "</table>\n",
       "</div>"
      ],
      "text/plain": [
       "         3   4    5   6   7   8\n",
       "Actuals                        \n",
       "3        2   2    0   1   0   0\n",
       "4        2   2    8   1   0   0\n",
       "5        5  35  124  24   7   7\n",
       "6        2  27   54  54  27  17\n",
       "7        0   6    3  15  22  29\n",
       "8        0   0    0   0   3   1"
      ]
     },
     "execution_count": 16,
     "metadata": {},
     "output_type": "execute_result"
    }
   ],
   "source": [
    "pred = [3, 4, 5, 6, 7, 8]\n",
    "cm.columns = pred\n",
    "act = [3, 4, 5, 6, 7, 8]\n",
    "cm['Actuals'] = act\n",
    "\n",
    "print(\"-\"*40)\n",
    "print(\"CONFUSION MATRIX\")\n",
    "print(\"-\"*40)\n",
    "\n",
    "cm.set_index('Actuals')"
   ]
  },
  {
   "cell_type": "markdown",
   "metadata": {},
   "source": [
    "### Using Linear SVC "
   ]
  },
  {
   "cell_type": "code",
   "execution_count": 17,
   "metadata": {},
   "outputs": [],
   "source": [
    "\"\"\"\n",
    "The model score is slightly better and fewer iterations are required when the \n",
    "loss function is set to 'squared_hinge'\n",
    "\"\"\"\n",
    "#svc_linear = LinearSVC(C=100, loss='hinge', max_iter=10000000)\n",
    "svc_linear = LinearSVC(C=10, loss='squared_hinge', max_iter=10000)"
   ]
  },
  {
   "cell_type": "code",
   "execution_count": 18,
   "metadata": {},
   "outputs": [
    {
     "data": {
      "text/plain": [
       "LinearSVC(C=10, max_iter=10000)"
      ]
     },
     "execution_count": 18,
     "metadata": {},
     "output_type": "execute_result"
    }
   ],
   "source": [
    "svc_linear.fit(x_train, y_train)"
   ]
  },
  {
   "cell_type": "code",
   "execution_count": 19,
   "metadata": {},
   "outputs": [],
   "source": [
    "score = svc_linear.score(x_test, y_test)"
   ]
  },
  {
   "cell_type": "code",
   "execution_count": 20,
   "metadata": {},
   "outputs": [
    {
     "name": "stdout",
     "output_type": "stream",
     "text": [
      "The accuracy score is 0.5563\n"
     ]
    }
   ],
   "source": [
    "print(f\"The accuracy score is {score:.4f}\")"
   ]
  },
  {
   "cell_type": "code",
   "execution_count": 21,
   "metadata": {},
   "outputs": [],
   "source": [
    "y_pred = svc_linear.predict(x_test)"
   ]
  },
  {
   "cell_type": "code",
   "execution_count": 22,
   "metadata": {},
   "outputs": [],
   "source": [
    "acc = accuracy_score(y_test, y_pred)\n",
    "rep = classification_report(y_test, y_pred)\n",
    "pre = precision_score(y_test, y_pred, average='weighted')\n",
    "rec = recall_score(y_test, y_pred, average='macro')"
   ]
  },
  {
   "cell_type": "code",
   "execution_count": 23,
   "metadata": {},
   "outputs": [
    {
     "name": "stdout",
     "output_type": "stream",
     "text": [
      "The accuracy score on the test set is: 0.5563\n",
      "\n",
      "Here is the classification report: \n",
      "               precision    recall  f1-score   support\n",
      "\n",
      "           3       0.00      0.00      0.00         5\n",
      "           4       0.00      0.00      0.00        13\n",
      "           5       0.63      0.77      0.70       202\n",
      "           6       0.48      0.61      0.53       181\n",
      "           7       0.33      0.01      0.03        75\n",
      "           8       0.00      0.00      0.00         4\n",
      "\n",
      "    accuracy                           0.56       480\n",
      "   macro avg       0.24      0.23      0.21       480\n",
      "weighted avg       0.50      0.56      0.50       480\n",
      "\n",
      "The precision score is:  0.4985\n",
      "The recall score is: 0.2322\n"
     ]
    }
   ],
   "source": [
    "print(f\"The accuracy score on the test set is: {acc:.4f}\")\n",
    "print(\"\\nHere is the classification report: \\n\",rep)\n",
    "print(f\"The precision score is: {pre: .4f}\")\n",
    "print(f\"The recall score is: {rec:.4f}\")"
   ]
  },
  {
   "cell_type": "code",
   "execution_count": 24,
   "metadata": {},
   "outputs": [],
   "source": [
    "cm = pd.DataFrame(confusion_matrix(y_test, y_pred))"
   ]
  },
  {
   "cell_type": "code",
   "execution_count": 25,
   "metadata": {},
   "outputs": [
    {
     "name": "stdout",
     "output_type": "stream",
     "text": [
      "----------------------------------------\n",
      "CONFUSION MATRIX without PCA\n",
      "----------------------------------------\n",
      "   0  1    2    3  4  5\n",
      "0  0  0    4    1  0  0\n",
      "1  0  0   10    3  0  0\n",
      "2  0  0  156   46  0  0\n",
      "3  0  0   70  110  1  0\n",
      "4  0  0    6   68  1  0\n",
      "5  0  0    0    3  1  0\n"
     ]
    }
   ],
   "source": [
    "print(\"-\"*40)\n",
    "print(\"CONFUSION MATRIX without PCA\")\n",
    "print(\"-\"*40)\n",
    "print(cm)"
   ]
  }
 ],
 "metadata": {
  "kernelspec": {
   "display_name": "Python 3",
   "language": "python",
   "name": "python3"
  },
  "language_info": {
   "codemirror_mode": {
    "name": "ipython",
    "version": 3
   },
   "file_extension": ".py",
   "mimetype": "text/x-python",
   "name": "python",
   "nbconvert_exporter": "python",
   "pygments_lexer": "ipython3",
   "version": "3.8.6"
  }
 },
 "nbformat": 4,
 "nbformat_minor": 4
}
