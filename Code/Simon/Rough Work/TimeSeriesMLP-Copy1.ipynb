{
 "cells": [
  {
   "cell_type": "code",
   "execution_count": 1,
   "id": "95886947",
   "metadata": {},
   "outputs": [],
   "source": [
    "import pandas as pd \n",
    "import numpy as np \n",
    "\n",
    "from sklearn.model_selection import TimeSeriesSplit, cross_val_score\n",
    "from sklearn.neural_network import MLPRegressor\n",
    "from sklearn.linear_model import LinearRegression\n",
    "from sklearn.svm import SVR\n",
    "from sklearn.neighbors import KNeighborsRegressor\n",
    "from sklearn.ensemble import RandomForestRegressor\n",
    "from sklearn import preprocessing\n",
    "from sklearn.preprocessing import MinMaxScaler\n",
    "import matplotlib.pyplot as plt\n",
    "\n",
    "import warnings\n",
    "warnings.filterwarnings('ignore')"
   ]
  },
  {
   "cell_type": "code",
   "execution_count": 2,
   "id": "4a023e70",
   "metadata": {},
   "outputs": [],
   "source": [
    "data = pd.read_csv('NI.csv', sep=\",\")"
   ]
  },
  {
   "cell_type": "code",
   "execution_count": 3,
   "id": "c37b6f32",
   "metadata": {},
   "outputs": [
    {
     "data": {
      "text/html": [
       "<div>\n",
       "<style scoped>\n",
       "    .dataframe tbody tr th:only-of-type {\n",
       "        vertical-align: middle;\n",
       "    }\n",
       "\n",
       "    .dataframe tbody tr th {\n",
       "        vertical-align: top;\n",
       "    }\n",
       "\n",
       "    .dataframe thead th {\n",
       "        text-align: right;\n",
       "    }\n",
       "</style>\n",
       "<table border=\"1\" class=\"dataframe\">\n",
       "  <thead>\n",
       "    <tr style=\"text-align: right;\">\n",
       "      <th></th>\n",
       "      <th>date</th>\n",
       "      <th>areaName</th>\n",
       "      <th>areaCode</th>\n",
       "      <th>newCasesByPublishDate</th>\n",
       "      <th>cumCasesByPublishDate</th>\n",
       "      <th>newDeaths28DaysByDeathDate</th>\n",
       "      <th>cumDeaths28DaysByDeathDate</th>\n",
       "      <th>newAntibodyTestsByPublishDate</th>\n",
       "      <th>newLFDTestsBySpecimenDate</th>\n",
       "      <th>newPCRTestsByPublishDate</th>\n",
       "      <th>newPCRTestsByPublishDateRollingSum</th>\n",
       "      <th>hospitalCases</th>\n",
       "      <th>newAdmissions</th>\n",
       "      <th>newPeopleVaccinatedCompleteByVaccinationDate</th>\n",
       "      <th>newVaccinesGivenByPublishDate</th>\n",
       "      <th>VaccineRegisterPopulationByVaccinationDate</th>\n",
       "    </tr>\n",
       "  </thead>\n",
       "  <tbody>\n",
       "    <tr>\n",
       "      <th>0</th>\n",
       "      <td>10/03/2022</td>\n",
       "      <td>Northern Ireland</td>\n",
       "      <td>N92000002</td>\n",
       "      <td>2602.0</td>\n",
       "      <td>646794.0</td>\n",
       "      <td>NaN</td>\n",
       "      <td>NaN</td>\n",
       "      <td>NaN</td>\n",
       "      <td>NaN</td>\n",
       "      <td>NaN</td>\n",
       "      <td>NaN</td>\n",
       "      <td>NaN</td>\n",
       "      <td>NaN</td>\n",
       "      <td>NaN</td>\n",
       "      <td>NaN</td>\n",
       "      <td>NaN</td>\n",
       "    </tr>\n",
       "    <tr>\n",
       "      <th>1</th>\n",
       "      <td>09/03/2022</td>\n",
       "      <td>Northern Ireland</td>\n",
       "      <td>N92000002</td>\n",
       "      <td>2683.0</td>\n",
       "      <td>644192.0</td>\n",
       "      <td>2.0</td>\n",
       "      <td>3244.0</td>\n",
       "      <td>NaN</td>\n",
       "      <td>0.0</td>\n",
       "      <td>20295.0</td>\n",
       "      <td>118210.0</td>\n",
       "      <td>483.0</td>\n",
       "      <td>21.0</td>\n",
       "      <td>NaN</td>\n",
       "      <td>1317.0</td>\n",
       "      <td>NaN</td>\n",
       "    </tr>\n",
       "    <tr>\n",
       "      <th>2</th>\n",
       "      <td>08/03/2022</td>\n",
       "      <td>Northern Ireland</td>\n",
       "      <td>N92000002</td>\n",
       "      <td>2669.0</td>\n",
       "      <td>641509.0</td>\n",
       "      <td>4.0</td>\n",
       "      <td>3242.0</td>\n",
       "      <td>NaN</td>\n",
       "      <td>0.0</td>\n",
       "      <td>19739.0</td>\n",
       "      <td>117337.0</td>\n",
       "      <td>506.0</td>\n",
       "      <td>37.0</td>\n",
       "      <td>NaN</td>\n",
       "      <td>1037.0</td>\n",
       "      <td>NaN</td>\n",
       "    </tr>\n",
       "    <tr>\n",
       "      <th>3</th>\n",
       "      <td>07/03/2022</td>\n",
       "      <td>Northern Ireland</td>\n",
       "      <td>N92000002</td>\n",
       "      <td>5769.0</td>\n",
       "      <td>638840.0</td>\n",
       "      <td>4.0</td>\n",
       "      <td>3238.0</td>\n",
       "      <td>NaN</td>\n",
       "      <td>0.0</td>\n",
       "      <td>19464.0</td>\n",
       "      <td>115735.0</td>\n",
       "      <td>518.0</td>\n",
       "      <td>29.0</td>\n",
       "      <td>NaN</td>\n",
       "      <td>1078.0</td>\n",
       "      <td>NaN</td>\n",
       "    </tr>\n",
       "    <tr>\n",
       "      <th>4</th>\n",
       "      <td>06/03/2022</td>\n",
       "      <td>Northern Ireland</td>\n",
       "      <td>N92000002</td>\n",
       "      <td>0.0</td>\n",
       "      <td>633071.0</td>\n",
       "      <td>2.0</td>\n",
       "      <td>3234.0</td>\n",
       "      <td>NaN</td>\n",
       "      <td>0.0</td>\n",
       "      <td>13711.0</td>\n",
       "      <td>117006.0</td>\n",
       "      <td>544.0</td>\n",
       "      <td>25.0</td>\n",
       "      <td>NaN</td>\n",
       "      <td>903.0</td>\n",
       "      <td>NaN</td>\n",
       "    </tr>\n",
       "  </tbody>\n",
       "</table>\n",
       "</div>"
      ],
      "text/plain": [
       "         date          areaName   areaCode  newCasesByPublishDate  \\\n",
       "0  10/03/2022  Northern Ireland  N92000002                 2602.0   \n",
       "1  09/03/2022  Northern Ireland  N92000002                 2683.0   \n",
       "2  08/03/2022  Northern Ireland  N92000002                 2669.0   \n",
       "3  07/03/2022  Northern Ireland  N92000002                 5769.0   \n",
       "4  06/03/2022  Northern Ireland  N92000002                    0.0   \n",
       "\n",
       "   cumCasesByPublishDate  newDeaths28DaysByDeathDate  \\\n",
       "0               646794.0                         NaN   \n",
       "1               644192.0                         2.0   \n",
       "2               641509.0                         4.0   \n",
       "3               638840.0                         4.0   \n",
       "4               633071.0                         2.0   \n",
       "\n",
       "   cumDeaths28DaysByDeathDate  newAntibodyTestsByPublishDate  \\\n",
       "0                         NaN                            NaN   \n",
       "1                      3244.0                            NaN   \n",
       "2                      3242.0                            NaN   \n",
       "3                      3238.0                            NaN   \n",
       "4                      3234.0                            NaN   \n",
       "\n",
       "   newLFDTestsBySpecimenDate  newPCRTestsByPublishDate  \\\n",
       "0                        NaN                       NaN   \n",
       "1                        0.0                   20295.0   \n",
       "2                        0.0                   19739.0   \n",
       "3                        0.0                   19464.0   \n",
       "4                        0.0                   13711.0   \n",
       "\n",
       "   newPCRTestsByPublishDateRollingSum  hospitalCases  newAdmissions  \\\n",
       "0                                 NaN            NaN            NaN   \n",
       "1                            118210.0          483.0           21.0   \n",
       "2                            117337.0          506.0           37.0   \n",
       "3                            115735.0          518.0           29.0   \n",
       "4                            117006.0          544.0           25.0   \n",
       "\n",
       "   newPeopleVaccinatedCompleteByVaccinationDate  \\\n",
       "0                                           NaN   \n",
       "1                                           NaN   \n",
       "2                                           NaN   \n",
       "3                                           NaN   \n",
       "4                                           NaN   \n",
       "\n",
       "   newVaccinesGivenByPublishDate  VaccineRegisterPopulationByVaccinationDate  \n",
       "0                            NaN                                         NaN  \n",
       "1                         1317.0                                         NaN  \n",
       "2                         1037.0                                         NaN  \n",
       "3                         1078.0                                         NaN  \n",
       "4                          903.0                                         NaN  "
      ]
     },
     "execution_count": 3,
     "metadata": {},
     "output_type": "execute_result"
    }
   ],
   "source": [
    "data.head()"
   ]
  },
  {
   "cell_type": "code",
   "execution_count": 4,
   "id": "2d96e261",
   "metadata": {},
   "outputs": [],
   "source": [
    "data.drop(columns=['areaName', 'areaCode'], inplace=True)"
   ]
  },
  {
   "cell_type": "code",
   "execution_count": 5,
   "id": "435e0e2a",
   "metadata": {},
   "outputs": [],
   "source": [
    "data['date'] = pd.to_datetime(data['date'])"
   ]
  },
  {
   "cell_type": "code",
   "execution_count": 6,
   "id": "7fb1ad72",
   "metadata": {},
   "outputs": [],
   "source": [
    "data.sort_values(by='date', ascending=True, inplace=True)"
   ]
  },
  {
   "cell_type": "code",
   "execution_count": 7,
   "id": "0be6151c",
   "metadata": {},
   "outputs": [],
   "source": [
    "data = data.set_index('date')"
   ]
  },
  {
   "cell_type": "code",
   "execution_count": 8,
   "id": "8decddc2",
   "metadata": {},
   "outputs": [
    {
     "data": {
      "text/html": [
       "<div>\n",
       "<style scoped>\n",
       "    .dataframe tbody tr th:only-of-type {\n",
       "        vertical-align: middle;\n",
       "    }\n",
       "\n",
       "    .dataframe tbody tr th {\n",
       "        vertical-align: top;\n",
       "    }\n",
       "\n",
       "    .dataframe thead th {\n",
       "        text-align: right;\n",
       "    }\n",
       "</style>\n",
       "<table border=\"1\" class=\"dataframe\">\n",
       "  <thead>\n",
       "    <tr style=\"text-align: right;\">\n",
       "      <th></th>\n",
       "      <th>newCasesByPublishDate</th>\n",
       "      <th>cumCasesByPublishDate</th>\n",
       "      <th>newDeaths28DaysByDeathDate</th>\n",
       "      <th>cumDeaths28DaysByDeathDate</th>\n",
       "      <th>newAntibodyTestsByPublishDate</th>\n",
       "      <th>newLFDTestsBySpecimenDate</th>\n",
       "      <th>newPCRTestsByPublishDate</th>\n",
       "      <th>newPCRTestsByPublishDateRollingSum</th>\n",
       "      <th>hospitalCases</th>\n",
       "      <th>newAdmissions</th>\n",
       "      <th>newPeopleVaccinatedCompleteByVaccinationDate</th>\n",
       "      <th>newVaccinesGivenByPublishDate</th>\n",
       "      <th>VaccineRegisterPopulationByVaccinationDate</th>\n",
       "    </tr>\n",
       "    <tr>\n",
       "      <th>date</th>\n",
       "      <th></th>\n",
       "      <th></th>\n",
       "      <th></th>\n",
       "      <th></th>\n",
       "      <th></th>\n",
       "      <th></th>\n",
       "      <th></th>\n",
       "      <th></th>\n",
       "      <th></th>\n",
       "      <th></th>\n",
       "      <th></th>\n",
       "      <th></th>\n",
       "      <th></th>\n",
       "    </tr>\n",
       "  </thead>\n",
       "  <tbody>\n",
       "    <tr>\n",
       "      <th>2020-01-03</th>\n",
       "      <td>NaN</td>\n",
       "      <td>NaN</td>\n",
       "      <td>NaN</td>\n",
       "      <td>NaN</td>\n",
       "      <td>NaN</td>\n",
       "      <td>NaN</td>\n",
       "      <td>NaN</td>\n",
       "      <td>NaN</td>\n",
       "      <td>11.0</td>\n",
       "      <td>NaN</td>\n",
       "      <td>NaN</td>\n",
       "      <td>NaN</td>\n",
       "      <td>NaN</td>\n",
       "    </tr>\n",
       "    <tr>\n",
       "      <th>2020-01-04</th>\n",
       "      <td>103.0</td>\n",
       "      <td>689.0</td>\n",
       "      <td>4.0</td>\n",
       "      <td>45.0</td>\n",
       "      <td>NaN</td>\n",
       "      <td>0.0</td>\n",
       "      <td>NaN</td>\n",
       "      <td>NaN</td>\n",
       "      <td>280.0</td>\n",
       "      <td>45.0</td>\n",
       "      <td>NaN</td>\n",
       "      <td>NaN</td>\n",
       "      <td>NaN</td>\n",
       "    </tr>\n",
       "    <tr>\n",
       "      <th>2020-01-05</th>\n",
       "      <td>87.0</td>\n",
       "      <td>3623.0</td>\n",
       "      <td>12.0</td>\n",
       "      <td>387.0</td>\n",
       "      <td>NaN</td>\n",
       "      <td>0.0</td>\n",
       "      <td>NaN</td>\n",
       "      <td>NaN</td>\n",
       "      <td>269.0</td>\n",
       "      <td>19.0</td>\n",
       "      <td>NaN</td>\n",
       "      <td>NaN</td>\n",
       "      <td>NaN</td>\n",
       "    </tr>\n",
       "    <tr>\n",
       "      <th>2020-01-06</th>\n",
       "      <td>12.0</td>\n",
       "      <td>4728.0</td>\n",
       "      <td>1.0</td>\n",
       "      <td>532.0</td>\n",
       "      <td>NaN</td>\n",
       "      <td>0.0</td>\n",
       "      <td>NaN</td>\n",
       "      <td>NaN</td>\n",
       "      <td>127.0</td>\n",
       "      <td>3.0</td>\n",
       "      <td>NaN</td>\n",
       "      <td>NaN</td>\n",
       "      <td>NaN</td>\n",
       "    </tr>\n",
       "    <tr>\n",
       "      <th>2020-01-07</th>\n",
       "      <td>1.0</td>\n",
       "      <td>5761.0</td>\n",
       "      <td>1.0</td>\n",
       "      <td>552.0</td>\n",
       "      <td>NaN</td>\n",
       "      <td>0.0</td>\n",
       "      <td>NaN</td>\n",
       "      <td>NaN</td>\n",
       "      <td>32.0</td>\n",
       "      <td>0.0</td>\n",
       "      <td>NaN</td>\n",
       "      <td>NaN</td>\n",
       "      <td>NaN</td>\n",
       "    </tr>\n",
       "  </tbody>\n",
       "</table>\n",
       "</div>"
      ],
      "text/plain": [
       "            newCasesByPublishDate  cumCasesByPublishDate  \\\n",
       "date                                                       \n",
       "2020-01-03                    NaN                    NaN   \n",
       "2020-01-04                  103.0                  689.0   \n",
       "2020-01-05                   87.0                 3623.0   \n",
       "2020-01-06                   12.0                 4728.0   \n",
       "2020-01-07                    1.0                 5761.0   \n",
       "\n",
       "            newDeaths28DaysByDeathDate  cumDeaths28DaysByDeathDate  \\\n",
       "date                                                                 \n",
       "2020-01-03                         NaN                         NaN   \n",
       "2020-01-04                         4.0                        45.0   \n",
       "2020-01-05                        12.0                       387.0   \n",
       "2020-01-06                         1.0                       532.0   \n",
       "2020-01-07                         1.0                       552.0   \n",
       "\n",
       "            newAntibodyTestsByPublishDate  newLFDTestsBySpecimenDate  \\\n",
       "date                                                                   \n",
       "2020-01-03                            NaN                        NaN   \n",
       "2020-01-04                            NaN                        0.0   \n",
       "2020-01-05                            NaN                        0.0   \n",
       "2020-01-06                            NaN                        0.0   \n",
       "2020-01-07                            NaN                        0.0   \n",
       "\n",
       "            newPCRTestsByPublishDate  newPCRTestsByPublishDateRollingSum  \\\n",
       "date                                                                       \n",
       "2020-01-03                       NaN                                 NaN   \n",
       "2020-01-04                       NaN                                 NaN   \n",
       "2020-01-05                       NaN                                 NaN   \n",
       "2020-01-06                       NaN                                 NaN   \n",
       "2020-01-07                       NaN                                 NaN   \n",
       "\n",
       "            hospitalCases  newAdmissions  \\\n",
       "date                                       \n",
       "2020-01-03           11.0            NaN   \n",
       "2020-01-04          280.0           45.0   \n",
       "2020-01-05          269.0           19.0   \n",
       "2020-01-06          127.0            3.0   \n",
       "2020-01-07           32.0            0.0   \n",
       "\n",
       "            newPeopleVaccinatedCompleteByVaccinationDate  \\\n",
       "date                                                       \n",
       "2020-01-03                                           NaN   \n",
       "2020-01-04                                           NaN   \n",
       "2020-01-05                                           NaN   \n",
       "2020-01-06                                           NaN   \n",
       "2020-01-07                                           NaN   \n",
       "\n",
       "            newVaccinesGivenByPublishDate  \\\n",
       "date                                        \n",
       "2020-01-03                            NaN   \n",
       "2020-01-04                            NaN   \n",
       "2020-01-05                            NaN   \n",
       "2020-01-06                            NaN   \n",
       "2020-01-07                            NaN   \n",
       "\n",
       "            VaccineRegisterPopulationByVaccinationDate  \n",
       "date                                                    \n",
       "2020-01-03                                         NaN  \n",
       "2020-01-04                                         NaN  \n",
       "2020-01-05                                         NaN  \n",
       "2020-01-06                                         NaN  \n",
       "2020-01-07                                         NaN  "
      ]
     },
     "execution_count": 8,
     "metadata": {},
     "output_type": "execute_result"
    }
   ],
   "source": [
    "data.head()"
   ]
  },
  {
   "cell_type": "code",
   "execution_count": 9,
   "id": "ef1fce08",
   "metadata": {},
   "outputs": [
    {
     "data": {
      "text/plain": [
       "(740, 13)"
      ]
     },
     "execution_count": 9,
     "metadata": {},
     "output_type": "execute_result"
    }
   ],
   "source": [
    "data.shape"
   ]
  },
  {
   "cell_type": "code",
   "execution_count": 10,
   "id": "9ed44274",
   "metadata": {},
   "outputs": [],
   "source": [
    "n = len(data)"
   ]
  },
  {
   "cell_type": "code",
   "execution_count": 11,
   "id": "cc6e98f2",
   "metadata": {},
   "outputs": [],
   "source": [
    "data.loc[:,'newCasesByPublishDate'] = data.loc[:,'newCasesByPublishDate'].shift(periods=7)"
   ]
  },
  {
   "cell_type": "code",
   "execution_count": 12,
   "id": "f4d2e5a6",
   "metadata": {},
   "outputs": [],
   "source": [
    "data = data.fillna(0)"
   ]
  },
  {
   "cell_type": "code",
   "execution_count": 22,
   "id": "772d0fda",
   "metadata": {
    "scrolled": false
   },
   "outputs": [],
   "source": [
    "data.drop(columns=['cumCasesByPublishDate', 'newDeaths28DaysByDeathDate',\n",
    "       'cumDeaths28DaysByDeathDate', 'newAntibodyTestsByPublishDate',\n",
    "       'newLFDTestsBySpecimenDate', 'newPCRTestsByPublishDate',\n",
    "       'newPCRTestsByPublishDateRollingSum', 'hospitalCases', 'newAdmissions'], inplace=True)"
   ]
  },
  {
   "cell_type": "code",
   "execution_count": 23,
   "id": "7c8cf97e",
   "metadata": {},
   "outputs": [],
   "source": [
    "variables = data.columns.drop('newCasesByPublishDate')"
   ]
  },
  {
   "cell_type": "code",
   "execution_count": 24,
   "id": "ecbb556e",
   "metadata": {},
   "outputs": [],
   "source": [
    "X_train = data.iloc[0:int(n*0.7)].drop(['newCasesByPublishDate'], axis=1)\n",
    "y_train = data.iloc[0:int(n*0.7)].drop(columns=variables, axis=1)"
   ]
  },
  {
   "cell_type": "code",
   "execution_count": 25,
   "id": "3f7b840c",
   "metadata": {},
   "outputs": [],
   "source": [
    "X_test = data.iloc[int(n*0.9):].drop(['newCasesByPublishDate'], axis=1)\n",
    "y_test = data.iloc[int(n*0.9):].drop(columns=variables, axis=1)"
   ]
  },
  {
   "cell_type": "code",
   "execution_count": 26,
   "id": "dfe5a1c2",
   "metadata": {},
   "outputs": [],
   "source": [
    "X_val = data.iloc[int(n*0.7):int(n*0.9)].drop(['newCasesByPublishDate'], axis=1)\n",
    "y_val = data.iloc[int(n*0.7):int(n*0.9)].drop(columns=variables, axis=1)"
   ]
  },
  {
   "cell_type": "code",
   "execution_count": null,
   "id": "704962f2",
   "metadata": {},
   "outputs": [],
   "source": []
  },
  {
   "cell_type": "code",
   "execution_count": 27,
   "id": "d03dc29d",
   "metadata": {},
   "outputs": [],
   "source": [
    "models = []\n",
    "models.append(('MN',MLPRegressor(solver='lbfgs')))"
   ]
  },
  {
   "cell_type": "code",
   "execution_count": 28,
   "id": "7d247560",
   "metadata": {},
   "outputs": [
    {
     "name": "stdout",
     "output_type": "stream",
     "text": [
      "MN: -1454.354453 (767.016072)\n"
     ]
    }
   ],
   "source": [
    "results = []\n",
    "names = []\n",
    "for name, model in models:\n",
    "    tsvc = TimeSeriesSplit(n_splits=2)\n",
    "    cv_results = cross_val_score(model, X_train, y_train, cv=tsvc, scoring='r2')\n",
    "    results.append(cv_results)\n",
    "    names.append(name)\n",
    "    print('%s: %f (%f)' % (name, cv_results.mean(), cv_results.std()))"
   ]
  },
  {
   "cell_type": "code",
   "execution_count": null,
   "id": "712575ff",
   "metadata": {},
   "outputs": [],
   "source": [
    "plt.boxplot(results, labels=names)\n",
    "plt.title('Algorithm Comparison')\n",
    "plt.show()"
   ]
  },
  {
   "cell_type": "code",
   "execution_count": null,
   "id": "b682e5f9",
   "metadata": {},
   "outputs": [],
   "source": [
    "from sklearn.model_selection import GridSearchCV\n",
    "model = MLPRegressor()"
   ]
  },
  {
   "cell_type": "code",
   "execution_count": null,
   "id": "11588baf",
   "metadata": {},
   "outputs": [],
   "source": [
    "param_search = {\n",
    "    \"hidden_layer_sizes\": [(1,),(50,),(100,),(150,),(200,)],\n",
    "    \"activation\": [\"identity\", \"logistic\", \"tanh\", \"relu\"],\n",
    "    \"solver\": [\"lbfgs\", \"sgd\", \"adam\"],\n",
    "    \"alpha\": [0.00005,0.0005],\n",
    "    \"learning_rate\": ['constant', 'invscaling', 'adaptive']\n",
    "}"
   ]
  },
  {
   "cell_type": "code",
   "execution_count": null,
   "id": "b56bd488",
   "metadata": {},
   "outputs": [],
   "source": [
    "tsvc = TimeSeriesSplit(n_splits=2)\n",
    "gsearch = GridSearchCV(estimator=model, cv=tsvc, param_grid=param_search, scoring='r2')\n",
    "gsearch.fit(X_train, y_train)\n",
    "best_score = gsearch.best_score_\n",
    "best_model = gsearch.best_estimator_"
   ]
  },
  {
   "cell_type": "code",
   "execution_count": null,
   "id": "a2925844",
   "metadata": {},
   "outputs": [],
   "source": [
    "print(best_model)"
   ]
  },
  {
   "cell_type": "code",
   "execution_count": null,
   "id": "edea2642",
   "metadata": {},
   "outputs": [],
   "source": [
    "print(best_score)"
   ]
  },
  {
   "cell_type": "code",
   "execution_count": null,
   "id": "2d19a369",
   "metadata": {},
   "outputs": [],
   "source": [
    "from sklearn.metrics import r2_score\n",
    "\n",
    "y_pred = best_model.predict(X_test)\n",
    "\n",
    "print(r2_score(y_test, y_pred))"
   ]
  },
  {
   "cell_type": "code",
   "execution_count": null,
   "id": "7f98d932",
   "metadata": {},
   "outputs": [],
   "source": []
  },
  {
   "cell_type": "code",
   "execution_count": null,
   "id": "e73ae53d",
   "metadata": {},
   "outputs": [],
   "source": []
  },
  {
   "cell_type": "code",
   "execution_count": null,
   "id": "3c358bfe",
   "metadata": {},
   "outputs": [],
   "source": []
  },
  {
   "cell_type": "code",
   "execution_count": null,
   "id": "eff7bd33",
   "metadata": {},
   "outputs": [],
   "source": []
  },
  {
   "cell_type": "code",
   "execution_count": null,
   "id": "133fb4c2",
   "metadata": {},
   "outputs": [],
   "source": []
  },
  {
   "cell_type": "code",
   "execution_count": null,
   "id": "267fdfcf",
   "metadata": {},
   "outputs": [],
   "source": []
  }
 ],
 "metadata": {
  "kernelspec": {
   "display_name": "Python 3",
   "language": "python",
   "name": "python3"
  },
  "language_info": {
   "codemirror_mode": {
    "name": "ipython",
    "version": 3
   },
   "file_extension": ".py",
   "mimetype": "text/x-python",
   "name": "python",
   "nbconvert_exporter": "python",
   "pygments_lexer": "ipython3",
   "version": "3.8.6"
  }
 },
 "nbformat": 4,
 "nbformat_minor": 5
}
