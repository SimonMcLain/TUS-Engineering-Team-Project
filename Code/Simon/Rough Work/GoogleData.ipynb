{
 "cells": [
  {
   "cell_type": "code",
   "execution_count": 1,
   "id": "99b57acb",
   "metadata": {},
   "outputs": [],
   "source": [
    "import pandas as pd\n",
    "import numpy as np\n",
    "from functools import reduce"
   ]
  },
  {
   "cell_type": "code",
   "execution_count": 2,
   "id": "bff7a87d",
   "metadata": {},
   "outputs": [],
   "source": [
    "path = '/Users/simonmclain/Documents/Documents/Software Development with AI/Semister 4/Engineering Team Project/TUS-Engineering-Team-Project/Data/Google/'"
   ]
  },
  {
   "cell_type": "code",
   "execution_count": 3,
   "id": "0d5fe977",
   "metadata": {},
   "outputs": [],
   "source": [
    "mt1 = pd.read_table(path+'multiTimeline(1).csv', skiprows=2, sep=',')"
   ]
  },
  {
   "cell_type": "code",
   "execution_count": 4,
   "id": "e8b250de",
   "metadata": {},
   "outputs": [],
   "source": [
    "mt1[\"Week\"] = pd.to_datetime(mt1[\"Week\"], format=\"%Y-%m-%d\")"
   ]
  },
  {
   "cell_type": "code",
   "execution_count": 5,
   "id": "33bdbb97",
   "metadata": {},
   "outputs": [],
   "source": [
    "mt2 = pd.read_table(path+'multiTimeline(2).csv', skiprows=2, sep=',')"
   ]
  },
  {
   "cell_type": "code",
   "execution_count": 6,
   "id": "aa532a8d",
   "metadata": {},
   "outputs": [],
   "source": [
    "mt2[\"Week\"] = pd.to_datetime(mt2[\"Week\"], format=\"%Y-%m-%d\")"
   ]
  },
  {
   "cell_type": "code",
   "execution_count": 7,
   "id": "d4eb2d75",
   "metadata": {},
   "outputs": [],
   "source": [
    "mt3 = pd.read_table(path+'multiTimeline(3).csv', skiprows=2, sep=',')"
   ]
  },
  {
   "cell_type": "code",
   "execution_count": 8,
   "id": "520e2610",
   "metadata": {},
   "outputs": [],
   "source": [
    "mt3['Week']=mt3['Week'].str.replace('/','-')"
   ]
  },
  {
   "cell_type": "code",
   "execution_count": 9,
   "id": "39df1dcc",
   "metadata": {},
   "outputs": [],
   "source": [
    "mt3[\"Week\"] = pd.to_datetime(mt3[\"Week\"], format=\"%d-%m-%Y\")"
   ]
  },
  {
   "cell_type": "code",
   "execution_count": 10,
   "id": "78ac9865",
   "metadata": {},
   "outputs": [],
   "source": [
    "mt4 = pd.read_table(path+'multiTimeline(4).csv', skiprows=2, sep=',')"
   ]
  },
  {
   "cell_type": "code",
   "execution_count": 11,
   "id": "dca7509f",
   "metadata": {},
   "outputs": [],
   "source": [
    "mt4[\"Week\"] = pd.to_datetime(mt4[\"Week\"], format=\"%Y-%m-%d\")"
   ]
  },
  {
   "cell_type": "code",
   "execution_count": 12,
   "id": "d85b42ec",
   "metadata": {},
   "outputs": [],
   "source": [
    "mt5 = pd.read_table(path+'multiTimeline(5).csv', skiprows=2, sep=',')"
   ]
  },
  {
   "cell_type": "code",
   "execution_count": 13,
   "id": "9fb8074f",
   "metadata": {},
   "outputs": [],
   "source": [
    "mt5[\"Week\"] = pd.to_datetime(mt5[\"Week\"], format=\"%Y-%m-%d\")"
   ]
  },
  {
   "cell_type": "code",
   "execution_count": 14,
   "id": "bc45d93b",
   "metadata": {},
   "outputs": [],
   "source": [
    "frames = [mt1,mt2,mt3,mt4,mt5]"
   ]
  },
  {
   "cell_type": "code",
   "execution_count": 15,
   "id": "36b6cda4",
   "metadata": {},
   "outputs": [],
   "source": [
    "df = reduce(lambda left, right: pd.merge(left,right,on=['Week'],how='outer'),frames).fillna(0)"
   ]
  },
  {
   "cell_type": "code",
   "execution_count": 16,
   "id": "9caa9184",
   "metadata": {},
   "outputs": [],
   "source": [
    "df.replace(['<1'],0, inplace=True)"
   ]
  },
  {
   "cell_type": "code",
   "execution_count": 17,
   "id": "b7499881",
   "metadata": {},
   "outputs": [],
   "source": [
    "df.set_index('Week', inplace=True)"
   ]
  },
  {
   "cell_type": "code",
   "execution_count": 18,
   "id": "809656ba",
   "metadata": {},
   "outputs": [
    {
     "data": {
      "text/plain": [
       "Index(['covid: (Ireland)', 'COVID-19 testing: (Ireland)',\n",
       "       'COVID-19 rapid antigen test: (Ireland)',\n",
       "       'Health Service Executive: (Ireland)', 'Vaccination: (Ireland)',\n",
       "       'book covid test: (Ireland)_x', 'how many covid cases today: (Ireland)',\n",
       "       'pcr covid test: (Ireland)', 'close contact covid: (Ireland)',\n",
       "       'book a covid test: (Ireland)', 'vaccination centre: (Ireland)',\n",
       "       'pharmacy near me: (Ireland)',\n",
       "       'Treatment and management of COVID-19: (Ireland)',\n",
       "       'Hand sanitizer: (Ireland)', 'Face mask: (Ireland)',\n",
       "       'book covid test: (Ireland)_y', 'covid test dublin: (Ireland)',\n",
       "       'covid test centre: (Ireland)', 'hse covid vaccine: (Ireland)',\n",
       "       'hse vaccine portal: (Ireland)', 'hse portal vaccine: (Ireland)',\n",
       "       'pcr test hse: (Ireland)', 'hse covid test: (Ireland)',\n",
       "       'hse vaccine registration: (Ireland)',\n",
       "       'how long will it take to vaccinate ireland: (Ireland)'],\n",
       "      dtype='object')"
      ]
     },
     "execution_count": 18,
     "metadata": {},
     "output_type": "execute_result"
    }
   ],
   "source": [
    "df.columns"
   ]
  },
  {
   "cell_type": "code",
   "execution_count": 19,
   "id": "197ee4e2",
   "metadata": {},
   "outputs": [],
   "source": [
    "df_daily = pd.DataFrame()"
   ]
  },
  {
   "cell_type": "code",
   "execution_count": 20,
   "id": "560d3a9b",
   "metadata": {},
   "outputs": [],
   "source": [
    "df_daily = df.resample('D').bfill()"
   ]
  },
  {
   "cell_type": "code",
   "execution_count": 22,
   "id": "570a16f1",
   "metadata": {},
   "outputs": [],
   "source": [
    "df_daily.reset_index(inplace=True)"
   ]
  },
  {
   "cell_type": "code",
   "execution_count": 23,
   "id": "72cf70c4",
   "metadata": {},
   "outputs": [
    {
     "data": {
      "text/html": [
       "<div>\n",
       "<style scoped>\n",
       "    .dataframe tbody tr th:only-of-type {\n",
       "        vertical-align: middle;\n",
       "    }\n",
       "\n",
       "    .dataframe tbody tr th {\n",
       "        vertical-align: top;\n",
       "    }\n",
       "\n",
       "    .dataframe thead th {\n",
       "        text-align: right;\n",
       "    }\n",
       "</style>\n",
       "<table border=\"1\" class=\"dataframe\">\n",
       "  <thead>\n",
       "    <tr style=\"text-align: right;\">\n",
       "      <th></th>\n",
       "      <th>Week</th>\n",
       "      <th>covid: (Ireland)</th>\n",
       "      <th>COVID-19 testing: (Ireland)</th>\n",
       "      <th>COVID-19 rapid antigen test: (Ireland)</th>\n",
       "      <th>Health Service Executive: (Ireland)</th>\n",
       "      <th>Vaccination: (Ireland)</th>\n",
       "      <th>book covid test: (Ireland)_x</th>\n",
       "      <th>how many covid cases today: (Ireland)</th>\n",
       "      <th>pcr covid test: (Ireland)</th>\n",
       "      <th>close contact covid: (Ireland)</th>\n",
       "      <th>...</th>\n",
       "      <th>book covid test: (Ireland)_y</th>\n",
       "      <th>covid test dublin: (Ireland)</th>\n",
       "      <th>covid test centre: (Ireland)</th>\n",
       "      <th>hse covid vaccine: (Ireland)</th>\n",
       "      <th>hse vaccine portal: (Ireland)</th>\n",
       "      <th>hse portal vaccine: (Ireland)</th>\n",
       "      <th>pcr test hse: (Ireland)</th>\n",
       "      <th>hse covid test: (Ireland)</th>\n",
       "      <th>hse vaccine registration: (Ireland)</th>\n",
       "      <th>how long will it take to vaccinate ireland: (Ireland)</th>\n",
       "    </tr>\n",
       "  </thead>\n",
       "  <tbody>\n",
       "    <tr>\n",
       "      <th>0</th>\n",
       "      <td>2020-03-15</td>\n",
       "      <td>50</td>\n",
       "      <td>2</td>\n",
       "      <td>0</td>\n",
       "      <td>13</td>\n",
       "      <td>0</td>\n",
       "      <td>0</td>\n",
       "      <td>2</td>\n",
       "      <td>0</td>\n",
       "      <td>0</td>\n",
       "      <td>...</td>\n",
       "      <td>0</td>\n",
       "      <td>1</td>\n",
       "      <td>2</td>\n",
       "      <td>0</td>\n",
       "      <td>0</td>\n",
       "      <td>0</td>\n",
       "      <td>0</td>\n",
       "      <td>2</td>\n",
       "      <td>0</td>\n",
       "      <td>0</td>\n",
       "    </tr>\n",
       "    <tr>\n",
       "      <th>1</th>\n",
       "      <td>2020-03-16</td>\n",
       "      <td>56</td>\n",
       "      <td>2</td>\n",
       "      <td>0</td>\n",
       "      <td>10</td>\n",
       "      <td>0</td>\n",
       "      <td>0</td>\n",
       "      <td>2</td>\n",
       "      <td>0</td>\n",
       "      <td>0</td>\n",
       "      <td>...</td>\n",
       "      <td>0</td>\n",
       "      <td>1</td>\n",
       "      <td>1</td>\n",
       "      <td>0</td>\n",
       "      <td>0</td>\n",
       "      <td>0</td>\n",
       "      <td>0</td>\n",
       "      <td>1</td>\n",
       "      <td>0</td>\n",
       "      <td>0</td>\n",
       "    </tr>\n",
       "    <tr>\n",
       "      <th>2</th>\n",
       "      <td>2020-03-17</td>\n",
       "      <td>56</td>\n",
       "      <td>2</td>\n",
       "      <td>0</td>\n",
       "      <td>10</td>\n",
       "      <td>0</td>\n",
       "      <td>0</td>\n",
       "      <td>2</td>\n",
       "      <td>0</td>\n",
       "      <td>0</td>\n",
       "      <td>...</td>\n",
       "      <td>0</td>\n",
       "      <td>1</td>\n",
       "      <td>1</td>\n",
       "      <td>0</td>\n",
       "      <td>0</td>\n",
       "      <td>0</td>\n",
       "      <td>0</td>\n",
       "      <td>1</td>\n",
       "      <td>0</td>\n",
       "      <td>0</td>\n",
       "    </tr>\n",
       "    <tr>\n",
       "      <th>3</th>\n",
       "      <td>2020-03-18</td>\n",
       "      <td>56</td>\n",
       "      <td>2</td>\n",
       "      <td>0</td>\n",
       "      <td>10</td>\n",
       "      <td>0</td>\n",
       "      <td>0</td>\n",
       "      <td>2</td>\n",
       "      <td>0</td>\n",
       "      <td>0</td>\n",
       "      <td>...</td>\n",
       "      <td>0</td>\n",
       "      <td>1</td>\n",
       "      <td>1</td>\n",
       "      <td>0</td>\n",
       "      <td>0</td>\n",
       "      <td>0</td>\n",
       "      <td>0</td>\n",
       "      <td>1</td>\n",
       "      <td>0</td>\n",
       "      <td>0</td>\n",
       "    </tr>\n",
       "    <tr>\n",
       "      <th>4</th>\n",
       "      <td>2020-03-19</td>\n",
       "      <td>56</td>\n",
       "      <td>2</td>\n",
       "      <td>0</td>\n",
       "      <td>10</td>\n",
       "      <td>0</td>\n",
       "      <td>0</td>\n",
       "      <td>2</td>\n",
       "      <td>0</td>\n",
       "      <td>0</td>\n",
       "      <td>...</td>\n",
       "      <td>0</td>\n",
       "      <td>1</td>\n",
       "      <td>1</td>\n",
       "      <td>0</td>\n",
       "      <td>0</td>\n",
       "      <td>0</td>\n",
       "      <td>0</td>\n",
       "      <td>1</td>\n",
       "      <td>0</td>\n",
       "      <td>0</td>\n",
       "    </tr>\n",
       "  </tbody>\n",
       "</table>\n",
       "<p>5 rows × 26 columns</p>\n",
       "</div>"
      ],
      "text/plain": [
       "        Week  covid: (Ireland) COVID-19 testing: (Ireland)  \\\n",
       "0 2020-03-15                50                           2   \n",
       "1 2020-03-16                56                           2   \n",
       "2 2020-03-17                56                           2   \n",
       "3 2020-03-18                56                           2   \n",
       "4 2020-03-19                56                           2   \n",
       "\n",
       "   COVID-19 rapid antigen test: (Ireland)  \\\n",
       "0                                       0   \n",
       "1                                       0   \n",
       "2                                       0   \n",
       "3                                       0   \n",
       "4                                       0   \n",
       "\n",
       "   Health Service Executive: (Ireland)  Vaccination: (Ireland)  \\\n",
       "0                                   13                       0   \n",
       "1                                   10                       0   \n",
       "2                                   10                       0   \n",
       "3                                   10                       0   \n",
       "4                                   10                       0   \n",
       "\n",
       "  book covid test: (Ireland)_x how many covid cases today: (Ireland)  \\\n",
       "0                            0                                     2   \n",
       "1                            0                                     2   \n",
       "2                            0                                     2   \n",
       "3                            0                                     2   \n",
       "4                            0                                     2   \n",
       "\n",
       "  pcr covid test: (Ireland) close contact covid: (Ireland)  ...  \\\n",
       "0                         0                              0  ...   \n",
       "1                         0                              0  ...   \n",
       "2                         0                              0  ...   \n",
       "3                         0                              0  ...   \n",
       "4                         0                              0  ...   \n",
       "\n",
       "  book covid test: (Ireland)_y covid test dublin: (Ireland)  \\\n",
       "0                            0                            1   \n",
       "1                            0                            1   \n",
       "2                            0                            1   \n",
       "3                            0                            1   \n",
       "4                            0                            1   \n",
       "\n",
       "   covid test centre: (Ireland) hse covid vaccine: (Ireland)  \\\n",
       "0                             2                            0   \n",
       "1                             1                            0   \n",
       "2                             1                            0   \n",
       "3                             1                            0   \n",
       "4                             1                            0   \n",
       "\n",
       "   hse vaccine portal: (Ireland)  hse portal vaccine: (Ireland)  \\\n",
       "0                              0                              0   \n",
       "1                              0                              0   \n",
       "2                              0                              0   \n",
       "3                              0                              0   \n",
       "4                              0                              0   \n",
       "\n",
       "  pcr test hse: (Ireland) hse covid test: (Ireland)  \\\n",
       "0                       0                         2   \n",
       "1                       0                         1   \n",
       "2                       0                         1   \n",
       "3                       0                         1   \n",
       "4                       0                         1   \n",
       "\n",
       "  hse vaccine registration: (Ireland)  \\\n",
       "0                                   0   \n",
       "1                                   0   \n",
       "2                                   0   \n",
       "3                                   0   \n",
       "4                                   0   \n",
       "\n",
       "  how long will it take to vaccinate ireland: (Ireland)  \n",
       "0                                                  0     \n",
       "1                                                  0     \n",
       "2                                                  0     \n",
       "3                                                  0     \n",
       "4                                                  0     \n",
       "\n",
       "[5 rows x 26 columns]"
      ]
     },
     "execution_count": 23,
     "metadata": {},
     "output_type": "execute_result"
    }
   ],
   "source": [
    "df_daily.head()"
   ]
  },
  {
   "cell_type": "code",
   "execution_count": 25,
   "id": "ebe45c00",
   "metadata": {},
   "outputs": [],
   "source": [
    "df_daily.to_excel('GoogleData.xlsx')"
   ]
  },
  {
   "cell_type": "code",
   "execution_count": null,
   "id": "0cec5ef1",
   "metadata": {},
   "outputs": [],
   "source": []
  }
 ],
 "metadata": {
  "kernelspec": {
   "display_name": "Python 3",
   "language": "python",
   "name": "python3"
  },
  "language_info": {
   "codemirror_mode": {
    "name": "ipython",
    "version": 3
   },
   "file_extension": ".py",
   "mimetype": "text/x-python",
   "name": "python",
   "nbconvert_exporter": "python",
   "pygments_lexer": "ipython3",
   "version": "3.8.6"
  }
 },
 "nbformat": 4,
 "nbformat_minor": 5
}
