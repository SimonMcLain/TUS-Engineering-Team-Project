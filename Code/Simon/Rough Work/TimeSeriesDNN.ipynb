{
 "cells": [
  {
   "cell_type": "code",
   "execution_count": 1,
   "id": "95886947",
   "metadata": {},
   "outputs": [],
   "source": [
    "import pandas as pd \n",
    "import numpy as np \n",
    "\n",
    "from sklearn.model_selection import TimeSeriesSplit, cross_val_score\n",
    "from keras import layers\n",
    "from sklearn import preprocessing\n",
    "from sklearn.preprocessing import MinMaxScaler\n",
    "import matplotlib.pyplot as plt\n",
    "import keras\n",
    "from keras import layers\n",
    "import tensorflow as tf\n",
    "\n",
    "import warnings\n",
    "warnings.filterwarnings('ignore')"
   ]
  },
  {
   "cell_type": "code",
   "execution_count": 2,
   "id": "4a023e70",
   "metadata": {},
   "outputs": [],
   "source": [
    "data = pd.read_csv('NI.csv', sep=\",\")"
   ]
  },
  {
   "cell_type": "code",
   "execution_count": 3,
   "id": "e4a7a004",
   "metadata": {},
   "outputs": [],
   "source": [
    "data['date'] = pd.to_datetime(data['date'])"
   ]
  },
  {
   "cell_type": "code",
   "execution_count": 4,
   "id": "5db9228b",
   "metadata": {},
   "outputs": [],
   "source": [
    "data.sort_values(by='date', ascending=True, inplace=True)"
   ]
  },
  {
   "cell_type": "code",
   "execution_count": 5,
   "id": "2d96e261",
   "metadata": {},
   "outputs": [],
   "source": [
    "data.drop(columns=['areaName', 'areaCode'], inplace=True)"
   ]
  },
  {
   "cell_type": "code",
   "execution_count": 6,
   "id": "c37b6f32",
   "metadata": {},
   "outputs": [
    {
     "data": {
      "text/html": [
       "<div>\n",
       "<style scoped>\n",
       "    .dataframe tbody tr th:only-of-type {\n",
       "        vertical-align: middle;\n",
       "    }\n",
       "\n",
       "    .dataframe tbody tr th {\n",
       "        vertical-align: top;\n",
       "    }\n",
       "\n",
       "    .dataframe thead th {\n",
       "        text-align: right;\n",
       "    }\n",
       "</style>\n",
       "<table border=\"1\" class=\"dataframe\">\n",
       "  <thead>\n",
       "    <tr style=\"text-align: right;\">\n",
       "      <th></th>\n",
       "      <th>date</th>\n",
       "      <th>newCasesByPublishDate</th>\n",
       "      <th>cumCasesByPublishDate</th>\n",
       "      <th>newDeaths28DaysByDeathDate</th>\n",
       "      <th>cumDeaths28DaysByDeathDate</th>\n",
       "      <th>newAntibodyTestsByPublishDate</th>\n",
       "      <th>newLFDTestsBySpecimenDate</th>\n",
       "      <th>newPCRTestsByPublishDate</th>\n",
       "      <th>newPCRTestsByPublishDateRollingSum</th>\n",
       "      <th>hospitalCases</th>\n",
       "      <th>newAdmissions</th>\n",
       "      <th>newPeopleVaccinatedCompleteByVaccinationDate</th>\n",
       "      <th>newVaccinesGivenByPublishDate</th>\n",
       "      <th>VaccineRegisterPopulationByVaccinationDate</th>\n",
       "    </tr>\n",
       "  </thead>\n",
       "  <tbody>\n",
       "    <tr>\n",
       "      <th>739</th>\n",
       "      <td>2020-01-03</td>\n",
       "      <td>NaN</td>\n",
       "      <td>NaN</td>\n",
       "      <td>NaN</td>\n",
       "      <td>NaN</td>\n",
       "      <td>NaN</td>\n",
       "      <td>NaN</td>\n",
       "      <td>NaN</td>\n",
       "      <td>NaN</td>\n",
       "      <td>11.0</td>\n",
       "      <td>NaN</td>\n",
       "      <td>NaN</td>\n",
       "      <td>NaN</td>\n",
       "      <td>NaN</td>\n",
       "    </tr>\n",
       "    <tr>\n",
       "      <th>708</th>\n",
       "      <td>2020-01-04</td>\n",
       "      <td>103.0</td>\n",
       "      <td>689.0</td>\n",
       "      <td>4.0</td>\n",
       "      <td>45.0</td>\n",
       "      <td>NaN</td>\n",
       "      <td>0.0</td>\n",
       "      <td>NaN</td>\n",
       "      <td>NaN</td>\n",
       "      <td>280.0</td>\n",
       "      <td>45.0</td>\n",
       "      <td>NaN</td>\n",
       "      <td>NaN</td>\n",
       "      <td>NaN</td>\n",
       "    </tr>\n",
       "    <tr>\n",
       "      <th>678</th>\n",
       "      <td>2020-01-05</td>\n",
       "      <td>87.0</td>\n",
       "      <td>3623.0</td>\n",
       "      <td>12.0</td>\n",
       "      <td>387.0</td>\n",
       "      <td>NaN</td>\n",
       "      <td>0.0</td>\n",
       "      <td>NaN</td>\n",
       "      <td>NaN</td>\n",
       "      <td>269.0</td>\n",
       "      <td>19.0</td>\n",
       "      <td>NaN</td>\n",
       "      <td>NaN</td>\n",
       "      <td>NaN</td>\n",
       "    </tr>\n",
       "    <tr>\n",
       "      <th>647</th>\n",
       "      <td>2020-01-06</td>\n",
       "      <td>12.0</td>\n",
       "      <td>4728.0</td>\n",
       "      <td>1.0</td>\n",
       "      <td>532.0</td>\n",
       "      <td>NaN</td>\n",
       "      <td>0.0</td>\n",
       "      <td>NaN</td>\n",
       "      <td>NaN</td>\n",
       "      <td>127.0</td>\n",
       "      <td>3.0</td>\n",
       "      <td>NaN</td>\n",
       "      <td>NaN</td>\n",
       "      <td>NaN</td>\n",
       "    </tr>\n",
       "    <tr>\n",
       "      <th>617</th>\n",
       "      <td>2020-01-07</td>\n",
       "      <td>1.0</td>\n",
       "      <td>5761.0</td>\n",
       "      <td>1.0</td>\n",
       "      <td>552.0</td>\n",
       "      <td>NaN</td>\n",
       "      <td>0.0</td>\n",
       "      <td>NaN</td>\n",
       "      <td>NaN</td>\n",
       "      <td>32.0</td>\n",
       "      <td>0.0</td>\n",
       "      <td>NaN</td>\n",
       "      <td>NaN</td>\n",
       "      <td>NaN</td>\n",
       "    </tr>\n",
       "  </tbody>\n",
       "</table>\n",
       "</div>"
      ],
      "text/plain": [
       "          date  newCasesByPublishDate  cumCasesByPublishDate  \\\n",
       "739 2020-01-03                    NaN                    NaN   \n",
       "708 2020-01-04                  103.0                  689.0   \n",
       "678 2020-01-05                   87.0                 3623.0   \n",
       "647 2020-01-06                   12.0                 4728.0   \n",
       "617 2020-01-07                    1.0                 5761.0   \n",
       "\n",
       "     newDeaths28DaysByDeathDate  cumDeaths28DaysByDeathDate  \\\n",
       "739                         NaN                         NaN   \n",
       "708                         4.0                        45.0   \n",
       "678                        12.0                       387.0   \n",
       "647                         1.0                       532.0   \n",
       "617                         1.0                       552.0   \n",
       "\n",
       "     newAntibodyTestsByPublishDate  newLFDTestsBySpecimenDate  \\\n",
       "739                            NaN                        NaN   \n",
       "708                            NaN                        0.0   \n",
       "678                            NaN                        0.0   \n",
       "647                            NaN                        0.0   \n",
       "617                            NaN                        0.0   \n",
       "\n",
       "     newPCRTestsByPublishDate  newPCRTestsByPublishDateRollingSum  \\\n",
       "739                       NaN                                 NaN   \n",
       "708                       NaN                                 NaN   \n",
       "678                       NaN                                 NaN   \n",
       "647                       NaN                                 NaN   \n",
       "617                       NaN                                 NaN   \n",
       "\n",
       "     hospitalCases  newAdmissions  \\\n",
       "739           11.0            NaN   \n",
       "708          280.0           45.0   \n",
       "678          269.0           19.0   \n",
       "647          127.0            3.0   \n",
       "617           32.0            0.0   \n",
       "\n",
       "     newPeopleVaccinatedCompleteByVaccinationDate  \\\n",
       "739                                           NaN   \n",
       "708                                           NaN   \n",
       "678                                           NaN   \n",
       "647                                           NaN   \n",
       "617                                           NaN   \n",
       "\n",
       "     newVaccinesGivenByPublishDate  VaccineRegisterPopulationByVaccinationDate  \n",
       "739                            NaN                                         NaN  \n",
       "708                            NaN                                         NaN  \n",
       "678                            NaN                                         NaN  \n",
       "647                            NaN                                         NaN  \n",
       "617                            NaN                                         NaN  "
      ]
     },
     "execution_count": 6,
     "metadata": {},
     "output_type": "execute_result"
    }
   ],
   "source": [
    "data.head()"
   ]
  },
  {
   "cell_type": "code",
   "execution_count": 7,
   "id": "0be6151c",
   "metadata": {},
   "outputs": [],
   "source": [
    "data = data.set_index('date')"
   ]
  },
  {
   "cell_type": "code",
   "execution_count": 8,
   "id": "03998cbd",
   "metadata": {},
   "outputs": [],
   "source": [
    "data_new_cases = data[['newCasesByPublishDate']]"
   ]
  },
  {
   "cell_type": "code",
   "execution_count": 9,
   "id": "3f671079",
   "metadata": {},
   "outputs": [],
   "source": [
    "data_new_cases.loc[:,'minus_7'] = data_new_cases.loc[:,'newCasesByPublishDate'].shift(periods=-7)"
   ]
  },
  {
   "cell_type": "code",
   "execution_count": 10,
   "id": "39640862",
   "metadata": {},
   "outputs": [],
   "source": [
    "data_new_cases.loc[:,'minus_14'] = data_new_cases.loc[:,'newCasesByPublishDate'].shift(periods=-14)"
   ]
  },
  {
   "cell_type": "code",
   "execution_count": 11,
   "id": "429d0fcf",
   "metadata": {},
   "outputs": [],
   "source": [
    "data_new_cases.loc[:,'minus_21'] = data_new_cases.loc[:,'newCasesByPublishDate'].shift(periods=-21)"
   ]
  },
  {
   "cell_type": "code",
   "execution_count": 12,
   "id": "bf973a9b",
   "metadata": {},
   "outputs": [],
   "source": [
    "data_new_cases.loc[:,'minus_28'] = data_new_cases.loc[:,'newCasesByPublishDate'].shift(periods=-28)"
   ]
  },
  {
   "cell_type": "code",
   "execution_count": 13,
   "id": "f4d2e5a6",
   "metadata": {},
   "outputs": [],
   "source": [
    "data_new_cases = data_new_cases.dropna()"
   ]
  },
  {
   "cell_type": "code",
   "execution_count": 14,
   "id": "8decddc2",
   "metadata": {},
   "outputs": [
    {
     "data": {
      "text/html": [
       "<div>\n",
       "<style scoped>\n",
       "    .dataframe tbody tr th:only-of-type {\n",
       "        vertical-align: middle;\n",
       "    }\n",
       "\n",
       "    .dataframe tbody tr th {\n",
       "        vertical-align: top;\n",
       "    }\n",
       "\n",
       "    .dataframe thead th {\n",
       "        text-align: right;\n",
       "    }\n",
       "</style>\n",
       "<table border=\"1\" class=\"dataframe\">\n",
       "  <thead>\n",
       "    <tr style=\"text-align: right;\">\n",
       "      <th></th>\n",
       "      <th>newCasesByPublishDate</th>\n",
       "      <th>minus_7</th>\n",
       "      <th>minus_14</th>\n",
       "      <th>minus_21</th>\n",
       "      <th>minus_28</th>\n",
       "    </tr>\n",
       "    <tr>\n",
       "      <th>date</th>\n",
       "      <th></th>\n",
       "      <th></th>\n",
       "      <th></th>\n",
       "      <th></th>\n",
       "      <th></th>\n",
       "    </tr>\n",
       "  </thead>\n",
       "  <tbody>\n",
       "    <tr>\n",
       "      <th>2020-01-04</th>\n",
       "      <td>103.0</td>\n",
       "      <td>685.0</td>\n",
       "      <td>0.0</td>\n",
       "      <td>78.0</td>\n",
       "      <td>456.0</td>\n",
       "    </tr>\n",
       "    <tr>\n",
       "      <th>2020-01-05</th>\n",
       "      <td>87.0</td>\n",
       "      <td>391.0</td>\n",
       "      <td>71.0</td>\n",
       "      <td>8.0</td>\n",
       "      <td>10.0</td>\n",
       "    </tr>\n",
       "    <tr>\n",
       "      <th>2020-01-07</th>\n",
       "      <td>1.0</td>\n",
       "      <td>85.0</td>\n",
       "      <td>493.0</td>\n",
       "      <td>0.0</td>\n",
       "      <td>11.0</td>\n",
       "    </tr>\n",
       "    <tr>\n",
       "      <th>2020-01-08</th>\n",
       "      <td>0.0</td>\n",
       "      <td>66.0</td>\n",
       "      <td>416.0</td>\n",
       "      <td>77.0</td>\n",
       "      <td>7.0</td>\n",
       "    </tr>\n",
       "    <tr>\n",
       "      <th>2020-01-10</th>\n",
       "      <td>259.0</td>\n",
       "      <td>7.0</td>\n",
       "      <td>130.0</td>\n",
       "      <td>570.0</td>\n",
       "      <td>6.0</td>\n",
       "    </tr>\n",
       "  </tbody>\n",
       "</table>\n",
       "</div>"
      ],
      "text/plain": [
       "            newCasesByPublishDate  minus_7  minus_14  minus_21  minus_28\n",
       "date                                                                    \n",
       "2020-01-04                  103.0    685.0       0.0      78.0     456.0\n",
       "2020-01-05                   87.0    391.0      71.0       8.0      10.0\n",
       "2020-01-07                    1.0     85.0     493.0       0.0      11.0\n",
       "2020-01-08                    0.0     66.0     416.0      77.0       7.0\n",
       "2020-01-10                  259.0      7.0     130.0     570.0       6.0"
      ]
     },
     "execution_count": 14,
     "metadata": {},
     "output_type": "execute_result"
    }
   ],
   "source": [
    "data_new_cases.head()"
   ]
  },
  {
   "cell_type": "code",
   "execution_count": 15,
   "id": "ef1fce08",
   "metadata": {},
   "outputs": [
    {
     "data": {
      "text/plain": [
       "(697, 5)"
      ]
     },
     "execution_count": 15,
     "metadata": {},
     "output_type": "execute_result"
    }
   ],
   "source": [
    "data_new_cases.shape"
   ]
  },
  {
   "cell_type": "code",
   "execution_count": 16,
   "id": "9ed44274",
   "metadata": {},
   "outputs": [],
   "source": [
    "n = len(data_new_cases)"
   ]
  },
  {
   "cell_type": "code",
   "execution_count": 17,
   "id": "64902e73",
   "metadata": {},
   "outputs": [],
   "source": [
    "target = data_new_cases['newCasesByPublishDate']"
   ]
  },
  {
   "cell_type": "code",
   "execution_count": 18,
   "id": "eafc94f7",
   "metadata": {},
   "outputs": [
    {
     "data": {
      "text/plain": [
       "Index(['newCasesByPublishDate', 'minus_7', 'minus_14', 'minus_21', 'minus_28'], dtype='object')"
      ]
     },
     "execution_count": 18,
     "metadata": {},
     "output_type": "execute_result"
    }
   ],
   "source": [
    "data_new_cases.columns"
   ]
  },
  {
   "cell_type": "code",
   "execution_count": 19,
   "id": "7c8cf97e",
   "metadata": {},
   "outputs": [],
   "source": [
    "variables = data_new_cases[['minus_7', 'minus_14', 'minus_21', 'minus_28']]"
   ]
  },
  {
   "cell_type": "code",
   "execution_count": 20,
   "id": "ecbb556e",
   "metadata": {},
   "outputs": [],
   "source": [
    "X_train = data_new_cases.iloc[0:int(n*0.7)].drop(['newCasesByPublishDate'], axis=1)\n",
    "y_train = data_new_cases.iloc[0:int(n*0.7)].drop(columns=variables, axis=1)"
   ]
  },
  {
   "cell_type": "code",
   "execution_count": 21,
   "id": "3f7b840c",
   "metadata": {},
   "outputs": [],
   "source": [
    "X_test = data_new_cases.iloc[int(n*0.9):].drop(['newCasesByPublishDate'], axis=1)\n",
    "y_test = data_new_cases.iloc[int(n*0.9):].drop(columns=variables, axis=1)"
   ]
  },
  {
   "cell_type": "code",
   "execution_count": 22,
   "id": "dfe5a1c2",
   "metadata": {},
   "outputs": [],
   "source": [
    "X_val = data_new_cases.iloc[int(n*0.7):int(n*0.9)].drop(['newCasesByPublishDate'], axis=1)\n",
    "y_val = data_new_cases.iloc[int(n*0.7):int(n*0.9)].drop(columns=variables, axis=1)"
   ]
  },
  {
   "cell_type": "code",
   "execution_count": 23,
   "id": "6d0b27a4",
   "metadata": {},
   "outputs": [],
   "source": [
    "scaler = preprocessing.MinMaxScaler(feature_range=(0,1)).fit(X_train)"
   ]
  },
  {
   "cell_type": "code",
   "execution_count": 24,
   "id": "39f03a3a",
   "metadata": {},
   "outputs": [],
   "source": [
    "X_train_scaled = scaler.transform(X_train)"
   ]
  },
  {
   "cell_type": "code",
   "execution_count": null,
   "id": "f0344576",
   "metadata": {},
   "outputs": [],
   "source": []
  },
  {
   "cell_type": "code",
   "execution_count": null,
   "id": "53cc3680",
   "metadata": {},
   "outputs": [],
   "source": []
  },
  {
   "cell_type": "code",
   "execution_count": 25,
   "id": "d03dc29d",
   "metadata": {},
   "outputs": [],
   "source": [
    "model = keras.Sequential()\n",
    "model.add(layers.LSTM(500, return_sequences=True))\n",
    "model.add(layers.Dense(20, activation='relu'))\n",
    "model.add(layers.Dense(20, activation='softmax'))\n"
   ]
  },
  {
   "cell_type": "code",
   "execution_count": 27,
   "id": "94c1591b",
   "metadata": {},
   "outputs": [],
   "source": [
    "model.compile(loss=tf.losses.MeanSquaredError(),\n",
    "            optimizer=tf.optimizers.Adam(),\n",
    "            metrics=[tf.metrics.MeanAbsoluteError(),])"
   ]
  },
  {
   "cell_type": "code",
   "execution_count": 31,
   "id": "cdb160f4",
   "metadata": {},
   "outputs": [
    {
     "name": "stdout",
     "output_type": "stream",
     "text": [
      "Epoch 1/500\n"
     ]
    },
    {
     "ename": "ValueError",
     "evalue": "in user code:\n\n    File \"/Users/simonmclain/miniforge3/envs/tf24/lib/python3.8/site-packages/keras/engine/training.py\", line 1021, in train_function  *\n        return step_function(self, iterator)\n    File \"/Users/simonmclain/miniforge3/envs/tf24/lib/python3.8/site-packages/keras/engine/training.py\", line 1010, in step_function  **\n        outputs = model.distribute_strategy.run(run_step, args=(data,))\n    File \"/Users/simonmclain/miniforge3/envs/tf24/lib/python3.8/site-packages/keras/engine/training.py\", line 1000, in run_step  **\n        outputs = model.train_step(data)\n    File \"/Users/simonmclain/miniforge3/envs/tf24/lib/python3.8/site-packages/keras/engine/training.py\", line 859, in train_step\n        y_pred = self(x, training=True)\n    File \"/Users/simonmclain/miniforge3/envs/tf24/lib/python3.8/site-packages/keras/utils/traceback_utils.py\", line 67, in error_handler\n        raise e.with_traceback(filtered_tb) from None\n    File \"/Users/simonmclain/miniforge3/envs/tf24/lib/python3.8/site-packages/keras/engine/input_spec.py\", line 214, in assert_input_compatibility\n        raise ValueError(f'Input {input_index} of layer \"{layer_name}\" '\n\n    ValueError: Exception encountered when calling layer \"sequential\" (type Sequential).\n    \n    Input 0 of layer \"lstm\" is incompatible with the layer: expected ndim=3, found ndim=2. Full shape received: (None, 4)\n    \n    Call arguments received:\n      • inputs=tf.Tensor(shape=(None, 4), dtype=float32)\n      • training=True\n      • mask=None\n",
     "output_type": "error",
     "traceback": [
      "\u001b[0;31m---------------------------------------------------------------------------\u001b[0m",
      "\u001b[0;31mValueError\u001b[0m                                Traceback (most recent call last)",
      "\u001b[0;32m<ipython-input-31-307e1137d40d>\u001b[0m in \u001b[0;36m<module>\u001b[0;34m\u001b[0m\n\u001b[0;32m----> 1\u001b[0;31m \u001b[0mmodel\u001b[0m\u001b[0;34m.\u001b[0m\u001b[0mfit\u001b[0m\u001b[0;34m(\u001b[0m\u001b[0mX_train_scaled\u001b[0m\u001b[0;34m,\u001b[0m \u001b[0my_train\u001b[0m\u001b[0;34m,\u001b[0m \u001b[0mepochs\u001b[0m\u001b[0;34m=\u001b[0m\u001b[0;36m500\u001b[0m\u001b[0;34m,\u001b[0m \u001b[0mbatch_size\u001b[0m\u001b[0;34m=\u001b[0m\u001b[0;36m32\u001b[0m\u001b[0;34m)\u001b[0m\u001b[0;34m\u001b[0m\u001b[0;34m\u001b[0m\u001b[0m\n\u001b[0m",
      "\u001b[0;32m~/miniforge3/envs/tf24/lib/python3.8/site-packages/keras/utils/traceback_utils.py\u001b[0m in \u001b[0;36merror_handler\u001b[0;34m(*args, **kwargs)\u001b[0m\n\u001b[1;32m     65\u001b[0m     \u001b[0;32mexcept\u001b[0m \u001b[0mException\u001b[0m \u001b[0;32mas\u001b[0m \u001b[0me\u001b[0m\u001b[0;34m:\u001b[0m  \u001b[0;31m# pylint: disable=broad-except\u001b[0m\u001b[0;34m\u001b[0m\u001b[0;34m\u001b[0m\u001b[0m\n\u001b[1;32m     66\u001b[0m       \u001b[0mfiltered_tb\u001b[0m \u001b[0;34m=\u001b[0m \u001b[0m_process_traceback_frames\u001b[0m\u001b[0;34m(\u001b[0m\u001b[0me\u001b[0m\u001b[0;34m.\u001b[0m\u001b[0m__traceback__\u001b[0m\u001b[0;34m)\u001b[0m\u001b[0;34m\u001b[0m\u001b[0;34m\u001b[0m\u001b[0m\n\u001b[0;32m---> 67\u001b[0;31m       \u001b[0;32mraise\u001b[0m \u001b[0me\u001b[0m\u001b[0;34m.\u001b[0m\u001b[0mwith_traceback\u001b[0m\u001b[0;34m(\u001b[0m\u001b[0mfiltered_tb\u001b[0m\u001b[0;34m)\u001b[0m \u001b[0;32mfrom\u001b[0m \u001b[0;32mNone\u001b[0m\u001b[0;34m\u001b[0m\u001b[0;34m\u001b[0m\u001b[0m\n\u001b[0m\u001b[1;32m     68\u001b[0m     \u001b[0;32mfinally\u001b[0m\u001b[0;34m:\u001b[0m\u001b[0;34m\u001b[0m\u001b[0;34m\u001b[0m\u001b[0m\n\u001b[1;32m     69\u001b[0m       \u001b[0;32mdel\u001b[0m \u001b[0mfiltered_tb\u001b[0m\u001b[0;34m\u001b[0m\u001b[0;34m\u001b[0m\u001b[0m\n",
      "\u001b[0;32m~/miniforge3/envs/tf24/lib/python3.8/site-packages/tensorflow/python/framework/func_graph.py\u001b[0m in \u001b[0;36mautograph_handler\u001b[0;34m(*args, **kwargs)\u001b[0m\n\u001b[1;32m   1145\u001b[0m           \u001b[0;32mexcept\u001b[0m \u001b[0mException\u001b[0m \u001b[0;32mas\u001b[0m \u001b[0me\u001b[0m\u001b[0;34m:\u001b[0m  \u001b[0;31m# pylint:disable=broad-except\u001b[0m\u001b[0;34m\u001b[0m\u001b[0;34m\u001b[0m\u001b[0m\n\u001b[1;32m   1146\u001b[0m             \u001b[0;32mif\u001b[0m \u001b[0mhasattr\u001b[0m\u001b[0;34m(\u001b[0m\u001b[0me\u001b[0m\u001b[0;34m,\u001b[0m \u001b[0;34m\"ag_error_metadata\"\u001b[0m\u001b[0;34m)\u001b[0m\u001b[0;34m:\u001b[0m\u001b[0;34m\u001b[0m\u001b[0;34m\u001b[0m\u001b[0m\n\u001b[0;32m-> 1147\u001b[0;31m               \u001b[0;32mraise\u001b[0m \u001b[0me\u001b[0m\u001b[0;34m.\u001b[0m\u001b[0mag_error_metadata\u001b[0m\u001b[0;34m.\u001b[0m\u001b[0mto_exception\u001b[0m\u001b[0;34m(\u001b[0m\u001b[0me\u001b[0m\u001b[0;34m)\u001b[0m\u001b[0;34m\u001b[0m\u001b[0;34m\u001b[0m\u001b[0m\n\u001b[0m\u001b[1;32m   1148\u001b[0m             \u001b[0;32melse\u001b[0m\u001b[0;34m:\u001b[0m\u001b[0;34m\u001b[0m\u001b[0;34m\u001b[0m\u001b[0m\n\u001b[1;32m   1149\u001b[0m               \u001b[0;32mraise\u001b[0m\u001b[0;34m\u001b[0m\u001b[0;34m\u001b[0m\u001b[0m\n",
      "\u001b[0;31mValueError\u001b[0m: in user code:\n\n    File \"/Users/simonmclain/miniforge3/envs/tf24/lib/python3.8/site-packages/keras/engine/training.py\", line 1021, in train_function  *\n        return step_function(self, iterator)\n    File \"/Users/simonmclain/miniforge3/envs/tf24/lib/python3.8/site-packages/keras/engine/training.py\", line 1010, in step_function  **\n        outputs = model.distribute_strategy.run(run_step, args=(data,))\n    File \"/Users/simonmclain/miniforge3/envs/tf24/lib/python3.8/site-packages/keras/engine/training.py\", line 1000, in run_step  **\n        outputs = model.train_step(data)\n    File \"/Users/simonmclain/miniforge3/envs/tf24/lib/python3.8/site-packages/keras/engine/training.py\", line 859, in train_step\n        y_pred = self(x, training=True)\n    File \"/Users/simonmclain/miniforge3/envs/tf24/lib/python3.8/site-packages/keras/utils/traceback_utils.py\", line 67, in error_handler\n        raise e.with_traceback(filtered_tb) from None\n    File \"/Users/simonmclain/miniforge3/envs/tf24/lib/python3.8/site-packages/keras/engine/input_spec.py\", line 214, in assert_input_compatibility\n        raise ValueError(f'Input {input_index} of layer \"{layer_name}\" '\n\n    ValueError: Exception encountered when calling layer \"sequential\" (type Sequential).\n    \n    Input 0 of layer \"lstm\" is incompatible with the layer: expected ndim=3, found ndim=2. Full shape received: (None, 4)\n    \n    Call arguments received:\n      • inputs=tf.Tensor(shape=(None, 4), dtype=float32)\n      • training=True\n      • mask=None\n"
     ]
    }
   ],
   "source": [
    "model.fit(X_train_scaled, y_train, epochs=500, batch_size=32)"
   ]
  },
  {
   "cell_type": "code",
   "execution_count": null,
   "id": "7d247560",
   "metadata": {},
   "outputs": [],
   "source": [
    "results = []\n",
    "names = []\n",
    "for name, mod in model:\n",
    "    tsvc = TimeSeriesSplit(n_splits=2)\n",
    "    cv_results = cross_val_score(model, X_train, y_train, cv=tsvc, scoring='r2')\n",
    "    results.append(cv_results)\n",
    "    names.append(name)\n",
    "    print('%s: %f (%f)' % (name, cv_results.mean(), cv_results.std()))"
   ]
  },
  {
   "cell_type": "code",
   "execution_count": null,
   "id": "712575ff",
   "metadata": {},
   "outputs": [],
   "source": [
    "plt.boxplot(results, labels=names)\n",
    "plt.title('Algorithm Comparison')\n",
    "plt.show()"
   ]
  },
  {
   "cell_type": "code",
   "execution_count": null,
   "id": "b682e5f9",
   "metadata": {},
   "outputs": [],
   "source": [
    "from sklearn.model_selection import GridSearchCV\n",
    "model = MLPRegressor()"
   ]
  },
  {
   "cell_type": "code",
   "execution_count": null,
   "id": "11588baf",
   "metadata": {},
   "outputs": [],
   "source": [
    "param_search = {\n",
    "    \"hidden_layer_sizes\": [(1,),(50,),(100,),(150,),(200,)],\n",
    "    \"activation\": [\"identity\", \"logistic\", \"tanh\", \"relu\"],\n",
    "    \"solver\": [\"lbfgs\", \"sgd\", \"adam\"],\n",
    "    \"alpha\": [0.00005,0.0005],\n",
    "    \"learning_rate\": ['constant', 'invscaling', 'adaptive']\n",
    "}"
   ]
  },
  {
   "cell_type": "code",
   "execution_count": null,
   "id": "b56bd488",
   "metadata": {},
   "outputs": [],
   "source": [
    "tsvc = TimeSeriesSplit(n_splits=2)\n",
    "gsearch = GridSearchCV(estimator=model, cv=tsvc, param_grid=param_search, scoring='r2')\n",
    "gsearch.fit(X_train, y_train)\n",
    "best_score = gsearch.best_score_\n",
    "best_model = gsearch.best_estimator_"
   ]
  },
  {
   "cell_type": "code",
   "execution_count": null,
   "id": "a2925844",
   "metadata": {},
   "outputs": [],
   "source": [
    "print(best_model)"
   ]
  },
  {
   "cell_type": "code",
   "execution_count": null,
   "id": "edea2642",
   "metadata": {},
   "outputs": [],
   "source": [
    "print(best_score)"
   ]
  },
  {
   "cell_type": "code",
   "execution_count": null,
   "id": "2d19a369",
   "metadata": {},
   "outputs": [],
   "source": [
    "from sklearn.metrics import r2_score\n",
    "\n",
    "y_pred = best_model.predict(X_test)\n",
    "\n",
    "print(r2_score(y_test, y_pred))"
   ]
  },
  {
   "cell_type": "code",
   "execution_count": null,
   "id": "7f98d932",
   "metadata": {},
   "outputs": [],
   "source": []
  },
  {
   "cell_type": "code",
   "execution_count": null,
   "id": "e73ae53d",
   "metadata": {},
   "outputs": [],
   "source": []
  },
  {
   "cell_type": "code",
   "execution_count": null,
   "id": "3c358bfe",
   "metadata": {},
   "outputs": [],
   "source": []
  },
  {
   "cell_type": "code",
   "execution_count": null,
   "id": "eff7bd33",
   "metadata": {},
   "outputs": [],
   "source": []
  },
  {
   "cell_type": "code",
   "execution_count": null,
   "id": "133fb4c2",
   "metadata": {},
   "outputs": [],
   "source": []
  },
  {
   "cell_type": "code",
   "execution_count": null,
   "id": "267fdfcf",
   "metadata": {},
   "outputs": [],
   "source": []
  }
 ],
 "metadata": {
  "kernelspec": {
   "display_name": "Python 3",
   "language": "python",
   "name": "python3"
  },
  "language_info": {
   "codemirror_mode": {
    "name": "ipython",
    "version": 3
   },
   "file_extension": ".py",
   "mimetype": "text/x-python",
   "name": "python",
   "nbconvert_exporter": "python",
   "pygments_lexer": "ipython3",
   "version": "3.8.6"
  }
 },
 "nbformat": 4,
 "nbformat_minor": 5
}
