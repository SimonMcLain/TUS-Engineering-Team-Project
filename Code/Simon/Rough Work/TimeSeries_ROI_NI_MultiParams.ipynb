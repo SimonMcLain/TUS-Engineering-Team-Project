{
 "cells": [
  {
   "cell_type": "markdown",
   "id": "45b19b06",
   "metadata": {},
   "source": [
    "# Predicting COVID-19 cases in Ireland"
   ]
  },
  {
   "cell_type": "markdown",
   "id": "3cb1098a",
   "metadata": {},
   "source": [
    "## Import the Libraries"
   ]
  },
  {
   "cell_type": "code",
   "execution_count": null,
   "id": "95886947",
   "metadata": {},
   "outputs": [],
   "source": [
    "import pandas as pd \n",
    "import numpy as np \n",
    "from sklearn.model_selection import TimeSeriesSplit, cross_val_score\n",
    "from sklearn.metrics import r2_score\n",
    "from sklearn.neural_network import MLPRegressor\n",
    "from sklearn import preprocessing\n",
    "from sklearn.preprocessing import MinMaxScaler\n",
    "import matplotlib.pyplot as plt\n",
    "from sklearn.model_selection import GridSearchCV\n",
    "import warnings\n",
    "warnings.filterwarnings('ignore')"
   ]
  },
  {
   "cell_type": "markdown",
   "id": "ebc2c4f4",
   "metadata": {},
   "source": [
    "### Import the Datasets\n",
    "- Data for COVID cases the Republic of Ireland was sourced from Our World in Data\n",
    "- Data for the prevalence of COVID-19 internet searches were sourced from Google Trends\n",
    "- Data for COVID cases in Northern Ireland was sourced from the Department of Health for Northern Ireland "
   ]
  },
  {
   "cell_type": "code",
   "execution_count": null,
   "id": "4a023e70",
   "metadata": {},
   "outputs": [],
   "source": [
    "# Import Republic of Ireland and Google Trends data\n",
    "roi_data = pd.read_excel(\"preparedData.xlsx\")"
   ]
  },
  {
   "cell_type": "code",
   "execution_count": null,
   "id": "a7cca08f",
   "metadata": {},
   "outputs": [],
   "source": [
    "# Import Northern Ireland data\n",
    "#ni_data = pd.read_excel(\"ni_smoothed.xlsx\")"
   ]
  },
  {
   "cell_type": "code",
   "execution_count": null,
   "id": "8e07e7a5",
   "metadata": {},
   "outputs": [],
   "source": [
    "# Merge the datasets\n",
    "#data = pd.merge(roi_data, ni_data, left_on='date', right_on='date', how='left')"
   ]
  },
  {
   "cell_type": "code",
   "execution_count": null,
   "id": "83cdcf88",
   "metadata": {},
   "outputs": [],
   "source": [
    "data = roi_data.copy(deep=True)"
   ]
  },
  {
   "cell_type": "code",
   "execution_count": null,
   "id": "8b9c6d33",
   "metadata": {},
   "outputs": [],
   "source": [
    "data.fillna(0, inplace=True)"
   ]
  },
  {
   "cell_type": "code",
   "execution_count": null,
   "id": "57728cdb",
   "metadata": {},
   "outputs": [],
   "source": [
    "#data['new_cases_smoothed'] = data['new_cases_smoothed']+data['newCasesByPublishDateSmoothed']"
   ]
  },
  {
   "cell_type": "code",
   "execution_count": null,
   "id": "c37b6f32",
   "metadata": {},
   "outputs": [],
   "source": [
    "data.head(5)"
   ]
  },
  {
   "cell_type": "code",
   "execution_count": null,
   "id": "0be6151c",
   "metadata": {},
   "outputs": [],
   "source": [
    "data['date'] = pd.to_datetime(data['date'])\n",
    "data.sort_values(by='date', ascending=True, inplace=True)\n",
    "data = data.set_index('date')"
   ]
  },
  {
   "cell_type": "code",
   "execution_count": null,
   "id": "a5796a2d",
   "metadata": {},
   "outputs": [],
   "source": [
    "data.drop(columns=['tests_per_case', 'new_cases','new_tests','reproduction_rate',\n",
    "                   'positive_rate','total_vaccinations','stringency_index',\n",
    "            'people_vaccinated', 'people_fully_vaccinated', 'total_boosters',\n",
    "       'new_vaccinations','population',\n",
    "       'population_density', 'median_age', 'aged_65_older', 'aged_70_older',\n",
    "       'gdp_per_capita', 'extreme_poverty', 'cardiovasc_death_rate',\n",
    "       'diabetes_prevalence', 'female_smokers', 'male_smokers',\n",
    "       'life_expectancy', 'human_development_index', \n",
    "       'COVID-19 testing: (Ireland)', 'COVID-19 rapid antigen test: (Ireland)',\n",
    "       'Health Service Executive: (Ireland)', 'Vaccination: (Ireland)',\n",
    "       'book covid test: (Ireland)_x', 'how many covid cases today: (Ireland)',\n",
    "       'pcr covid test: (Ireland)', 'close contact covid: (Ireland)',\n",
    "       'book a covid test: (Ireland)', 'vaccination centre: (Ireland)',\n",
    "       'pharmacy near me: (Ireland)',\n",
    "       'Treatment and management of COVID-19: (Ireland)',\n",
    "       'Hand sanitizer: (Ireland)', 'Face mask: (Ireland)',\n",
    "       'book covid test: (Ireland)_y', 'covid test dublin: (Ireland)',\n",
    "       'covid test centre: (Ireland)', 'hse covid vaccine: (Ireland)',\n",
    "       'hse vaccine portal: (Ireland)', 'hse portal vaccine: (Ireland)',\n",
    "       'pcr test hse: (Ireland)', 'hse covid test: (Ireland)',\n",
    "       'hse vaccine registration: (Ireland)',\n",
    "       'how long will it take to vaccinate ireland: (Ireland)'],inplace=True)"
   ]
  },
  {
   "cell_type": "code",
   "execution_count": null,
   "id": "088be179",
   "metadata": {},
   "outputs": [],
   "source": [
    "data.describe().transpose()"
   ]
  },
  {
   "cell_type": "code",
   "execution_count": null,
   "id": "a148de30",
   "metadata": {},
   "outputs": [],
   "source": [
    "# Take a copy of dataframe without NaN values\n",
    "df = data.dropna()"
   ]
  },
  {
   "cell_type": "code",
   "execution_count": null,
   "id": "21f80d3e",
   "metadata": {},
   "outputs": [],
   "source": [
    "df.tail()"
   ]
  },
  {
   "cell_type": "code",
   "execution_count": null,
   "id": "ef3e23d5",
   "metadata": {},
   "outputs": [],
   "source": [
    "df.loc[:,'ncs'] = df.loc[:,'new_cases_smoothed'].shift(5)\n",
    "df.loc[:,'ncs_diff'] = df.loc[:,'ncs'].diff()\n",
    "df.loc[:,'ncs2'] = df.loc[:,'ncs'].shift()\n",
    "df.loc[:,'ncs_diff2'] = df.loc[:,'ncs2'].diff()\n",
    "df.loc[:,'ncs3'] = df.loc[:,'ncs2'].shift()\n",
    "df.loc[:,'ncs_diff3'] = df.loc[:,'ncs3'].diff()\n",
    "df.loc[:,'ncs4'] = df.loc[:,'ncs3'].shift()\n",
    "df.loc[:,'ncs_diff4'] = df.loc[:,'ncs4'].diff()\n",
    "df.loc[:,'ncs5'] = df.loc[:,'ncs4'].shift()\n",
    "df.loc[:,'ncs_diff5'] = df.loc[:,'ncs5'].diff()\n",
    "df.loc[:,'ncs6'] = df.loc[:,'ncs5'].shift()\n",
    "df.loc[:,'ncs_diff6'] = df.loc[:,'ncs6'].diff()\n",
    "df.loc[:,'ncs7'] = df.loc[:,'ncs6'].shift()\n",
    "df.loc[:,'ncs_diff7'] = df.loc[:,'ncs7'].diff()"
   ]
  },
  {
   "cell_type": "code",
   "execution_count": null,
   "id": "a40d55c6",
   "metadata": {},
   "outputs": [],
   "source": [
    "df.head(5)"
   ]
  },
  {
   "cell_type": "code",
   "execution_count": null,
   "id": "23eeeca8",
   "metadata": {},
   "outputs": [],
   "source": [
    "df.tail(5)"
   ]
  },
  {
   "cell_type": "markdown",
   "id": "d1d144e5",
   "metadata": {},
   "source": [
    "# USE THIS\n",
    "\n",
    "df.loc[:,'google'] = df.loc[:,'covid: (Ireland)'].shift(5)\n",
    "df.loc[:,'google_diff'] = df.loc[:,'google'].diff()\n",
    "df.loc[:,'google2'] = df.loc[:,'google'].shift()\n",
    "df.loc[:,'google_diff2'] = df.loc[:,'google2'].diff()\n",
    "df.loc[:,'google3'] = df.loc[:,'google2'].shift()\n",
    "df.loc[:,'google_diff3'] = df.loc[:,'google3'].diff()\n",
    "df.loc[:,'google4'] = df.loc[:,'google3'].shift()\n",
    "df.loc[:,'google_diff4'] = df.loc[:,'google4'].diff()\n",
    "df.loc[:,'google5'] = df.loc[:,'google4'].shift()\n",
    "df.loc[:,'google_diff5'] = df.loc[:,'google5'].diff()\n",
    "df.loc[:,'google6'] = df.loc[:,'google5'].shift()\n",
    "df.loc[:,'google_diff6'] = df.loc[:,'google6'].diff()\n",
    "df.loc[:,'google7'] = df.loc[:,'google6'].shift()\n",
    "df.loc[:,'google_diff7'] = df.loc[:,'google7'].diff()"
   ]
  },
  {
   "cell_type": "code",
   "execution_count": null,
   "id": "b9439338",
   "metadata": {},
   "outputs": [],
   "source": [
    "df = df.dropna()"
   ]
  },
  {
   "cell_type": "code",
   "execution_count": null,
   "id": "b8862104",
   "metadata": {},
   "outputs": [],
   "source": [
    "#df = df.fillna(method='ffill').fillna(method='bfill')"
   ]
  },
  {
   "cell_type": "code",
   "execution_count": null,
   "id": "687c1760",
   "metadata": {},
   "outputs": [],
   "source": [
    "df.head(5)"
   ]
  },
  {
   "cell_type": "code",
   "execution_count": null,
   "id": "8decddc2",
   "metadata": {},
   "outputs": [],
   "source": [
    "\n",
    "df.tail(5)"
   ]
  },
  {
   "cell_type": "code",
   "execution_count": null,
   "id": "ef1fce08",
   "metadata": {},
   "outputs": [],
   "source": [
    "df.shape\n"
   ]
  },
  {
   "cell_type": "code",
   "execution_count": null,
   "id": "9ed44274",
   "metadata": {},
   "outputs": [],
   "source": [
    "n = len(df)"
   ]
  },
  {
   "cell_type": "code",
   "execution_count": null,
   "id": "b0cc7c1b",
   "metadata": {},
   "outputs": [],
   "source": [
    "df.columns"
   ]
  },
  {
   "cell_type": "code",
   "execution_count": null,
   "id": "7c8cf97e",
   "metadata": {},
   "outputs": [],
   "source": [
    "variables = df.columns.drop(['covid: (Ireland)', 'ncs', 'ncs_diff', 'ncs2',\n",
    "       'ncs_diff2', 'ncs3', 'ncs_diff3', 'ncs4', 'ncs_diff4', 'ncs5',\n",
    "       'ncs_diff5', 'ncs6', 'ncs_diff6', 'ncs7', 'ncs_diff7'])"
   ]
  },
  {
   "cell_type": "code",
   "execution_count": null,
   "id": "ecbb556e",
   "metadata": {},
   "outputs": [],
   "source": [
    "X_train = df.iloc[0:int(n*0.7)].drop(['new_cases_smoothed'], axis=1)\n",
    "y_train = df.iloc[0:int(n*0.7)].drop(columns=variables, axis=1)"
   ]
  },
  {
   "cell_type": "code",
   "execution_count": null,
   "id": "dfe5a1c2",
   "metadata": {},
   "outputs": [],
   "source": [
    "X_test = df.iloc[int(n*0.7):int(n*0.9)].drop(['new_cases_smoothed'],axis=1)\n",
    "y_test = df.iloc[int(n*0.7):int(n*0.9)].drop(columns=variables, axis=1)"
   ]
  },
  {
   "cell_type": "code",
   "execution_count": null,
   "id": "3f7b840c",
   "metadata": {},
   "outputs": [],
   "source": [
    "X_val = df.iloc[int(n*0.9):].drop(['new_cases_smoothed'], axis=1)\n",
    "y_val = df.iloc[int(n*0.9):].drop(columns=variables, axis=1)"
   ]
  },
  {
   "cell_type": "code",
   "execution_count": null,
   "id": "c4344f1d",
   "metadata": {},
   "outputs": [],
   "source": [
    "X_train.head()"
   ]
  },
  {
   "cell_type": "code",
   "execution_count": null,
   "id": "a57b9820",
   "metadata": {},
   "outputs": [],
   "source": [
    "y_train.head()"
   ]
  },
  {
   "cell_type": "code",
   "execution_count": null,
   "id": "6bbff2ac",
   "metadata": {},
   "outputs": [],
   "source": [
    "X_test.head()"
   ]
  },
  {
   "cell_type": "code",
   "execution_count": null,
   "id": "5012b69f",
   "metadata": {},
   "outputs": [],
   "source": [
    "y_test.head()"
   ]
  },
  {
   "cell_type": "code",
   "execution_count": null,
   "id": "db7456ed",
   "metadata": {},
   "outputs": [],
   "source": [
    "X_val.head()"
   ]
  },
  {
   "cell_type": "code",
   "execution_count": null,
   "id": "4661ccf5",
   "metadata": {},
   "outputs": [],
   "source": [
    "y_val.head()"
   ]
  },
  {
   "cell_type": "code",
   "execution_count": null,
   "id": "b682e5f9",
   "metadata": {},
   "outputs": [],
   "source": [
    "model = MLPRegressor()"
   ]
  },
  {
   "cell_type": "code",
   "execution_count": null,
   "id": "11588baf",
   "metadata": {},
   "outputs": [],
   "source": [
    "param_search = {\n",
    "    \"hidden_layer_sizes\": [(1,),(50,),(100,),(150,),(200,),(250,),(300,),(350,)],\n",
    "    \"activation\": [\"identity\", \"logistic\", \"tanh\", \"relu\"],\n",
    "    \"solver\": [\"lbfgs\", \"sgd\", \"adam\"],\n",
    "    \"alpha\": [0.00005,0.0005, 0.005],\n",
    "    \"learning_rate\": ['constant', 'invscaling', 'adaptive']\n",
    "}"
   ]
  },
  {
   "cell_type": "code",
   "execution_count": null,
   "id": "b56bd488",
   "metadata": {},
   "outputs": [],
   "source": [
    "tsvc = TimeSeriesSplit(n_splits=5)\n",
    "gsearch = GridSearchCV(estimator=model, cv=tsvc, param_grid=param_search, scoring='r2')\n",
    "gsearch.fit(X_train, y_train)\n",
    "best_score = gsearch.best_score_\n",
    "best_model = gsearch.best_estimator_"
   ]
  },
  {
   "cell_type": "code",
   "execution_count": null,
   "id": "a2925844",
   "metadata": {},
   "outputs": [],
   "source": [
    "print(best_model)"
   ]
  },
  {
   "cell_type": "code",
   "execution_count": null,
   "id": "edea2642",
   "metadata": {},
   "outputs": [],
   "source": [
    "print(best_score)"
   ]
  },
  {
   "cell_type": "code",
   "execution_count": null,
   "id": "2d19a369",
   "metadata": {},
   "outputs": [],
   "source": [
    "y_pred = best_model.predict(X_test)\n",
    "\n",
    "print(r2_score(y_test, y_pred))"
   ]
  },
  {
   "cell_type": "code",
   "execution_count": null,
   "id": "7f98d932",
   "metadata": {},
   "outputs": [],
   "source": [
    "y_val_pred = best_model.predict(X_val)"
   ]
  },
  {
   "cell_type": "code",
   "execution_count": null,
   "id": "e73ae53d",
   "metadata": {},
   "outputs": [],
   "source": [
    "print(r2_score(y_val, y_val_pred))"
   ]
  },
  {
   "cell_type": "code",
   "execution_count": null,
   "id": "0fd14926",
   "metadata": {},
   "outputs": [],
   "source": [
    "y_test"
   ]
  },
  {
   "cell_type": "code",
   "execution_count": null,
   "id": "133fb4c2",
   "metadata": {},
   "outputs": [],
   "source": [
    "y_test['predictions'] = y_pred.tolist()\n"
   ]
  },
  {
   "cell_type": "code",
   "execution_count": null,
   "id": "267fdfcf",
   "metadata": {},
   "outputs": [],
   "source": [
    "y_test.reset_index(inplace=True)\n",
    "y_test.plot(x='date', y=['new_cases_smoothed','predictions'], linestyle=\"dashed\", figsize=(10,10))\n"
   ]
  },
  {
   "cell_type": "code",
   "execution_count": null,
   "id": "3c358bfe",
   "metadata": {},
   "outputs": [],
   "source": [
    "\n",
    "y_val['predictions'] = y_val_pred.tolist()"
   ]
  },
  {
   "cell_type": "code",
   "execution_count": null,
   "id": "029164b4",
   "metadata": {},
   "outputs": [],
   "source": [
    "y_val.reset_index(inplace=True)"
   ]
  },
  {
   "cell_type": "code",
   "execution_count": null,
   "id": "eff7bd33",
   "metadata": {},
   "outputs": [],
   "source": [
    "y_val.plot(x='date', y=['new_cases_smoothed', 'predictions'], linestyle=\"dashed\", figsize=(10,10))"
   ]
  },
  {
   "cell_type": "code",
   "execution_count": null,
   "id": "0130744c",
   "metadata": {},
   "outputs": [],
   "source": [
    "data.tail(25)"
   ]
  },
  {
   "cell_type": "code",
   "execution_count": null,
   "id": "da914b14",
   "metadata": {},
   "outputs": [],
   "source": [
    "owid = pd.read_csv(\"owid-covid-data(1).csv\")"
   ]
  },
  {
   "cell_type": "code",
   "execution_count": null,
   "id": "f9d63c40",
   "metadata": {},
   "outputs": [],
   "source": [
    "trend = pd.read_csv(\"multiTimeline(4).csv\", skiprows=2)"
   ]
  },
  {
   "cell_type": "code",
   "execution_count": null,
   "id": "f141f097",
   "metadata": {},
   "outputs": [],
   "source": [
    "owid.tail()"
   ]
  },
  {
   "cell_type": "code",
   "execution_count": null,
   "id": "ab8e9430",
   "metadata": {},
   "outputs": [],
   "source": [
    "trend.head()"
   ]
  },
  {
   "cell_type": "code",
   "execution_count": null,
   "id": "1abf597a",
   "metadata": {},
   "outputs": [],
   "source": [
    "combi = pd.merge(owid, trend, left_on='date', right_on='Day', how='left')"
   ]
  },
  {
   "cell_type": "code",
   "execution_count": null,
   "id": "d71726c0",
   "metadata": {},
   "outputs": [],
   "source": [
    "combi['new_cases_smoothed'].fillna(method='ffill', inplace=True)"
   ]
  },
  {
   "cell_type": "code",
   "execution_count": null,
   "id": "978e2512",
   "metadata": {},
   "outputs": [],
   "source": [
    "combi.tail()"
   ]
  },
  {
   "cell_type": "code",
   "execution_count": null,
   "id": "ef27ef19",
   "metadata": {},
   "outputs": [],
   "source": [
    "combi.drop(columns=['Day'], inplace=True)"
   ]
  },
  {
   "cell_type": "code",
   "execution_count": null,
   "id": "1f02bf90",
   "metadata": {},
   "outputs": [],
   "source": [
    "combi.loc[:,'ncs'] = combi.loc[:,'new_cases_smoothed'].shift(5)\n",
    "combi.loc[:,'ncs_diff'] = combi.loc[:,'ncs'].diff()\n",
    "combi.loc[:,'ncs2'] = combi.loc[:,'ncs'].shift()\n",
    "combi.loc[:,'ncs_diff2'] = combi.loc[:,'ncs2'].diff()\n",
    "combi.loc[:,'ncs3'] = combi.loc[:,'ncs2'].shift()\n",
    "combi.loc[:,'ncs_diff3'] = combi.loc[:,'ncs3'].diff()\n",
    "combi.loc[:,'ncs4'] = combi.loc[:,'ncs3'].shift()\n",
    "combi.loc[:,'ncs_diff4'] = combi.loc[:,'ncs4'].diff()\n",
    "combi.loc[:,'ncs5'] = combi.loc[:,'ncs4'].shift()\n",
    "combi.loc[:,'ncs_diff5'] = combi.loc[:,'ncs5'].diff()\n",
    "combi.loc[:,'ncs6'] = combi.loc[:,'ncs5'].shift()\n",
    "combi.loc[:,'ncs_diff6'] = combi.loc[:,'ncs6'].diff()\n",
    "combi.loc[:,'ncs7'] = combi.loc[:,'ncs6'].shift()\n",
    "combi.loc[:,'ncs_diff7'] = combi.loc[:,'ncs7'].diff()"
   ]
  },
  {
   "cell_type": "code",
   "execution_count": null,
   "id": "6848bdce",
   "metadata": {},
   "outputs": [],
   "source": [
    "combi.loc[:,'google'] = combi.loc[:,'COVID: (Ireland)'].shift(5)\n",
    "combi.loc[:,'google_diff'] = combi.loc[:,'google'].diff()\n",
    "combi.loc[:,'google2'] = combi.loc[:,'google'].shift()\n",
    "combi.loc[:,'google_diff2'] = combi.loc[:,'google2'].diff()\n",
    "combi.loc[:,'google3'] = combi.loc[:,'google2'].shift()\n",
    "combi.loc[:,'google_diff3'] = combi.loc[:,'google3'].diff()\n",
    "combi.loc[:,'google4'] = combi.loc[:,'google3'].shift()\n",
    "combi.loc[:,'google_diff4'] = combi.loc[:,'google4'].diff()\n",
    "combi.loc[:,'google5'] = combi.loc[:,'google4'].shift()\n",
    "combi.loc[:,'google_diff5'] = combi.loc[:,'google5'].diff()\n",
    "combi.loc[:,'google6'] = combi.loc[:,'google5'].shift()\n",
    "combi.loc[:,'google_diff6'] = combi.loc[:,'google6'].diff()\n",
    "combi.loc[:,'google7'] = combi.loc[:,'google6'].shift()\n",
    "combi.loc[:,'google_diff7'] = combi.loc[:,'google7'].diff()"
   ]
  },
  {
   "cell_type": "code",
   "execution_count": null,
   "id": "b55f593e",
   "metadata": {},
   "outputs": [],
   "source": [
    "combi.head()"
   ]
  },
  {
   "cell_type": "code",
   "execution_count": null,
   "id": "ed688fb1",
   "metadata": {},
   "outputs": [],
   "source": [
    "combi.tail(30)"
   ]
  },
  {
   "cell_type": "code",
   "execution_count": null,
   "id": "c860a65d",
   "metadata": {},
   "outputs": [],
   "source": [
    "combi['date'] = pd.to_datetime(combi['date'])"
   ]
  },
  {
   "cell_type": "code",
   "execution_count": null,
   "id": "d5918631",
   "metadata": {},
   "outputs": [],
   "source": [
    "dates = combi.iloc[729:743,0]"
   ]
  },
  {
   "cell_type": "code",
   "execution_count": null,
   "id": "5d04bf94",
   "metadata": {},
   "outputs": [],
   "source": [
    "x_combi_slice = combi.iloc[717:731,:]"
   ]
  },
  {
   "cell_type": "code",
   "execution_count": null,
   "id": "620f7412",
   "metadata": {},
   "outputs": [],
   "source": [
    "x_combi_slice.drop(columns=['new_cases_smoothed','COVID: (Ireland)'], inplace=True)"
   ]
  },
  {
   "cell_type": "code",
   "execution_count": null,
   "id": "cb871d9c",
   "metadata": {},
   "outputs": [],
   "source": [
    "x_combi_slice.set_index('date', inplace=True)"
   ]
  },
  {
   "cell_type": "code",
   "execution_count": null,
   "id": "0a74f7d5",
   "metadata": {},
   "outputs": [],
   "source": [
    "x_combi_slice"
   ]
  },
  {
   "cell_type": "code",
   "execution_count": null,
   "id": "39cc3497",
   "metadata": {},
   "outputs": [],
   "source": [
    "x_combi_slice.fillna(method='ffill', inplace=True)"
   ]
  },
  {
   "cell_type": "code",
   "execution_count": null,
   "id": "c0ed5906",
   "metadata": {},
   "outputs": [],
   "source": [
    "y_combi_slice = combi.iloc[729:743,1]"
   ]
  },
  {
   "cell_type": "code",
   "execution_count": null,
   "id": "17636974",
   "metadata": {},
   "outputs": [],
   "source": [
    "y_combi_slice.shape"
   ]
  },
  {
   "cell_type": "code",
   "execution_count": null,
   "id": "a02daa81",
   "metadata": {},
   "outputs": [],
   "source": [
    "y_combi_slice = y_combi_slice.to_frame()\n"
   ]
  },
  {
   "cell_type": "code",
   "execution_count": null,
   "id": "c1832d63",
   "metadata": {},
   "outputs": [],
   "source": [
    "y_combi_slice_pred = best_model.predict(x_combi_slice)"
   ]
  },
  {
   "cell_type": "code",
   "execution_count": null,
   "id": "f000465b",
   "metadata": {},
   "outputs": [],
   "source": [
    "print(r2_score(y_combi_slice, y_combi_slice_pred))"
   ]
  },
  {
   "cell_type": "code",
   "execution_count": null,
   "id": "de48d9bc",
   "metadata": {},
   "outputs": [],
   "source": [
    "y_combi_slice['predictions'] = y_combi_slice_pred.tolist()"
   ]
  },
  {
   "cell_type": "code",
   "execution_count": null,
   "id": "f31f24da",
   "metadata": {},
   "outputs": [],
   "source": [
    "y_combi_slice['dates'] = dates.tolist()"
   ]
  },
  {
   "cell_type": "code",
   "execution_count": null,
   "id": "439a459e",
   "metadata": {},
   "outputs": [],
   "source": [
    "y_combi_slice.reset_index(inplace=True)\n",
    "y_combi_slice.plot(x='dates', y=['new_cases_smoothed','predictions'], linestyle=\"dashed\", figsize=(10,10))"
   ]
  },
  {
   "cell_type": "code",
   "execution_count": null,
   "id": "7f534739",
   "metadata": {},
   "outputs": [],
   "source": []
  }
 ],
 "metadata": {
  "kernelspec": {
   "display_name": "Python 3",
   "language": "python",
   "name": "python3"
  },
  "language_info": {
   "codemirror_mode": {
    "name": "ipython",
    "version": 3
   },
   "file_extension": ".py",
   "mimetype": "text/x-python",
   "name": "python",
   "nbconvert_exporter": "python",
   "pygments_lexer": "ipython3",
   "version": "3.8.6"
  }
 },
 "nbformat": 4,
 "nbformat_minor": 5
}
