{
 "cells": [
  {
   "cell_type": "code",
   "execution_count": 15,
   "id": "adequate-shepherd",
   "metadata": {},
   "outputs": [],
   "source": [
    "import pandas as pd \n",
    "import numpy as np \n",
    "from datetime import datetime as dt\n",
    "from matplotlib import pyplot as plt, dates as mdates\n",
    "\n",
    "new_size = plt.rcParams[\"figure.figsize\"] = (10,10)\n",
    "\n",
    "import warnings\n",
    "warnings.filterwarnings('ignore')"
   ]
  },
  {
   "cell_type": "code",
   "execution_count": 2,
   "id": "defensive-ancient",
   "metadata": {},
   "outputs": [],
   "source": [
    "df = pd.read_csv(\"DataSet.csv\")\n"
   ]
  },
  {
   "cell_type": "code",
   "execution_count": 3,
   "id": "democratic-magazine",
   "metadata": {},
   "outputs": [
    {
     "data": {
      "text/html": [
       "<div>\n",
       "<style scoped>\n",
       "    .dataframe tbody tr th:only-of-type {\n",
       "        vertical-align: middle;\n",
       "    }\n",
       "\n",
       "    .dataframe tbody tr th {\n",
       "        vertical-align: top;\n",
       "    }\n",
       "\n",
       "    .dataframe thead th {\n",
       "        text-align: right;\n",
       "    }\n",
       "</style>\n",
       "<table border=\"1\" class=\"dataframe\">\n",
       "  <thead>\n",
       "    <tr style=\"text-align: right;\">\n",
       "      <th></th>\n",
       "      <th>count</th>\n",
       "      <th>mean</th>\n",
       "      <th>std</th>\n",
       "      <th>min</th>\n",
       "      <th>25%</th>\n",
       "      <th>50%</th>\n",
       "      <th>75%</th>\n",
       "      <th>max</th>\n",
       "    </tr>\n",
       "  </thead>\n",
       "  <tbody>\n",
       "    <tr>\n",
       "      <th>new_cases_smoothed_ROI</th>\n",
       "      <td>711.0</td>\n",
       "      <td>1823.177414</td>\n",
       "      <td>3396.716734</td>\n",
       "      <td>2.429</td>\n",
       "      <td>276.285500</td>\n",
       "      <td>543.286000</td>\n",
       "      <td>1755.785500</td>\n",
       "      <td>23752.000000</td>\n",
       "    </tr>\n",
       "    <tr>\n",
       "      <th>stringency_index_ROI</th>\n",
       "      <td>739.0</td>\n",
       "      <td>60.104384</td>\n",
       "      <td>21.170897</td>\n",
       "      <td>11.110</td>\n",
       "      <td>44.440000</td>\n",
       "      <td>55.090000</td>\n",
       "      <td>81.480000</td>\n",
       "      <td>90.740000</td>\n",
       "    </tr>\n",
       "    <tr>\n",
       "      <th>new_cases_smoothed_NI</th>\n",
       "      <td>739.0</td>\n",
       "      <td>372.288104</td>\n",
       "      <td>348.920281</td>\n",
       "      <td>2.000</td>\n",
       "      <td>60.903035</td>\n",
       "      <td>309.655122</td>\n",
       "      <td>500.560061</td>\n",
       "      <td>1391.109156</td>\n",
       "    </tr>\n",
       "    <tr>\n",
       "      <th>COVID: (Ireland)</th>\n",
       "      <td>739.0</td>\n",
       "      <td>29.391069</td>\n",
       "      <td>13.712296</td>\n",
       "      <td>14.000</td>\n",
       "      <td>20.000000</td>\n",
       "      <td>26.000000</td>\n",
       "      <td>34.000000</td>\n",
       "      <td>100.000000</td>\n",
       "    </tr>\n",
       "    <tr>\n",
       "      <th>COVID: (Northern Ireland)</th>\n",
       "      <td>739.0</td>\n",
       "      <td>36.274696</td>\n",
       "      <td>14.342275</td>\n",
       "      <td>14.000</td>\n",
       "      <td>27.000000</td>\n",
       "      <td>34.000000</td>\n",
       "      <td>43.000000</td>\n",
       "      <td>100.000000</td>\n",
       "    </tr>\n",
       "  </tbody>\n",
       "</table>\n",
       "</div>"
      ],
      "text/plain": [
       "                           count         mean          std     min  \\\n",
       "new_cases_smoothed_ROI     711.0  1823.177414  3396.716734   2.429   \n",
       "stringency_index_ROI       739.0    60.104384    21.170897  11.110   \n",
       "new_cases_smoothed_NI      739.0   372.288104   348.920281   2.000   \n",
       "COVID: (Ireland)           739.0    29.391069    13.712296  14.000   \n",
       "COVID: (Northern Ireland)  739.0    36.274696    14.342275  14.000   \n",
       "\n",
       "                                  25%         50%          75%           max  \n",
       "new_cases_smoothed_ROI     276.285500  543.286000  1755.785500  23752.000000  \n",
       "stringency_index_ROI        44.440000   55.090000    81.480000     90.740000  \n",
       "new_cases_smoothed_NI       60.903035  309.655122   500.560061   1391.109156  \n",
       "COVID: (Ireland)            20.000000   26.000000    34.000000    100.000000  \n",
       "COVID: (Northern Ireland)   27.000000   34.000000    43.000000    100.000000  "
      ]
     },
     "execution_count": 3,
     "metadata": {},
     "output_type": "execute_result"
    }
   ],
   "source": [
    "# check for missing values\n",
    "df.describe().transpose()"
   ]
  },
  {
   "cell_type": "code",
   "execution_count": 4,
   "id": "7a2808e0",
   "metadata": {},
   "outputs": [],
   "source": [
    "# Use forward fill to replace the missing values\n",
    "df['new_cases_smoothed_ROI'].fillna(method='ffill', inplace=True)"
   ]
  },
  {
   "cell_type": "code",
   "execution_count": 5,
   "id": "d44d97b8",
   "metadata": {},
   "outputs": [
    {
     "data": {
      "text/html": [
       "<div>\n",
       "<style scoped>\n",
       "    .dataframe tbody tr th:only-of-type {\n",
       "        vertical-align: middle;\n",
       "    }\n",
       "\n",
       "    .dataframe tbody tr th {\n",
       "        vertical-align: top;\n",
       "    }\n",
       "\n",
       "    .dataframe thead th {\n",
       "        text-align: right;\n",
       "    }\n",
       "</style>\n",
       "<table border=\"1\" class=\"dataframe\">\n",
       "  <thead>\n",
       "    <tr style=\"text-align: right;\">\n",
       "      <th></th>\n",
       "      <th>count</th>\n",
       "      <th>mean</th>\n",
       "      <th>std</th>\n",
       "      <th>min</th>\n",
       "      <th>25%</th>\n",
       "      <th>50%</th>\n",
       "      <th>75%</th>\n",
       "      <th>max</th>\n",
       "    </tr>\n",
       "  </thead>\n",
       "  <tbody>\n",
       "    <tr>\n",
       "      <th>new_cases_smoothed_ROI</th>\n",
       "      <td>739.0</td>\n",
       "      <td>1832.751210</td>\n",
       "      <td>3348.781724</td>\n",
       "      <td>2.429</td>\n",
       "      <td>286.500000</td>\n",
       "      <td>551.143000</td>\n",
       "      <td>1755.785500</td>\n",
       "      <td>23752.000000</td>\n",
       "    </tr>\n",
       "    <tr>\n",
       "      <th>stringency_index_ROI</th>\n",
       "      <td>739.0</td>\n",
       "      <td>60.104384</td>\n",
       "      <td>21.170897</td>\n",
       "      <td>11.110</td>\n",
       "      <td>44.440000</td>\n",
       "      <td>55.090000</td>\n",
       "      <td>81.480000</td>\n",
       "      <td>90.740000</td>\n",
       "    </tr>\n",
       "    <tr>\n",
       "      <th>new_cases_smoothed_NI</th>\n",
       "      <td>739.0</td>\n",
       "      <td>372.288104</td>\n",
       "      <td>348.920281</td>\n",
       "      <td>2.000</td>\n",
       "      <td>60.903035</td>\n",
       "      <td>309.655122</td>\n",
       "      <td>500.560061</td>\n",
       "      <td>1391.109156</td>\n",
       "    </tr>\n",
       "    <tr>\n",
       "      <th>COVID: (Ireland)</th>\n",
       "      <td>739.0</td>\n",
       "      <td>29.391069</td>\n",
       "      <td>13.712296</td>\n",
       "      <td>14.000</td>\n",
       "      <td>20.000000</td>\n",
       "      <td>26.000000</td>\n",
       "      <td>34.000000</td>\n",
       "      <td>100.000000</td>\n",
       "    </tr>\n",
       "    <tr>\n",
       "      <th>COVID: (Northern Ireland)</th>\n",
       "      <td>739.0</td>\n",
       "      <td>36.274696</td>\n",
       "      <td>14.342275</td>\n",
       "      <td>14.000</td>\n",
       "      <td>27.000000</td>\n",
       "      <td>34.000000</td>\n",
       "      <td>43.000000</td>\n",
       "      <td>100.000000</td>\n",
       "    </tr>\n",
       "  </tbody>\n",
       "</table>\n",
       "</div>"
      ],
      "text/plain": [
       "                           count         mean          std     min  \\\n",
       "new_cases_smoothed_ROI     739.0  1832.751210  3348.781724   2.429   \n",
       "stringency_index_ROI       739.0    60.104384    21.170897  11.110   \n",
       "new_cases_smoothed_NI      739.0   372.288104   348.920281   2.000   \n",
       "COVID: (Ireland)           739.0    29.391069    13.712296  14.000   \n",
       "COVID: (Northern Ireland)  739.0    36.274696    14.342275  14.000   \n",
       "\n",
       "                                  25%         50%          75%           max  \n",
       "new_cases_smoothed_ROI     286.500000  551.143000  1755.785500  23752.000000  \n",
       "stringency_index_ROI        44.440000   55.090000    81.480000     90.740000  \n",
       "new_cases_smoothed_NI       60.903035  309.655122   500.560061   1391.109156  \n",
       "COVID: (Ireland)            20.000000   26.000000    34.000000    100.000000  \n",
       "COVID: (Northern Ireland)   27.000000   34.000000    43.000000    100.000000  "
      ]
     },
     "execution_count": 5,
     "metadata": {},
     "output_type": "execute_result"
    }
   ],
   "source": [
    "# re-check this missing values have been filled\n",
    "df.describe().transpose()"
   ]
  },
  {
   "cell_type": "code",
   "execution_count": 6,
   "id": "floral-latest",
   "metadata": {},
   "outputs": [],
   "source": [
    "# ensure the dates are correctly formated\n",
    "df[\"date\"] = pd.to_datetime(df[\"date\"], format='%d/%m/%Y')"
   ]
  },
  {
   "cell_type": "code",
   "execution_count": 7,
   "id": "3bf70d02",
   "metadata": {},
   "outputs": [],
   "source": [
    "# set the index as date \n",
    "df.set_index(\"date\", inplace=True)"
   ]
  },
  {
   "cell_type": "code",
   "execution_count": 8,
   "id": "f065566e",
   "metadata": {},
   "outputs": [],
   "source": [
    "# add the ROI new cases smoothed with the NI new cases smoothed\n",
    "df['ROI_NI'] = df['new_cases_smoothed_ROI']+df['new_cases_smoothed_NI']"
   ]
  },
  {
   "cell_type": "code",
   "execution_count": 9,
   "id": "27d08142",
   "metadata": {},
   "outputs": [
    {
     "data": {
      "text/html": [
       "<div>\n",
       "<style scoped>\n",
       "    .dataframe tbody tr th:only-of-type {\n",
       "        vertical-align: middle;\n",
       "    }\n",
       "\n",
       "    .dataframe tbody tr th {\n",
       "        vertical-align: top;\n",
       "    }\n",
       "\n",
       "    .dataframe thead th {\n",
       "        text-align: right;\n",
       "    }\n",
       "</style>\n",
       "<table border=\"1\" class=\"dataframe\">\n",
       "  <thead>\n",
       "    <tr style=\"text-align: right;\">\n",
       "      <th></th>\n",
       "      <th>new_cases_smoothed_ROI</th>\n",
       "      <th>stringency_index_ROI</th>\n",
       "      <th>new_cases_smoothed_NI</th>\n",
       "      <th>COVID: (Ireland)</th>\n",
       "      <th>COVID: (Northern Ireland)</th>\n",
       "      <th>ROI_NI</th>\n",
       "    </tr>\n",
       "    <tr>\n",
       "      <th>date</th>\n",
       "      <th></th>\n",
       "      <th></th>\n",
       "      <th></th>\n",
       "      <th></th>\n",
       "      <th></th>\n",
       "      <th></th>\n",
       "    </tr>\n",
       "  </thead>\n",
       "  <tbody>\n",
       "    <tr>\n",
       "      <th>2022-03-10</th>\n",
       "      <td>3085.143</td>\n",
       "      <td>14.81</td>\n",
       "      <td>1384.048922</td>\n",
       "      <td>17</td>\n",
       "      <td>25</td>\n",
       "      <td>4469.191922</td>\n",
       "    </tr>\n",
       "    <tr>\n",
       "      <th>2022-03-11</th>\n",
       "      <td>3818.000</td>\n",
       "      <td>14.81</td>\n",
       "      <td>1386.819135</td>\n",
       "      <td>17</td>\n",
       "      <td>25</td>\n",
       "      <td>5204.819135</td>\n",
       "    </tr>\n",
       "    <tr>\n",
       "      <th>2022-03-12</th>\n",
       "      <td>3818.000</td>\n",
       "      <td>14.81</td>\n",
       "      <td>1382.484650</td>\n",
       "      <td>17</td>\n",
       "      <td>25</td>\n",
       "      <td>5200.484650</td>\n",
       "    </tr>\n",
       "    <tr>\n",
       "      <th>2022-03-13</th>\n",
       "      <td>3818.000</td>\n",
       "      <td>14.81</td>\n",
       "      <td>1378.165554</td>\n",
       "      <td>17</td>\n",
       "      <td>25</td>\n",
       "      <td>5196.165554</td>\n",
       "    </tr>\n",
       "    <tr>\n",
       "      <th>2022-03-14</th>\n",
       "      <td>4448.857</td>\n",
       "      <td>14.81</td>\n",
       "      <td>1391.109156</td>\n",
       "      <td>17</td>\n",
       "      <td>25</td>\n",
       "      <td>5839.966156</td>\n",
       "    </tr>\n",
       "  </tbody>\n",
       "</table>\n",
       "</div>"
      ],
      "text/plain": [
       "            new_cases_smoothed_ROI  stringency_index_ROI  \\\n",
       "date                                                       \n",
       "2022-03-10                3085.143                 14.81   \n",
       "2022-03-11                3818.000                 14.81   \n",
       "2022-03-12                3818.000                 14.81   \n",
       "2022-03-13                3818.000                 14.81   \n",
       "2022-03-14                4448.857                 14.81   \n",
       "\n",
       "            new_cases_smoothed_NI  COVID: (Ireland)  \\\n",
       "date                                                  \n",
       "2022-03-10            1384.048922                17   \n",
       "2022-03-11            1386.819135                17   \n",
       "2022-03-12            1382.484650                17   \n",
       "2022-03-13            1378.165554                17   \n",
       "2022-03-14            1391.109156                17   \n",
       "\n",
       "            COVID: (Northern Ireland)       ROI_NI  \n",
       "date                                                \n",
       "2022-03-10                         25  4469.191922  \n",
       "2022-03-11                         25  5204.819135  \n",
       "2022-03-12                         25  5200.484650  \n",
       "2022-03-13                         25  5196.165554  \n",
       "2022-03-14                         25  5839.966156  "
      ]
     },
     "execution_count": 9,
     "metadata": {},
     "output_type": "execute_result"
    }
   ],
   "source": [
    "# check the date format is correct\n",
    "df.tail()"
   ]
  },
  {
   "cell_type": "code",
   "execution_count": 10,
   "id": "e2858acf",
   "metadata": {},
   "outputs": [
    {
     "data": {
      "text/plain": [
       "Index(['new_cases_smoothed_ROI', 'stringency_index_ROI',\n",
       "       'new_cases_smoothed_NI', 'COVID: (Ireland)',\n",
       "       'COVID: (Northern Ireland)', 'ROI_NI'],\n",
       "      dtype='object')"
      ]
     },
     "execution_count": 10,
     "metadata": {},
     "output_type": "execute_result"
    }
   ],
   "source": [
    "df.columns"
   ]
  },
  {
   "cell_type": "code",
   "execution_count": 11,
   "id": "aa8259fc",
   "metadata": {},
   "outputs": [],
   "source": [
    "df_chart = df.drop(columns=['stringency_index_ROI','COVID: (Ireland)',\n",
    "       'COVID: (Northern Ireland)', ])"
   ]
  },
  {
   "cell_type": "code",
   "execution_count": 12,
   "id": "540689c7",
   "metadata": {},
   "outputs": [],
   "source": [
    "df_chart.reset_index(inplace=True)"
   ]
  },
  {
   "cell_type": "code",
   "execution_count": 25,
   "id": "a8c59aad",
   "metadata": {},
   "outputs": [
    {
     "data": {
      "image/png": "[encoded data removed]",
      "text/plain": [
       "<Figure size 720x720 with 1 Axes>"
      ]
     },
     "metadata": {
      "needs_background": "light"
     },
     "output_type": "display_data"
    }
   ],
   "source": [
    "x = df_chart['date']\n",
    "ax = plt.gca()\n",
    "\n",
    "formatter = mdates.DateFormatter(\"%d-%m-%Y\")\n",
    "ax.xaxis.set_major_formatter(formatter)\n",
    "locator = mdates.MonthLocator()\n",
    "ax.xaxis.set_major_locator(locator)\n",
    "y1 = df_chart['new_cases_smoothed_ROI']\n",
    "plt.plot(x, y1,'-', color='blue')\n",
    "y2 = df_chart['new_cases_smoothed_NI']\n",
    "plt.plot(x, y2,'-', color='orange')\n",
    "y3 = df_chart['ROI_NI']\n",
    "plt.plot(x, y3,'-', color='green')\n",
    "plt.title(\"New Cases Smoothed: Republic of Ireland, Northern Ireland and Island of Ireland\", fontsize=16)\n",
    "plt.legend(['Republic of Ireland','Northern Ireland', 'Island of Ireland'])\n",
    "plt.xticks(rotation=30)\n",
    "plt.ylabel(\"Number of Daily Cases\", fontsize=12)\n",
    "plt.xlabel(\"Month\", fontsize=12)\n",
    "plt.savefig(\"NewCases.jpeg\")\n",
    "plt.show()\n"
   ]
  },
  {
   "cell_type": "code",
   "execution_count": null,
   "id": "575a0af5",
   "metadata": {},
   "outputs": [],
   "source": []
  }
 ],
 "metadata": {
  "kernelspec": {
   "display_name": "Python 3",
   "language": "python",
   "name": "python3"
  },
  "language_info": {
   "codemirror_mode": {
    "name": "ipython",
    "version": 3
   },
   "file_extension": ".py",
   "mimetype": "text/x-python",
   "name": "python",
   "nbconvert_exporter": "python",
   "pygments_lexer": "ipython3",
   "version": "3.8.6"
  }
 },
 "nbformat": 4,
 "nbformat_minor": 5
}
