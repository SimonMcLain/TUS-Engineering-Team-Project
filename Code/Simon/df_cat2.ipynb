{
 "cells": [
  {
   "cell_type": "code",
   "execution_count": 1,
   "id": "adequate-shepherd",
   "metadata": {},
   "outputs": [],
   "source": [
    "import pandas as pd \n",
    "import numpy as np \n",
    "import matplotlib.pyplot as plt\n",
    "\n",
    "from sklearn.model_selection import TimeSeriesSplit, cross_val_score\n",
    "from sklearn.neural_network import MLPRegressor\n",
    "\n",
    "from datetime import datetime as dt\n",
    "from matplotlib import pyplot as plt, dates as mdates\n",
    "\n",
    "from sklearn.model_selection import GridSearchCV\n",
    "from sklearn.metrics import r2_score\n",
    "\n",
    "new_size = plt.rcParams[\"figure.figsize\"] = (8,8)\n",
    "\n",
    "import warnings\n",
    "warnings.filterwarnings('ignore')"
   ]
  },
  {
   "cell_type": "code",
   "execution_count": 2,
   "id": "defensive-ancient",
   "metadata": {},
   "outputs": [],
   "source": [
    "df = pd.read_csv(\"DataSet.csv\")\n"
   ]
  },
  {
   "cell_type": "code",
   "execution_count": 3,
   "id": "democratic-magazine",
   "metadata": {},
   "outputs": [
    {
     "data": {
      "text/html": [
       "<div>\n",
       "<style scoped>\n",
       "    .dataframe tbody tr th:only-of-type {\n",
       "        vertical-align: middle;\n",
       "    }\n",
       "\n",
       "    .dataframe tbody tr th {\n",
       "        vertical-align: top;\n",
       "    }\n",
       "\n",
       "    .dataframe thead th {\n",
       "        text-align: right;\n",
       "    }\n",
       "</style>\n",
       "<table border=\"1\" class=\"dataframe\">\n",
       "  <thead>\n",
       "    <tr style=\"text-align: right;\">\n",
       "      <th></th>\n",
       "      <th>count</th>\n",
       "      <th>mean</th>\n",
       "      <th>std</th>\n",
       "      <th>min</th>\n",
       "      <th>25%</th>\n",
       "      <th>50%</th>\n",
       "      <th>75%</th>\n",
       "      <th>max</th>\n",
       "    </tr>\n",
       "  </thead>\n",
       "  <tbody>\n",
       "    <tr>\n",
       "      <th>new_cases_smoothed_ROI</th>\n",
       "      <td>711.0</td>\n",
       "      <td>1823.177414</td>\n",
       "      <td>3396.716734</td>\n",
       "      <td>2.429</td>\n",
       "      <td>276.285500</td>\n",
       "      <td>543.286000</td>\n",
       "      <td>1755.785500</td>\n",
       "      <td>23752.000000</td>\n",
       "    </tr>\n",
       "    <tr>\n",
       "      <th>stringency_index_ROI</th>\n",
       "      <td>739.0</td>\n",
       "      <td>60.104384</td>\n",
       "      <td>21.170897</td>\n",
       "      <td>11.110</td>\n",
       "      <td>44.440000</td>\n",
       "      <td>55.090000</td>\n",
       "      <td>81.480000</td>\n",
       "      <td>90.740000</td>\n",
       "    </tr>\n",
       "    <tr>\n",
       "      <th>new_cases_smoothed_NI</th>\n",
       "      <td>739.0</td>\n",
       "      <td>372.288104</td>\n",
       "      <td>348.920281</td>\n",
       "      <td>2.000</td>\n",
       "      <td>60.903035</td>\n",
       "      <td>309.655122</td>\n",
       "      <td>500.560061</td>\n",
       "      <td>1391.109156</td>\n",
       "    </tr>\n",
       "    <tr>\n",
       "      <th>COVID: (Ireland)</th>\n",
       "      <td>739.0</td>\n",
       "      <td>29.391069</td>\n",
       "      <td>13.712296</td>\n",
       "      <td>14.000</td>\n",
       "      <td>20.000000</td>\n",
       "      <td>26.000000</td>\n",
       "      <td>34.000000</td>\n",
       "      <td>100.000000</td>\n",
       "    </tr>\n",
       "    <tr>\n",
       "      <th>COVID: (Northern Ireland)</th>\n",
       "      <td>739.0</td>\n",
       "      <td>36.274696</td>\n",
       "      <td>14.342275</td>\n",
       "      <td>14.000</td>\n",
       "      <td>27.000000</td>\n",
       "      <td>34.000000</td>\n",
       "      <td>43.000000</td>\n",
       "      <td>100.000000</td>\n",
       "    </tr>\n",
       "  </tbody>\n",
       "</table>\n",
       "</div>"
      ],
      "text/plain": [
       "                           count         mean          std     min  \\\n",
       "new_cases_smoothed_ROI     711.0  1823.177414  3396.716734   2.429   \n",
       "stringency_index_ROI       739.0    60.104384    21.170897  11.110   \n",
       "new_cases_smoothed_NI      739.0   372.288104   348.920281   2.000   \n",
       "COVID: (Ireland)           739.0    29.391069    13.712296  14.000   \n",
       "COVID: (Northern Ireland)  739.0    36.274696    14.342275  14.000   \n",
       "\n",
       "                                  25%         50%          75%           max  \n",
       "new_cases_smoothed_ROI     276.285500  543.286000  1755.785500  23752.000000  \n",
       "stringency_index_ROI        44.440000   55.090000    81.480000     90.740000  \n",
       "new_cases_smoothed_NI       60.903035  309.655122   500.560061   1391.109156  \n",
       "COVID: (Ireland)            20.000000   26.000000    34.000000    100.000000  \n",
       "COVID: (Northern Ireland)   27.000000   34.000000    43.000000    100.000000  "
      ]
     },
     "execution_count": 3,
     "metadata": {},
     "output_type": "execute_result"
    }
   ],
   "source": [
    "# check for missing values\n",
    "df.describe().transpose()"
   ]
  },
  {
   "cell_type": "code",
   "execution_count": 4,
   "id": "7a2808e0",
   "metadata": {},
   "outputs": [],
   "source": [
    "# Use forward fill to replace the missing values\n",
    "df['new_cases_smoothed_ROI'].fillna(method='ffill', inplace=True)"
   ]
  },
  {
   "cell_type": "code",
   "execution_count": 5,
   "id": "d44d97b8",
   "metadata": {},
   "outputs": [
    {
     "data": {
      "text/html": [
       "<div>\n",
       "<style scoped>\n",
       "    .dataframe tbody tr th:only-of-type {\n",
       "        vertical-align: middle;\n",
       "    }\n",
       "\n",
       "    .dataframe tbody tr th {\n",
       "        vertical-align: top;\n",
       "    }\n",
       "\n",
       "    .dataframe thead th {\n",
       "        text-align: right;\n",
       "    }\n",
       "</style>\n",
       "<table border=\"1\" class=\"dataframe\">\n",
       "  <thead>\n",
       "    <tr style=\"text-align: right;\">\n",
       "      <th></th>\n",
       "      <th>count</th>\n",
       "      <th>mean</th>\n",
       "      <th>std</th>\n",
       "      <th>min</th>\n",
       "      <th>25%</th>\n",
       "      <th>50%</th>\n",
       "      <th>75%</th>\n",
       "      <th>max</th>\n",
       "    </tr>\n",
       "  </thead>\n",
       "  <tbody>\n",
       "    <tr>\n",
       "      <th>new_cases_smoothed_ROI</th>\n",
       "      <td>739.0</td>\n",
       "      <td>1832.751210</td>\n",
       "      <td>3348.781724</td>\n",
       "      <td>2.429</td>\n",
       "      <td>286.500000</td>\n",
       "      <td>551.143000</td>\n",
       "      <td>1755.785500</td>\n",
       "      <td>23752.000000</td>\n",
       "    </tr>\n",
       "    <tr>\n",
       "      <th>stringency_index_ROI</th>\n",
       "      <td>739.0</td>\n",
       "      <td>60.104384</td>\n",
       "      <td>21.170897</td>\n",
       "      <td>11.110</td>\n",
       "      <td>44.440000</td>\n",
       "      <td>55.090000</td>\n",
       "      <td>81.480000</td>\n",
       "      <td>90.740000</td>\n",
       "    </tr>\n",
       "    <tr>\n",
       "      <th>new_cases_smoothed_NI</th>\n",
       "      <td>739.0</td>\n",
       "      <td>372.288104</td>\n",
       "      <td>348.920281</td>\n",
       "      <td>2.000</td>\n",
       "      <td>60.903035</td>\n",
       "      <td>309.655122</td>\n",
       "      <td>500.560061</td>\n",
       "      <td>1391.109156</td>\n",
       "    </tr>\n",
       "    <tr>\n",
       "      <th>COVID: (Ireland)</th>\n",
       "      <td>739.0</td>\n",
       "      <td>29.391069</td>\n",
       "      <td>13.712296</td>\n",
       "      <td>14.000</td>\n",
       "      <td>20.000000</td>\n",
       "      <td>26.000000</td>\n",
       "      <td>34.000000</td>\n",
       "      <td>100.000000</td>\n",
       "    </tr>\n",
       "    <tr>\n",
       "      <th>COVID: (Northern Ireland)</th>\n",
       "      <td>739.0</td>\n",
       "      <td>36.274696</td>\n",
       "      <td>14.342275</td>\n",
       "      <td>14.000</td>\n",
       "      <td>27.000000</td>\n",
       "      <td>34.000000</td>\n",
       "      <td>43.000000</td>\n",
       "      <td>100.000000</td>\n",
       "    </tr>\n",
       "  </tbody>\n",
       "</table>\n",
       "</div>"
      ],
      "text/plain": [
       "                           count         mean          std     min  \\\n",
       "new_cases_smoothed_ROI     739.0  1832.751210  3348.781724   2.429   \n",
       "stringency_index_ROI       739.0    60.104384    21.170897  11.110   \n",
       "new_cases_smoothed_NI      739.0   372.288104   348.920281   2.000   \n",
       "COVID: (Ireland)           739.0    29.391069    13.712296  14.000   \n",
       "COVID: (Northern Ireland)  739.0    36.274696    14.342275  14.000   \n",
       "\n",
       "                                  25%         50%          75%           max  \n",
       "new_cases_smoothed_ROI     286.500000  551.143000  1755.785500  23752.000000  \n",
       "stringency_index_ROI        44.440000   55.090000    81.480000     90.740000  \n",
       "new_cases_smoothed_NI       60.903035  309.655122   500.560061   1391.109156  \n",
       "COVID: (Ireland)            20.000000   26.000000    34.000000    100.000000  \n",
       "COVID: (Northern Ireland)   27.000000   34.000000    43.000000    100.000000  "
      ]
     },
     "execution_count": 5,
     "metadata": {},
     "output_type": "execute_result"
    }
   ],
   "source": [
    "# re-check this missing values have been filled\n",
    "df.describe().transpose()"
   ]
  },
  {
   "cell_type": "code",
   "execution_count": 6,
   "id": "floral-latest",
   "metadata": {},
   "outputs": [],
   "source": [
    "# ensure the dates are correctly formated\n",
    "df[\"date\"] = pd.to_datetime(df[\"date\"], format='%d/%m/%Y')"
   ]
  },
  {
   "cell_type": "code",
   "execution_count": 7,
   "id": "3bf70d02",
   "metadata": {},
   "outputs": [],
   "source": [
    "# set the index as date \n",
    "df.set_index(\"date\", inplace=True)"
   ]
  },
  {
   "cell_type": "code",
   "execution_count": 8,
   "id": "f065566e",
   "metadata": {},
   "outputs": [],
   "source": [
    "# add the ROI new cases smoothed with the NI new cases smoothed\n",
    "df['ROI_NI'] = df['new_cases_smoothed_ROI']+df['new_cases_smoothed_NI']"
   ]
  },
  {
   "cell_type": "code",
   "execution_count": 9,
   "id": "27d08142",
   "metadata": {},
   "outputs": [
    {
     "data": {
      "text/html": [
       "<div>\n",
       "<style scoped>\n",
       "    .dataframe tbody tr th:only-of-type {\n",
       "        vertical-align: middle;\n",
       "    }\n",
       "\n",
       "    .dataframe tbody tr th {\n",
       "        vertical-align: top;\n",
       "    }\n",
       "\n",
       "    .dataframe thead th {\n",
       "        text-align: right;\n",
       "    }\n",
       "</style>\n",
       "<table border=\"1\" class=\"dataframe\">\n",
       "  <thead>\n",
       "    <tr style=\"text-align: right;\">\n",
       "      <th></th>\n",
       "      <th>new_cases_smoothed_ROI</th>\n",
       "      <th>stringency_index_ROI</th>\n",
       "      <th>new_cases_smoothed_NI</th>\n",
       "      <th>COVID: (Ireland)</th>\n",
       "      <th>COVID: (Northern Ireland)</th>\n",
       "      <th>ROI_NI</th>\n",
       "    </tr>\n",
       "    <tr>\n",
       "      <th>date</th>\n",
       "      <th></th>\n",
       "      <th></th>\n",
       "      <th></th>\n",
       "      <th></th>\n",
       "      <th></th>\n",
       "      <th></th>\n",
       "    </tr>\n",
       "  </thead>\n",
       "  <tbody>\n",
       "    <tr>\n",
       "      <th>2022-03-10</th>\n",
       "      <td>3085.143</td>\n",
       "      <td>14.81</td>\n",
       "      <td>1384.048922</td>\n",
       "      <td>17</td>\n",
       "      <td>25</td>\n",
       "      <td>4469.191922</td>\n",
       "    </tr>\n",
       "    <tr>\n",
       "      <th>2022-03-11</th>\n",
       "      <td>3818.000</td>\n",
       "      <td>14.81</td>\n",
       "      <td>1386.819135</td>\n",
       "      <td>17</td>\n",
       "      <td>25</td>\n",
       "      <td>5204.819135</td>\n",
       "    </tr>\n",
       "    <tr>\n",
       "      <th>2022-03-12</th>\n",
       "      <td>3818.000</td>\n",
       "      <td>14.81</td>\n",
       "      <td>1382.484650</td>\n",
       "      <td>17</td>\n",
       "      <td>25</td>\n",
       "      <td>5200.484650</td>\n",
       "    </tr>\n",
       "    <tr>\n",
       "      <th>2022-03-13</th>\n",
       "      <td>3818.000</td>\n",
       "      <td>14.81</td>\n",
       "      <td>1378.165554</td>\n",
       "      <td>17</td>\n",
       "      <td>25</td>\n",
       "      <td>5196.165554</td>\n",
       "    </tr>\n",
       "    <tr>\n",
       "      <th>2022-03-14</th>\n",
       "      <td>4448.857</td>\n",
       "      <td>14.81</td>\n",
       "      <td>1391.109156</td>\n",
       "      <td>17</td>\n",
       "      <td>25</td>\n",
       "      <td>5839.966156</td>\n",
       "    </tr>\n",
       "  </tbody>\n",
       "</table>\n",
       "</div>"
      ],
      "text/plain": [
       "            new_cases_smoothed_ROI  stringency_index_ROI  \\\n",
       "date                                                       \n",
       "2022-03-10                3085.143                 14.81   \n",
       "2022-03-11                3818.000                 14.81   \n",
       "2022-03-12                3818.000                 14.81   \n",
       "2022-03-13                3818.000                 14.81   \n",
       "2022-03-14                4448.857                 14.81   \n",
       "\n",
       "            new_cases_smoothed_NI  COVID: (Ireland)  \\\n",
       "date                                                  \n",
       "2022-03-10            1384.048922                17   \n",
       "2022-03-11            1386.819135                17   \n",
       "2022-03-12            1382.484650                17   \n",
       "2022-03-13            1378.165554                17   \n",
       "2022-03-14            1391.109156                17   \n",
       "\n",
       "            COVID: (Northern Ireland)       ROI_NI  \n",
       "date                                                \n",
       "2022-03-10                         25  4469.191922  \n",
       "2022-03-11                         25  5204.819135  \n",
       "2022-03-12                         25  5200.484650  \n",
       "2022-03-13                         25  5196.165554  \n",
       "2022-03-14                         25  5839.966156  "
      ]
     },
     "execution_count": 9,
     "metadata": {},
     "output_type": "execute_result"
    }
   ],
   "source": [
    "# check the date format is correct\n",
    "df.tail()"
   ]
  },
  {
   "cell_type": "markdown",
   "id": "88748c06",
   "metadata": {},
   "source": [
    "### Split the data into different dataframe to represent each of our categories\n",
    "- df_cat1 is ROI New Cases Smoothed Only\n",
    "- df_cat2 is ROI New Cases Smoothed + COVID: Ireland\n",
    "- df_cat3 is ROI New Cases Smoothed + COVID: Ireland + Stringency Index\n",
    "- df_cat4 is NI New Cases Smoothed Only\n",
    "- df_cat5 is NI New Cases Smoothed + COVID: Norther Ireland\n",
    "- df_cat6 is ROI + NI New Cases Smoothed\n",
    "- df_cat7 is ROI + NI New Cases Smoothed + COVID: Ireland + COVID: Northern Ireland"
   ]
  },
  {
   "cell_type": "code",
   "execution_count": 10,
   "id": "ef680efb",
   "metadata": {},
   "outputs": [],
   "source": [
    "# Create new dataframes each with features for one of the categories we are going to train the model with\n",
    "df_cat1 = df.copy(deep=True).loc[:,['new_cases_smoothed_ROI']]\n",
    "df_cat2 = df.copy(deep=True).loc[:,['new_cases_smoothed_ROI','COVID: (Ireland)']]\n",
    "df_cat3 = df.copy(deep=True).loc[:,['new_cases_smoothed_ROI','stringency_index_ROI','COVID: (Ireland)',]]\n",
    "df_cat4 = df.copy(deep=True).loc[:,['new_cases_smoothed_NI']]\n",
    "df_cat5 = df.copy(deep=True).loc[:,['new_cases_smoothed_NI','COVID: (Northern Ireland)']]\n",
    "df_cat6 = df.copy(deep=True).loc[:,['ROI_NI']]\n",
    "df_cat7 = df.copy(deep=True).loc[:,['ROI_NI','COVID: (Ireland)','COVID: (Northern Ireland)']]"
   ]
  },
  {
   "cell_type": "markdown",
   "id": "86300b2c",
   "metadata": {},
   "source": [
    "#### Change 'df_model' to which ever category you wish to run\n",
    "- You will need to comment out any feature TimeShifts that are not being used in your choosen category\n",
    "- Be careful when modifify which y_train, y_test and y_val values that are dropped, there is a big risk of copy/ paste errors\n",
    "- Remember to change the first shift to what ever time shift your are running for each of the features being ran .e.g. to shift 7 - 14 days on new cases smooth: df_model.loc[:,'yesterday'] = df_model.loc[:,'new_cases_smoothed_ROI'].shift(7)\n",
    "- don't forget to TimeShift all of the features!"
   ]
  },
  {
   "cell_type": "code",
   "execution_count": 11,
   "id": "76dc199b",
   "metadata": {},
   "outputs": [],
   "source": [
    "# change the model to whatever category you choose to run\n",
    "df_model = df_cat2.copy(deep=True)"
   ]
  },
  {
   "cell_type": "code",
   "execution_count": 12,
   "id": "egyptian-assignment",
   "metadata": {},
   "outputs": [],
   "source": [
    "# This is the TimeShift for New Cases Smoothed in the Republic of Ireland\n",
    "# Comment/ Uncomment as needed\n",
    "df_model.loc[:,'yesterday'] = df_model.loc[:,'new_cases_smoothed_ROI'].shift(7)\n",
    "df_model.loc[:,'yesterday_diff'] = df_model.loc[:,'yesterday'].diff()\n",
    "df_model.loc[:,'yesterday2'] = df_model.loc[:,'yesterday'].shift()\n",
    "df_model.loc[:,'yesterday_diff2'] = df_model.loc[:,'yesterday2'].diff()\n",
    "df_model.loc[:,'yesterday3'] = df_model.loc[:,'yesterday2'].shift()\n",
    "df_model.loc[:,'yesterday_diff3'] = df_model.loc[:,'yesterday3'].diff()\n",
    "df_model.loc[:,'yesterday4'] = df_model.loc[:,'yesterday3'].shift()\n",
    "df_model.loc[:,'yesterday_diff4'] = df_model.loc[:,'yesterday4'].diff()\n",
    "df_model.loc[:,'yesterday5'] = df_model.loc[:,'yesterday4'].shift()\n",
    "df_model.loc[:,'yesterday_diff5'] = df_model.loc[:,'yesterday5'].diff()\n",
    "df_model.loc[:,'yesterday6'] = df_model.loc[:,'yesterday5'].shift()\n",
    "df_model.loc[:,'yesterday_diff6'] = df_model.loc[:,'yesterday6'].diff()\n",
    "df_model.loc[:,'yesterday7'] = df_model.loc[:,'yesterday6'].shift()\n",
    "df_model.loc[:,'yesterday_diff7'] = df_model.loc[:,'yesterday7'].diff()"
   ]
  },
  {
   "cell_type": "code",
   "execution_count": 13,
   "id": "a9dabdf1",
   "metadata": {},
   "outputs": [],
   "source": [
    "# This is the TimeShift for stringency index. \n",
    "# Comment/ Uncomment as needed\n",
    "#df_model.loc[:,'si'] = df_model.loc[:,'stringency_index_ROI'].shift(7)\n",
    "#df_model.loc[:,'si_diff'] = df_model.loc[:,'si'].diff()\n",
    "#df_model.loc[:,'si2'] = df_model.loc[:,'si'].shift()\n",
    "#df_model.loc[:,'si_diff2'] = df_model.loc[:,'si2'].diff()\n",
    "#df_model.loc[:,'si3'] = df_model.loc[:,'si2'].shift()\n",
    "#df_model.loc[:,'si_diff3'] = df_model.loc[:,'si3'].diff()\n",
    "#df_model.loc[:,'si4'] = df_model.loc[:,'si3'].shift()\n",
    "#df_model.loc[:,'si_diff4'] = df_model.loc[:,'si4'].diff()\n",
    "#df_model.loc[:,'si5'] = df_model.loc[:,'si4'].shift()\n",
    "#df_model.loc[:,'si_diff5'] = df_model.loc[:,'si5'].diff()\n",
    "#df_model.loc[:,'si6'] = df_model.loc[:,'si5'].shift()\n",
    "#df_model.loc[:,'si_diff6'] = df_model.loc[:,'si6'].diff()\n",
    "#df_model.loc[:,'si7'] = df_model.loc[:,'si6'].shift()\n",
    "#df_model.loc[:,'si_diff7'] = df_model.loc[:,'si7'].diff()"
   ]
  },
  {
   "cell_type": "code",
   "execution_count": 14,
   "id": "d6656fd4",
   "metadata": {},
   "outputs": [],
   "source": [
    "# This is the TimeShift for Google Trends COVID-19 searches in Ireland\n",
    "# Comment/ Uncomment as needed\n",
    "df_model.loc[:,'covid_ROI'] = df_model.loc[:,'COVID: (Ireland)'].shift(7)\n",
    "df_model.loc[:,'covid_ROI_diff'] = df_model.loc[:,'covid_ROI'].diff()\n",
    "df_model.loc[:,'covid_ROI2'] = df_model.loc[:,'covid_ROI'].shift()\n",
    "df_model.loc[:,'covid_ROI_diff2'] = df_model.loc[:,'covid_ROI2'].diff()\n",
    "df_model.loc[:,'covid_ROI3'] = df_model.loc[:,'covid_ROI2'].shift()\n",
    "df_model.loc[:,'covid_ROI_diff3'] = df_model.loc[:,'covid_ROI3'].diff()\n",
    "df_model.loc[:,'covid_ROI4'] = df_model.loc[:,'covid_ROI3'].shift()\n",
    "df_model.loc[:,'covid_ROI_diff4'] = df_model.loc[:,'covid_ROI4'].diff()\n",
    "df_model.loc[:,'covid_ROI5'] = df_model.loc[:,'covid_ROI4'].shift()\n",
    "df_model.loc[:,'covid_ROI_diff5'] = df_model.loc[:,'covid_ROI5'].diff()\n",
    "df_model.loc[:,'covid_ROI6'] = df_model.loc[:,'covid_ROI5'].shift()\n",
    "df_model.loc[:,'covid_ROI_diff6'] = df_model.loc[:,'covid_ROI6'].diff()\n",
    "df_model.loc[:,'covid_ROI7'] = df_model.loc[:,'covid_ROI6'].shift()\n",
    "df_model.loc[:,'covid_ROI_diff7'] = df_model.loc[:,'covid_ROI7'].diff()"
   ]
  },
  {
   "cell_type": "code",
   "execution_count": 15,
   "id": "960533b5",
   "metadata": {},
   "outputs": [],
   "source": [
    "# This is the TimeShift for Google Trends COVID-19 searches in Northern Ireland\n",
    "# Comment/ Uncomment as needed\n",
    "# df_model.loc[:,'covid_NI'] = df_model.loc[:,'COVID: (Northern Ireland)'].shift()\n",
    "# df_model.loc[:,'covid_NI_diff'] = df_model.loc[:,'covid_NI'].diff()\n",
    "# df_model.loc[:,'covid_NI2'] = df_model.loc[:,'covid_NI'].shift()\n",
    "# df_model.loc[:,'covid_NI_diff2'] = df_model.loc[:,'covid_NI2'].diff()\n",
    "# df_model.loc[:,'covid_NI3'] = df_model.loc[:,'covid_NI2'].shift()\n",
    "# df_model.loc[:,'covid_NI_diff3'] = df_model.loc[:,'covid_NI3'].diff()\n",
    "# df_model.loc[:,'covid_NI4'] = df_model.loc[:,'covid_NI3'].shift()\n",
    "# df_model.loc[:,'covid_NI_diff4'] = df_model.loc[:,'covid_NI4'].diff()\n",
    "# df_model.loc[:,'covid_NI5'] = df_model.loc[:,'covid_NI4'].shift()\n",
    "# df_model.loc[:,'covid_NI_diff5'] = df_model.loc[:,'covid_NI5'].diff()\n",
    "# df_model.loc[:,'covid_NI6'] = df_model.loc[:,'covid_NI5'].shift()\n",
    "# df_model.loc[:,'covid_NI_diff6'] = df_model.loc[:,'covid_NI6'].diff()\n",
    "# df_model.loc[:,'covid_NI7'] = df_model.loc[:,'covid_NI6'].shift()\n",
    "# df_model.loc[:,'covid_NI_diff7'] = df_model.loc[:,'covid_NI7'].diff()"
   ]
  },
  {
   "cell_type": "code",
   "execution_count": 16,
   "id": "0fa40977",
   "metadata": {},
   "outputs": [],
   "source": [
    "# This is the TimeShift for the Sum of Smoothed Northern Ireland and Replubic of Ireland daily cases\n",
    "# Comment/ Uncomment as needed\n",
    "# df_model.loc[:,'ROI_NI'] = df_model.loc[:,'ROI_NI'].shift()\n",
    "# df_model.loc[:,'ROI_NI_diff'] = df_model.loc[:,'ROI_NI'].diff()\n",
    "# df_model.loc[:,'ROI_NI2'] = df_model.loc[:,'ROI_NI'].shift()\n",
    "# df_model.loc[:,'ROI_NI_diff2'] = df_model.loc[:,'ROI_NI2'].diff()\n",
    "# df_model.loc[:,'ROI_NI3'] = df_model.loc[:,'ROI_NI2'].shift()\n",
    "# df_model.loc[:,'ROI_NI_diff3'] = df_model.loc[:,'ROI_NI3'].diff()\n",
    "# df_model.loc[:,'ROI_NI4'] = df_model.loc[:,'ROI_NI3'].shift()\n",
    "# df_model.loc[:,'ROI_NI_diff4'] = df_model.loc[:,'ROI_NI4'].diff()\n",
    "# df_model.loc[:,'ROI_NI5'] = df_model.loc[:,'ROI_NI4'].shift()\n",
    "# df_model.loc[:,'ROI_NI_diff5'] = df_model.loc[:,'ROI_NI5'].diff()\n",
    "# df_model.loc[:,'ROI_NI6'] = df_model.loc[:,'ROI_NI5'].shift()\n",
    "# df_model.loc[:,'ROI_NI_diff6'] = df_model.loc[:,'ROI_NI6'].diff()\n",
    "# df_model.loc[:,'ROI_NI7'] = df_model.loc[:,'ROI_NI6'].shift()\n",
    "# df_model.loc[:,'ROI_NI_diff7'] = df_model.loc[:,'ROI_NI7'].diff()"
   ]
  },
  {
   "cell_type": "code",
   "execution_count": 17,
   "id": "32d8c2b0",
   "metadata": {},
   "outputs": [
    {
     "data": {
      "text/plain": [
       "Index(['new_cases_smoothed_ROI', 'COVID: (Ireland)', 'yesterday',\n",
       "       'yesterday_diff', 'yesterday2', 'yesterday_diff2', 'yesterday3',\n",
       "       'yesterday_diff3', 'yesterday4', 'yesterday_diff4', 'yesterday5',\n",
       "       'yesterday_diff5', 'yesterday6', 'yesterday_diff6', 'yesterday7',\n",
       "       'yesterday_diff7', 'covid_ROI', 'covid_ROI_diff', 'covid_ROI2',\n",
       "       'covid_ROI_diff2', 'covid_ROI3', 'covid_ROI_diff3', 'covid_ROI4',\n",
       "       'covid_ROI_diff4', 'covid_ROI5', 'covid_ROI_diff5', 'covid_ROI6',\n",
       "       'covid_ROI_diff6', 'covid_ROI7', 'covid_ROI_diff7'],\n",
       "      dtype='object')"
      ]
     },
     "execution_count": 17,
     "metadata": {},
     "output_type": "execute_result"
    }
   ],
   "source": [
    "# Check the model dataframe has all the features that you need. \n",
    "df_model.columns"
   ]
  },
  {
   "cell_type": "code",
   "execution_count": 18,
   "id": "b87ab1e4",
   "metadata": {},
   "outputs": [],
   "source": [
    "# Backfill and Forward Fill missing values that resulted from the TimeShift\n",
    "df_model = df_model.fillna(method='bfill').fillna(method='ffill')"
   ]
  },
  {
   "cell_type": "code",
   "execution_count": 19,
   "id": "19c72d56",
   "metadata": {},
   "outputs": [
    {
     "data": {
      "text/html": [
       "<div>\n",
       "<style scoped>\n",
       "    .dataframe tbody tr th:only-of-type {\n",
       "        vertical-align: middle;\n",
       "    }\n",
       "\n",
       "    .dataframe tbody tr th {\n",
       "        vertical-align: top;\n",
       "    }\n",
       "\n",
       "    .dataframe thead th {\n",
       "        text-align: right;\n",
       "    }\n",
       "</style>\n",
       "<table border=\"1\" class=\"dataframe\">\n",
       "  <thead>\n",
       "    <tr style=\"text-align: right;\">\n",
       "      <th></th>\n",
       "      <th>count</th>\n",
       "      <th>mean</th>\n",
       "      <th>std</th>\n",
       "      <th>min</th>\n",
       "      <th>25%</th>\n",
       "      <th>50%</th>\n",
       "      <th>75%</th>\n",
       "      <th>max</th>\n",
       "    </tr>\n",
       "  </thead>\n",
       "  <tbody>\n",
       "    <tr>\n",
       "      <th>new_cases_smoothed_ROI</th>\n",
       "      <td>739.0</td>\n",
       "      <td>1832.751210</td>\n",
       "      <td>3348.781724</td>\n",
       "      <td>2.429</td>\n",
       "      <td>286.5000</td>\n",
       "      <td>551.143</td>\n",
       "      <td>1755.7855</td>\n",
       "      <td>23752.000</td>\n",
       "    </tr>\n",
       "    <tr>\n",
       "      <th>COVID: (Ireland)</th>\n",
       "      <td>739.0</td>\n",
       "      <td>29.391069</td>\n",
       "      <td>13.712296</td>\n",
       "      <td>14.000</td>\n",
       "      <td>20.0000</td>\n",
       "      <td>26.000</td>\n",
       "      <td>34.0000</td>\n",
       "      <td>100.000</td>\n",
       "    </tr>\n",
       "    <tr>\n",
       "      <th>yesterday</th>\n",
       "      <td>739.0</td>\n",
       "      <td>1798.419483</td>\n",
       "      <td>3348.492464</td>\n",
       "      <td>2.429</td>\n",
       "      <td>276.2855</td>\n",
       "      <td>543.286</td>\n",
       "      <td>1708.4285</td>\n",
       "      <td>23752.000</td>\n",
       "    </tr>\n",
       "    <tr>\n",
       "      <th>yesterday_diff</th>\n",
       "      <td>739.0</td>\n",
       "      <td>4.280505</td>\n",
       "      <td>429.551908</td>\n",
       "      <td>-5347.429</td>\n",
       "      <td>-13.8570</td>\n",
       "      <td>0.000</td>\n",
       "      <td>18.6430</td>\n",
       "      <td>3903.143</td>\n",
       "    </tr>\n",
       "    <tr>\n",
       "      <th>yesterday2</th>\n",
       "      <td>739.0</td>\n",
       "      <td>1794.137441</td>\n",
       "      <td>3348.763276</td>\n",
       "      <td>2.429</td>\n",
       "      <td>275.2140</td>\n",
       "      <td>543.286</td>\n",
       "      <td>1705.3570</td>\n",
       "      <td>23752.000</td>\n",
       "    </tr>\n",
       "    <tr>\n",
       "      <th>yesterday_diff2</th>\n",
       "      <td>739.0</td>\n",
       "      <td>4.419303</td>\n",
       "      <td>429.533860</td>\n",
       "      <td>-5347.429</td>\n",
       "      <td>-13.6430</td>\n",
       "      <td>0.000</td>\n",
       "      <td>18.6430</td>\n",
       "      <td>3903.143</td>\n",
       "    </tr>\n",
       "    <tr>\n",
       "      <th>yesterday3</th>\n",
       "      <td>739.0</td>\n",
       "      <td>1789.716409</td>\n",
       "      <td>3348.969215</td>\n",
       "      <td>2.429</td>\n",
       "      <td>273.5715</td>\n",
       "      <td>536.857</td>\n",
       "      <td>1701.7855</td>\n",
       "      <td>23752.000</td>\n",
       "    </tr>\n",
       "    <tr>\n",
       "      <th>yesterday_diff3</th>\n",
       "      <td>739.0</td>\n",
       "      <td>4.419111</td>\n",
       "      <td>429.533862</td>\n",
       "      <td>-5347.429</td>\n",
       "      <td>-13.6430</td>\n",
       "      <td>0.000</td>\n",
       "      <td>18.6430</td>\n",
       "      <td>3903.143</td>\n",
       "    </tr>\n",
       "    <tr>\n",
       "      <th>yesterday4</th>\n",
       "      <td>739.0</td>\n",
       "      <td>1785.295376</td>\n",
       "      <td>3349.169297</td>\n",
       "      <td>2.429</td>\n",
       "      <td>271.6430</td>\n",
       "      <td>535.571</td>\n",
       "      <td>1701.0000</td>\n",
       "      <td>23752.000</td>\n",
       "    </tr>\n",
       "    <tr>\n",
       "      <th>yesterday_diff4</th>\n",
       "      <td>739.0</td>\n",
       "      <td>4.418919</td>\n",
       "      <td>429.533864</td>\n",
       "      <td>-5347.429</td>\n",
       "      <td>-13.6430</td>\n",
       "      <td>0.000</td>\n",
       "      <td>18.6430</td>\n",
       "      <td>3903.143</td>\n",
       "    </tr>\n",
       "    <tr>\n",
       "      <th>yesterday5</th>\n",
       "      <td>739.0</td>\n",
       "      <td>1780.874344</td>\n",
       "      <td>3349.363524</td>\n",
       "      <td>2.429</td>\n",
       "      <td>270.8570</td>\n",
       "      <td>531.286</td>\n",
       "      <td>1701.0000</td>\n",
       "      <td>23752.000</td>\n",
       "    </tr>\n",
       "    <tr>\n",
       "      <th>yesterday_diff5</th>\n",
       "      <td>739.0</td>\n",
       "      <td>4.478460</td>\n",
       "      <td>429.530173</td>\n",
       "      <td>-5347.429</td>\n",
       "      <td>-13.5715</td>\n",
       "      <td>0.000</td>\n",
       "      <td>18.6430</td>\n",
       "      <td>3903.143</td>\n",
       "    </tr>\n",
       "    <tr>\n",
       "      <th>yesterday6</th>\n",
       "      <td>739.0</td>\n",
       "      <td>1776.393578</td>\n",
       "      <td>3349.524835</td>\n",
       "      <td>2.429</td>\n",
       "      <td>269.9285</td>\n",
       "      <td>529.429</td>\n",
       "      <td>1701.0000</td>\n",
       "      <td>23752.000</td>\n",
       "    </tr>\n",
       "    <tr>\n",
       "      <th>yesterday_diff6</th>\n",
       "      <td>739.0</td>\n",
       "      <td>4.417568</td>\n",
       "      <td>429.527630</td>\n",
       "      <td>-5347.429</td>\n",
       "      <td>-13.5715</td>\n",
       "      <td>0.000</td>\n",
       "      <td>18.5720</td>\n",
       "      <td>3903.143</td>\n",
       "    </tr>\n",
       "    <tr>\n",
       "      <th>yesterday7</th>\n",
       "      <td>739.0</td>\n",
       "      <td>1771.973512</td>\n",
       "      <td>3349.707709</td>\n",
       "      <td>2.429</td>\n",
       "      <td>269.0715</td>\n",
       "      <td>527.143</td>\n",
       "      <td>1701.0000</td>\n",
       "      <td>23752.000</td>\n",
       "    </tr>\n",
       "    <tr>\n",
       "      <th>yesterday_diff7</th>\n",
       "      <td>739.0</td>\n",
       "      <td>4.567966</td>\n",
       "      <td>429.506520</td>\n",
       "      <td>-5347.429</td>\n",
       "      <td>-13.5000</td>\n",
       "      <td>0.000</td>\n",
       "      <td>18.5720</td>\n",
       "      <td>3903.143</td>\n",
       "    </tr>\n",
       "    <tr>\n",
       "      <th>covid_ROI</th>\n",
       "      <td>739.0</td>\n",
       "      <td>29.504736</td>\n",
       "      <td>13.658670</td>\n",
       "      <td>14.000</td>\n",
       "      <td>20.0000</td>\n",
       "      <td>26.000</td>\n",
       "      <td>34.0000</td>\n",
       "      <td>100.000</td>\n",
       "    </tr>\n",
       "    <tr>\n",
       "      <th>covid_ROI_diff</th>\n",
       "      <td>739.0</td>\n",
       "      <td>-0.016238</td>\n",
       "      <td>3.235936</td>\n",
       "      <td>-34.000</td>\n",
       "      <td>0.0000</td>\n",
       "      <td>0.000</td>\n",
       "      <td>0.0000</td>\n",
       "      <td>36.000</td>\n",
       "    </tr>\n",
       "    <tr>\n",
       "      <th>covid_ROI2</th>\n",
       "      <td>739.0</td>\n",
       "      <td>29.520974</td>\n",
       "      <td>13.650914</td>\n",
       "      <td>14.000</td>\n",
       "      <td>20.0000</td>\n",
       "      <td>26.000</td>\n",
       "      <td>34.0000</td>\n",
       "      <td>100.000</td>\n",
       "    </tr>\n",
       "    <tr>\n",
       "      <th>covid_ROI_diff2</th>\n",
       "      <td>739.0</td>\n",
       "      <td>-0.016238</td>\n",
       "      <td>3.235936</td>\n",
       "      <td>-34.000</td>\n",
       "      <td>0.0000</td>\n",
       "      <td>0.000</td>\n",
       "      <td>0.0000</td>\n",
       "      <td>36.000</td>\n",
       "    </tr>\n",
       "    <tr>\n",
       "      <th>covid_ROI3</th>\n",
       "      <td>739.0</td>\n",
       "      <td>29.537212</td>\n",
       "      <td>13.643135</td>\n",
       "      <td>14.000</td>\n",
       "      <td>20.0000</td>\n",
       "      <td>26.000</td>\n",
       "      <td>34.0000</td>\n",
       "      <td>100.000</td>\n",
       "    </tr>\n",
       "    <tr>\n",
       "      <th>covid_ROI_diff3</th>\n",
       "      <td>739.0</td>\n",
       "      <td>-0.016238</td>\n",
       "      <td>3.235936</td>\n",
       "      <td>-34.000</td>\n",
       "      <td>0.0000</td>\n",
       "      <td>0.000</td>\n",
       "      <td>0.0000</td>\n",
       "      <td>36.000</td>\n",
       "    </tr>\n",
       "    <tr>\n",
       "      <th>covid_ROI4</th>\n",
       "      <td>739.0</td>\n",
       "      <td>29.553451</td>\n",
       "      <td>13.635332</td>\n",
       "      <td>14.000</td>\n",
       "      <td>20.0000</td>\n",
       "      <td>26.000</td>\n",
       "      <td>34.0000</td>\n",
       "      <td>100.000</td>\n",
       "    </tr>\n",
       "    <tr>\n",
       "      <th>covid_ROI_diff4</th>\n",
       "      <td>739.0</td>\n",
       "      <td>-0.016238</td>\n",
       "      <td>3.235936</td>\n",
       "      <td>-34.000</td>\n",
       "      <td>0.0000</td>\n",
       "      <td>0.000</td>\n",
       "      <td>0.0000</td>\n",
       "      <td>36.000</td>\n",
       "    </tr>\n",
       "    <tr>\n",
       "      <th>covid_ROI5</th>\n",
       "      <td>739.0</td>\n",
       "      <td>29.569689</td>\n",
       "      <td>13.627505</td>\n",
       "      <td>14.000</td>\n",
       "      <td>20.0000</td>\n",
       "      <td>26.000</td>\n",
       "      <td>34.0000</td>\n",
       "      <td>100.000</td>\n",
       "    </tr>\n",
       "    <tr>\n",
       "      <th>covid_ROI_diff5</th>\n",
       "      <td>739.0</td>\n",
       "      <td>-0.016238</td>\n",
       "      <td>3.235936</td>\n",
       "      <td>-34.000</td>\n",
       "      <td>0.0000</td>\n",
       "      <td>0.000</td>\n",
       "      <td>0.0000</td>\n",
       "      <td>36.000</td>\n",
       "    </tr>\n",
       "    <tr>\n",
       "      <th>covid_ROI6</th>\n",
       "      <td>739.0</td>\n",
       "      <td>29.585927</td>\n",
       "      <td>13.619654</td>\n",
       "      <td>14.000</td>\n",
       "      <td>20.0000</td>\n",
       "      <td>26.000</td>\n",
       "      <td>34.0000</td>\n",
       "      <td>100.000</td>\n",
       "    </tr>\n",
       "    <tr>\n",
       "      <th>covid_ROI_diff6</th>\n",
       "      <td>739.0</td>\n",
       "      <td>-0.016238</td>\n",
       "      <td>3.235936</td>\n",
       "      <td>-34.000</td>\n",
       "      <td>0.0000</td>\n",
       "      <td>0.000</td>\n",
       "      <td>0.0000</td>\n",
       "      <td>36.000</td>\n",
       "    </tr>\n",
       "    <tr>\n",
       "      <th>covid_ROI7</th>\n",
       "      <td>739.0</td>\n",
       "      <td>29.602165</td>\n",
       "      <td>13.611779</td>\n",
       "      <td>14.000</td>\n",
       "      <td>20.0000</td>\n",
       "      <td>26.000</td>\n",
       "      <td>34.0000</td>\n",
       "      <td>100.000</td>\n",
       "    </tr>\n",
       "    <tr>\n",
       "      <th>covid_ROI_diff7</th>\n",
       "      <td>739.0</td>\n",
       "      <td>-0.016238</td>\n",
       "      <td>3.235936</td>\n",
       "      <td>-34.000</td>\n",
       "      <td>0.0000</td>\n",
       "      <td>0.000</td>\n",
       "      <td>0.0000</td>\n",
       "      <td>36.000</td>\n",
       "    </tr>\n",
       "  </tbody>\n",
       "</table>\n",
       "</div>"
      ],
      "text/plain": [
       "                        count         mean          std       min       25%  \\\n",
       "new_cases_smoothed_ROI  739.0  1832.751210  3348.781724     2.429  286.5000   \n",
       "COVID: (Ireland)        739.0    29.391069    13.712296    14.000   20.0000   \n",
       "yesterday               739.0  1798.419483  3348.492464     2.429  276.2855   \n",
       "yesterday_diff          739.0     4.280505   429.551908 -5347.429  -13.8570   \n",
       "yesterday2              739.0  1794.137441  3348.763276     2.429  275.2140   \n",
       "yesterday_diff2         739.0     4.419303   429.533860 -5347.429  -13.6430   \n",
       "yesterday3              739.0  1789.716409  3348.969215     2.429  273.5715   \n",
       "yesterday_diff3         739.0     4.419111   429.533862 -5347.429  -13.6430   \n",
       "yesterday4              739.0  1785.295376  3349.169297     2.429  271.6430   \n",
       "yesterday_diff4         739.0     4.418919   429.533864 -5347.429  -13.6430   \n",
       "yesterday5              739.0  1780.874344  3349.363524     2.429  270.8570   \n",
       "yesterday_diff5         739.0     4.478460   429.530173 -5347.429  -13.5715   \n",
       "yesterday6              739.0  1776.393578  3349.524835     2.429  269.9285   \n",
       "yesterday_diff6         739.0     4.417568   429.527630 -5347.429  -13.5715   \n",
       "yesterday7              739.0  1771.973512  3349.707709     2.429  269.0715   \n",
       "yesterday_diff7         739.0     4.567966   429.506520 -5347.429  -13.5000   \n",
       "covid_ROI               739.0    29.504736    13.658670    14.000   20.0000   \n",
       "covid_ROI_diff          739.0    -0.016238     3.235936   -34.000    0.0000   \n",
       "covid_ROI2              739.0    29.520974    13.650914    14.000   20.0000   \n",
       "covid_ROI_diff2         739.0    -0.016238     3.235936   -34.000    0.0000   \n",
       "covid_ROI3              739.0    29.537212    13.643135    14.000   20.0000   \n",
       "covid_ROI_diff3         739.0    -0.016238     3.235936   -34.000    0.0000   \n",
       "covid_ROI4              739.0    29.553451    13.635332    14.000   20.0000   \n",
       "covid_ROI_diff4         739.0    -0.016238     3.235936   -34.000    0.0000   \n",
       "covid_ROI5              739.0    29.569689    13.627505    14.000   20.0000   \n",
       "covid_ROI_diff5         739.0    -0.016238     3.235936   -34.000    0.0000   \n",
       "covid_ROI6              739.0    29.585927    13.619654    14.000   20.0000   \n",
       "covid_ROI_diff6         739.0    -0.016238     3.235936   -34.000    0.0000   \n",
       "covid_ROI7              739.0    29.602165    13.611779    14.000   20.0000   \n",
       "covid_ROI_diff7         739.0    -0.016238     3.235936   -34.000    0.0000   \n",
       "\n",
       "                            50%        75%        max  \n",
       "new_cases_smoothed_ROI  551.143  1755.7855  23752.000  \n",
       "COVID: (Ireland)         26.000    34.0000    100.000  \n",
       "yesterday               543.286  1708.4285  23752.000  \n",
       "yesterday_diff            0.000    18.6430   3903.143  \n",
       "yesterday2              543.286  1705.3570  23752.000  \n",
       "yesterday_diff2           0.000    18.6430   3903.143  \n",
       "yesterday3              536.857  1701.7855  23752.000  \n",
       "yesterday_diff3           0.000    18.6430   3903.143  \n",
       "yesterday4              535.571  1701.0000  23752.000  \n",
       "yesterday_diff4           0.000    18.6430   3903.143  \n",
       "yesterday5              531.286  1701.0000  23752.000  \n",
       "yesterday_diff5           0.000    18.6430   3903.143  \n",
       "yesterday6              529.429  1701.0000  23752.000  \n",
       "yesterday_diff6           0.000    18.5720   3903.143  \n",
       "yesterday7              527.143  1701.0000  23752.000  \n",
       "yesterday_diff7           0.000    18.5720   3903.143  \n",
       "covid_ROI                26.000    34.0000    100.000  \n",
       "covid_ROI_diff            0.000     0.0000     36.000  \n",
       "covid_ROI2               26.000    34.0000    100.000  \n",
       "covid_ROI_diff2           0.000     0.0000     36.000  \n",
       "covid_ROI3               26.000    34.0000    100.000  \n",
       "covid_ROI_diff3           0.000     0.0000     36.000  \n",
       "covid_ROI4               26.000    34.0000    100.000  \n",
       "covid_ROI_diff4           0.000     0.0000     36.000  \n",
       "covid_ROI5               26.000    34.0000    100.000  \n",
       "covid_ROI_diff5           0.000     0.0000     36.000  \n",
       "covid_ROI6               26.000    34.0000    100.000  \n",
       "covid_ROI_diff6           0.000     0.0000     36.000  \n",
       "covid_ROI7               26.000    34.0000    100.000  \n",
       "covid_ROI_diff7           0.000     0.0000     36.000  "
      ]
     },
     "execution_count": 19,
     "metadata": {},
     "output_type": "execute_result"
    }
   ],
   "source": [
    "# Check that all missing values have been filled\n",
    "df_model.describe().transpose()"
   ]
  },
  {
   "cell_type": "code",
   "execution_count": 20,
   "id": "0ecde815",
   "metadata": {},
   "outputs": [],
   "source": [
    "# get the number of rows and assign to n: for the train best split\n",
    "n = len(df_model)"
   ]
  },
  {
   "cell_type": "code",
   "execution_count": 21,
   "id": "33bf44ec",
   "metadata": {
    "scrolled": false
   },
   "outputs": [
    {
     "data": {
      "text/plain": [
       "Index(['new_cases_smoothed_ROI', 'COVID: (Ireland)', 'yesterday',\n",
       "       'yesterday_diff', 'yesterday2', 'yesterday_diff2', 'yesterday3',\n",
       "       'yesterday_diff3', 'yesterday4', 'yesterday_diff4', 'yesterday5',\n",
       "       'yesterday_diff5', 'yesterday6', 'yesterday_diff6', 'yesterday7',\n",
       "       'yesterday_diff7', 'covid_ROI', 'covid_ROI_diff', 'covid_ROI2',\n",
       "       'covid_ROI_diff2', 'covid_ROI3', 'covid_ROI_diff3', 'covid_ROI4',\n",
       "       'covid_ROI_diff4', 'covid_ROI5', 'covid_ROI_diff5', 'covid_ROI6',\n",
       "       'covid_ROI_diff6', 'covid_ROI7', 'covid_ROI_diff7'],\n",
       "      dtype='object')"
      ]
     },
     "execution_count": 21,
     "metadata": {},
     "output_type": "execute_result"
    }
   ],
   "source": [
    "# Re-check the model dataframe has all the features that you need. You can copy the features to drop from here\n",
    "df_model.columns"
   ]
  },
  {
   "cell_type": "code",
   "execution_count": 22,
   "id": "996e45e7",
   "metadata": {},
   "outputs": [],
   "source": [
    "X_train = df_model.iloc[0:int(n*0.7)].drop(['new_cases_smoothed_ROI', 'COVID: (Ireland)', ], axis=1)\n",
    "\n",
    "# Extreme copy/ paste warning. Make sure all unneeded columns are dropped\n",
    "y_train = df_model.iloc[0:int(n*0.7)].drop(columns=['COVID: (Ireland)','yesterday',\n",
    "       'yesterday_diff', 'yesterday2', 'yesterday_diff2', 'yesterday3',\n",
    "       'yesterday_diff3', 'yesterday4', 'yesterday_diff4', 'yesterday5',\n",
    "       'yesterday_diff5', 'yesterday6', 'yesterday_diff6', 'yesterday7',\n",
    "       'yesterday_diff7', 'covid_ROI', 'covid_ROI_diff', 'covid_ROI2',\n",
    "       'covid_ROI_diff2', 'covid_ROI3', 'covid_ROI_diff3', 'covid_ROI4',\n",
    "       'covid_ROI_diff4', 'covid_ROI5', 'covid_ROI_diff5', 'covid_ROI6',\n",
    "       'covid_ROI_diff6', 'covid_ROI7', 'covid_ROI_diff7'], axis=1)"
   ]
  },
  {
   "cell_type": "code",
   "execution_count": 23,
   "id": "3fee2be0",
   "metadata": {},
   "outputs": [],
   "source": [
    "X_test = df_model.iloc[int(n*0.7):int(n*0.9)].drop(['new_cases_smoothed_ROI', 'COVID: (Ireland)'],axis=1)\n",
    "\n",
    "# Extreme copy/ paste warning. Make sure all unneeded columns are dropped\n",
    "y_test = df_model.iloc[int(n*0.7):int(n*0.9)].drop(columns=['COVID: (Ireland)','yesterday',\n",
    "       'yesterday_diff', 'yesterday2', 'yesterday_diff2', 'yesterday3',\n",
    "       'yesterday_diff3', 'yesterday4', 'yesterday_diff4', 'yesterday5',\n",
    "       'yesterday_diff5', 'yesterday6', 'yesterday_diff6', 'yesterday7',\n",
    "       'yesterday_diff7', 'covid_ROI', 'covid_ROI_diff', 'covid_ROI2',\n",
    "       'covid_ROI_diff2', 'covid_ROI3', 'covid_ROI_diff3', 'covid_ROI4',\n",
    "       'covid_ROI_diff4', 'covid_ROI5', 'covid_ROI_diff5', 'covid_ROI6',\n",
    "       'covid_ROI_diff6', 'covid_ROI7', 'covid_ROI_diff7'], axis=1)"
   ]
  },
  {
   "cell_type": "code",
   "execution_count": 24,
   "id": "d1206398",
   "metadata": {},
   "outputs": [],
   "source": [
    "X_val = df_model.iloc[int(n*0.9):].drop(['new_cases_smoothed_ROI', 'COVID: (Ireland)'], axis=1)\n",
    "\n",
    "# Extreme copy/ paste warning. Make sure all unneeded columns are dropped\n",
    "y_val = df_model.iloc[int(n*0.9):].drop(columns=['COVID: (Ireland)','yesterday',\n",
    "       'yesterday_diff', 'yesterday2', 'yesterday_diff2', 'yesterday3',\n",
    "       'yesterday_diff3', 'yesterday4', 'yesterday_diff4', 'yesterday5',\n",
    "       'yesterday_diff5', 'yesterday6', 'yesterday_diff6', 'yesterday7',\n",
    "       'yesterday_diff7', 'covid_ROI', 'covid_ROI_diff', 'covid_ROI2',\n",
    "       'covid_ROI_diff2', 'covid_ROI3', 'covid_ROI_diff3', 'covid_ROI4',\n",
    "       'covid_ROI_diff4', 'covid_ROI5', 'covid_ROI_diff5', 'covid_ROI6',\n",
    "       'covid_ROI_diff6', 'covid_ROI7', 'covid_ROI_diff7'], axis=1)"
   ]
  },
  {
   "cell_type": "markdown",
   "id": "11002c01",
   "metadata": {},
   "source": [
    "### Verify all the training, test and validation columns are as expected"
   ]
  },
  {
   "cell_type": "code",
   "execution_count": 25,
   "id": "689c876d",
   "metadata": {},
   "outputs": [
    {
     "data": {
      "text/plain": [
       "Index(['yesterday', 'yesterday_diff', 'yesterday2', 'yesterday_diff2',\n",
       "       'yesterday3', 'yesterday_diff3', 'yesterday4', 'yesterday_diff4',\n",
       "       'yesterday5', 'yesterday_diff5', 'yesterday6', 'yesterday_diff6',\n",
       "       'yesterday7', 'yesterday_diff7', 'covid_ROI', 'covid_ROI_diff',\n",
       "       'covid_ROI2', 'covid_ROI_diff2', 'covid_ROI3', 'covid_ROI_diff3',\n",
       "       'covid_ROI4', 'covid_ROI_diff4', 'covid_ROI5', 'covid_ROI_diff5',\n",
       "       'covid_ROI6', 'covid_ROI_diff6', 'covid_ROI7', 'covid_ROI_diff7'],\n",
       "      dtype='object')"
      ]
     },
     "execution_count": 25,
     "metadata": {},
     "output_type": "execute_result"
    }
   ],
   "source": [
    "X_train.columns"
   ]
  },
  {
   "cell_type": "code",
   "execution_count": 26,
   "id": "1f2d3bf3",
   "metadata": {},
   "outputs": [
    {
     "data": {
      "text/plain": [
       "Index(['new_cases_smoothed_ROI'], dtype='object')"
      ]
     },
     "execution_count": 26,
     "metadata": {},
     "output_type": "execute_result"
    }
   ],
   "source": [
    "y_train.columns"
   ]
  },
  {
   "cell_type": "code",
   "execution_count": 27,
   "id": "286a5232",
   "metadata": {},
   "outputs": [
    {
     "data": {
      "text/plain": [
       "Index(['yesterday', 'yesterday_diff', 'yesterday2', 'yesterday_diff2',\n",
       "       'yesterday3', 'yesterday_diff3', 'yesterday4', 'yesterday_diff4',\n",
       "       'yesterday5', 'yesterday_diff5', 'yesterday6', 'yesterday_diff6',\n",
       "       'yesterday7', 'yesterday_diff7', 'covid_ROI', 'covid_ROI_diff',\n",
       "       'covid_ROI2', 'covid_ROI_diff2', 'covid_ROI3', 'covid_ROI_diff3',\n",
       "       'covid_ROI4', 'covid_ROI_diff4', 'covid_ROI5', 'covid_ROI_diff5',\n",
       "       'covid_ROI6', 'covid_ROI_diff6', 'covid_ROI7', 'covid_ROI_diff7'],\n",
       "      dtype='object')"
      ]
     },
     "execution_count": 27,
     "metadata": {},
     "output_type": "execute_result"
    }
   ],
   "source": [
    "X_test.columns"
   ]
  },
  {
   "cell_type": "code",
   "execution_count": 28,
   "id": "ea316bd3",
   "metadata": {},
   "outputs": [
    {
     "data": {
      "text/plain": [
       "Index(['new_cases_smoothed_ROI'], dtype='object')"
      ]
     },
     "execution_count": 28,
     "metadata": {},
     "output_type": "execute_result"
    }
   ],
   "source": [
    "y_test.columns"
   ]
  },
  {
   "cell_type": "code",
   "execution_count": 29,
   "id": "1968c433",
   "metadata": {},
   "outputs": [
    {
     "data": {
      "text/plain": [
       "Index(['yesterday', 'yesterday_diff', 'yesterday2', 'yesterday_diff2',\n",
       "       'yesterday3', 'yesterday_diff3', 'yesterday4', 'yesterday_diff4',\n",
       "       'yesterday5', 'yesterday_diff5', 'yesterday6', 'yesterday_diff6',\n",
       "       'yesterday7', 'yesterday_diff7', 'covid_ROI', 'covid_ROI_diff',\n",
       "       'covid_ROI2', 'covid_ROI_diff2', 'covid_ROI3', 'covid_ROI_diff3',\n",
       "       'covid_ROI4', 'covid_ROI_diff4', 'covid_ROI5', 'covid_ROI_diff5',\n",
       "       'covid_ROI6', 'covid_ROI_diff6', 'covid_ROI7', 'covid_ROI_diff7'],\n",
       "      dtype='object')"
      ]
     },
     "execution_count": 29,
     "metadata": {},
     "output_type": "execute_result"
    }
   ],
   "source": [
    "X_val.columns"
   ]
  },
  {
   "cell_type": "code",
   "execution_count": 30,
   "id": "a0082597",
   "metadata": {},
   "outputs": [
    {
     "data": {
      "text/plain": [
       "Index(['new_cases_smoothed_ROI'], dtype='object')"
      ]
     },
     "execution_count": 30,
     "metadata": {},
     "output_type": "execute_result"
    }
   ],
   "source": [
    "y_val.columns"
   ]
  },
  {
   "cell_type": "markdown",
   "id": "71518ee5",
   "metadata": {},
   "source": [
    "### Load the model and Gridsearch parameters"
   ]
  },
  {
   "cell_type": "code",
   "execution_count": 31,
   "id": "loose-florist",
   "metadata": {},
   "outputs": [],
   "source": [
    "model = MLPRegressor()\n",
    "\n",
    "param_search = {\n",
    "    \"hidden_layer_sizes\": [(1,),(50,),(100,),(150,),(200,),(250,),(300,),(350,)],\n",
    "    \"activation\": [\"identity\", \"logistic\", \"tanh\", \"relu\"],\n",
    "    \"solver\": [\"lbfgs\", \"sgd\", \"adam\"],\n",
    "    \"alpha\": [0.00005,0.0005, 0.005],\n",
    "    \"learning_rate\": ['constant', 'invscaling', 'adaptive']\n",
    "}"
   ]
  },
  {
   "cell_type": "markdown",
   "id": "3802d3bb",
   "metadata": {},
   "source": [
    "### Run the model"
   ]
  },
  {
   "cell_type": "code",
   "execution_count": 32,
   "id": "future-tampa",
   "metadata": {},
   "outputs": [],
   "source": [
    "tsvc = TimeSeriesSplit(n_splits=5)\n",
    "gsearch = GridSearchCV(estimator=model, cv=tsvc, param_grid=param_search, scoring='r2')\n",
    "gsearch.fit(X_train, y_train)\n",
    "best_score = gsearch.best_score_\n",
    "best_model = gsearch.best_estimator_"
   ]
  },
  {
   "cell_type": "markdown",
   "id": "a808b598",
   "metadata": {},
   "source": [
    "### Print the best model"
   ]
  },
  {
   "cell_type": "code",
   "execution_count": 33,
   "id": "automatic-mixer",
   "metadata": {},
   "outputs": [
    {
     "name": "stdout",
     "output_type": "stream",
     "text": [
      "MLPRegressor(activation='identity', alpha=0.005, hidden_layer_sizes=(1,),\n",
      "             learning_rate='adaptive')\n"
     ]
    }
   ],
   "source": [
    "print(best_model)"
   ]
  },
  {
   "cell_type": "code",
   "execution_count": 34,
   "id": "adopted-component",
   "metadata": {},
   "outputs": [
    {
     "name": "stdout",
     "output_type": "stream",
     "text": [
      "Accuracy: 0.4856374731789205\n"
     ]
    }
   ],
   "source": [
    "test_pred = best_model.predict(X_test)\n",
    "print(\"Accuracy:\", r2_score(y_test, test_pred))"
   ]
  },
  {
   "cell_type": "code",
   "execution_count": 35,
   "id": "0da4beb9",
   "metadata": {},
   "outputs": [],
   "source": [
    "y_test['predictions'] = test_pred.tolist()"
   ]
  },
  {
   "cell_type": "code",
   "execution_count": 36,
   "id": "0400cbfb",
   "metadata": {},
   "outputs": [],
   "source": [
    "y_test.reset_index(inplace=True)"
   ]
  },
  {
   "cell_type": "code",
   "execution_count": 37,
   "id": "550a36ad",
   "metadata": {},
   "outputs": [
    {
     "data": {
      "text/html": [
       "<div>\n",
       "<style scoped>\n",
       "    .dataframe tbody tr th:only-of-type {\n",
       "        vertical-align: middle;\n",
       "    }\n",
       "\n",
       "    .dataframe tbody tr th {\n",
       "        vertical-align: top;\n",
       "    }\n",
       "\n",
       "    .dataframe thead th {\n",
       "        text-align: right;\n",
       "    }\n",
       "</style>\n",
       "<table border=\"1\" class=\"dataframe\">\n",
       "  <thead>\n",
       "    <tr style=\"text-align: right;\">\n",
       "      <th></th>\n",
       "      <th>date</th>\n",
       "      <th>new_cases_smoothed_ROI</th>\n",
       "      <th>predictions</th>\n",
       "    </tr>\n",
       "  </thead>\n",
       "  <tbody>\n",
       "    <tr>\n",
       "      <th>0</th>\n",
       "      <td>2021-08-05</td>\n",
       "      <td>1281.571</td>\n",
       "      <td>1095.301923</td>\n",
       "    </tr>\n",
       "    <tr>\n",
       "      <th>1</th>\n",
       "      <td>2021-08-06</td>\n",
       "      <td>1321.571</td>\n",
       "      <td>1125.741658</td>\n",
       "    </tr>\n",
       "    <tr>\n",
       "      <th>2</th>\n",
       "      <td>2021-08-07</td>\n",
       "      <td>1378.857</td>\n",
       "      <td>1101.323326</td>\n",
       "    </tr>\n",
       "    <tr>\n",
       "      <th>3</th>\n",
       "      <td>2021-08-08</td>\n",
       "      <td>1484.429</td>\n",
       "      <td>1084.521135</td>\n",
       "    </tr>\n",
       "    <tr>\n",
       "      <th>4</th>\n",
       "      <td>2021-08-09</td>\n",
       "      <td>1492.857</td>\n",
       "      <td>1107.797918</td>\n",
       "    </tr>\n",
       "    <tr>\n",
       "      <th>...</th>\n",
       "      <td>...</td>\n",
       "      <td>...</td>\n",
       "      <td>...</td>\n",
       "    </tr>\n",
       "    <tr>\n",
       "      <th>143</th>\n",
       "      <td>2021-12-26</td>\n",
       "      <td>8446.571</td>\n",
       "      <td>4137.501149</td>\n",
       "    </tr>\n",
       "    <tr>\n",
       "      <th>144</th>\n",
       "      <td>2021-12-27</td>\n",
       "      <td>8724.714</td>\n",
       "      <td>3744.464689</td>\n",
       "    </tr>\n",
       "    <tr>\n",
       "      <th>145</th>\n",
       "      <td>2021-12-28</td>\n",
       "      <td>9258.571</td>\n",
       "      <td>4045.093010</td>\n",
       "    </tr>\n",
       "    <tr>\n",
       "      <th>146</th>\n",
       "      <td>2021-12-29</td>\n",
       "      <td>10704.429</td>\n",
       "      <td>4728.917489</td>\n",
       "    </tr>\n",
       "    <tr>\n",
       "      <th>147</th>\n",
       "      <td>2021-12-30</td>\n",
       "      <td>12582.000</td>\n",
       "      <td>5051.992236</td>\n",
       "    </tr>\n",
       "  </tbody>\n",
       "</table>\n",
       "<p>148 rows × 3 columns</p>\n",
       "</div>"
      ],
      "text/plain": [
       "          date  new_cases_smoothed_ROI  predictions\n",
       "0   2021-08-05                1281.571  1095.301923\n",
       "1   2021-08-06                1321.571  1125.741658\n",
       "2   2021-08-07                1378.857  1101.323326\n",
       "3   2021-08-08                1484.429  1084.521135\n",
       "4   2021-08-09                1492.857  1107.797918\n",
       "..         ...                     ...          ...\n",
       "143 2021-12-26                8446.571  4137.501149\n",
       "144 2021-12-27                8724.714  3744.464689\n",
       "145 2021-12-28                9258.571  4045.093010\n",
       "146 2021-12-29               10704.429  4728.917489\n",
       "147 2021-12-30               12582.000  5051.992236\n",
       "\n",
       "[148 rows x 3 columns]"
      ]
     },
     "execution_count": 37,
     "metadata": {},
     "output_type": "execute_result"
    }
   ],
   "source": [
    "y_test"
   ]
  },
  {
   "cell_type": "code",
   "execution_count": 38,
   "id": "a8c59aad",
   "metadata": {},
   "outputs": [
    {
     "data": {
      "image/png": "[encoded data removed]",
      "text/plain": [
       "<Figure size 576x576 with 1 Axes>"
      ]
     },
     "metadata": {
      "needs_background": "light"
     },
     "output_type": "display_data"
    }
   ],
   "source": [
    "x = y_test['date']\n",
    "ax = plt.gca()\n",
    "\n",
    "formatter = mdates.DateFormatter(\"%d-%m-%Y\")\n",
    "ax.xaxis.set_major_formatter(formatter)\n",
    "locator = mdates.WeekdayLocator()\n",
    "ax.xaxis.set_major_locator(locator)\n",
    "y1 = y_test['new_cases_smoothed_ROI']\n",
    "plt.plot(x, y1,'-', color='blue', marker='*')\n",
    "y2 = y_test['predictions']\n",
    "plt.plot(x, y2,'-', color='orange', marker='+')\n",
    "plt.title(\"Actual vs. Predictions on Test Set\", fontsize=16)\n",
    "plt.legend(['Actuals','Predictions'])\n",
    "plt.xticks(rotation=30)\n",
    "plt.ylabel(\"Number of Daily Cases\", fontsize=12)\n",
    "plt.xlabel(\"Date\", fontsize=12)\n",
    "plt.show()"
   ]
  },
  {
   "cell_type": "code",
   "execution_count": 39,
   "id": "f5295eac",
   "metadata": {},
   "outputs": [],
   "source": [
    "val_pred = best_model.predict(X_val)"
   ]
  },
  {
   "cell_type": "code",
   "execution_count": 40,
   "id": "a2428681",
   "metadata": {},
   "outputs": [
    {
     "name": "stdout",
     "output_type": "stream",
     "text": [
      "Accuracy: 0.5401426249940902\n"
     ]
    }
   ],
   "source": [
    "print(\"Accuracy:\", r2_score(y_val, val_pred))"
   ]
  },
  {
   "cell_type": "code",
   "execution_count": 41,
   "id": "237a07b8",
   "metadata": {},
   "outputs": [],
   "source": [
    "y_val['predictions'] = val_pred.tolist()"
   ]
  },
  {
   "cell_type": "code",
   "execution_count": 42,
   "id": "8785a7d2",
   "metadata": {},
   "outputs": [],
   "source": [
    "y_val.reset_index(inplace=True)"
   ]
  },
  {
   "cell_type": "code",
   "execution_count": 43,
   "id": "c8f57c5f",
   "metadata": {},
   "outputs": [
    {
     "data": {
      "image/png": "[encoded data removed]",
      "text/plain": [
       "<Figure size 576x576 with 1 Axes>"
      ]
     },
     "metadata": {
      "needs_background": "light"
     },
     "output_type": "display_data"
    }
   ],
   "source": [
    "x = y_val['date']\n",
    "ax = plt.gca()\n",
    "\n",
    "formatter = mdates.DateFormatter(\"%d-%m-%Y\")\n",
    "ax.xaxis.set_major_formatter(formatter)\n",
    "locator = mdates.WeekdayLocator()\n",
    "ax.xaxis.set_major_locator(locator)\n",
    "y1 = y_val['new_cases_smoothed_ROI']\n",
    "plt.plot(x, y1,'-', color='blue', marker='*')\n",
    "y2 = y_val['predictions']\n",
    "plt.plot(x, y2,'-', color='orange', marker='+')\n",
    "plt.title(\"Actual vs. Predictions on val Set\", fontsize=16)\n",
    "plt.legend(['Actuals','Predictions'])\n",
    "plt.xticks(rotation=30)\n",
    "plt.ylabel(\"Number of Daily Cases\", fontsize=12)\n",
    "plt.xlabel(\"Date\", fontsize=12)\n",
    "plt.show()"
   ]
  },
  {
   "cell_type": "code",
   "execution_count": null,
   "id": "d464e992",
   "metadata": {},
   "outputs": [],
   "source": []
  },
  {
   "cell_type": "code",
   "execution_count": null,
   "id": "e8c45298",
   "metadata": {},
   "outputs": [],
   "source": []
  }
 ],
 "metadata": {
  "kernelspec": {
   "display_name": "Python 3",
   "language": "python",
   "name": "python3"
  },
  "language_info": {
   "codemirror_mode": {
    "name": "ipython",
    "version": 3
   },
   "file_extension": ".py",
   "mimetype": "text/x-python",
   "name": "python",
   "nbconvert_exporter": "python",
   "pygments_lexer": "ipython3",
   "version": "3.8.6"
  }
 },
 "nbformat": 4,
 "nbformat_minor": 5
}
