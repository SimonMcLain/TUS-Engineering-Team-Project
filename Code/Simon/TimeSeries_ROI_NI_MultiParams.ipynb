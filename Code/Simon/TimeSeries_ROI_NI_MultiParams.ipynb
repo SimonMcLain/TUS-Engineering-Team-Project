{
 "cells": [
  {
   "cell_type": "code",
   "execution_count": 1,
   "id": "95886947",
   "metadata": {},
   "outputs": [],
   "source": [
    "import pandas as pd \n",
    "import numpy as np \n",
    "\n",
    "from sklearn.model_selection import TimeSeriesSplit, cross_val_score\n",
    "from sklearn.neural_network import MLPRegressor\n",
    "from sklearn import preprocessing\n",
    "from sklearn.preprocessing import MinMaxScaler\n",
    "import matplotlib.pyplot as plt\n",
    "\n",
    "from sklearn.model_selection import GridSearchCV\n",
    "\n",
    "import warnings\n",
    "warnings.filterwarnings('ignore')"
   ]
  },
  {
   "cell_type": "code",
   "execution_count": 2,
   "id": "4a023e70",
   "metadata": {},
   "outputs": [],
   "source": [
    "data = pd.read_excel(\"preparedData.xlsx\")"
   ]
  },
  {
   "cell_type": "code",
   "execution_count": 3,
   "id": "a7cca08f",
   "metadata": {},
   "outputs": [],
   "source": [
    "ni_data = pd.read_excel(\"ni_smoothed.xlsx\")"
   ]
  },
  {
   "cell_type": "code",
   "execution_count": 4,
   "id": "4b27c1c5",
   "metadata": {},
   "outputs": [
    {
     "data": {
      "text/plain": [
       "Index(['date', 'newCasesByPublishDateSmoothed'], dtype='object')"
      ]
     },
     "execution_count": 4,
     "metadata": {},
     "output_type": "execute_result"
    }
   ],
   "source": [
    "ni_data.columns"
   ]
  },
  {
   "cell_type": "code",
   "execution_count": 5,
   "id": "8e07e7a5",
   "metadata": {},
   "outputs": [],
   "source": [
    "data = pd.merge(data, ni_data, left_on='date', right_on='date', how='left')"
   ]
  },
  {
   "cell_type": "code",
   "execution_count": 6,
   "id": "8b9c6d33",
   "metadata": {},
   "outputs": [],
   "source": [
    "data.fillna(0, inplace=True)"
   ]
  },
  {
   "cell_type": "code",
   "execution_count": 7,
   "id": "68a4e79e",
   "metadata": {},
   "outputs": [
    {
     "data": {
      "text/plain": [
       "Index(['date', 'new_cases', 'new_cases_smoothed', 'reproduction_rate',\n",
       "       'new_tests', 'positive_rate', 'tests_per_case', 'total_vaccinations',\n",
       "       'people_vaccinated', 'people_fully_vaccinated', 'total_boosters',\n",
       "       'new_vaccinations', 'stringency_index', 'population',\n",
       "       'population_density', 'median_age', 'aged_65_older', 'aged_70_older',\n",
       "       'gdp_per_capita', 'extreme_poverty', 'cardiovasc_death_rate',\n",
       "       'diabetes_prevalence', 'female_smokers', 'male_smokers',\n",
       "       'life_expectancy', 'human_development_index', 'covid: (Ireland)',\n",
       "       'COVID-19 testing: (Ireland)', 'COVID-19 rapid antigen test: (Ireland)',\n",
       "       'Health Service Executive: (Ireland)', 'Vaccination: (Ireland)',\n",
       "       'book covid test: (Ireland)_x', 'how many covid cases today: (Ireland)',\n",
       "       'pcr covid test: (Ireland)', 'close contact covid: (Ireland)',\n",
       "       'book a covid test: (Ireland)', 'vaccination centre: (Ireland)',\n",
       "       'pharmacy near me: (Ireland)',\n",
       "       'Treatment and management of COVID-19: (Ireland)',\n",
       "       'Hand sanitizer: (Ireland)', 'Face mask: (Ireland)',\n",
       "       'book covid test: (Ireland)_y', 'covid test dublin: (Ireland)',\n",
       "       'covid test centre: (Ireland)', 'hse covid vaccine: (Ireland)',\n",
       "       'hse vaccine portal: (Ireland)', 'hse portal vaccine: (Ireland)',\n",
       "       'pcr test hse: (Ireland)', 'hse covid test: (Ireland)',\n",
       "       'hse vaccine registration: (Ireland)',\n",
       "       'how long will it take to vaccinate ireland: (Ireland)',\n",
       "       'newCasesByPublishDateSmoothed'],\n",
       "      dtype='object')"
      ]
     },
     "execution_count": 7,
     "metadata": {},
     "output_type": "execute_result"
    }
   ],
   "source": [
    "data.columns"
   ]
  },
  {
   "cell_type": "code",
   "execution_count": 8,
   "id": "57728cdb",
   "metadata": {},
   "outputs": [],
   "source": [
    "data['new_cases_smoothed'] = data['new_cases_smoothed']+data['newCasesByPublishDateSmoothed']"
   ]
  },
  {
   "cell_type": "code",
   "execution_count": 9,
   "id": "c37b6f32",
   "metadata": {},
   "outputs": [
    {
     "data": {
      "text/html": [
       "<div>\n",
       "<style scoped>\n",
       "    .dataframe tbody tr th:only-of-type {\n",
       "        vertical-align: middle;\n",
       "    }\n",
       "\n",
       "    .dataframe tbody tr th {\n",
       "        vertical-align: top;\n",
       "    }\n",
       "\n",
       "    .dataframe thead th {\n",
       "        text-align: right;\n",
       "    }\n",
       "</style>\n",
       "<table border=\"1\" class=\"dataframe\">\n",
       "  <thead>\n",
       "    <tr style=\"text-align: right;\">\n",
       "      <th></th>\n",
       "      <th>date</th>\n",
       "      <th>new_cases</th>\n",
       "      <th>new_cases_smoothed</th>\n",
       "      <th>reproduction_rate</th>\n",
       "      <th>new_tests</th>\n",
       "      <th>positive_rate</th>\n",
       "      <th>tests_per_case</th>\n",
       "      <th>total_vaccinations</th>\n",
       "      <th>people_vaccinated</th>\n",
       "      <th>people_fully_vaccinated</th>\n",
       "      <th>...</th>\n",
       "      <th>covid test dublin: (Ireland)</th>\n",
       "      <th>covid test centre: (Ireland)</th>\n",
       "      <th>hse covid vaccine: (Ireland)</th>\n",
       "      <th>hse vaccine portal: (Ireland)</th>\n",
       "      <th>hse portal vaccine: (Ireland)</th>\n",
       "      <th>pcr test hse: (Ireland)</th>\n",
       "      <th>hse covid test: (Ireland)</th>\n",
       "      <th>hse vaccine registration: (Ireland)</th>\n",
       "      <th>how long will it take to vaccinate ireland: (Ireland)</th>\n",
       "      <th>newCasesByPublishDateSmoothed</th>\n",
       "    </tr>\n",
       "  </thead>\n",
       "  <tbody>\n",
       "    <tr>\n",
       "      <th>0</th>\n",
       "      <td>2020-03-15</td>\n",
       "      <td>0</td>\n",
       "      <td>207.701934</td>\n",
       "      <td>2.51</td>\n",
       "      <td>0</td>\n",
       "      <td>0.0</td>\n",
       "      <td>0.0</td>\n",
       "      <td>0</td>\n",
       "      <td>0</td>\n",
       "      <td>0</td>\n",
       "      <td>...</td>\n",
       "      <td>1.0</td>\n",
       "      <td>2.0</td>\n",
       "      <td>0.0</td>\n",
       "      <td>0.0</td>\n",
       "      <td>0.0</td>\n",
       "      <td>0.0</td>\n",
       "      <td>2.0</td>\n",
       "      <td>0.0</td>\n",
       "      <td>0.0</td>\n",
       "      <td>191.987934</td>\n",
       "    </tr>\n",
       "    <tr>\n",
       "      <th>1</th>\n",
       "      <td>2020-03-16</td>\n",
       "      <td>40</td>\n",
       "      <td>206.904197</td>\n",
       "      <td>2.59</td>\n",
       "      <td>0</td>\n",
       "      <td>0.0</td>\n",
       "      <td>0.0</td>\n",
       "      <td>0</td>\n",
       "      <td>0</td>\n",
       "      <td>0</td>\n",
       "      <td>...</td>\n",
       "      <td>1.0</td>\n",
       "      <td>1.0</td>\n",
       "      <td>0.0</td>\n",
       "      <td>0.0</td>\n",
       "      <td>0.0</td>\n",
       "      <td>0.0</td>\n",
       "      <td>1.0</td>\n",
       "      <td>0.0</td>\n",
       "      <td>0.0</td>\n",
       "      <td>185.761197</td>\n",
       "    </tr>\n",
       "    <tr>\n",
       "      <th>2</th>\n",
       "      <td>2020-03-17</td>\n",
       "      <td>54</td>\n",
       "      <td>207.022704</td>\n",
       "      <td>2.70</td>\n",
       "      <td>0</td>\n",
       "      <td>0.0</td>\n",
       "      <td>0.0</td>\n",
       "      <td>0</td>\n",
       "      <td>0</td>\n",
       "      <td>0</td>\n",
       "      <td>...</td>\n",
       "      <td>1.0</td>\n",
       "      <td>1.0</td>\n",
       "      <td>0.0</td>\n",
       "      <td>0.0</td>\n",
       "      <td>0.0</td>\n",
       "      <td>0.0</td>\n",
       "      <td>1.0</td>\n",
       "      <td>0.0</td>\n",
       "      <td>0.0</td>\n",
       "      <td>180.022704</td>\n",
       "    </tr>\n",
       "    <tr>\n",
       "      <th>3</th>\n",
       "      <td>2020-03-18</td>\n",
       "      <td>69</td>\n",
       "      <td>210.077194</td>\n",
       "      <td>2.78</td>\n",
       "      <td>0</td>\n",
       "      <td>0.0</td>\n",
       "      <td>0.0</td>\n",
       "      <td>0</td>\n",
       "      <td>0</td>\n",
       "      <td>0</td>\n",
       "      <td>...</td>\n",
       "      <td>1.0</td>\n",
       "      <td>1.0</td>\n",
       "      <td>0.0</td>\n",
       "      <td>0.0</td>\n",
       "      <td>0.0</td>\n",
       "      <td>0.0</td>\n",
       "      <td>1.0</td>\n",
       "      <td>0.0</td>\n",
       "      <td>0.0</td>\n",
       "      <td>174.506194</td>\n",
       "    </tr>\n",
       "    <tr>\n",
       "      <th>4</th>\n",
       "      <td>2020-03-19</td>\n",
       "      <td>265</td>\n",
       "      <td>242.836522</td>\n",
       "      <td>2.84</td>\n",
       "      <td>946</td>\n",
       "      <td>0.0</td>\n",
       "      <td>0.0</td>\n",
       "      <td>0</td>\n",
       "      <td>0</td>\n",
       "      <td>0</td>\n",
       "      <td>...</td>\n",
       "      <td>1.0</td>\n",
       "      <td>1.0</td>\n",
       "      <td>0.0</td>\n",
       "      <td>0.0</td>\n",
       "      <td>0.0</td>\n",
       "      <td>0.0</td>\n",
       "      <td>1.0</td>\n",
       "      <td>0.0</td>\n",
       "      <td>0.0</td>\n",
       "      <td>169.407522</td>\n",
       "    </tr>\n",
       "  </tbody>\n",
       "</table>\n",
       "<p>5 rows × 52 columns</p>\n",
       "</div>"
      ],
      "text/plain": [
       "        date  new_cases  new_cases_smoothed  reproduction_rate  new_tests  \\\n",
       "0 2020-03-15          0          207.701934               2.51          0   \n",
       "1 2020-03-16         40          206.904197               2.59          0   \n",
       "2 2020-03-17         54          207.022704               2.70          0   \n",
       "3 2020-03-18         69          210.077194               2.78          0   \n",
       "4 2020-03-19        265          242.836522               2.84        946   \n",
       "\n",
       "   positive_rate  tests_per_case  total_vaccinations  people_vaccinated  \\\n",
       "0            0.0             0.0                   0                  0   \n",
       "1            0.0             0.0                   0                  0   \n",
       "2            0.0             0.0                   0                  0   \n",
       "3            0.0             0.0                   0                  0   \n",
       "4            0.0             0.0                   0                  0   \n",
       "\n",
       "   people_fully_vaccinated  ...  covid test dublin: (Ireland)  \\\n",
       "0                        0  ...                           1.0   \n",
       "1                        0  ...                           1.0   \n",
       "2                        0  ...                           1.0   \n",
       "3                        0  ...                           1.0   \n",
       "4                        0  ...                           1.0   \n",
       "\n",
       "   covid test centre: (Ireland)  hse covid vaccine: (Ireland)  \\\n",
       "0                           2.0                           0.0   \n",
       "1                           1.0                           0.0   \n",
       "2                           1.0                           0.0   \n",
       "3                           1.0                           0.0   \n",
       "4                           1.0                           0.0   \n",
       "\n",
       "   hse vaccine portal: (Ireland)  hse portal vaccine: (Ireland)  \\\n",
       "0                            0.0                            0.0   \n",
       "1                            0.0                            0.0   \n",
       "2                            0.0                            0.0   \n",
       "3                            0.0                            0.0   \n",
       "4                            0.0                            0.0   \n",
       "\n",
       "   pcr test hse: (Ireland)  hse covid test: (Ireland)  \\\n",
       "0                      0.0                        2.0   \n",
       "1                      0.0                        1.0   \n",
       "2                      0.0                        1.0   \n",
       "3                      0.0                        1.0   \n",
       "4                      0.0                        1.0   \n",
       "\n",
       "   hse vaccine registration: (Ireland)  \\\n",
       "0                                  0.0   \n",
       "1                                  0.0   \n",
       "2                                  0.0   \n",
       "3                                  0.0   \n",
       "4                                  0.0   \n",
       "\n",
       "   how long will it take to vaccinate ireland: (Ireland)  \\\n",
       "0                                                0.0       \n",
       "1                                                0.0       \n",
       "2                                                0.0       \n",
       "3                                                0.0       \n",
       "4                                                0.0       \n",
       "\n",
       "   newCasesByPublishDateSmoothed  \n",
       "0                     191.987934  \n",
       "1                     185.761197  \n",
       "2                     180.022704  \n",
       "3                     174.506194  \n",
       "4                     169.407522  \n",
       "\n",
       "[5 rows x 52 columns]"
      ]
     },
     "execution_count": 9,
     "metadata": {},
     "output_type": "execute_result"
    }
   ],
   "source": [
    "data.head(5)"
   ]
  },
  {
   "cell_type": "code",
   "execution_count": 10,
   "id": "0be6151c",
   "metadata": {},
   "outputs": [],
   "source": [
    "data['date'] = pd.to_datetime(data['date'])\n",
    "data.sort_values(by='date', ascending=True, inplace=True)\n",
    "data = data.set_index('date')"
   ]
  },
  {
   "cell_type": "code",
   "execution_count": 11,
   "id": "a5796a2d",
   "metadata": {},
   "outputs": [],
   "source": [
    "data.drop(columns=['tests_per_case', 'new_cases','new_tests',\n",
    "            'people_vaccinated', 'people_fully_vaccinated', 'total_boosters',\n",
    "       'new_vaccinations','population',\n",
    "       'population_density', 'median_age', 'aged_65_older', 'aged_70_older',\n",
    "       'gdp_per_capita', 'extreme_poverty', 'cardiovasc_death_rate',\n",
    "       'diabetes_prevalence', 'female_smokers', 'male_smokers',\n",
    "       'life_expectancy', 'human_development_index', \n",
    "       'COVID-19 testing: (Ireland)', 'COVID-19 rapid antigen test: (Ireland)',\n",
    "       'Health Service Executive: (Ireland)', 'Vaccination: (Ireland)',\n",
    "       'book covid test: (Ireland)_x', 'how many covid cases today: (Ireland)',\n",
    "       'pcr covid test: (Ireland)', 'close contact covid: (Ireland)',\n",
    "       'book a covid test: (Ireland)', 'vaccination centre: (Ireland)',\n",
    "       'pharmacy near me: (Ireland)',\n",
    "       'Treatment and management of COVID-19: (Ireland)',\n",
    "       'Hand sanitizer: (Ireland)', 'Face mask: (Ireland)',\n",
    "       'book covid test: (Ireland)_y', 'covid test dublin: (Ireland)',\n",
    "       'covid test centre: (Ireland)', 'hse covid vaccine: (Ireland)',\n",
    "       'hse vaccine portal: (Ireland)', 'hse portal vaccine: (Ireland)',\n",
    "       'pcr test hse: (Ireland)', 'hse covid test: (Ireland)',\n",
    "       'hse vaccine registration: (Ireland)',\n",
    "       'how long will it take to vaccinate ireland: (Ireland)','newCasesByPublishDateSmoothed'],inplace=True)"
   ]
  },
  {
   "cell_type": "code",
   "execution_count": 12,
   "id": "088be179",
   "metadata": {},
   "outputs": [
    {
     "data": {
      "text/html": [
       "<div>\n",
       "<style scoped>\n",
       "    .dataframe tbody tr th:only-of-type {\n",
       "        vertical-align: middle;\n",
       "    }\n",
       "\n",
       "    .dataframe tbody tr th {\n",
       "        vertical-align: top;\n",
       "    }\n",
       "\n",
       "    .dataframe thead th {\n",
       "        text-align: right;\n",
       "    }\n",
       "</style>\n",
       "<table border=\"1\" class=\"dataframe\">\n",
       "  <thead>\n",
       "    <tr style=\"text-align: right;\">\n",
       "      <th></th>\n",
       "      <th>count</th>\n",
       "      <th>mean</th>\n",
       "      <th>std</th>\n",
       "      <th>min</th>\n",
       "      <th>25%</th>\n",
       "      <th>50%</th>\n",
       "      <th>75%</th>\n",
       "      <th>max</th>\n",
       "    </tr>\n",
       "  </thead>\n",
       "  <tbody>\n",
       "    <tr>\n",
       "      <th>new_cases_smoothed</th>\n",
       "      <td>702.0</td>\n",
       "      <td>2.098751e+03</td>\n",
       "      <td>3.493779e+03</td>\n",
       "      <td>11.571</td>\n",
       "      <td>448.479583</td>\n",
       "      <td>854.09339</td>\n",
       "      <td>1.997520e+03</td>\n",
       "      <td>2.375200e+04</td>\n",
       "    </tr>\n",
       "    <tr>\n",
       "      <th>reproduction_rate</th>\n",
       "      <td>702.0</td>\n",
       "      <td>1.076068e+00</td>\n",
       "      <td>3.489241e-01</td>\n",
       "      <td>0.000</td>\n",
       "      <td>0.880000</td>\n",
       "      <td>1.02000</td>\n",
       "      <td>1.250000e+00</td>\n",
       "      <td>2.840000e+00</td>\n",
       "    </tr>\n",
       "    <tr>\n",
       "      <th>positive_rate</th>\n",
       "      <td>702.0</td>\n",
       "      <td>7.688519e-02</td>\n",
       "      <td>9.587108e-02</td>\n",
       "      <td>0.000</td>\n",
       "      <td>0.022800</td>\n",
       "      <td>0.04015</td>\n",
       "      <td>8.922500e-02</td>\n",
       "      <td>5.523000e-01</td>\n",
       "    </tr>\n",
       "    <tr>\n",
       "      <th>total_vaccinations</th>\n",
       "      <td>702.0</td>\n",
       "      <td>2.886069e+06</td>\n",
       "      <td>3.631357e+06</td>\n",
       "      <td>0.000</td>\n",
       "      <td>0.000000</td>\n",
       "      <td>447297.00000</td>\n",
       "      <td>6.680368e+06</td>\n",
       "      <td>1.050748e+07</td>\n",
       "    </tr>\n",
       "    <tr>\n",
       "      <th>stringency_index</th>\n",
       "      <td>702.0</td>\n",
       "      <td>6.209577e+01</td>\n",
       "      <td>1.978799e+01</td>\n",
       "      <td>0.000</td>\n",
       "      <td>44.440000</td>\n",
       "      <td>55.56000</td>\n",
       "      <td>8.148000e+01</td>\n",
       "      <td>9.074000e+01</td>\n",
       "    </tr>\n",
       "    <tr>\n",
       "      <th>covid: (Ireland)</th>\n",
       "      <td>702.0</td>\n",
       "      <td>2.967664e+01</td>\n",
       "      <td>1.365269e+01</td>\n",
       "      <td>0.000</td>\n",
       "      <td>20.250000</td>\n",
       "      <td>26.00000</td>\n",
       "      <td>3.400000e+01</td>\n",
       "      <td>1.000000e+02</td>\n",
       "    </tr>\n",
       "  </tbody>\n",
       "</table>\n",
       "</div>"
      ],
      "text/plain": [
       "                    count          mean           std     min         25%  \\\n",
       "new_cases_smoothed  702.0  2.098751e+03  3.493779e+03  11.571  448.479583   \n",
       "reproduction_rate   702.0  1.076068e+00  3.489241e-01   0.000    0.880000   \n",
       "positive_rate       702.0  7.688519e-02  9.587108e-02   0.000    0.022800   \n",
       "total_vaccinations  702.0  2.886069e+06  3.631357e+06   0.000    0.000000   \n",
       "stringency_index    702.0  6.209577e+01  1.978799e+01   0.000   44.440000   \n",
       "covid: (Ireland)    702.0  2.967664e+01  1.365269e+01   0.000   20.250000   \n",
       "\n",
       "                             50%           75%           max  \n",
       "new_cases_smoothed     854.09339  1.997520e+03  2.375200e+04  \n",
       "reproduction_rate        1.02000  1.250000e+00  2.840000e+00  \n",
       "positive_rate            0.04015  8.922500e-02  5.523000e-01  \n",
       "total_vaccinations  447297.00000  6.680368e+06  1.050748e+07  \n",
       "stringency_index        55.56000  8.148000e+01  9.074000e+01  \n",
       "covid: (Ireland)        26.00000  3.400000e+01  1.000000e+02  "
      ]
     },
     "execution_count": 12,
     "metadata": {},
     "output_type": "execute_result"
    }
   ],
   "source": [
    "data.describe().transpose()"
   ]
  },
  {
   "cell_type": "code",
   "execution_count": 13,
   "id": "a148de30",
   "metadata": {},
   "outputs": [],
   "source": [
    "df = data.copy(deep=True)"
   ]
  },
  {
   "cell_type": "code",
   "execution_count": 14,
   "id": "ef3e23d5",
   "metadata": {},
   "outputs": [],
   "source": [
    "df.loc[:,'ncs'] = df.loc[:,'new_cases_smoothed'].shift()\n",
    "df.loc[:,'ncs_diff'] = df.loc[:,'ncs'].diff()\n",
    "df.loc[:,'ncs2'] = df.loc[:,'ncs'].shift()\n",
    "df.loc[:,'ncs_diff2'] = df.loc[:,'ncs2'].diff()\n",
    "df.loc[:,'ncs3'] = df.loc[:,'ncs2'].shift()\n",
    "df.loc[:,'ncs_diff3'] = df.loc[:,'ncs3'].diff()\n",
    "df.loc[:,'ncs4'] = df.loc[:,'ncs3'].shift()\n",
    "df.loc[:,'ncs_diff4'] = df.loc[:,'ncs4'].diff()\n",
    "df.loc[:,'ncs5'] = df.loc[:,'ncs4'].shift()\n",
    "df.loc[:,'ncs_diff5'] = df.loc[:,'ncs5'].diff()\n",
    "df.loc[:,'ncs6'] = df.loc[:,'ncs5'].shift()\n",
    "df.loc[:,'ncs_diff6'] = df.loc[:,'ncs6'].diff()\n",
    "df.loc[:,'ncs7'] = df.loc[:,'ncs6'].shift()\n",
    "df.loc[:,'ncs_diff7'] = df.loc[:,'ncs7'].diff()"
   ]
  },
  {
   "cell_type": "code",
   "execution_count": 15,
   "id": "3c741e21",
   "metadata": {},
   "outputs": [],
   "source": [
    "# USE THIS\n",
    "\n",
    "df.loc[:,'google'] = df.loc[:,'covid: (Ireland)'].shift()\n",
    "df.loc[:,'google_diff'] = df.loc[:,'google'].diff()\n",
    "df.loc[:,'google2'] = df.loc[:,'google'].shift()\n",
    "df.loc[:,'google_diff2'] = df.loc[:,'google2'].diff()\n",
    "df.loc[:,'google3'] = df.loc[:,'google2'].shift()\n",
    "df.loc[:,'google_diff3'] = df.loc[:,'google3'].diff()\n",
    "df.loc[:,'google4'] = df.loc[:,'google3'].shift()\n",
    "df.loc[:,'google_diff4'] = df.loc[:,'google4'].diff()\n",
    "df.loc[:,'google5'] = df.loc[:,'google4'].shift()\n",
    "df.loc[:,'google_diff5'] = df.loc[:,'google5'].diff()\n",
    "df.loc[:,'google6'] = df.loc[:,'google5'].shift()\n",
    "df.loc[:,'google_diff6'] = df.loc[:,'google6'].diff()\n",
    "df.loc[:,'google7'] = df.loc[:,'google6'].shift()\n",
    "df.loc[:,'google_diff7'] = df.loc[:,'google7'].diff()"
   ]
  },
  {
   "cell_type": "code",
   "execution_count": 16,
   "id": "b8862104",
   "metadata": {},
   "outputs": [],
   "source": [
    "df = df.fillna(0)"
   ]
  },
  {
   "cell_type": "code",
   "execution_count": 17,
   "id": "8decddc2",
   "metadata": {},
   "outputs": [
    {
     "data": {
      "text/html": [
       "<div>\n",
       "<style scoped>\n",
       "    .dataframe tbody tr th:only-of-type {\n",
       "        vertical-align: middle;\n",
       "    }\n",
       "\n",
       "    .dataframe tbody tr th {\n",
       "        vertical-align: top;\n",
       "    }\n",
       "\n",
       "    .dataframe thead th {\n",
       "        text-align: right;\n",
       "    }\n",
       "</style>\n",
       "<table border=\"1\" class=\"dataframe\">\n",
       "  <thead>\n",
       "    <tr style=\"text-align: right;\">\n",
       "      <th></th>\n",
       "      <th>new_cases_smoothed</th>\n",
       "      <th>reproduction_rate</th>\n",
       "      <th>positive_rate</th>\n",
       "      <th>total_vaccinations</th>\n",
       "      <th>stringency_index</th>\n",
       "      <th>covid: (Ireland)</th>\n",
       "      <th>ncs</th>\n",
       "      <th>ncs_diff</th>\n",
       "      <th>ncs2</th>\n",
       "      <th>ncs_diff2</th>\n",
       "      <th>...</th>\n",
       "      <th>google3</th>\n",
       "      <th>google_diff3</th>\n",
       "      <th>google4</th>\n",
       "      <th>google_diff4</th>\n",
       "      <th>google5</th>\n",
       "      <th>google_diff5</th>\n",
       "      <th>google6</th>\n",
       "      <th>google_diff6</th>\n",
       "      <th>google7</th>\n",
       "      <th>google_diff7</th>\n",
       "    </tr>\n",
       "    <tr>\n",
       "      <th>date</th>\n",
       "      <th></th>\n",
       "      <th></th>\n",
       "      <th></th>\n",
       "      <th></th>\n",
       "      <th></th>\n",
       "      <th></th>\n",
       "      <th></th>\n",
       "      <th></th>\n",
       "      <th></th>\n",
       "      <th></th>\n",
       "      <th></th>\n",
       "      <th></th>\n",
       "      <th></th>\n",
       "      <th></th>\n",
       "      <th></th>\n",
       "      <th></th>\n",
       "      <th></th>\n",
       "      <th></th>\n",
       "      <th></th>\n",
       "      <th></th>\n",
       "      <th></th>\n",
       "    </tr>\n",
       "  </thead>\n",
       "  <tbody>\n",
       "    <tr>\n",
       "      <th>2022-02-10</th>\n",
       "      <td>5281.571000</td>\n",
       "      <td>0.91</td>\n",
       "      <td>0.3047</td>\n",
       "      <td>10475477</td>\n",
       "      <td>23.15</td>\n",
       "      <td>16.0</td>\n",
       "      <td>5340.42900</td>\n",
       "      <td>-37.57100</td>\n",
       "      <td>5378.000</td>\n",
       "      <td>-61.143</td>\n",
       "      <td>...</td>\n",
       "      <td>16.0</td>\n",
       "      <td>-1.0</td>\n",
       "      <td>17.0</td>\n",
       "      <td>0.0</td>\n",
       "      <td>17.0</td>\n",
       "      <td>0.0</td>\n",
       "      <td>17.0</td>\n",
       "      <td>0.0</td>\n",
       "      <td>17.0</td>\n",
       "      <td>0.0</td>\n",
       "    </tr>\n",
       "    <tr>\n",
       "      <th>2022-02-11</th>\n",
       "      <td>5270.286000</td>\n",
       "      <td>0.89</td>\n",
       "      <td>0.3088</td>\n",
       "      <td>10485170</td>\n",
       "      <td>23.15</td>\n",
       "      <td>16.0</td>\n",
       "      <td>5281.57100</td>\n",
       "      <td>-58.85800</td>\n",
       "      <td>5340.429</td>\n",
       "      <td>-37.571</td>\n",
       "      <td>...</td>\n",
       "      <td>16.0</td>\n",
       "      <td>0.0</td>\n",
       "      <td>16.0</td>\n",
       "      <td>-1.0</td>\n",
       "      <td>17.0</td>\n",
       "      <td>0.0</td>\n",
       "      <td>17.0</td>\n",
       "      <td>0.0</td>\n",
       "      <td>17.0</td>\n",
       "      <td>0.0</td>\n",
       "    </tr>\n",
       "    <tr>\n",
       "      <th>2022-02-12</th>\n",
       "      <td>5270.286000</td>\n",
       "      <td>0.87</td>\n",
       "      <td>0.0000</td>\n",
       "      <td>10497384</td>\n",
       "      <td>0.00</td>\n",
       "      <td>16.0</td>\n",
       "      <td>5270.28600</td>\n",
       "      <td>-11.28500</td>\n",
       "      <td>5281.571</td>\n",
       "      <td>-58.858</td>\n",
       "      <td>...</td>\n",
       "      <td>16.0</td>\n",
       "      <td>0.0</td>\n",
       "      <td>16.0</td>\n",
       "      <td>0.0</td>\n",
       "      <td>16.0</td>\n",
       "      <td>-1.0</td>\n",
       "      <td>17.0</td>\n",
       "      <td>0.0</td>\n",
       "      <td>17.0</td>\n",
       "      <td>0.0</td>\n",
       "    </tr>\n",
       "    <tr>\n",
       "      <th>2022-02-13</th>\n",
       "      <td>6315.613280</td>\n",
       "      <td>0.00</td>\n",
       "      <td>0.0000</td>\n",
       "      <td>10507477</td>\n",
       "      <td>0.00</td>\n",
       "      <td>16.0</td>\n",
       "      <td>5270.28600</td>\n",
       "      <td>0.00000</td>\n",
       "      <td>5270.286</td>\n",
       "      <td>-11.285</td>\n",
       "      <td>...</td>\n",
       "      <td>16.0</td>\n",
       "      <td>0.0</td>\n",
       "      <td>16.0</td>\n",
       "      <td>0.0</td>\n",
       "      <td>16.0</td>\n",
       "      <td>0.0</td>\n",
       "      <td>16.0</td>\n",
       "      <td>-1.0</td>\n",
       "      <td>17.0</td>\n",
       "      <td>0.0</td>\n",
       "    </tr>\n",
       "    <tr>\n",
       "      <th>2022-02-14</th>\n",
       "      <td>5976.855719</td>\n",
       "      <td>0.00</td>\n",
       "      <td>0.0000</td>\n",
       "      <td>0</td>\n",
       "      <td>0.00</td>\n",
       "      <td>0.0</td>\n",
       "      <td>6315.61328</td>\n",
       "      <td>1045.32728</td>\n",
       "      <td>5270.286</td>\n",
       "      <td>0.000</td>\n",
       "      <td>...</td>\n",
       "      <td>16.0</td>\n",
       "      <td>0.0</td>\n",
       "      <td>16.0</td>\n",
       "      <td>0.0</td>\n",
       "      <td>16.0</td>\n",
       "      <td>0.0</td>\n",
       "      <td>16.0</td>\n",
       "      <td>0.0</td>\n",
       "      <td>16.0</td>\n",
       "      <td>-1.0</td>\n",
       "    </tr>\n",
       "  </tbody>\n",
       "</table>\n",
       "<p>5 rows × 34 columns</p>\n",
       "</div>"
      ],
      "text/plain": [
       "            new_cases_smoothed  reproduction_rate  positive_rate  \\\n",
       "date                                                               \n",
       "2022-02-10         5281.571000               0.91         0.3047   \n",
       "2022-02-11         5270.286000               0.89         0.3088   \n",
       "2022-02-12         5270.286000               0.87         0.0000   \n",
       "2022-02-13         6315.613280               0.00         0.0000   \n",
       "2022-02-14         5976.855719               0.00         0.0000   \n",
       "\n",
       "            total_vaccinations  stringency_index  covid: (Ireland)  \\\n",
       "date                                                                 \n",
       "2022-02-10            10475477             23.15              16.0   \n",
       "2022-02-11            10485170             23.15              16.0   \n",
       "2022-02-12            10497384              0.00              16.0   \n",
       "2022-02-13            10507477              0.00              16.0   \n",
       "2022-02-14                   0              0.00               0.0   \n",
       "\n",
       "                   ncs    ncs_diff      ncs2  ncs_diff2  ...  google3  \\\n",
       "date                                                     ...            \n",
       "2022-02-10  5340.42900   -37.57100  5378.000    -61.143  ...     16.0   \n",
       "2022-02-11  5281.57100   -58.85800  5340.429    -37.571  ...     16.0   \n",
       "2022-02-12  5270.28600   -11.28500  5281.571    -58.858  ...     16.0   \n",
       "2022-02-13  5270.28600     0.00000  5270.286    -11.285  ...     16.0   \n",
       "2022-02-14  6315.61328  1045.32728  5270.286      0.000  ...     16.0   \n",
       "\n",
       "            google_diff3  google4  google_diff4  google5  google_diff5  \\\n",
       "date                                                                     \n",
       "2022-02-10          -1.0     17.0           0.0     17.0           0.0   \n",
       "2022-02-11           0.0     16.0          -1.0     17.0           0.0   \n",
       "2022-02-12           0.0     16.0           0.0     16.0          -1.0   \n",
       "2022-02-13           0.0     16.0           0.0     16.0           0.0   \n",
       "2022-02-14           0.0     16.0           0.0     16.0           0.0   \n",
       "\n",
       "            google6  google_diff6  google7  google_diff7  \n",
       "date                                                      \n",
       "2022-02-10     17.0           0.0     17.0           0.0  \n",
       "2022-02-11     17.0           0.0     17.0           0.0  \n",
       "2022-02-12     17.0           0.0     17.0           0.0  \n",
       "2022-02-13     16.0          -1.0     17.0           0.0  \n",
       "2022-02-14     16.0           0.0     16.0          -1.0  \n",
       "\n",
       "[5 rows x 34 columns]"
      ]
     },
     "execution_count": 17,
     "metadata": {},
     "output_type": "execute_result"
    }
   ],
   "source": [
    "df.tail(5)"
   ]
  },
  {
   "cell_type": "code",
   "execution_count": 18,
   "id": "ef1fce08",
   "metadata": {},
   "outputs": [
    {
     "data": {
      "text/plain": [
       "(702, 34)"
      ]
     },
     "execution_count": 18,
     "metadata": {},
     "output_type": "execute_result"
    }
   ],
   "source": [
    "df.shape"
   ]
  },
  {
   "cell_type": "code",
   "execution_count": 19,
   "id": "9ed44274",
   "metadata": {},
   "outputs": [],
   "source": [
    "n = len(df)"
   ]
  },
  {
   "cell_type": "code",
   "execution_count": 20,
   "id": "b0cc7c1b",
   "metadata": {},
   "outputs": [
    {
     "data": {
      "text/plain": [
       "Index(['new_cases_smoothed', 'reproduction_rate', 'positive_rate',\n",
       "       'total_vaccinations', 'stringency_index', 'covid: (Ireland)', 'ncs',\n",
       "       'ncs_diff', 'ncs2', 'ncs_diff2', 'ncs3', 'ncs_diff3', 'ncs4',\n",
       "       'ncs_diff4', 'ncs5', 'ncs_diff5', 'ncs6', 'ncs_diff6', 'ncs7',\n",
       "       'ncs_diff7', 'google', 'google_diff', 'google2', 'google_diff2',\n",
       "       'google3', 'google_diff3', 'google4', 'google_diff4', 'google5',\n",
       "       'google_diff5', 'google6', 'google_diff6', 'google7', 'google_diff7'],\n",
       "      dtype='object')"
      ]
     },
     "execution_count": 20,
     "metadata": {},
     "output_type": "execute_result"
    }
   ],
   "source": [
    "df.columns"
   ]
  },
  {
   "cell_type": "code",
   "execution_count": 21,
   "id": "7c8cf97e",
   "metadata": {},
   "outputs": [],
   "source": [
    "variables = df.columns.drop(['new_cases_smoothed'])"
   ]
  },
  {
   "cell_type": "code",
   "execution_count": 22,
   "id": "ecbb556e",
   "metadata": {},
   "outputs": [],
   "source": [
    "X_train = df.iloc[0:int(n*0.7)].drop('new_cases_smoothed', axis=1)\n",
    "y_train = df.iloc[0:int(n*0.7)].drop(columns=variables, axis=1)"
   ]
  },
  {
   "cell_type": "code",
   "execution_count": 23,
   "id": "dfe5a1c2",
   "metadata": {},
   "outputs": [],
   "source": [
    "X_test = df.iloc[int(n*0.7):int(n*0.9)].drop('new_cases_smoothed',axis=1)\n",
    "y_test = df.iloc[int(n*0.7):int(n*0.9)].drop(columns=variables, axis=1)"
   ]
  },
  {
   "cell_type": "code",
   "execution_count": 24,
   "id": "3f7b840c",
   "metadata": {},
   "outputs": [],
   "source": [
    "X_val = df.iloc[int(n*0.9):].drop('new_cases_smoothed', axis=1)\n",
    "y_val = df.iloc[int(n*0.9):].drop(columns=variables, axis=1)"
   ]
  },
  {
   "cell_type": "code",
   "execution_count": 25,
   "id": "b682e5f9",
   "metadata": {},
   "outputs": [],
   "source": [
    "model = MLPRegressor()"
   ]
  },
  {
   "cell_type": "code",
   "execution_count": 26,
   "id": "11588baf",
   "metadata": {},
   "outputs": [],
   "source": [
    "param_search = {\n",
    "    \"hidden_layer_sizes\": [(1,),(50,),(100,),(150,),(200,)],\n",
    "    \"activation\": [\"identity\", \"logistic\", \"tanh\", \"relu\"],\n",
    "    \"solver\": [\"lbfgs\", \"sgd\", \"adam\"],\n",
    "    \"alpha\": [0.00005,0.0005, 0.005],\n",
    "    \"learning_rate\": ['constant', 'invscaling', 'adaptive']\n",
    "}"
   ]
  },
  {
   "cell_type": "code",
   "execution_count": 27,
   "id": "b56bd488",
   "metadata": {},
   "outputs": [],
   "source": [
    "tsvc = TimeSeriesSplit(n_splits=5)\n",
    "gsearch = GridSearchCV(estimator=model, cv=tsvc, param_grid=param_search, scoring='r2')\n",
    "gsearch.fit(X_train, y_train)\n",
    "best_score = gsearch.best_score_\n",
    "best_model = gsearch.best_estimator_"
   ]
  },
  {
   "cell_type": "code",
   "execution_count": 28,
   "id": "a2925844",
   "metadata": {},
   "outputs": [
    {
     "name": "stdout",
     "output_type": "stream",
     "text": [
      "MLPRegressor(activation='identity', alpha=0.005, learning_rate='adaptive')\n"
     ]
    }
   ],
   "source": [
    "print(best_model)"
   ]
  },
  {
   "cell_type": "code",
   "execution_count": 29,
   "id": "edea2642",
   "metadata": {},
   "outputs": [
    {
     "name": "stdout",
     "output_type": "stream",
     "text": [
      "0.6243367148544514\n"
     ]
    }
   ],
   "source": [
    "print(best_score)"
   ]
  },
  {
   "cell_type": "code",
   "execution_count": 30,
   "id": "2d19a369",
   "metadata": {},
   "outputs": [
    {
     "name": "stdout",
     "output_type": "stream",
     "text": [
      "0.9878522399414508\n"
     ]
    }
   ],
   "source": [
    "from sklearn.metrics import r2_score\n",
    "\n",
    "y_pred = best_model.predict(X_test)\n",
    "\n",
    "print(r2_score(y_test, y_pred))"
   ]
  },
  {
   "cell_type": "code",
   "execution_count": 31,
   "id": "7f98d932",
   "metadata": {},
   "outputs": [],
   "source": [
    "y_val_pred = best_model.predict(X_val)"
   ]
  },
  {
   "cell_type": "code",
   "execution_count": 32,
   "id": "e73ae53d",
   "metadata": {},
   "outputs": [
    {
     "name": "stdout",
     "output_type": "stream",
     "text": [
      "0.9522867003828527\n"
     ]
    }
   ],
   "source": [
    "print(r2_score(y_val, y_val_pred))"
   ]
  },
  {
   "cell_type": "code",
   "execution_count": 33,
   "id": "133fb4c2",
   "metadata": {},
   "outputs": [],
   "source": [
    "y_test['predictions'] = y_pred.tolist()\n"
   ]
  },
  {
   "cell_type": "code",
   "execution_count": 34,
   "id": "267fdfcf",
   "metadata": {},
   "outputs": [
    {
     "data": {
      "text/plain": [
       "<AxesSubplot:xlabel='date'>"
      ]
     },
     "execution_count": 34,
     "metadata": {},
     "output_type": "execute_result"
    },
    {
     "data": {
      "image/png": "[encoded data removed]",
      "text/plain": [
       "<Figure size 720x720 with 1 Axes>"
      ]
     },
     "metadata": {
      "needs_background": "light"
     },
     "output_type": "display_data"
    }
   ],
   "source": [
    "y_test.reset_index(inplace=True)\n",
    "y_test.plot(x='date', y=['new_cases_smoothed', 'predictions'], kind=\"line\", figsize=(10,10))"
   ]
  },
  {
   "cell_type": "code",
   "execution_count": 35,
   "id": "3c358bfe",
   "metadata": {},
   "outputs": [],
   "source": [
    "y_val['predictions'] = y_val_pred.tolist()"
   ]
  },
  {
   "cell_type": "code",
   "execution_count": 36,
   "id": "029164b4",
   "metadata": {},
   "outputs": [],
   "source": [
    "y_val.reset_index(inplace=True)"
   ]
  },
  {
   "cell_type": "code",
   "execution_count": 197,
   "id": "eff7bd33",
   "metadata": {},
   "outputs": [
    {
     "data": {
      "text/plain": [
       "<AxesSubplot:xlabel='date'>"
      ]
     },
     "execution_count": 197,
     "metadata": {},
     "output_type": "execute_result"
    },
    {
     "data": {
      "image/png": "[encoded data removed]",
      "text/plain": [
       "<Figure size 720x720 with 1 Axes>"
      ]
     },
     "metadata": {
      "needs_background": "light"
     },
     "output_type": "display_data"
    }
   ],
   "source": [
    "y_val.plot(x='date', y=['new_cases_smoothed', 'predictions'], kind=\"line\", figsize=(10,10))"
   ]
  },
  {
   "cell_type": "code",
   "execution_count": 198,
   "id": "e08ed67f",
   "metadata": {},
   "outputs": [],
   "source": [
    "new = pd.read_csv(\"NEW COVID DATA2.csv\")"
   ]
  },
  {
   "cell_type": "code",
   "execution_count": 199,
   "id": "f223354b",
   "metadata": {},
   "outputs": [],
   "source": [
    "new['date'] = pd.to_datetime(new['date'])\n",
    "new.sort_values(by='date', ascending=True, inplace=True)\n",
    "new = new.set_index('date')"
   ]
  },
  {
   "cell_type": "code",
   "execution_count": 200,
   "id": "1e6e14a3",
   "metadata": {},
   "outputs": [
    {
     "data": {
      "text/html": [
       "<div>\n",
       "<style scoped>\n",
       "    .dataframe tbody tr th:only-of-type {\n",
       "        vertical-align: middle;\n",
       "    }\n",
       "\n",
       "    .dataframe tbody tr th {\n",
       "        vertical-align: top;\n",
       "    }\n",
       "\n",
       "    .dataframe thead th {\n",
       "        text-align: right;\n",
       "    }\n",
       "</style>\n",
       "<table border=\"1\" class=\"dataframe\">\n",
       "  <thead>\n",
       "    <tr style=\"text-align: right;\">\n",
       "      <th></th>\n",
       "      <th>new_cases_smoothed</th>\n",
       "      <th>reproduction_rate</th>\n",
       "      <th>positive_rate</th>\n",
       "      <th>total_vaccinations</th>\n",
       "      <th>stringency_index</th>\n",
       "      <th>covid: (Ireland)</th>\n",
       "    </tr>\n",
       "    <tr>\n",
       "      <th>date</th>\n",
       "      <th></th>\n",
       "      <th></th>\n",
       "      <th></th>\n",
       "      <th></th>\n",
       "      <th></th>\n",
       "      <th></th>\n",
       "    </tr>\n",
       "  </thead>\n",
       "  <tbody>\n",
       "    <tr>\n",
       "      <th>2022-01-03</th>\n",
       "      <td>3380.286</td>\n",
       "      <td>0.93</td>\n",
       "      <td>0.2773</td>\n",
       "      <td>10616831</td>\n",
       "      <td>23.15</td>\n",
       "      <td>75</td>\n",
       "    </tr>\n",
       "    <tr>\n",
       "      <th>2022-02-03</th>\n",
       "      <td>3269.000</td>\n",
       "      <td>0.94</td>\n",
       "      <td>0.2740</td>\n",
       "      <td>10621177</td>\n",
       "      <td>23.15</td>\n",
       "      <td>84</td>\n",
       "    </tr>\n",
       "    <tr>\n",
       "      <th>2022-02-22</th>\n",
       "      <td>4288.429</td>\n",
       "      <td>0.96</td>\n",
       "      <td>0.2770</td>\n",
       "      <td>10583588</td>\n",
       "      <td>23.15</td>\n",
       "      <td>92</td>\n",
       "    </tr>\n",
       "    <tr>\n",
       "      <th>2022-02-23</th>\n",
       "      <td>4125.143</td>\n",
       "      <td>0.95</td>\n",
       "      <td>0.2769</td>\n",
       "      <td>10588597</td>\n",
       "      <td>23.15</td>\n",
       "      <td>82</td>\n",
       "    </tr>\n",
       "    <tr>\n",
       "      <th>2022-02-24</th>\n",
       "      <td>3939.857</td>\n",
       "      <td>0.92</td>\n",
       "      <td>0.2741</td>\n",
       "      <td>10593703</td>\n",
       "      <td>23.15</td>\n",
       "      <td>71</td>\n",
       "    </tr>\n",
       "  </tbody>\n",
       "</table>\n",
       "</div>"
      ],
      "text/plain": [
       "            new_cases_smoothed  reproduction_rate  positive_rate  \\\n",
       "date                                                               \n",
       "2022-01-03            3380.286               0.93         0.2773   \n",
       "2022-02-03            3269.000               0.94         0.2740   \n",
       "2022-02-22            4288.429               0.96         0.2770   \n",
       "2022-02-23            4125.143               0.95         0.2769   \n",
       "2022-02-24            3939.857               0.92         0.2741   \n",
       "\n",
       "            total_vaccinations  stringency_index  covid: (Ireland)  \n",
       "date                                                                \n",
       "2022-01-03            10616831             23.15                75  \n",
       "2022-02-03            10621177             23.15                84  \n",
       "2022-02-22            10583588             23.15                92  \n",
       "2022-02-23            10588597             23.15                82  \n",
       "2022-02-24            10593703             23.15                71  "
      ]
     },
     "execution_count": 200,
     "metadata": {},
     "output_type": "execute_result"
    }
   ],
   "source": [
    "new.head()"
   ]
  },
  {
   "cell_type": "code",
   "execution_count": 201,
   "id": "7e6e8e5c",
   "metadata": {},
   "outputs": [],
   "source": [
    "new.loc[:,'ncs'] = new.loc[:,'new_cases_smoothed'].shift()\n",
    "new.loc[:,'ncs_diff'] = new.loc[:,'ncs'].diff()\n",
    "new.loc[:,'ncs2'] = new.loc[:,'ncs'].shift()\n",
    "new.loc[:,'ncs_diff2'] = new.loc[:,'ncs2'].diff()\n",
    "new.loc[:,'ncs3'] = new.loc[:,'ncs2'].shift()\n",
    "new.loc[:,'ncs_diff3'] = new.loc[:,'ncs3'].diff()\n",
    "new.loc[:,'ncs4'] = new.loc[:,'ncs3'].shift()\n",
    "new.loc[:,'ncs_diff4'] = new.loc[:,'ncs4'].diff()\n",
    "new.loc[:,'ncs5'] = new.loc[:,'ncs4'].shift()\n",
    "new.loc[:,'ncs_diff5'] = new.loc[:,'ncs5'].diff()\n",
    "new.loc[:,'ncs6'] = new.loc[:,'ncs5'].shift()\n",
    "new.loc[:,'ncs_diff6'] = new.loc[:,'ncs6'].diff()\n",
    "new.loc[:,'ncs7'] = new.loc[:,'ncs6'].shift()\n",
    "new.loc[:,'ncs_diff7'] = new.loc[:,'ncs7'].diff()"
   ]
  },
  {
   "cell_type": "code",
   "execution_count": 202,
   "id": "23f0d4e6",
   "metadata": {},
   "outputs": [],
   "source": [
    "new.loc[:,'google'] = new.loc[:,'covid: (Ireland)'].shift()\n",
    "new.loc[:,'google_diff'] = new.loc[:,'google'].diff()\n",
    "new.loc[:,'google2'] = new.loc[:,'google'].shift()\n",
    "new.loc[:,'google_diff2'] = new.loc[:,'google2'].diff()\n",
    "new.loc[:,'google3'] = new.loc[:,'google2'].shift()\n",
    "new.loc[:,'google_diff3'] = new.loc[:,'google3'].diff()\n",
    "new.loc[:,'google4'] = new.loc[:,'google3'].shift()\n",
    "new.loc[:,'google_diff4'] = new.loc[:,'google4'].diff()\n",
    "new.loc[:,'google5'] = new.loc[:,'google4'].shift()\n",
    "new.loc[:,'google_diff5'] = new.loc[:,'google5'].diff()\n",
    "new.loc[:,'google6'] = new.loc[:,'google5'].shift()\n",
    "new.loc[:,'google_diff6'] = new.loc[:,'google6'].diff()\n",
    "new.loc[:,'google7'] = new.loc[:,'google6'].shift()\n",
    "new.loc[:,'google_diff7'] = new.loc[:,'google7'].diff()"
   ]
  },
  {
   "cell_type": "code",
   "execution_count": 203,
   "id": "ea51e3e2",
   "metadata": {},
   "outputs": [
    {
     "data": {
      "text/plain": [
       "(17, 34)"
      ]
     },
     "execution_count": 203,
     "metadata": {},
     "output_type": "execute_result"
    }
   ],
   "source": [
    "new.shape"
   ]
  },
  {
   "cell_type": "code",
   "execution_count": 204,
   "id": "6841da3c",
   "metadata": {},
   "outputs": [],
   "source": [
    "new.fillna(0, inplace=True)"
   ]
  },
  {
   "cell_type": "code",
   "execution_count": 205,
   "id": "476f30e0",
   "metadata": {},
   "outputs": [],
   "source": [
    "new_var = new.drop(columns=['new_cases_smoothed'])"
   ]
  },
  {
   "cell_type": "code",
   "execution_count": 206,
   "id": "0ce101c4",
   "metadata": {},
   "outputs": [],
   "source": [
    "new_var = new_var.iloc[2:]"
   ]
  },
  {
   "cell_type": "code",
   "execution_count": 207,
   "id": "e7c2321e",
   "metadata": {},
   "outputs": [
    {
     "data": {
      "text/plain": [
       "(15, 33)"
      ]
     },
     "execution_count": 207,
     "metadata": {},
     "output_type": "execute_result"
    }
   ],
   "source": [
    "new_var.shape"
   ]
  },
  {
   "cell_type": "code",
   "execution_count": 208,
   "id": "0a539c48",
   "metadata": {},
   "outputs": [],
   "source": [
    "new_pred = best_model.predict(new_var)"
   ]
  },
  {
   "cell_type": "code",
   "execution_count": 209,
   "id": "69f7439e",
   "metadata": {},
   "outputs": [],
   "source": [
    "new = new.iloc[2:]"
   ]
  },
  {
   "cell_type": "code",
   "execution_count": 210,
   "id": "473b22a8",
   "metadata": {},
   "outputs": [],
   "source": [
    "new_y = new['new_cases_smoothed']"
   ]
  },
  {
   "cell_type": "code",
   "execution_count": 211,
   "id": "d6451ea1",
   "metadata": {},
   "outputs": [],
   "source": [
    "new_y = new_y.to_frame()"
   ]
  },
  {
   "cell_type": "code",
   "execution_count": 212,
   "id": "e353da90",
   "metadata": {},
   "outputs": [
    {
     "data": {
      "text/html": [
       "<div>\n",
       "<style scoped>\n",
       "    .dataframe tbody tr th:only-of-type {\n",
       "        vertical-align: middle;\n",
       "    }\n",
       "\n",
       "    .dataframe tbody tr th {\n",
       "        vertical-align: top;\n",
       "    }\n",
       "\n",
       "    .dataframe thead th {\n",
       "        text-align: right;\n",
       "    }\n",
       "</style>\n",
       "<table border=\"1\" class=\"dataframe\">\n",
       "  <thead>\n",
       "    <tr style=\"text-align: right;\">\n",
       "      <th></th>\n",
       "      <th>new_cases_smoothed</th>\n",
       "    </tr>\n",
       "    <tr>\n",
       "      <th>date</th>\n",
       "      <th></th>\n",
       "    </tr>\n",
       "  </thead>\n",
       "  <tbody>\n",
       "    <tr>\n",
       "      <th>2022-02-22</th>\n",
       "      <td>4288.429</td>\n",
       "    </tr>\n",
       "    <tr>\n",
       "      <th>2022-02-23</th>\n",
       "      <td>4125.143</td>\n",
       "    </tr>\n",
       "    <tr>\n",
       "      <th>2022-02-24</th>\n",
       "      <td>3939.857</td>\n",
       "    </tr>\n",
       "    <tr>\n",
       "      <th>2022-02-25</th>\n",
       "      <td>3869.714</td>\n",
       "    </tr>\n",
       "    <tr>\n",
       "      <th>2022-02-26</th>\n",
       "      <td>3869.714</td>\n",
       "    </tr>\n",
       "    <tr>\n",
       "      <th>2022-02-27</th>\n",
       "      <td>3869.714</td>\n",
       "    </tr>\n",
       "    <tr>\n",
       "      <th>2022-02-28</th>\n",
       "      <td>3377.714</td>\n",
       "    </tr>\n",
       "    <tr>\n",
       "      <th>2022-03-03</th>\n",
       "      <td>3313.857</td>\n",
       "    </tr>\n",
       "    <tr>\n",
       "      <th>2022-04-03</th>\n",
       "      <td>3269.714</td>\n",
       "    </tr>\n",
       "    <tr>\n",
       "      <th>2022-05-03</th>\n",
       "      <td>3269.714</td>\n",
       "    </tr>\n",
       "    <tr>\n",
       "      <th>2022-06-03</th>\n",
       "      <td>3269.714</td>\n",
       "    </tr>\n",
       "    <tr>\n",
       "      <th>2022-07-03</th>\n",
       "      <td>3167.000</td>\n",
       "    </tr>\n",
       "    <tr>\n",
       "      <th>2022-08-03</th>\n",
       "      <td>3318.000</td>\n",
       "    </tr>\n",
       "    <tr>\n",
       "      <th>2022-09-03</th>\n",
       "      <td>3083.143</td>\n",
       "    </tr>\n",
       "    <tr>\n",
       "      <th>2022-10-03</th>\n",
       "      <td>3085.143</td>\n",
       "    </tr>\n",
       "  </tbody>\n",
       "</table>\n",
       "</div>"
      ],
      "text/plain": [
       "            new_cases_smoothed\n",
       "date                          \n",
       "2022-02-22            4288.429\n",
       "2022-02-23            4125.143\n",
       "2022-02-24            3939.857\n",
       "2022-02-25            3869.714\n",
       "2022-02-26            3869.714\n",
       "2022-02-27            3869.714\n",
       "2022-02-28            3377.714\n",
       "2022-03-03            3313.857\n",
       "2022-04-03            3269.714\n",
       "2022-05-03            3269.714\n",
       "2022-06-03            3269.714\n",
       "2022-07-03            3167.000\n",
       "2022-08-03            3318.000\n",
       "2022-09-03            3083.143\n",
       "2022-10-03            3085.143"
      ]
     },
     "execution_count": 212,
     "metadata": {},
     "output_type": "execute_result"
    }
   ],
   "source": [
    "new_y"
   ]
  },
  {
   "cell_type": "code",
   "execution_count": 213,
   "id": "98c493fa",
   "metadata": {},
   "outputs": [
    {
     "name": "stdout",
     "output_type": "stream",
     "text": [
      "-9.064811605149202\n"
     ]
    }
   ],
   "source": [
    "print(r2_score(new_y, new_pred))"
   ]
  },
  {
   "cell_type": "code",
   "execution_count": 214,
   "id": "c6b03697",
   "metadata": {},
   "outputs": [
    {
     "data": {
      "text/plain": [
       "array([ 726.45880117, 1791.67209312, 2696.24369242, 2670.0151208 ,\n",
       "       2612.50990413, 3639.33211009, 3667.4751179 , 3112.73485147,\n",
       "       3096.87069381, 3136.07360129, 3147.16028609, 3288.63970171,\n",
       "       3181.02916725, 3333.81860989, 3016.83445931])"
      ]
     },
     "execution_count": 214,
     "metadata": {},
     "output_type": "execute_result"
    }
   ],
   "source": [
    "new_pred"
   ]
  },
  {
   "cell_type": "code",
   "execution_count": 215,
   "id": "1b14ebb2",
   "metadata": {},
   "outputs": [],
   "source": [
    "new_y['predictions'] = new_pred.tolist()"
   ]
  },
  {
   "cell_type": "code",
   "execution_count": 216,
   "id": "cd5d7ccf",
   "metadata": {},
   "outputs": [],
   "source": [
    "new_y_new = new_y.iloc[5:]"
   ]
  },
  {
   "cell_type": "code",
   "execution_count": 217,
   "id": "ade306ef",
   "metadata": {},
   "outputs": [],
   "source": [
    "new_y_new.reset_index(inplace=True)"
   ]
  },
  {
   "cell_type": "code",
   "execution_count": 218,
   "id": "2d263a64",
   "metadata": {},
   "outputs": [
    {
     "data": {
      "text/html": [
       "<div>\n",
       "<style scoped>\n",
       "    .dataframe tbody tr th:only-of-type {\n",
       "        vertical-align: middle;\n",
       "    }\n",
       "\n",
       "    .dataframe tbody tr th {\n",
       "        vertical-align: top;\n",
       "    }\n",
       "\n",
       "    .dataframe thead th {\n",
       "        text-align: right;\n",
       "    }\n",
       "</style>\n",
       "<table border=\"1\" class=\"dataframe\">\n",
       "  <thead>\n",
       "    <tr style=\"text-align: right;\">\n",
       "      <th></th>\n",
       "      <th>date</th>\n",
       "      <th>new_cases_smoothed</th>\n",
       "      <th>predictions</th>\n",
       "    </tr>\n",
       "  </thead>\n",
       "  <tbody>\n",
       "    <tr>\n",
       "      <th>0</th>\n",
       "      <td>2022-02-27</td>\n",
       "      <td>3869.714</td>\n",
       "      <td>3639.332110</td>\n",
       "    </tr>\n",
       "    <tr>\n",
       "      <th>1</th>\n",
       "      <td>2022-02-28</td>\n",
       "      <td>3377.714</td>\n",
       "      <td>3667.475118</td>\n",
       "    </tr>\n",
       "    <tr>\n",
       "      <th>2</th>\n",
       "      <td>2022-03-03</td>\n",
       "      <td>3313.857</td>\n",
       "      <td>3112.734851</td>\n",
       "    </tr>\n",
       "    <tr>\n",
       "      <th>3</th>\n",
       "      <td>2022-04-03</td>\n",
       "      <td>3269.714</td>\n",
       "      <td>3096.870694</td>\n",
       "    </tr>\n",
       "    <tr>\n",
       "      <th>4</th>\n",
       "      <td>2022-05-03</td>\n",
       "      <td>3269.714</td>\n",
       "      <td>3136.073601</td>\n",
       "    </tr>\n",
       "    <tr>\n",
       "      <th>5</th>\n",
       "      <td>2022-06-03</td>\n",
       "      <td>3269.714</td>\n",
       "      <td>3147.160286</td>\n",
       "    </tr>\n",
       "    <tr>\n",
       "      <th>6</th>\n",
       "      <td>2022-07-03</td>\n",
       "      <td>3167.000</td>\n",
       "      <td>3288.639702</td>\n",
       "    </tr>\n",
       "    <tr>\n",
       "      <th>7</th>\n",
       "      <td>2022-08-03</td>\n",
       "      <td>3318.000</td>\n",
       "      <td>3181.029167</td>\n",
       "    </tr>\n",
       "    <tr>\n",
       "      <th>8</th>\n",
       "      <td>2022-09-03</td>\n",
       "      <td>3083.143</td>\n",
       "      <td>3333.818610</td>\n",
       "    </tr>\n",
       "    <tr>\n",
       "      <th>9</th>\n",
       "      <td>2022-10-03</td>\n",
       "      <td>3085.143</td>\n",
       "      <td>3016.834459</td>\n",
       "    </tr>\n",
       "  </tbody>\n",
       "</table>\n",
       "</div>"
      ],
      "text/plain": [
       "        date  new_cases_smoothed  predictions\n",
       "0 2022-02-27            3869.714  3639.332110\n",
       "1 2022-02-28            3377.714  3667.475118\n",
       "2 2022-03-03            3313.857  3112.734851\n",
       "3 2022-04-03            3269.714  3096.870694\n",
       "4 2022-05-03            3269.714  3136.073601\n",
       "5 2022-06-03            3269.714  3147.160286\n",
       "6 2022-07-03            3167.000  3288.639702\n",
       "7 2022-08-03            3318.000  3181.029167\n",
       "8 2022-09-03            3083.143  3333.818610\n",
       "9 2022-10-03            3085.143  3016.834459"
      ]
     },
     "execution_count": 218,
     "metadata": {},
     "output_type": "execute_result"
    }
   ],
   "source": [
    "new_y_new"
   ]
  },
  {
   "cell_type": "code",
   "execution_count": 219,
   "id": "a1e02b7a",
   "metadata": {},
   "outputs": [
    {
     "data": {
      "text/plain": [
       "<AxesSubplot:xlabel='date'>"
      ]
     },
     "execution_count": 219,
     "metadata": {},
     "output_type": "execute_result"
    },
    {
     "data": {
      "image/png": "[encoded data removed]",
      "text/plain": [
       "<Figure size 720x720 with 1 Axes>"
      ]
     },
     "metadata": {
      "needs_background": "light"
     },
     "output_type": "display_data"
    }
   ],
   "source": [
    "new_y_new.plot(x='date', y=['new_cases_smoothed', 'predictions'], kind=\"line\", figsize=(10,10))"
   ]
  },
  {
   "cell_type": "code",
   "execution_count": 220,
   "id": "5f2a1ba6",
   "metadata": {},
   "outputs": [],
   "source": [
    "new_y_new['date'] = pd.to_datetime(new_y_new['date'])\n",
    "\n",
    "x = new_y_new['date']\n",
    "y = new_y_new[['new_cases_smoothed', 'predictions']]\n"
   ]
  },
  {
   "cell_type": "code",
   "execution_count": 223,
   "id": "38970877",
   "metadata": {},
   "outputs": [
    {
     "data": {
      "text/plain": [
       "[<matplotlib.lines.Line2D at 0x169fc10a0>,\n",
       " <matplotlib.lines.Line2D at 0x169fdf9d0>]"
      ]
     },
     "execution_count": 223,
     "metadata": {},
     "output_type": "execute_result"
    },
    {
     "data": {
      "image/png": "[encoded data removed]",
      "text/plain": [
       "<Figure size 432x288 with 1 Axes>"
      ]
     },
     "metadata": {
      "needs_background": "light"
     },
     "output_type": "display_data"
    }
   ],
   "source": [
    "plt.rcParams[\"date.autoformatter.day\"] = \"%Y-%d-%m\"\n",
    "plt.plot(x,y)\n"
   ]
  },
  {
   "cell_type": "code",
   "execution_count": null,
   "id": "cb871d9c",
   "metadata": {},
   "outputs": [],
   "source": []
  }
 ],
 "metadata": {
  "kernelspec": {
   "display_name": "Python 3",
   "language": "python",
   "name": "python3"
  },
  "language_info": {
   "codemirror_mode": {
    "name": "ipython",
    "version": 3
   },
   "file_extension": ".py",
   "mimetype": "text/x-python",
   "name": "python",
   "nbconvert_exporter": "python",
   "pygments_lexer": "ipython3",
   "version": "3.8.6"
  }
 },
 "nbformat": 4,
 "nbformat_minor": 5
}
