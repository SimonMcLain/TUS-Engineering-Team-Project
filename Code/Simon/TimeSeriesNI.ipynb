{
 "cells": [
  {
   "cell_type": "code",
   "execution_count": 1,
   "id": "95886947",
   "metadata": {},
   "outputs": [],
   "source": [
    "import pandas as pd \n",
    "import numpy as np \n",
    "from sklearn import preprocessing\n",
    "from sklearn.model_selection import TimeSeriesSplit, cross_val_score\n",
    "from sklearn.neural_network import MLPRegressor\n",
    "import matplotlib.pyplot as plt\n",
    "from sklearn.model_selection import GridSearchCV\n",
    "import warnings\n",
    "warnings.filterwarnings('ignore')"
   ]
  },
  {
   "cell_type": "code",
   "execution_count": 2,
   "id": "4a023e70",
   "metadata": {},
   "outputs": [],
   "source": [
    "data = pd.read_csv('NI.csv', sep=\",\")"
   ]
  },
  {
   "cell_type": "code",
   "execution_count": 3,
   "id": "c37b6f32",
   "metadata": {},
   "outputs": [
    {
     "data": {
      "text/html": [
       "<div>\n",
       "<style scoped>\n",
       "    .dataframe tbody tr th:only-of-type {\n",
       "        vertical-align: middle;\n",
       "    }\n",
       "\n",
       "    .dataframe tbody tr th {\n",
       "        vertical-align: top;\n",
       "    }\n",
       "\n",
       "    .dataframe thead th {\n",
       "        text-align: right;\n",
       "    }\n",
       "</style>\n",
       "<table border=\"1\" class=\"dataframe\">\n",
       "  <thead>\n",
       "    <tr style=\"text-align: right;\">\n",
       "      <th></th>\n",
       "      <th>date</th>\n",
       "      <th>areaName</th>\n",
       "      <th>areaCode</th>\n",
       "      <th>newCasesByPublishDate</th>\n",
       "      <th>cumCasesByPublishDate</th>\n",
       "      <th>newDeaths28DaysByDeathDate</th>\n",
       "      <th>cumDeaths28DaysByDeathDate</th>\n",
       "      <th>newAntibodyTestsByPublishDate</th>\n",
       "      <th>newLFDTestsBySpecimenDate</th>\n",
       "      <th>newPCRTestsByPublishDate</th>\n",
       "      <th>newPCRTestsByPublishDateRollingSum</th>\n",
       "      <th>hospitalCases</th>\n",
       "      <th>newAdmissions</th>\n",
       "      <th>newPeopleVaccinatedCompleteByVaccinationDate</th>\n",
       "      <th>newVaccinesGivenByPublishDate</th>\n",
       "      <th>VaccineRegisterPopulationByVaccinationDate</th>\n",
       "    </tr>\n",
       "  </thead>\n",
       "  <tbody>\n",
       "    <tr>\n",
       "      <th>0</th>\n",
       "      <td>10/03/2022</td>\n",
       "      <td>Northern Ireland</td>\n",
       "      <td>N92000002</td>\n",
       "      <td>2602.0</td>\n",
       "      <td>646794.0</td>\n",
       "      <td>NaN</td>\n",
       "      <td>NaN</td>\n",
       "      <td>NaN</td>\n",
       "      <td>NaN</td>\n",
       "      <td>NaN</td>\n",
       "      <td>NaN</td>\n",
       "      <td>NaN</td>\n",
       "      <td>NaN</td>\n",
       "      <td>NaN</td>\n",
       "      <td>NaN</td>\n",
       "      <td>NaN</td>\n",
       "    </tr>\n",
       "    <tr>\n",
       "      <th>1</th>\n",
       "      <td>09/03/2022</td>\n",
       "      <td>Northern Ireland</td>\n",
       "      <td>N92000002</td>\n",
       "      <td>2683.0</td>\n",
       "      <td>644192.0</td>\n",
       "      <td>2.0</td>\n",
       "      <td>3244.0</td>\n",
       "      <td>NaN</td>\n",
       "      <td>0.0</td>\n",
       "      <td>20295.0</td>\n",
       "      <td>118210.0</td>\n",
       "      <td>483.0</td>\n",
       "      <td>21.0</td>\n",
       "      <td>NaN</td>\n",
       "      <td>1317.0</td>\n",
       "      <td>NaN</td>\n",
       "    </tr>\n",
       "    <tr>\n",
       "      <th>2</th>\n",
       "      <td>08/03/2022</td>\n",
       "      <td>Northern Ireland</td>\n",
       "      <td>N92000002</td>\n",
       "      <td>2669.0</td>\n",
       "      <td>641509.0</td>\n",
       "      <td>4.0</td>\n",
       "      <td>3242.0</td>\n",
       "      <td>NaN</td>\n",
       "      <td>0.0</td>\n",
       "      <td>19739.0</td>\n",
       "      <td>117337.0</td>\n",
       "      <td>506.0</td>\n",
       "      <td>37.0</td>\n",
       "      <td>NaN</td>\n",
       "      <td>1037.0</td>\n",
       "      <td>NaN</td>\n",
       "    </tr>\n",
       "    <tr>\n",
       "      <th>3</th>\n",
       "      <td>07/03/2022</td>\n",
       "      <td>Northern Ireland</td>\n",
       "      <td>N92000002</td>\n",
       "      <td>5769.0</td>\n",
       "      <td>638840.0</td>\n",
       "      <td>4.0</td>\n",
       "      <td>3238.0</td>\n",
       "      <td>NaN</td>\n",
       "      <td>0.0</td>\n",
       "      <td>19464.0</td>\n",
       "      <td>115735.0</td>\n",
       "      <td>518.0</td>\n",
       "      <td>29.0</td>\n",
       "      <td>NaN</td>\n",
       "      <td>1078.0</td>\n",
       "      <td>NaN</td>\n",
       "    </tr>\n",
       "    <tr>\n",
       "      <th>4</th>\n",
       "      <td>06/03/2022</td>\n",
       "      <td>Northern Ireland</td>\n",
       "      <td>N92000002</td>\n",
       "      <td>0.0</td>\n",
       "      <td>633071.0</td>\n",
       "      <td>2.0</td>\n",
       "      <td>3234.0</td>\n",
       "      <td>NaN</td>\n",
       "      <td>0.0</td>\n",
       "      <td>13711.0</td>\n",
       "      <td>117006.0</td>\n",
       "      <td>544.0</td>\n",
       "      <td>25.0</td>\n",
       "      <td>NaN</td>\n",
       "      <td>903.0</td>\n",
       "      <td>NaN</td>\n",
       "    </tr>\n",
       "  </tbody>\n",
       "</table>\n",
       "</div>"
      ],
      "text/plain": [
       "         date          areaName   areaCode  newCasesByPublishDate  \\\n",
       "0  10/03/2022  Northern Ireland  N92000002                 2602.0   \n",
       "1  09/03/2022  Northern Ireland  N92000002                 2683.0   \n",
       "2  08/03/2022  Northern Ireland  N92000002                 2669.0   \n",
       "3  07/03/2022  Northern Ireland  N92000002                 5769.0   \n",
       "4  06/03/2022  Northern Ireland  N92000002                    0.0   \n",
       "\n",
       "   cumCasesByPublishDate  newDeaths28DaysByDeathDate  \\\n",
       "0               646794.0                         NaN   \n",
       "1               644192.0                         2.0   \n",
       "2               641509.0                         4.0   \n",
       "3               638840.0                         4.0   \n",
       "4               633071.0                         2.0   \n",
       "\n",
       "   cumDeaths28DaysByDeathDate  newAntibodyTestsByPublishDate  \\\n",
       "0                         NaN                            NaN   \n",
       "1                      3244.0                            NaN   \n",
       "2                      3242.0                            NaN   \n",
       "3                      3238.0                            NaN   \n",
       "4                      3234.0                            NaN   \n",
       "\n",
       "   newLFDTestsBySpecimenDate  newPCRTestsByPublishDate  \\\n",
       "0                        NaN                       NaN   \n",
       "1                        0.0                   20295.0   \n",
       "2                        0.0                   19739.0   \n",
       "3                        0.0                   19464.0   \n",
       "4                        0.0                   13711.0   \n",
       "\n",
       "   newPCRTestsByPublishDateRollingSum  hospitalCases  newAdmissions  \\\n",
       "0                                 NaN            NaN            NaN   \n",
       "1                            118210.0          483.0           21.0   \n",
       "2                            117337.0          506.0           37.0   \n",
       "3                            115735.0          518.0           29.0   \n",
       "4                            117006.0          544.0           25.0   \n",
       "\n",
       "   newPeopleVaccinatedCompleteByVaccinationDate  \\\n",
       "0                                           NaN   \n",
       "1                                           NaN   \n",
       "2                                           NaN   \n",
       "3                                           NaN   \n",
       "4                                           NaN   \n",
       "\n",
       "   newVaccinesGivenByPublishDate  VaccineRegisterPopulationByVaccinationDate  \n",
       "0                            NaN                                         NaN  \n",
       "1                         1317.0                                         NaN  \n",
       "2                         1037.0                                         NaN  \n",
       "3                         1078.0                                         NaN  \n",
       "4                          903.0                                         NaN  "
      ]
     },
     "execution_count": 3,
     "metadata": {},
     "output_type": "execute_result"
    }
   ],
   "source": [
    "data.head()"
   ]
  },
  {
   "cell_type": "code",
   "execution_count": 4,
   "id": "2d96e261",
   "metadata": {},
   "outputs": [],
   "source": [
    "data.drop(columns=['areaName', 'areaCode'], inplace=True)"
   ]
  },
  {
   "cell_type": "code",
   "execution_count": 5,
   "id": "0be6151c",
   "metadata": {},
   "outputs": [],
   "source": [
    "data['date'] = pd.to_datetime(data['date'])\n",
    "data.sort_values(by='date', ascending=True, inplace=True)\n",
    "data = data.set_index('date')"
   ]
  },
  {
   "cell_type": "code",
   "execution_count": 6,
   "id": "9ed44274",
   "metadata": {},
   "outputs": [],
   "source": [
    "n = len(data)"
   ]
  },
  {
   "cell_type": "code",
   "execution_count": 7,
   "id": "4dfa99ff",
   "metadata": {},
   "outputs": [],
   "source": [
    "data['newCasesByPublishDateSmoothed'] = data['newCasesByPublishDate'].ewm(span=n).mean()"
   ]
  },
  {
   "cell_type": "code",
   "execution_count": 8,
   "id": "f4d2e5a6",
   "metadata": {},
   "outputs": [],
   "source": [
    "data = data.fillna(0)"
   ]
  },
  {
   "cell_type": "code",
   "execution_count": 9,
   "id": "3e2a13b8",
   "metadata": {},
   "outputs": [],
   "source": [
    "ni_smoothed = data['newCasesByPublishDateSmoothed']"
   ]
  },
  {
   "cell_type": "code",
   "execution_count": 10,
   "id": "447a0399",
   "metadata": {},
   "outputs": [],
   "source": [
    "ni_smoothed.to_excel(\"ni_smoothed.xlsx\")"
   ]
  },
  {
   "cell_type": "code",
   "execution_count": 9,
   "id": "ef1fce08",
   "metadata": {},
   "outputs": [
    {
     "data": {
      "text/plain": [
       "(740, 14)"
      ]
     },
     "execution_count": 9,
     "metadata": {},
     "output_type": "execute_result"
    }
   ],
   "source": [
    "data.shape"
   ]
  },
  {
   "cell_type": "code",
   "execution_count": 10,
   "id": "7f98d932",
   "metadata": {},
   "outputs": [],
   "source": [
    "df = data.copy(deep=True)"
   ]
  },
  {
   "cell_type": "code",
   "execution_count": 11,
   "id": "e73ae53d",
   "metadata": {},
   "outputs": [],
   "source": [
    "df.loc[:,'ncs'] = df.loc[:,'newCasesByPublishDateSmoothed'].shift()\n",
    "df.loc[:,'ncs_diff'] = df.loc[:,'ncs'].diff()\n",
    "df.loc[:,'ncs2'] = df.loc[:,'ncs'].shift()\n",
    "df.loc[:,'ncs_diff2'] = df.loc[:,'ncs2'].diff()\n",
    "df.loc[:,'ncs3'] = df.loc[:,'ncs2'].shift()\n",
    "df.loc[:,'ncs_diff3'] = df.loc[:,'ncs3'].diff()\n",
    "#df.loc[:,'ncs4'] = df.loc[:,'ncs3'].shift()\n",
    "#df.loc[:,'ncs_diff4'] = df.loc[:,'ncs4'].diff()\n",
    "#df.loc[:,'ncs5'] = df.loc[:,'ncs4'].shift()\n",
    "#df.loc[:,'ncs_diff5'] = df.loc[:,'ncs5'].diff()\n",
    "#df.loc[:,'ncs6'] = df.loc[:,'ncs5'].shift()\n",
    "#df.loc[:,'ncs_diff6'] = df.loc[:,'ncs6'].diff()\n",
    "#df.loc[:,'ncs7'] = df.loc[:,'ncs6'].shift()\n",
    "#df.loc[:,'ncs_diff7'] = df.loc[:,'ncs7'].diff()"
   ]
  },
  {
   "cell_type": "code",
   "execution_count": 12,
   "id": "3c358bfe",
   "metadata": {},
   "outputs": [],
   "source": [
    "df = df.fillna(0)"
   ]
  },
  {
   "cell_type": "code",
   "execution_count": 13,
   "id": "eff7bd33",
   "metadata": {},
   "outputs": [],
   "source": [
    "n = len(df)"
   ]
  },
  {
   "cell_type": "code",
   "execution_count": 14,
   "id": "133fb4c2",
   "metadata": {},
   "outputs": [],
   "source": [
    "variables = df.columns.drop('newCasesByPublishDateSmoothed')"
   ]
  },
  {
   "cell_type": "code",
   "execution_count": null,
   "id": "b22dca7c",
   "metadata": {},
   "outputs": [],
   "source": []
  },
  {
   "cell_type": "code",
   "execution_count": 15,
   "id": "9a722410",
   "metadata": {},
   "outputs": [],
   "source": [
    "X_train = df.iloc[0:int(n*0.7)].drop(['newCasesByPublishDateSmoothed'], axis=1)\n",
    "y_train = df.iloc[0:int(n*0.7)].drop(columns=variables, axis=1)"
   ]
  },
  {
   "cell_type": "code",
   "execution_count": 16,
   "id": "e0845ebd",
   "metadata": {},
   "outputs": [],
   "source": [
    "X_test = df.iloc[int(n*0.9):].drop(['newCasesByPublishDateSmoothed'], axis=1)\n",
    "y_test = df.iloc[int(n*0.9):].drop(columns=variables, axis=1)"
   ]
  },
  {
   "cell_type": "code",
   "execution_count": 17,
   "id": "cefe7b67",
   "metadata": {},
   "outputs": [],
   "source": [
    "X_val = df.iloc[int(n*0.7):int(n*0.9)].drop(['newCasesByPublishDateSmoothed'], axis=1)\n",
    "y_val = df.iloc[int(n*0.7):int(n*0.9)].drop(columns=variables, axis=1)"
   ]
  },
  {
   "cell_type": "code",
   "execution_count": 18,
   "id": "157bd1b9",
   "metadata": {},
   "outputs": [],
   "source": [
    "model = MLPRegressor()"
   ]
  },
  {
   "cell_type": "code",
   "execution_count": 19,
   "id": "7b117986",
   "metadata": {},
   "outputs": [],
   "source": [
    "param_search = {\n",
    "    \"hidden_layer_sizes\": [(1,),(50,),(100,),(150,),(200,)],\n",
    "    \"activation\": [\"identity\", \"logistic\", \"tanh\", \"relu\"],\n",
    "    \"solver\": [\"lbfgs\", \"sgd\", \"adam\"],\n",
    "    \"alpha\": [0.00005,0.0005, 0.005],\n",
    "    \"learning_rate\": ['constant', 'invscaling', 'adaptive']\n",
    "}"
   ]
  },
  {
   "cell_type": "code",
   "execution_count": null,
   "id": "cbdf6712",
   "metadata": {},
   "outputs": [],
   "source": [
    "tsvc = TimeSeriesSplit(n_splits=5)\n",
    "gsearch = GridSearchCV(estimator=model, cv=tsvc, param_grid=param_search, scoring='r2')\n",
    "gsearch.fit(X_train, y_train)\n",
    "best_score = gsearch.best_score_\n",
    "best_model = gsearch.best_estimator_"
   ]
  },
  {
   "cell_type": "code",
   "execution_count": null,
   "id": "7ede5ba5",
   "metadata": {},
   "outputs": [],
   "source": [
    "print(best_model)"
   ]
  },
  {
   "cell_type": "code",
   "execution_count": null,
   "id": "41bfdacc",
   "metadata": {},
   "outputs": [],
   "source": [
    "print(best_score)"
   ]
  },
  {
   "cell_type": "code",
   "execution_count": null,
   "id": "d9c7372d",
   "metadata": {},
   "outputs": [],
   "source": [
    "from sklearn.metrics import r2_score\n",
    "\n",
    "y_pred = best_model.predict(X_test)\n",
    "\n",
    "print(r2_score(y_test, y_pred))"
   ]
  },
  {
   "cell_type": "code",
   "execution_count": null,
   "id": "fe011fa0",
   "metadata": {},
   "outputs": [],
   "source": [
    "y_val_pred = best_model.predict(X_val)"
   ]
  },
  {
   "cell_type": "code",
   "execution_count": null,
   "id": "882965b8",
   "metadata": {},
   "outputs": [],
   "source": [
    "print(r2_score(y_val, y_val_pred))"
   ]
  },
  {
   "cell_type": "code",
   "execution_count": null,
   "id": "69590a7b",
   "metadata": {},
   "outputs": [],
   "source": []
  },
  {
   "cell_type": "code",
   "execution_count": null,
   "id": "267fdfcf",
   "metadata": {},
   "outputs": [],
   "source": []
  }
 ],
 "metadata": {
  "kernelspec": {
   "display_name": "Python 3",
   "language": "python",
   "name": "python3"
  },
  "language_info": {
   "codemirror_mode": {
    "name": "ipython",
    "version": 3
   },
   "file_extension": ".py",
   "mimetype": "text/x-python",
   "name": "python",
   "nbconvert_exporter": "python",
   "pygments_lexer": "ipython3",
   "version": "3.8.6"
  }
 },
 "nbformat": 4,
 "nbformat_minor": 5
}
