{
 "cells": [
  {
   "cell_type": "code",
   "execution_count": 12,
   "id": "780101da",
   "metadata": {},
   "outputs": [],
   "source": [
    "from uk_covid19 import Cov19API\n",
    "import pandas as pd \n",
    "import numpy as np"
   ]
  },
  {
   "cell_type": "code",
   "execution_count": 13,
   "id": "a6af43d6",
   "metadata": {},
   "outputs": [],
   "source": [
    "northern_ireland = ['areaType=nation', 'areaName=Northern Ireland']"
   ]
  },
  {
   "cell_type": "code",
   "execution_count": 40,
   "id": "31ea3669",
   "metadata": {},
   "outputs": [],
   "source": [
    "cases_and_deaths = {\n",
    "    \"date\": \"date\",\n",
    "    \"areaName\": \"areaName\",\n",
    "    \"areaCode\": \"areaCode\",\n",
    "    \"newCasesByPublishDate\": \"newCasesByPublishDate\",\n",
    "    \"cumCasesByPublishDate\": \"cumCasesByPublishDate\",\n",
    "    \"newDeaths28DaysByDeathDate\": \"newDeaths28DaysByDeathDate\",\n",
    "    \"cumDeaths28DaysByDeathDate\": \"cumDeaths28DaysByDeathDate\",\n",
    "    \"newAntibodyTestsByPublishDate\": \"newAntibodyTestsByPublishDate\",\n",
    "    \"newLFDTestsBySpecimenDate\": \"newLFDTestsBySpecimenDate\",\n",
    "    \"newPCRTestsByPublishDate\": \"newPCRTestsByPublishDate\",\n",
    "    \"newPCRTestsByPublishDateRollingSum\": \"newPCRTestsByPublishDateRollingSum\",\n",
    "    \"hospitalCases\": \"hospitalCases\",\n",
    "    \"newAdmissions\": \"newAdmissions\",\n",
    "    \"newPeopleVaccinatedCompleteByVaccinationDate\": \"newPeopleVaccinatedCompleteByVaccinationDate\",\n",
    "    \"newVaccinesGivenByPublishDate\": \"newVaccinesGivenByPublishDate\",\n",
    "    \"VaccineRegisterPopulationByVaccinationDate\": \"VaccineRegisterPopulationByVaccinationDate\"\n",
    "\n",
    "}\n"
   ]
  },
  {
   "cell_type": "code",
   "execution_count": 41,
   "id": "4b8a1a76",
   "metadata": {},
   "outputs": [],
   "source": [
    "api = Cov19API(filters=northern_ireland, structure=cases_and_deaths)"
   ]
  },
  {
   "cell_type": "code",
   "execution_count": 42,
   "id": "ec194b3c",
   "metadata": {},
   "outputs": [],
   "source": [
    "df = api.get_dataframe()"
   ]
  },
  {
   "cell_type": "code",
   "execution_count": 44,
   "id": "e944b31e",
   "metadata": {},
   "outputs": [
    {
     "data": {
      "text/plain": [
       "(740, 16)"
      ]
     },
     "execution_count": 44,
     "metadata": {},
     "output_type": "execute_result"
    }
   ],
   "source": [
    "df.shape"
   ]
  },
  {
   "cell_type": "code",
   "execution_count": 45,
   "id": "4a9eb728",
   "metadata": {},
   "outputs": [],
   "source": [
    "file = api.get_csv(save_as='NI.csv')"
   ]
  },
  {
   "cell_type": "code",
   "execution_count": null,
   "id": "52f42b75",
   "metadata": {},
   "outputs": [],
   "source": []
  }
 ],
 "metadata": {
  "kernelspec": {
   "display_name": "Python 3",
   "language": "python",
   "name": "python3"
  },
  "language_info": {
   "codemirror_mode": {
    "name": "ipython",
    "version": 3
   },
   "file_extension": ".py",
   "mimetype": "text/x-python",
   "name": "python",
   "nbconvert_exporter": "python",
   "pygments_lexer": "ipython3",
   "version": "3.8.6"
  }
 },
 "nbformat": 4,
 "nbformat_minor": 5
}
